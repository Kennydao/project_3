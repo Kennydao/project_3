{
 "cells": [
  {
   "cell_type": "code",
   "execution_count": 1,
   "metadata": {},
   "outputs": [],
   "source": [
    "# Dependencies and Setup\n",
    "import pandas as pd\n",
    "import csv\n",
    "#import os"
   ]
  },
  {
   "cell_type": "code",
   "execution_count": 2,
   "metadata": {},
   "outputs": [],
   "source": [
    "# File to Load (Remember to Change These)\n",
    "books_data_to_load = \"Resources/book900k-1000k.csv\"\n",
    "\n",
    "# Read data file into into Pandas dataframe\n",
    "books_df = pd.read_csv(books_data_to_load)\n",
    "#books_df.head()"
   ]
  },
  {
   "cell_type": "code",
   "execution_count": 3,
   "metadata": {},
   "outputs": [
    {
     "data": {
      "text/plain": [
       "(40890, 20)"
      ]
     },
     "execution_count": 3,
     "metadata": {},
     "output_type": "execute_result"
    }
   ],
   "source": [
    "books_df.shape"
   ]
  },
  {
   "cell_type": "code",
   "execution_count": 4,
   "metadata": {},
   "outputs": [
    {
     "data": {
      "text/html": [
       "<div>\n",
       "<style scoped>\n",
       "    .dataframe tbody tr th:only-of-type {\n",
       "        vertical-align: middle;\n",
       "    }\n",
       "\n",
       "    .dataframe tbody tr th {\n",
       "        vertical-align: top;\n",
       "    }\n",
       "\n",
       "    .dataframe thead th {\n",
       "        text-align: right;\n",
       "    }\n",
       "</style>\n",
       "<table border=\"1\" class=\"dataframe\">\n",
       "  <thead>\n",
       "    <tr style=\"text-align: right;\">\n",
       "      <th></th>\n",
       "      <th>Id</th>\n",
       "      <th>Rating</th>\n",
       "      <th>PublishYear</th>\n",
       "      <th>PublishMonth</th>\n",
       "      <th>PublishDay</th>\n",
       "      <th>CountsOfReview</th>\n",
       "      <th>pagesNumber</th>\n",
       "      <th>Count of text reviews</th>\n",
       "    </tr>\n",
       "  </thead>\n",
       "  <tbody>\n",
       "    <tr>\n",
       "      <th>count</th>\n",
       "      <td>40890.000000</td>\n",
       "      <td>40890.000000</td>\n",
       "      <td>40890.000000</td>\n",
       "      <td>40890.000000</td>\n",
       "      <td>40890.000000</td>\n",
       "      <td>40890.000000</td>\n",
       "      <td>40890.000000</td>\n",
       "      <td>40890.000000</td>\n",
       "    </tr>\n",
       "    <tr>\n",
       "      <th>mean</th>\n",
       "      <td>949177.751431</td>\n",
       "      <td>3.469541</td>\n",
       "      <td>1998.890584</td>\n",
       "      <td>9.709636</td>\n",
       "      <td>6.346075</td>\n",
       "      <td>8.834238</td>\n",
       "      <td>276.196747</td>\n",
       "      <td>8.834238</td>\n",
       "    </tr>\n",
       "    <tr>\n",
       "      <th>std</th>\n",
       "      <td>29062.356909</td>\n",
       "      <td>1.242119</td>\n",
       "      <td>8.462135</td>\n",
       "      <td>10.235637</td>\n",
       "      <td>3.565110</td>\n",
       "      <td>71.253610</td>\n",
       "      <td>505.166816</td>\n",
       "      <td>71.253610</td>\n",
       "    </tr>\n",
       "    <tr>\n",
       "      <th>min</th>\n",
       "      <td>900000.000000</td>\n",
       "      <td>0.000000</td>\n",
       "      <td>1899.000000</td>\n",
       "      <td>1.000000</td>\n",
       "      <td>1.000000</td>\n",
       "      <td>0.000000</td>\n",
       "      <td>0.000000</td>\n",
       "      <td>0.000000</td>\n",
       "    </tr>\n",
       "    <tr>\n",
       "      <th>25%</th>\n",
       "      <td>923881.250000</td>\n",
       "      <td>3.470000</td>\n",
       "      <td>1995.000000</td>\n",
       "      <td>1.000000</td>\n",
       "      <td>3.000000</td>\n",
       "      <td>0.000000</td>\n",
       "      <td>153.000000</td>\n",
       "      <td>0.000000</td>\n",
       "    </tr>\n",
       "    <tr>\n",
       "      <th>50%</th>\n",
       "      <td>948838.500000</td>\n",
       "      <td>3.840000</td>\n",
       "      <td>2001.000000</td>\n",
       "      <td>4.000000</td>\n",
       "      <td>6.000000</td>\n",
       "      <td>1.000000</td>\n",
       "      <td>241.000000</td>\n",
       "      <td>1.000000</td>\n",
       "    </tr>\n",
       "    <tr>\n",
       "      <th>75%</th>\n",
       "      <td>974600.250000</td>\n",
       "      <td>4.090000</td>\n",
       "      <td>2005.000000</td>\n",
       "      <td>17.000000</td>\n",
       "      <td>9.000000</td>\n",
       "      <td>4.000000</td>\n",
       "      <td>340.000000</td>\n",
       "      <td>4.000000</td>\n",
       "    </tr>\n",
       "    <tr>\n",
       "      <th>max</th>\n",
       "      <td>999998.000000</td>\n",
       "      <td>5.000000</td>\n",
       "      <td>2020.000000</td>\n",
       "      <td>31.000000</td>\n",
       "      <td>12.000000</td>\n",
       "      <td>6495.000000</td>\n",
       "      <td>80500.000000</td>\n",
       "      <td>6495.000000</td>\n",
       "    </tr>\n",
       "  </tbody>\n",
       "</table>\n",
       "</div>"
      ],
      "text/plain": [
       "                  Id        Rating   PublishYear  PublishMonth    PublishDay  \\\n",
       "count   40890.000000  40890.000000  40890.000000  40890.000000  40890.000000   \n",
       "mean   949177.751431      3.469541   1998.890584      9.709636      6.346075   \n",
       "std     29062.356909      1.242119      8.462135     10.235637      3.565110   \n",
       "min    900000.000000      0.000000   1899.000000      1.000000      1.000000   \n",
       "25%    923881.250000      3.470000   1995.000000      1.000000      3.000000   \n",
       "50%    948838.500000      3.840000   2001.000000      4.000000      6.000000   \n",
       "75%    974600.250000      4.090000   2005.000000     17.000000      9.000000   \n",
       "max    999998.000000      5.000000   2020.000000     31.000000     12.000000   \n",
       "\n",
       "       CountsOfReview   pagesNumber  Count of text reviews  \n",
       "count    40890.000000  40890.000000           40890.000000  \n",
       "mean         8.834238    276.196747               8.834238  \n",
       "std         71.253610    505.166816              71.253610  \n",
       "min          0.000000      0.000000               0.000000  \n",
       "25%          0.000000    153.000000               0.000000  \n",
       "50%          1.000000    241.000000               1.000000  \n",
       "75%          4.000000    340.000000               4.000000  \n",
       "max       6495.000000  80500.000000            6495.000000  "
      ]
     },
     "execution_count": 4,
     "metadata": {},
     "output_type": "execute_result"
    }
   ],
   "source": [
    "books_df.describe()"
   ]
  },
  {
   "cell_type": "code",
   "execution_count": 5,
   "metadata": {},
   "outputs": [],
   "source": [
    "# columns = books_df.columns\n",
    "# columns"
   ]
  },
  {
   "cell_type": "code",
   "execution_count": 6,
   "metadata": {},
   "outputs": [],
   "source": [
    "removed_columns = ['Authors','RatingDist5', 'RatingDist4',\n",
    "               'RatingDist3', 'RatingDist2', 'RatingDist1', 'pagesNumber',\n",
    "                'RatingDistTotal', 'Count of text reviews', 'CountsOfReview','Description']"
   ]
  },
  {
   "cell_type": "code",
   "execution_count": 7,
   "metadata": {},
   "outputs": [],
   "source": [
    "# drop unused columns\n",
    "books_df.drop(columns = removed_columns, inplace=True)"
   ]
  },
  {
   "cell_type": "code",
   "execution_count": 8,
   "metadata": {},
   "outputs": [],
   "source": [
    "# books_df.columns"
   ]
  },
  {
   "cell_type": "code",
   "execution_count": 9,
   "metadata": {},
   "outputs": [
    {
     "data": {
      "text/html": [
       "<div>\n",
       "<style scoped>\n",
       "    .dataframe tbody tr th:only-of-type {\n",
       "        vertical-align: middle;\n",
       "    }\n",
       "\n",
       "    .dataframe tbody tr th {\n",
       "        vertical-align: top;\n",
       "    }\n",
       "\n",
       "    .dataframe thead th {\n",
       "        text-align: right;\n",
       "    }\n",
       "</style>\n",
       "<table border=\"1\" class=\"dataframe\">\n",
       "  <thead>\n",
       "    <tr style=\"text-align: right;\">\n",
       "      <th></th>\n",
       "      <th>BookId</th>\n",
       "      <th>Title</th>\n",
       "      <th>AuthorName</th>\n",
       "      <th>ISBN</th>\n",
       "      <th>Rating</th>\n",
       "      <th>PublishY</th>\n",
       "      <th>PublishD</th>\n",
       "      <th>PublishM</th>\n",
       "      <th>Publisher</th>\n",
       "      <th>Language</th>\n",
       "    </tr>\n",
       "  </thead>\n",
       "  <tbody>\n",
       "    <tr>\n",
       "      <th>0</th>\n",
       "      <td>900000</td>\n",
       "      <td>Cabinet 03: Weather</td>\n",
       "      <td>Jeffrey Kastner</td>\n",
       "      <td>1932698019</td>\n",
       "      <td>4.00</td>\n",
       "      <td>2004</td>\n",
       "      <td>2</td>\n",
       "      <td>1</td>\n",
       "      <td>Cabinet</td>\n",
       "      <td>NaN</td>\n",
       "    </tr>\n",
       "    <tr>\n",
       "      <th>1</th>\n",
       "      <td>900001</td>\n",
       "      <td>Workouts in a Binder for Swimmers, Triathletes...</td>\n",
       "      <td>Nick Hansen</td>\n",
       "      <td>1931382743</td>\n",
       "      <td>4.48</td>\n",
       "      <td>2005</td>\n",
       "      <td>18</td>\n",
       "      <td>11</td>\n",
       "      <td>Velo Press</td>\n",
       "      <td>NaN</td>\n",
       "    </tr>\n",
       "    <tr>\n",
       "      <th>2</th>\n",
       "      <td>900002</td>\n",
       "      <td>Las 120 jornadas de Sodoma</td>\n",
       "      <td>Marquis de Sade</td>\n",
       "      <td>8472233847</td>\n",
       "      <td>3.12</td>\n",
       "      <td>1992</td>\n",
       "      <td>1</td>\n",
       "      <td>3</td>\n",
       "      <td>TusQuets</td>\n",
       "      <td>NaN</td>\n",
       "    </tr>\n",
       "    <tr>\n",
       "      <th>3</th>\n",
       "      <td>900004</td>\n",
       "      <td>The Traveler: An American Odyssey in the Himal...</td>\n",
       "      <td>Eric Hansen</td>\n",
       "      <td>0871563509</td>\n",
       "      <td>4.18</td>\n",
       "      <td>1995</td>\n",
       "      <td>6</td>\n",
       "      <td>6</td>\n",
       "      <td>Random House, Inc.</td>\n",
       "      <td>NaN</td>\n",
       "    </tr>\n",
       "    <tr>\n",
       "      <th>4</th>\n",
       "      <td>900006</td>\n",
       "      <td>Vertical Smile</td>\n",
       "      <td>Richard Condon</td>\n",
       "      <td>0297994026</td>\n",
       "      <td>3.74</td>\n",
       "      <td>1972</td>\n",
       "      <td>20</td>\n",
       "      <td>4</td>\n",
       "      <td>Littlehampton Book Services Ltd</td>\n",
       "      <td>NaN</td>\n",
       "    </tr>\n",
       "  </tbody>\n",
       "</table>\n",
       "</div>"
      ],
      "text/plain": [
       "   BookId                                              Title       AuthorName  \\\n",
       "0  900000                                Cabinet 03: Weather  Jeffrey Kastner   \n",
       "1  900001  Workouts in a Binder for Swimmers, Triathletes...      Nick Hansen   \n",
       "2  900002                         Las 120 jornadas de Sodoma  Marquis de Sade   \n",
       "3  900004  The Traveler: An American Odyssey in the Himal...      Eric Hansen   \n",
       "4  900006                                     Vertical Smile   Richard Condon   \n",
       "\n",
       "         ISBN  Rating  PublishY  PublishD  PublishM  \\\n",
       "0  1932698019    4.00      2004         2         1   \n",
       "1  1931382743    4.48      2005        18        11   \n",
       "2  8472233847    3.12      1992         1         3   \n",
       "3  0871563509    4.18      1995         6         6   \n",
       "4  0297994026    3.74      1972        20         4   \n",
       "\n",
       "                         Publisher Language  \n",
       "0                          Cabinet      NaN  \n",
       "1                       Velo Press      NaN  \n",
       "2                         TusQuets      NaN  \n",
       "3               Random House, Inc.      NaN  \n",
       "4  Littlehampton Book Services Ltd      NaN  "
      ]
     },
     "execution_count": 9,
     "metadata": {},
     "output_type": "execute_result"
    }
   ],
   "source": [
    "# rename columns\n",
    "books_df = books_df.rename(columns={'Id':'BookId', 'Name':'Title', 'Authors':'AuthorName',\n",
    "                                    'PublishYear':'PublishY', 'PublishMonth':'PublishD', \n",
    "                                    'PublishDay':'PublishM'})\n",
    "\n",
    "books_df.head()"
   ]
  },
  {
   "cell_type": "code",
   "execution_count": 10,
   "metadata": {},
   "outputs": [],
   "source": [
    "# remove 'X' character exists in the ISBN  \n",
    "\n",
    "books_df['ISBN'] = books_df['ISBN'].astype(str)\n",
    "books_df['ISBN'] = books_df.ISBN.apply(lambda x: x.rstrip('X'))"
   ]
  },
  {
   "cell_type": "code",
   "execution_count": 11,
   "metadata": {},
   "outputs": [],
   "source": [
    "#books_df.head()"
   ]
  },
  {
   "cell_type": "code",
   "execution_count": 12,
   "metadata": {},
   "outputs": [],
   "source": [
    "# removing character ',' in the Title, AuthorName and Publisher\n",
    "books_df['Title'] = books_df.Title.replace(',','', regex=True)\n",
    "\n",
    "books_df['Publisher'] = books_df.Publisher.replace(',','', regex=True)\n",
    "\n",
    "#books_df['AuthorName'] = books_df.AuthorName.replace(',','', regex=True)"
   ]
  },
  {
   "cell_type": "code",
   "execution_count": 13,
   "metadata": {},
   "outputs": [],
   "source": [
    "# removing character '\"' in the Title and Publisher\n",
    "books_df['Title'] = books_df.Title.replace('\"','', regex=True)\n",
    "\n",
    "books_df['Publisher'] = books_df.Publisher.replace('\"','', regex=True)"
   ]
  },
  {
   "cell_type": "code",
   "execution_count": 14,
   "metadata": {},
   "outputs": [],
   "source": [
    "# replace all NaN value in Language column by eng\n",
    "\n",
    "values ={'Language':'eng'}\n",
    "books_df.fillna(value = values, inplace=True)"
   ]
  },
  {
   "cell_type": "code",
   "execution_count": 15,
   "metadata": {},
   "outputs": [],
   "source": [
    "# remove duplicate\n",
    "books_df.drop_duplicates(subset=['BookId'], inplace=True)"
   ]
  },
  {
   "cell_type": "code",
   "execution_count": 16,
   "metadata": {},
   "outputs": [],
   "source": [
    "# save to csv file\n",
    "books_df.to_csv(\"Resources/books.csv\", index=False)"
   ]
  },
  {
   "cell_type": "markdown",
   "metadata": {},
   "source": [
    "### cleaned books"
   ]
  },
  {
   "cell_type": "code",
   "execution_count": 17,
   "metadata": {},
   "outputs": [],
   "source": [
    "# before: there was 40,890 records and 20 columns with NaN value in Language\n",
    "\n",
    "# after: removed ten columns ('RatingDist5', 'RatingDist4',\n",
    "#     'RatingDist3', 'RatingDist2', 'RatingDist1', 'RatingDistTotal',\n",
    "#     'pagesNumber','Count of text reviews', 'CountsOfReview', 'Description') from the dataset\n",
    "# rename 'Id' to 'Book_id' and 'Name' to 'Title'\n",
    "# replace all NaN value in Language by 'eng'\n",
    "\n",
    "# observastion: in the cleaned_books dataset there is \"blank\" and date (\"10/18/2020\") \n",
    "# value in publisher column. please take this into consideration when using the cleaned_books dataset."
   ]
  },
  {
   "cell_type": "markdown",
   "metadata": {},
   "source": [
    "### cleaned authors"
   ]
  },
  {
   "cell_type": "code",
   "execution_count": 18,
   "metadata": {},
   "outputs": [
    {
     "data": {
      "text/html": [
       "<div>\n",
       "<style scoped>\n",
       "    .dataframe tbody tr th:only-of-type {\n",
       "        vertical-align: middle;\n",
       "    }\n",
       "\n",
       "    .dataframe tbody tr th {\n",
       "        vertical-align: top;\n",
       "    }\n",
       "\n",
       "    .dataframe thead th {\n",
       "        text-align: right;\n",
       "    }\n",
       "</style>\n",
       "<table border=\"1\" class=\"dataframe\">\n",
       "  <thead>\n",
       "    <tr style=\"text-align: right;\">\n",
       "      <th></th>\n",
       "      <th>Unnamed: 0</th>\n",
       "      <th>author_id</th>\n",
       "      <th>gender</th>\n",
       "      <th>hometown</th>\n",
       "      <th>books</th>\n",
       "    </tr>\n",
       "  </thead>\n",
       "  <tbody>\n",
       "    <tr>\n",
       "      <th>0</th>\n",
       "      <td>0</td>\n",
       "      <td>14980615</td>\n",
       "      <td>female</td>\n",
       "      <td>Albuquerque, New Mexico</td>\n",
       "      <td>{'book_title': 'I Choose Peace: Raw Stories of...</td>\n",
       "    </tr>\n",
       "    <tr>\n",
       "      <th>1</th>\n",
       "      <td>1</td>\n",
       "      <td>33280</td>\n",
       "      <td>NaN</td>\n",
       "      <td>Cleveland, OH</td>\n",
       "      <td>{'book_title': 'The Adventures of Super Diaper...</td>\n",
       "    </tr>\n",
       "    <tr>\n",
       "      <th>2</th>\n",
       "      <td>2</td>\n",
       "      <td>61105</td>\n",
       "      <td>male</td>\n",
       "      <td>Springfield, MA</td>\n",
       "      <td>{'book_title': 'Fox in Socks', 'book_isbn13': ...</td>\n",
       "    </tr>\n",
       "    <tr>\n",
       "      <th>3</th>\n",
       "      <td>3</td>\n",
       "      <td>3362</td>\n",
       "      <td>male</td>\n",
       "      <td>Syracuse, New York</td>\n",
       "      <td>{'book_title': 'Papa, Please Get the Moon for ...</td>\n",
       "    </tr>\n",
       "    <tr>\n",
       "      <th>4</th>\n",
       "      <td>4</td>\n",
       "      <td>4880403</td>\n",
       "      <td>female</td>\n",
       "      <td>NaN</td>\n",
       "      <td>{'book_title': \"The Wonderful Baby You Are: A ...</td>\n",
       "    </tr>\n",
       "  </tbody>\n",
       "</table>\n",
       "</div>"
      ],
      "text/plain": [
       "   Unnamed: 0  author_id  gender                 hometown  \\\n",
       "0           0   14980615  female  Albuquerque, New Mexico   \n",
       "1           1      33280     NaN            Cleveland, OH   \n",
       "2           2      61105    male          Springfield, MA   \n",
       "3           3       3362    male       Syracuse, New York   \n",
       "4           4    4880403  female                      NaN   \n",
       "\n",
       "                                               books  \n",
       "0  {'book_title': 'I Choose Peace: Raw Stories of...  \n",
       "1  {'book_title': 'The Adventures of Super Diaper...  \n",
       "2  {'book_title': 'Fox in Socks', 'book_isbn13': ...  \n",
       "3  {'book_title': 'Papa, Please Get the Moon for ...  \n",
       "4  {'book_title': \"The Wonderful Baby You Are: A ...  "
      ]
     },
     "execution_count": 18,
     "metadata": {},
     "output_type": "execute_result"
    }
   ],
   "source": [
    "# File to Load \n",
    "data_to_load = \"Resources/author_info.csv\"\n",
    "\n",
    "# Read data file into into Pandas dataframe\n",
    "authors_info = pd.read_csv(data_to_load)\n",
    "authors_info.head()"
   ]
  },
  {
   "cell_type": "code",
   "execution_count": 19,
   "metadata": {},
   "outputs": [],
   "source": [
    "authors_info.drop(columns=['Unnamed: 0','books'], inplace=True)"
   ]
  },
  {
   "cell_type": "code",
   "execution_count": 20,
   "metadata": {},
   "outputs": [],
   "source": [
    "# rename columns AuthorId\n",
    "authors_info = authors_info.rename(columns={'author_id':'AuthorId', 'gender':'Gender', 'hometown':'Hometown'})"
   ]
  },
  {
   "cell_type": "code",
   "execution_count": 21,
   "metadata": {},
   "outputs": [
    {
     "data": {
      "text/plain": [
       "(247, 3)"
      ]
     },
     "execution_count": 21,
     "metadata": {},
     "output_type": "execute_result"
    }
   ],
   "source": [
    "authors_info.shape"
   ]
  },
  {
   "cell_type": "code",
   "execution_count": 22,
   "metadata": {},
   "outputs": [
    {
     "data": {
      "text/html": [
       "<div>\n",
       "<style scoped>\n",
       "    .dataframe tbody tr th:only-of-type {\n",
       "        vertical-align: middle;\n",
       "    }\n",
       "\n",
       "    .dataframe tbody tr th {\n",
       "        vertical-align: top;\n",
       "    }\n",
       "\n",
       "    .dataframe thead th {\n",
       "        text-align: right;\n",
       "    }\n",
       "</style>\n",
       "<table border=\"1\" class=\"dataframe\">\n",
       "  <thead>\n",
       "    <tr style=\"text-align: right;\">\n",
       "      <th></th>\n",
       "      <th>Unnamed: 0</th>\n",
       "      <th>AuthorId</th>\n",
       "      <th>AuthorName</th>\n",
       "    </tr>\n",
       "  </thead>\n",
       "  <tbody>\n",
       "    <tr>\n",
       "      <th>0</th>\n",
       "      <td>127</td>\n",
       "      <td>93353</td>\n",
       "      <td>Abraham   Verghese</td>\n",
       "    </tr>\n",
       "    <tr>\n",
       "      <th>1</th>\n",
       "      <td>215</td>\n",
       "      <td>17273956</td>\n",
       "      <td>Adam Gasiewski</td>\n",
       "    </tr>\n",
       "    <tr>\n",
       "      <th>2</th>\n",
       "      <td>28</td>\n",
       "      <td>17595</td>\n",
       "      <td>Adam Mansbach</td>\n",
       "    </tr>\n",
       "    <tr>\n",
       "      <th>3</th>\n",
       "      <td>21</td>\n",
       "      <td>17129144</td>\n",
       "      <td>Adir Levy</td>\n",
       "    </tr>\n",
       "    <tr>\n",
       "      <th>4</th>\n",
       "      <td>120</td>\n",
       "      <td>20567865</td>\n",
       "      <td>Admiral William H. McRaven</td>\n",
       "    </tr>\n",
       "  </tbody>\n",
       "</table>\n",
       "</div>"
      ],
      "text/plain": [
       "   Unnamed: 0  AuthorId                  AuthorName\n",
       "0         127     93353          Abraham   Verghese\n",
       "1         215  17273956              Adam Gasiewski\n",
       "2          28     17595               Adam Mansbach\n",
       "3          21  17129144                   Adir Levy\n",
       "4         120  20567865  Admiral William H. McRaven"
      ]
     },
     "execution_count": 22,
     "metadata": {},
     "output_type": "execute_result"
    }
   ],
   "source": [
    "# loading author_id file\n",
    "data_to_load = \"Resources/author_id.csv\"\n",
    "\n",
    "# Read data file into into Pandas dataframe\n",
    "authors_id = pd.read_csv(data_to_load)\n",
    "authors_id.head()"
   ]
  },
  {
   "cell_type": "code",
   "execution_count": 23,
   "metadata": {},
   "outputs": [
    {
     "data": {
      "text/html": [
       "<div>\n",
       "<style scoped>\n",
       "    .dataframe tbody tr th:only-of-type {\n",
       "        vertical-align: middle;\n",
       "    }\n",
       "\n",
       "    .dataframe tbody tr th {\n",
       "        vertical-align: top;\n",
       "    }\n",
       "\n",
       "    .dataframe thead th {\n",
       "        text-align: right;\n",
       "    }\n",
       "</style>\n",
       "<table border=\"1\" class=\"dataframe\">\n",
       "  <thead>\n",
       "    <tr style=\"text-align: right;\">\n",
       "      <th></th>\n",
       "      <th>AuthorId</th>\n",
       "      <th>AuthorName</th>\n",
       "    </tr>\n",
       "  </thead>\n",
       "  <tbody>\n",
       "    <tr>\n",
       "      <th>0</th>\n",
       "      <td>93353</td>\n",
       "      <td>Abraham   Verghese</td>\n",
       "    </tr>\n",
       "    <tr>\n",
       "      <th>1</th>\n",
       "      <td>17273956</td>\n",
       "      <td>Adam Gasiewski</td>\n",
       "    </tr>\n",
       "    <tr>\n",
       "      <th>2</th>\n",
       "      <td>17595</td>\n",
       "      <td>Adam Mansbach</td>\n",
       "    </tr>\n",
       "    <tr>\n",
       "      <th>3</th>\n",
       "      <td>17129144</td>\n",
       "      <td>Adir Levy</td>\n",
       "    </tr>\n",
       "    <tr>\n",
       "      <th>4</th>\n",
       "      <td>20567865</td>\n",
       "      <td>Admiral William H. McRaven</td>\n",
       "    </tr>\n",
       "    <tr>\n",
       "      <th>...</th>\n",
       "      <td>...</td>\n",
       "      <td>...</td>\n",
       "    </tr>\n",
       "    <tr>\n",
       "      <th>242</th>\n",
       "      <td>7111</td>\n",
       "      <td>Walter Isaacson</td>\n",
       "    </tr>\n",
       "    <tr>\n",
       "      <th>243</th>\n",
       "      <td>7126313</td>\n",
       "      <td>William  Davis</td>\n",
       "    </tr>\n",
       "    <tr>\n",
       "      <th>244</th>\n",
       "      <td>15481463</td>\n",
       "      <td>William Paul Young</td>\n",
       "    </tr>\n",
       "    <tr>\n",
       "      <th>245</th>\n",
       "      <td>20547957</td>\n",
       "      <td>Wizards RPG Team</td>\n",
       "    </tr>\n",
       "    <tr>\n",
       "      <th>246</th>\n",
       "      <td>4460</td>\n",
       "      <td>Zhi Gang Sha</td>\n",
       "    </tr>\n",
       "  </tbody>\n",
       "</table>\n",
       "<p>247 rows × 2 columns</p>\n",
       "</div>"
      ],
      "text/plain": [
       "     AuthorId                  AuthorName\n",
       "0       93353          Abraham   Verghese\n",
       "1    17273956              Adam Gasiewski\n",
       "2       17595               Adam Mansbach\n",
       "3    17129144                   Adir Levy\n",
       "4    20567865  Admiral William H. McRaven\n",
       "..        ...                         ...\n",
       "242      7111             Walter Isaacson\n",
       "243   7126313              William  Davis\n",
       "244  15481463          William Paul Young\n",
       "245  20547957            Wizards RPG Team\n",
       "246      4460                Zhi Gang Sha\n",
       "\n",
       "[247 rows x 2 columns]"
      ]
     },
     "execution_count": 23,
     "metadata": {},
     "output_type": "execute_result"
    }
   ],
   "source": [
    "# drop unused column\n",
    "authors_id.drop(columns=['Unnamed: 0'])"
   ]
  },
  {
   "cell_type": "code",
   "execution_count": 24,
   "metadata": {},
   "outputs": [],
   "source": [
    "# merge authors_df with author_id_df\n",
    "\n",
    "authors_df = authors_info.merge(authors_id, on = 'AuthorId')"
   ]
  },
  {
   "cell_type": "code",
   "execution_count": 25,
   "metadata": {},
   "outputs": [
    {
     "data": {
      "text/html": [
       "<div>\n",
       "<style scoped>\n",
       "    .dataframe tbody tr th:only-of-type {\n",
       "        vertical-align: middle;\n",
       "    }\n",
       "\n",
       "    .dataframe tbody tr th {\n",
       "        vertical-align: top;\n",
       "    }\n",
       "\n",
       "    .dataframe thead th {\n",
       "        text-align: right;\n",
       "    }\n",
       "</style>\n",
       "<table border=\"1\" class=\"dataframe\">\n",
       "  <thead>\n",
       "    <tr style=\"text-align: right;\">\n",
       "      <th></th>\n",
       "      <th>AuthorId</th>\n",
       "      <th>AuthorName</th>\n",
       "      <th>Gender</th>\n",
       "      <th>Hometown</th>\n",
       "    </tr>\n",
       "  </thead>\n",
       "  <tbody>\n",
       "    <tr>\n",
       "      <th>0</th>\n",
       "      <td>14980615</td>\n",
       "      <td>Chip Gaines</td>\n",
       "      <td>female</td>\n",
       "      <td>Albuquerque, New Mexico</td>\n",
       "    </tr>\n",
       "    <tr>\n",
       "      <th>1</th>\n",
       "      <td>33280</td>\n",
       "      <td>Dav Pilkey</td>\n",
       "      <td>NaN</td>\n",
       "      <td>Cleveland, OH</td>\n",
       "    </tr>\n",
       "    <tr>\n",
       "      <th>2</th>\n",
       "      <td>61105</td>\n",
       "      <td>Dr. Seuss</td>\n",
       "      <td>male</td>\n",
       "      <td>Springfield, MA</td>\n",
       "    </tr>\n",
       "    <tr>\n",
       "      <th>3</th>\n",
       "      <td>3362</td>\n",
       "      <td>Eric Carle</td>\n",
       "      <td>male</td>\n",
       "      <td>Syracuse, New York</td>\n",
       "    </tr>\n",
       "    <tr>\n",
       "      <th>4</th>\n",
       "      <td>4880403</td>\n",
       "      <td>Emily Winfield Martin</td>\n",
       "      <td>female</td>\n",
       "      <td>NaN</td>\n",
       "    </tr>\n",
       "  </tbody>\n",
       "</table>\n",
       "</div>"
      ],
      "text/plain": [
       "   AuthorId             AuthorName  Gender                 Hometown\n",
       "0  14980615            Chip Gaines  female  Albuquerque, New Mexico\n",
       "1     33280             Dav Pilkey     NaN            Cleveland, OH\n",
       "2     61105              Dr. Seuss    male          Springfield, MA\n",
       "3      3362             Eric Carle    male       Syracuse, New York\n",
       "4   4880403  Emily Winfield Martin  female                      NaN"
      ]
     },
     "execution_count": 25,
     "metadata": {},
     "output_type": "execute_result"
    }
   ],
   "source": [
    "authors_df = authors_df[['AuthorId','AuthorName', 'Gender', 'Hometown']]\n",
    "authors_df.head()"
   ]
  },
  {
   "cell_type": "code",
   "execution_count": 26,
   "metadata": {},
   "outputs": [],
   "source": [
    "authors_df.drop_duplicates(subset=['AuthorId'], inplace=True)"
   ]
  },
  {
   "cell_type": "code",
   "execution_count": 27,
   "metadata": {},
   "outputs": [
    {
     "data": {
      "text/plain": [
       "(244, 4)"
      ]
     },
     "execution_count": 27,
     "metadata": {},
     "output_type": "execute_result"
    }
   ],
   "source": [
    "authors_df.shape"
   ]
  },
  {
   "cell_type": "code",
   "execution_count": 28,
   "metadata": {},
   "outputs": [],
   "source": [
    "# saving to file\n",
    "#authors_df.to_csv(\"Resources/authors.csv\", index=False)"
   ]
  },
  {
   "cell_type": "markdown",
   "metadata": {},
   "source": [
    "### cleaned author_book"
   ]
  },
  {
   "cell_type": "code",
   "execution_count": 42,
   "metadata": {},
   "outputs": [
    {
     "data": {
      "text/html": [
       "<div>\n",
       "<style scoped>\n",
       "    .dataframe tbody tr th:only-of-type {\n",
       "        vertical-align: middle;\n",
       "    }\n",
       "\n",
       "    .dataframe tbody tr th {\n",
       "        vertical-align: top;\n",
       "    }\n",
       "\n",
       "    .dataframe thead th {\n",
       "        text-align: right;\n",
       "    }\n",
       "</style>\n",
       "<table border=\"1\" class=\"dataframe\">\n",
       "  <thead>\n",
       "    <tr style=\"text-align: right;\">\n",
       "      <th></th>\n",
       "      <th>Unnamed: 0</th>\n",
       "      <th>author_id</th>\n",
       "      <th>gender</th>\n",
       "      <th>hometown</th>\n",
       "      <th>book_title</th>\n",
       "      <th>book_isbn</th>\n",
       "      <th>book_isbn13</th>\n",
       "      <th>book_average_rating</th>\n",
       "      <th>book_publisher</th>\n",
       "    </tr>\n",
       "  </thead>\n",
       "  <tbody>\n",
       "    <tr>\n",
       "      <th>0</th>\n",
       "      <td>0</td>\n",
       "      <td>14980615</td>\n",
       "      <td>female</td>\n",
       "      <td>Albuquerque, New Mexico</td>\n",
       "      <td>The Magnolia Story</td>\n",
       "      <td>{'@nil': 'true'}</td>\n",
       "      <td>{'@nil': 'true'}</td>\n",
       "      <td>4.18</td>\n",
       "      <td>NaN</td>\n",
       "    </tr>\n",
       "    <tr>\n",
       "      <th>1</th>\n",
       "      <td>1</td>\n",
       "      <td>14980615</td>\n",
       "      <td>female</td>\n",
       "      <td>Albuquerque, New Mexico</td>\n",
       "      <td>Capital Gaines: Smart Things I Learned Doing S...</td>\n",
       "      <td>0785216308</td>\n",
       "      <td>9780785216308</td>\n",
       "      <td>4.01</td>\n",
       "      <td>Thomas Nelson</td>\n",
       "    </tr>\n",
       "    <tr>\n",
       "      <th>2</th>\n",
       "      <td>2</td>\n",
       "      <td>14980615</td>\n",
       "      <td>female</td>\n",
       "      <td>Albuquerque, New Mexico</td>\n",
       "      <td>Building a Network: The Power of Relationships...</td>\n",
       "      <td>1713529122</td>\n",
       "      <td>9781713529125</td>\n",
       "      <td>3.00</td>\n",
       "      <td>Thomas Nelson on Brilliance Audio</td>\n",
       "    </tr>\n",
       "    <tr>\n",
       "      <th>3</th>\n",
       "      <td>3</td>\n",
       "      <td>14980615</td>\n",
       "      <td>female</td>\n",
       "      <td>Albuquerque, New Mexico</td>\n",
       "      <td>Homebody / Magnolia Table</td>\n",
       "      <td>8925599376</td>\n",
       "      <td>9788925599373</td>\n",
       "      <td>4.33</td>\n",
       "      <td>NaN</td>\n",
       "    </tr>\n",
       "    <tr>\n",
       "      <th>4</th>\n",
       "      <td>4</td>\n",
       "      <td>14980615</td>\n",
       "      <td>female</td>\n",
       "      <td>Albuquerque, New Mexico</td>\n",
       "      <td>What Makes a Marriage Last: 40 Celebrated Coup...</td>\n",
       "      <td>{'@nil': 'true'}</td>\n",
       "      <td>{'@nil': 'true'}</td>\n",
       "      <td>4.08</td>\n",
       "      <td>HarperAudio</td>\n",
       "    </tr>\n",
       "  </tbody>\n",
       "</table>\n",
       "</div>"
      ],
      "text/plain": [
       "   Unnamed: 0  author_id  gender                 hometown  \\\n",
       "0           0   14980615  female  Albuquerque, New Mexico   \n",
       "1           1   14980615  female  Albuquerque, New Mexico   \n",
       "2           2   14980615  female  Albuquerque, New Mexico   \n",
       "3           3   14980615  female  Albuquerque, New Mexico   \n",
       "4           4   14980615  female  Albuquerque, New Mexico   \n",
       "\n",
       "                                          book_title         book_isbn  \\\n",
       "0                                 The Magnolia Story  {'@nil': 'true'}   \n",
       "1  Capital Gaines: Smart Things I Learned Doing S...        0785216308   \n",
       "2  Building a Network: The Power of Relationships...        1713529122   \n",
       "3                          Homebody / Magnolia Table        8925599376   \n",
       "4  What Makes a Marriage Last: 40 Celebrated Coup...  {'@nil': 'true'}   \n",
       "\n",
       "        book_isbn13  book_average_rating                     book_publisher  \n",
       "0  {'@nil': 'true'}                 4.18                                NaN  \n",
       "1     9780785216308                 4.01                      Thomas Nelson  \n",
       "2     9781713529125                 3.00  Thomas Nelson on Brilliance Audio  \n",
       "3     9788925599373                 4.33                                NaN  \n",
       "4  {'@nil': 'true'}                 4.08                        HarperAudio  "
      ]
     },
     "execution_count": 42,
     "metadata": {},
     "output_type": "execute_result"
    }
   ],
   "source": [
    "# loading author_info file\n",
    "data_to_load = \"Resources/author_and_books.csv\"\n",
    "\n",
    "# Read data file into into Pandas dataframe\n",
    "author_book = pd.read_csv(data_to_load)\n",
    "author_book.head()"
   ]
  },
  {
   "cell_type": "code",
   "execution_count": 43,
   "metadata": {},
   "outputs": [
    {
     "data": {
      "text/plain": [
       "Index(['Unnamed: 0', 'author_id', 'gender', 'hometown', 'book_title',\n",
       "       'book_isbn', 'book_isbn13', 'book_average_rating', 'book_publisher'],\n",
       "      dtype='object')"
      ]
     },
     "execution_count": 43,
     "metadata": {},
     "output_type": "execute_result"
    }
   ],
   "source": [
    "author_book.columns"
   ]
  },
  {
   "cell_type": "code",
   "execution_count": 44,
   "metadata": {},
   "outputs": [],
   "source": [
    "# drop unused columns\n",
    "author_book.drop(columns=['Unnamed: 0','gender', 'hometown', \n",
    "                            'book_isbn13', 'book_average_rating', 'book_publisher'], inplace=True)"
   ]
  },
  {
   "cell_type": "code",
   "execution_count": 45,
   "metadata": {},
   "outputs": [],
   "source": [
    "# rename column and merge to create authors_df\n",
    "author_book = author_book.rename(columns={'author_id':'AuthorId', \n",
    "                                          'book_title':'Title','book_isbn':'ISBN'})\n",
    "#author_book.head()"
   ]
  },
  {
   "cell_type": "code",
   "execution_count": 46,
   "metadata": {},
   "outputs": [],
   "source": [
    "#author_book.shape"
   ]
  },
  {
   "cell_type": "code",
   "execution_count": 47,
   "metadata": {},
   "outputs": [],
   "source": [
    "#books_df.shape"
   ]
  },
  {
   "cell_type": "code",
   "execution_count": 48,
   "metadata": {},
   "outputs": [],
   "source": [
    "#books_df.columns"
   ]
  },
  {
   "cell_type": "code",
   "execution_count": 49,
   "metadata": {},
   "outputs": [],
   "source": [
    "col_books_df = books_df.copy()"
   ]
  },
  {
   "cell_type": "code",
   "execution_count": 50,
   "metadata": {},
   "outputs": [],
   "source": [
    "col_books_df.drop(columns=['ISBN', 'Rating', 'PublishY', 'PublishD',\n",
    "       'PublishM', 'Publisher', 'Language'], inplace=True)"
   ]
  },
  {
   "cell_type": "code",
   "execution_count": 51,
   "metadata": {},
   "outputs": [],
   "source": [
    "author_book_df = author_book.merge(col_books_df, on='Title')"
   ]
  },
  {
   "cell_type": "code",
   "execution_count": 52,
   "metadata": {},
   "outputs": [],
   "source": [
    "#author_book_df.shape"
   ]
  },
  {
   "cell_type": "code",
   "execution_count": 53,
   "metadata": {},
   "outputs": [],
   "source": [
    "author_book_df.drop(columns = ['Title','ISBN'], inplace=True)\n",
    "author_book_df.head()"
   ]
  },
  {
   "cell_type": "code",
   "execution_count": 54,
   "metadata": {},
   "outputs": [
    {
     "data": {
      "text/html": [
       "<div>\n",
       "<style scoped>\n",
       "    .dataframe tbody tr th:only-of-type {\n",
       "        vertical-align: middle;\n",
       "    }\n",
       "\n",
       "    .dataframe tbody tr th {\n",
       "        vertical-align: top;\n",
       "    }\n",
       "\n",
       "    .dataframe thead th {\n",
       "        text-align: right;\n",
       "    }\n",
       "</style>\n",
       "<table border=\"1\" class=\"dataframe\">\n",
       "  <thead>\n",
       "    <tr style=\"text-align: right;\">\n",
       "      <th></th>\n",
       "      <th>AuthorId</th>\n",
       "      <th>BookId</th>\n",
       "      <th>AuthorName</th>\n",
       "    </tr>\n",
       "  </thead>\n",
       "  <tbody>\n",
       "    <tr>\n",
       "      <th>0</th>\n",
       "      <td>61105</td>\n",
       "      <td>900821</td>\n",
       "      <td>Dr. Seuss</td>\n",
       "    </tr>\n",
       "    <tr>\n",
       "      <th>1</th>\n",
       "      <td>3362</td>\n",
       "      <td>920783</td>\n",
       "      <td>Eric Carle</td>\n",
       "    </tr>\n",
       "    <tr>\n",
       "      <th>2</th>\n",
       "      <td>5086768</td>\n",
       "      <td>958347</td>\n",
       "      <td>Bill Martin Jr.</td>\n",
       "    </tr>\n",
       "    <tr>\n",
       "      <th>3</th>\n",
       "      <td>311467</td>\n",
       "      <td>994192</td>\n",
       "      <td>Mark R. Levin</td>\n",
       "    </tr>\n",
       "    <tr>\n",
       "      <th>4</th>\n",
       "      <td>6785</td>\n",
       "      <td>993176</td>\n",
       "      <td>Sebastien Braun</td>\n",
       "    </tr>\n",
       "  </tbody>\n",
       "</table>\n",
       "</div>"
      ],
      "text/plain": [
       "   AuthorId  BookId       AuthorName\n",
       "0     61105  900821        Dr. Seuss\n",
       "1      3362  920783       Eric Carle\n",
       "2   5086768  958347  Bill Martin Jr.\n",
       "3    311467  994192    Mark R. Levin\n",
       "4      6785  993176  Sebastien Braun"
      ]
     },
     "execution_count": 54,
     "metadata": {},
     "output_type": "execute_result"
    }
   ],
   "source": [
    "author_book_df.head()"
   ]
  },
  {
   "cell_type": "code",
   "execution_count": 55,
   "metadata": {},
   "outputs": [],
   "source": [
    "# remove duplicate data\n",
    "author_book_df.drop_duplicates(subset=['AuthorId','BookId'], inplace=True)\n",
    "\n",
    "#author_book_df.reset_index(inplace=True)\n",
    "# author_book_df.shape"
   ]
  },
  {
   "cell_type": "markdown",
   "metadata": {},
   "source": [
    "### check and mark if the book title is in bestsellers"
   ]
  },
  {
   "cell_type": "code",
   "execution_count": 56,
   "metadata": {},
   "outputs": [],
   "source": [
    "# loading bestsellers file\n",
    "data_to_load = \"Resources/bestsellers.csv\"\n",
    "\n",
    "# Read data file into into Pandas dataframe\n",
    "bestsellers_df = pd.read_csv(data_to_load)\n",
    "#bestsellers_df.head()"
   ]
  },
  {
   "cell_type": "code",
   "execution_count": 57,
   "metadata": {},
   "outputs": [],
   "source": [
    "# merge to get BookId for bestsellers dataframe\n",
    "books_df = books_df.rename(columns={'Authors':'AuthorName'})\n",
    "#books_df.columns"
   ]
  },
  {
   "cell_type": "code",
   "execution_count": 58,
   "metadata": {},
   "outputs": [],
   "source": [
    "bestsellers_df = bestsellers_df.merge(books_df, on='AuthorName')\n",
    "#bestsellers_df.shape"
   ]
  },
  {
   "cell_type": "code",
   "execution_count": 59,
   "metadata": {},
   "outputs": [],
   "source": [
    "#bestsellers_df.columns"
   ]
  },
  {
   "cell_type": "code",
   "execution_count": 60,
   "metadata": {},
   "outputs": [],
   "source": [
    "bestsellers_df.drop(columns=['Unnamed: 0','Title_x', 'Rating_x', 'PublishY_x',\n",
    "                             'PublishD', 'PublishM', 'Publisher', 'Language'], inplace=True)"
   ]
  },
  {
   "cell_type": "code",
   "execution_count": 61,
   "metadata": {},
   "outputs": [],
   "source": [
    "#bestsellers_df = bestsellers_df.merge(books_df, on='AuthorName')\n",
    "# bestsellers_df.columns"
   ]
  },
  {
   "cell_type": "code",
   "execution_count": 62,
   "metadata": {},
   "outputs": [],
   "source": [
    "bestsellers_df = bestsellers_df.rename(columns = {'Title_y':'Title', 'Rating_y':'Rating', 'PublishY_y':'PublishY'})\n",
    "#bestsellers_df.head()"
   ]
  },
  {
   "cell_type": "code",
   "execution_count": 63,
   "metadata": {},
   "outputs": [
    {
     "data": {
      "text/plain": [
       "(212, 8)"
      ]
     },
     "execution_count": 63,
     "metadata": {},
     "output_type": "execute_result"
    }
   ],
   "source": [
    "bestsellers_df.drop_duplicates(subset='BookId', inplace=True)\n",
    "bestsellers_df.shape"
   ]
  },
  {
   "cell_type": "code",
   "execution_count": 64,
   "metadata": {},
   "outputs": [],
   "source": [
    "# save to file\n",
    "#bestsellers_df.to_csv('Resources/bestsellers_book.csv', index=False)"
   ]
  },
  {
   "cell_type": "code",
   "execution_count": 65,
   "metadata": {},
   "outputs": [],
   "source": [
    "# verify if BookId in author_book is bestseller and store value to BestSeller column in author_book (True/False)\n",
    "\n",
    "# assign BookId from author_book to book_list\n",
    "book_list = author_book_df['BookId']\n",
    "\n",
    "# assign BookId from bestseller_df to bestSellers_list\n",
    "bestSellers_list = bestsellers_df['BookId']"
   ]
  },
  {
   "cell_type": "code",
   "execution_count": 66,
   "metadata": {},
   "outputs": [
    {
     "data": {
      "text/plain": [
       "0      True\n",
       "1      True\n",
       "2      True\n",
       "3      True\n",
       "4     False\n",
       "      ...  \n",
       "57     True\n",
       "58    False\n",
       "59    False\n",
       "60     True\n",
       "61     True\n",
       "Name: BookId, Length: 62, dtype: bool"
      ]
     },
     "execution_count": 66,
     "metadata": {},
     "output_type": "execute_result"
    }
   ],
   "source": [
    "# checking if the book_list is in bestseller_list\n",
    "bestseller = book_list.isin(bestSellers_list)\n",
    "bestseller"
   ]
  },
  {
   "cell_type": "code",
   "execution_count": 67,
   "metadata": {},
   "outputs": [
    {
     "data": {
      "text/html": [
       "<div>\n",
       "<style scoped>\n",
       "    .dataframe tbody tr th:only-of-type {\n",
       "        vertical-align: middle;\n",
       "    }\n",
       "\n",
       "    .dataframe tbody tr th {\n",
       "        vertical-align: top;\n",
       "    }\n",
       "\n",
       "    .dataframe thead th {\n",
       "        text-align: right;\n",
       "    }\n",
       "</style>\n",
       "<table border=\"1\" class=\"dataframe\">\n",
       "  <thead>\n",
       "    <tr style=\"text-align: right;\">\n",
       "      <th></th>\n",
       "      <th>AuthorId</th>\n",
       "      <th>BookId</th>\n",
       "      <th>AuthorName</th>\n",
       "      <th>BestSeller</th>\n",
       "    </tr>\n",
       "  </thead>\n",
       "  <tbody>\n",
       "    <tr>\n",
       "      <th>0</th>\n",
       "      <td>61105</td>\n",
       "      <td>900821</td>\n",
       "      <td>Dr. Seuss</td>\n",
       "      <td>True</td>\n",
       "    </tr>\n",
       "    <tr>\n",
       "      <th>1</th>\n",
       "      <td>3362</td>\n",
       "      <td>920783</td>\n",
       "      <td>Eric Carle</td>\n",
       "      <td>True</td>\n",
       "    </tr>\n",
       "    <tr>\n",
       "      <th>2</th>\n",
       "      <td>5086768</td>\n",
       "      <td>958347</td>\n",
       "      <td>Bill Martin Jr.</td>\n",
       "      <td>True</td>\n",
       "    </tr>\n",
       "    <tr>\n",
       "      <th>3</th>\n",
       "      <td>311467</td>\n",
       "      <td>994192</td>\n",
       "      <td>Mark R. Levin</td>\n",
       "      <td>True</td>\n",
       "    </tr>\n",
       "    <tr>\n",
       "      <th>4</th>\n",
       "      <td>6785</td>\n",
       "      <td>993176</td>\n",
       "      <td>Sebastien Braun</td>\n",
       "      <td>False</td>\n",
       "    </tr>\n",
       "  </tbody>\n",
       "</table>\n",
       "</div>"
      ],
      "text/plain": [
       "   AuthorId  BookId       AuthorName  BestSeller\n",
       "0     61105  900821        Dr. Seuss        True\n",
       "1      3362  920783       Eric Carle        True\n",
       "2   5086768  958347  Bill Martin Jr.        True\n",
       "3    311467  994192    Mark R. Levin        True\n",
       "4      6785  993176  Sebastien Braun       False"
      ]
     },
     "execution_count": 67,
     "metadata": {},
     "output_type": "execute_result"
    }
   ],
   "source": [
    "# storing result back into author_book_df\n",
    "author_book_df['BestSeller'] = bestseller\n",
    "author_book_df.head()"
   ]
  },
  {
   "cell_type": "code",
   "execution_count": 68,
   "metadata": {},
   "outputs": [
    {
     "data": {
      "text/plain": [
       "(62, 4)"
      ]
     },
     "execution_count": 68,
     "metadata": {},
     "output_type": "execute_result"
    }
   ],
   "source": [
    "author_book_df.shape"
   ]
  },
  {
   "cell_type": "code",
   "execution_count": null,
   "metadata": {},
   "outputs": [],
   "source": [
    "# save to file\n",
    "#author_book_df.to_csv('Resources/author_book.csv', index=False)"
   ]
  },
  {
   "cell_type": "markdown",
   "metadata": {},
   "source": [
    "## dataset after cleaning include:\n",
    "   #### books:   BookId, Title, AuthorName, ISBN, Rating, PublishY, PublishD, PublishM, Publisher, Language\n",
    "   #### authors:  AuthorId, AuthorName, Gender, Hometown\n",
    "   #### author_book:  AuthorId, BookId, BestSeller"
   ]
  },
  {
   "cell_type": "code",
   "execution_count": null,
   "metadata": {},
   "outputs": [],
   "source": []
  }
 ],
 "metadata": {
  "kernelspec": {
   "display_name": "Python 3.6.10 64-bit ('PythonData': conda)",
   "language": "python",
   "name": "python361064bitpythondatacondaa70f06a6f8ee448e835eff764d6ba02e"
  },
  "language_info": {
   "codemirror_mode": {
    "name": "ipython",
    "version": 3
   },
   "file_extension": ".py",
   "mimetype": "text/x-python",
   "name": "python",
   "nbconvert_exporter": "python",
   "pygments_lexer": "ipython3",
   "version": "3.6.10"
  }
 },
 "nbformat": 4,
 "nbformat_minor": 4
}
