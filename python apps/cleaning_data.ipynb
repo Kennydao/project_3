{
 "cells": [
  {
   "cell_type": "code",
   "execution_count": null,
   "metadata": {},
   "outputs": [],
   "source": [
    "import pandas as pd\n",
    "# import datetime as dt"
   ]
  },
  {
   "cell_type": "code",
   "execution_count": null,
   "metadata": {},
   "outputs": [],
   "source": [
    "df = pd.read_csv('c:/users/home/documents/project_3/static/data/[City of Stonnington] ProfileDataExport.csv')"
   ]
  },
  {
   "cell_type": "code",
   "execution_count": null,
   "metadata": {},
   "outputs": [],
   "source": [
    "df.head()"
   ]
  },
  {
   "cell_type": "code",
   "execution_count": null,
   "metadata": {},
   "outputs": [],
   "source": [
    "df.drop(columns=['WebID', 'Data table', 'LatestERP', '2016%', '2011', '2011%', 'Data Type', 'Unnamed: 10'], axis=1, inplace=True)"
   ]
  },
  {
   "cell_type": "code",
   "execution_count": null,
   "metadata": {},
   "outputs": [],
   "source": [
    "df.head()"
   ]
  },
  {
   "cell_type": "code",
   "execution_count": null,
   "metadata": {},
   "outputs": [],
   "source": [
    "df = df[df['Data label' ] == 'Usual Resident Population']"
   ]
  },
  {
   "cell_type": "code",
   "execution_count": null,
   "metadata": {},
   "outputs": [],
   "source": [
    "df.head()"
   ]
  },
  {
   "cell_type": "code",
   "execution_count": null,
   "metadata": {},
   "outputs": [],
   "source": [
    "df.drop(columns=['Data label'], axis = 1, inplace = True)\n"
   ]
  },
  {
   "cell_type": "code",
   "execution_count": null,
   "metadata": {},
   "outputs": [],
   "source": [
    "df.head()"
   ]
  },
  {
   "cell_type": "code",
   "execution_count": null,
   "metadata": {},
   "outputs": [],
   "source": [
    "df.shape"
   ]
  },
  {
   "cell_type": "code",
   "execution_count": null,
   "metadata": {},
   "outputs": [],
   "source": [
    "#df.to_csv(\"c:/users/home/documents/project_3/static/data/Stonnington_Population.csv\", index=False)"
   ]
  },
  {
   "cell_type": "code",
   "execution_count": null,
   "metadata": {},
   "outputs": [],
   "source": [
    "df = pd.read_csv('c:/users/home/documents/project_3/static/data/[City of Greater Bendigo] ProfileDataExport.csv')\n"
   ]
  },
  {
   "cell_type": "code",
   "execution_count": null,
   "metadata": {},
   "outputs": [],
   "source": [
    "df.drop(columns=['WebID', 'Data table', 'LatestERP', '2016%', '2011', '2011%', 'Data Type', 'Unnamed: 10'], axis=1, inplace=True)\n",
    "\n",
    "df = df[df['Data label' ] == 'Usual Resident Population']\n",
    "\n",
    "df.drop(columns=['Data label'], axis = 1, inplace = True)\n",
    "\n",
    "df.shape"
   ]
  },
  {
   "cell_type": "code",
   "execution_count": null,
   "metadata": {},
   "outputs": [],
   "source": [
    "#df.to_csv(\"c:/users/home/documents/project_3/static/data/Bendigo_Population.csv\", index=False)"
   ]
  },
  {
   "cell_type": "code",
   "execution_count": null,
   "metadata": {},
   "outputs": [],
   "source": [
    "df = pd.read_csv('c:/users/home/documents/project_3/static/data/[City of Darebin] ProfileDataExport.csv')"
   ]
  },
  {
   "cell_type": "code",
   "execution_count": null,
   "metadata": {},
   "outputs": [],
   "source": [
    "df.drop(columns=['WebID', 'Data table', 'LatestERP', '2016%', '2011', '2011%', 'Data Type', 'Unnamed: 10'], axis=1, inplace=True)\n",
    "\n",
    "df = df[df['Data label' ] == 'Usual Resident Population']\n",
    "\n",
    "df.drop(columns=['Data label'], axis = 1, inplace = True)\n",
    "\n",
    "df.shape"
   ]
  },
  {
   "cell_type": "code",
   "execution_count": null,
   "metadata": {},
   "outputs": [],
   "source": [
    "#df.to_csv(\"c:/users/home/documents/project_3/static/data/Darebin_Population.csv\", index=False)"
   ]
  },
  {
   "cell_type": "code",
   "execution_count": null,
   "metadata": {},
   "outputs": [],
   "source": [
    "df = pd.read_csv('c:/users/home/documents/project_3/static/data/CaseyProfileDataExport.csv', encoding= 'unicode_escape')"
   ]
  },
  {
   "cell_type": "code",
   "execution_count": null,
   "metadata": {},
   "outputs": [],
   "source": [
    "df.columns"
   ]
  },
  {
   "cell_type": "code",
   "execution_count": null,
   "metadata": {},
   "outputs": [],
   "source": [
    "df.drop(columns=['WebID', 'Data table', 'LatestERP', '2016%', '2011', '2011%', 'Data Type'], axis=1, inplace=True)\n",
    "\n",
    "df = df[df['Data label' ] == 'Usual Resident Population']\n",
    "\n",
    "df.drop(columns=['Data label'], axis = 1, inplace = True)\n",
    "\n",
    "df.shape"
   ]
  },
  {
   "cell_type": "code",
   "execution_count": null,
   "metadata": {},
   "outputs": [],
   "source": [
    "#df.to_csv(\"c:/users/home/documents/project_3/static/data/Casey_Population.csv\", index=False)"
   ]
  },
  {
   "cell_type": "code",
   "execution_count": null,
   "metadata": {},
   "outputs": [],
   "source": [
    "df = pd.read_csv('c:/users/home/documents/project_3/static/data/[Boroondara] ProfileDataExport_WeeklyIncome.csv')"
   ]
  },
  {
   "cell_type": "code",
   "execution_count": null,
   "metadata": {},
   "outputs": [],
   "source": [
    "df.head()"
   ]
  },
  {
   "cell_type": "code",
   "execution_count": null,
   "metadata": {},
   "outputs": [],
   "source": [
    "import pandas as pd"
   ]
  },
  {
   "cell_type": "code",
   "execution_count": 21,
   "metadata": {},
   "outputs": [],
   "source": [
    "vic_subs_popu_2019_df = pd.read_csv('c:/users/home/documents/Monu-Hw [KD]/project_3/static/data/VIC_ABS_ANNUAL_ERP_ASGS_2019.csv')"
   ]
  },
  {
   "cell_type": "code",
   "execution_count": 25,
   "metadata": {},
   "outputs": [],
   "source": [
    "vic_subs_popu_2019_df = vic_subs_popu_2019_df.loc[vic_subs_popu_2019_df['REGIONTYPE'] == 'SA2']"
   ]
  },
  {
   "cell_type": "code",
   "execution_count": 27,
   "metadata": {},
   "outputs": [],
   "source": [
    "vic_subs_popu_2019_df.drop(columns =['MEASURE', 'Measure', 'REGIONTYPE', 'Geography Level', 'ASGS_2016',\n",
    "      'FREQUENCY', 'Frequency', 'TIME', 'Time', 'Flag Codes', 'Flags'], axis = 1, inplace=True)"
   ]
  },
  {
   "cell_type": "code",
   "execution_count": 26,
   "metadata": {},
   "outputs": [
    {
     "data": {
      "text/plain": [
       "(463, 13)"
      ]
     },
     "execution_count": 26,
     "metadata": {},
     "output_type": "execute_result"
    }
   ],
   "source": [
    "vic_subs_popu_2019_df.shape"
   ]
  },
  {
   "cell_type": "code",
   "execution_count": 18,
   "metadata": {},
   "outputs": [
    {
     "data": {
      "text/html": [
       "<div>\n",
       "<style scoped>\n",
       "    .dataframe tbody tr th:only-of-type {\n",
       "        vertical-align: middle;\n",
       "    }\n",
       "\n",
       "    .dataframe tbody tr th {\n",
       "        vertical-align: top;\n",
       "    }\n",
       "\n",
       "    .dataframe thead th {\n",
       "        text-align: right;\n",
       "    }\n",
       "</style>\n",
       "<table border=\"1\" class=\"dataframe\">\n",
       "  <thead>\n",
       "    <tr style=\"text-align: right;\">\n",
       "      <th></th>\n",
       "      <th>Region</th>\n",
       "      <th>Value</th>\n",
       "    </tr>\n",
       "  </thead>\n",
       "  <tbody>\n",
       "    <tr>\n",
       "      <th>0</th>\n",
       "      <td>Melbourne Inner</td>\n",
       "      <td>701634</td>\n",
       "    </tr>\n",
       "    <tr>\n",
       "      <th>1</th>\n",
       "      <td>Brunswick Coburg</td>\n",
       "      <td>99584</td>\n",
       "    </tr>\n",
       "    <tr>\n",
       "      <th>2</th>\n",
       "      <td>Brunswick</td>\n",
       "      <td>29993</td>\n",
       "    </tr>\n",
       "    <tr>\n",
       "      <th>3</th>\n",
       "      <td>Brunswick East</td>\n",
       "      <td>13765</td>\n",
       "    </tr>\n",
       "    <tr>\n",
       "      <th>4</th>\n",
       "      <td>Brunswick West</td>\n",
       "      <td>15543</td>\n",
       "    </tr>\n",
       "  </tbody>\n",
       "</table>\n",
       "</div>"
      ],
      "text/plain": [
       "             Region   Value\n",
       "0   Melbourne Inner  701634\n",
       "1  Brunswick Coburg   99584\n",
       "2         Brunswick   29993\n",
       "3    Brunswick East   13765\n",
       "4    Brunswick West   15543"
      ]
     },
     "execution_count": 18,
     "metadata": {},
     "output_type": "execute_result"
    }
   ],
   "source": [
    "vic_subs_popu_2019_df.head()"
   ]
  },
  {
   "cell_type": "code",
   "execution_count": 28,
   "metadata": {},
   "outputs": [],
   "source": [
    "vic_subs_popu_2019_df['Region'] = vic_subs_popu_2019_df.Region.apply(lambda x: x.replace(\"- \", \"\"))"
   ]
  },
  {
   "cell_type": "code",
   "execution_count": null,
   "metadata": {},
   "outputs": [],
   "source": [
    "# subs_df = vic_subs_popu_2019_df['Region']"
   ]
  },
  {
   "cell_type": "code",
   "execution_count": null,
   "metadata": {},
   "outputs": [],
   "source": [
    "# vic_subs_popu_2019_df = vic_subs_popu_2019_df.Region.replace(\" (Vic.)\", \"\",regex=True)"
   ]
  },
  {
   "cell_type": "code",
   "execution_count": null,
   "metadata": {},
   "outputs": [],
   "source": [
    "# vic_subs_popu_2019_df.head()"
   ]
  },
  {
   "cell_type": "code",
   "execution_count": null,
   "metadata": {},
   "outputs": [],
   "source": [
    "\n",
    "# using regular expression module to clean the suburbs name\n",
    "\n",
    "import re \n",
    "  \n",
    "# Function to clean the names \n",
    "def Clean_names(Sub_name): \n",
    "    # Search for opening bracket in the name followed by \n",
    "    # any characters repeated any number of times \n",
    "    if re.search('\\(.*', Sub_name): \n",
    "  \n",
    "        # Extract the position of beginning of pattern \n",
    "        pos = re.search('\\(.*', Sub_name).start() - 1\n",
    "  \n",
    "        # return the cleaned name \n",
    "        return Sub_name[:pos]\n",
    "  \n",
    "    else: \n",
    "        # if clean up needed return the same name \n",
    "        return Sub_name \n",
    "          \n",
    "# remove \"(\" & \")\"\n",
    "# df = df.replace({'\\(':''}, regex = True)\n",
    "# df = df.replace({'\\)':''}, regex = True)\n"
   ]
  },
  {
   "cell_type": "code",
   "execution_count": 29,
   "metadata": {},
   "outputs": [],
   "source": [
    "# Updated the city columns \n",
    "\n",
    "vic_subs_popu_2019_df['Region'] = vic_subs_popu_2019_df['Region'].apply(Clean_names_V)\n",
    "\n",
    "\n",
    "# Print the updated dataframe \n",
    "# print(vic_subs_popu_2019_df) "
   ]
  },
  {
   "cell_type": "code",
   "execution_count": 30,
   "metadata": {},
   "outputs": [],
   "source": [
    "vic_subs_popu_2019_df.to_csv('c:/users/home/documents/Monu-Hw [KD]/project_3/static/data/Vic_Subs_Popu_2019_Test.csv', index= False)"
   ]
  },
  {
   "cell_type": "code",
   "execution_count": null,
   "metadata": {},
   "outputs": [],
   "source": [
    "# vic_subs_popu_2019_df.head()"
   ]
  },
  {
   "cell_type": "code",
   "execution_count": null,
   "metadata": {},
   "outputs": [],
   "source": [
    "# cleaning median household income data"
   ]
  },
  {
   "cell_type": "code",
   "execution_count": null,
   "metadata": {},
   "outputs": [],
   "source": [
    "import pandas as pd"
   ]
  },
  {
   "cell_type": "code",
   "execution_count": null,
   "metadata": {},
   "outputs": [],
   "source": [
    "df = pd.read_excel('c:/users/home/documents/project_3/static/data/[Boroondara] median-household-income.xls', header=2)"
   ]
  },
  {
   "cell_type": "code",
   "execution_count": null,
   "metadata": {},
   "outputs": [],
   "source": [
    "df = df[0:len(df)-7]"
   ]
  },
  {
   "cell_type": "code",
   "execution_count": null,
   "metadata": {},
   "outputs": [],
   "source": [
    "df = df.rename(columns={'Area': 'Suburb', 'Median household income ($)':'Median Income' })"
   ]
  },
  {
   "cell_type": "code",
   "execution_count": null,
   "metadata": {},
   "outputs": [],
   "source": [
    "df"
   ]
  },
  {
   "cell_type": "code",
   "execution_count": null,
   "metadata": {},
   "outputs": [],
   "source": [
    "df = pd.read_excel('c:/users/home/documents/project_3/static/data/[Stonnington] median-household-income.xls', header=2)"
   ]
  },
  {
   "cell_type": "code",
   "execution_count": null,
   "metadata": {},
   "outputs": [],
   "source": [
    "df = df[0:len(df)-6]\n",
    "df = df.rename(columns={'Area': 'Suburb', 'Median household income ($)':'Median Income' })\n",
    "df"
   ]
  },
  {
   "cell_type": "code",
   "execution_count": null,
   "metadata": {},
   "outputs": [],
   "source": [
    "df = pd.read_excel('c:/users/home/documents/project_3/static/data/[City of Yarra] median-household-income.xls', header=2)\n",
    "#df"
   ]
  },
  {
   "cell_type": "code",
   "execution_count": null,
   "metadata": {},
   "outputs": [],
   "source": [
    "df = df[0:len(df)-7]\n",
    "df2 = df.rename(columns={'Area': 'Suburb', 'Median household income ($)':'Median Income' })\n",
    "df2"
   ]
  },
  {
   "cell_type": "code",
   "execution_count": null,
   "metadata": {},
   "outputs": [],
   "source": [
    "frames = [df, df2]\n",
    "df = pd.concat(frames, ignore_index=True, sort=False)"
   ]
  },
  {
   "cell_type": "code",
   "execution_count": null,
   "metadata": {},
   "outputs": [],
   "source": [
    "df"
   ]
  },
  {
   "cell_type": "code",
   "execution_count": null,
   "metadata": {},
   "outputs": [],
   "source": [
    "df.columns"
   ]
  },
  {
   "cell_type": "code",
   "execution_count": null,
   "metadata": {},
   "outputs": [],
   "source": []
  },
  {
   "cell_type": "code",
   "execution_count": null,
   "metadata": {},
   "outputs": [],
   "source": [
    "len(lga_list)"
   ]
  },
  {
   "cell_type": "code",
   "execution_count": 1,
   "metadata": {},
   "outputs": [],
   "source": [
    "# Cleaning median household income data\n",
    "\n",
    "import pandas as pd"
   ]
  },
  {
   "cell_type": "code",
   "execution_count": 2,
   "metadata": {},
   "outputs": [],
   "source": [
    "# create a list of lga\n",
    "lga_list = ['[Banyule]', '[Bendigo]', '[Boroondara]', '[City of Ballarat]', \n",
    "           '[City of Yarra]', '[Colac]', '[Darebin]', '[East Gippsland]', \n",
    "            '[Eastern Region]', '[Frankston]', '[Geelong]', '[Gippsland]',\n",
    "           '[Glen Eira]', '[Grampians Shire]', '[Hobsons Bay]', \n",
    "           '[Hume City]', '[Kingston]', '[Knox]', '[Macedon]', \n",
    "            '[Manningham]', '[Maribyrnong]', '[Maroondah]', '[Melton]',\n",
    "           '[Mitchell Shire Council]', '[Monash]', '[Moorabool Shire]',\n",
    "           '[Moreland]', '[Mornington]', '[Port Phillip]', '[Shepparton]',\n",
    "           '[South Gippsland Shire]', '[Wangaratta]', '[Warrnambool]', \n",
    "            '[Wellington Shire]', '[Whitehorse]', '[Whittlesea]', '[Wodonga]',\n",
    "           '[Wyndham]', '[Yarra Ranges]']\n",
    "\n"
   ]
  },
  {
   "cell_type": "code",
   "execution_count": 3,
   "metadata": {},
   "outputs": [],
   "source": [
    "df = pd.read_excel('c:/users/home/documents/project_3/static/data/median-household-income/[Banyule] median-household-income.xls', header=2)\n",
    "df = df[0:len(df)-7] # slice to remove unused rows\n",
    "df = df.rename(columns={'Area': 'Suburb', 'Median household income ($)':'Median Income'})\n",
    "\n",
    "for i in range(1, len(lga_list)):\n",
    "\n",
    "    # read excel file\n",
    "\n",
    "    df1 = pd.read_excel(f'c:/users/home/documents/project_3/static/data/median-household-income/{lga_list[i]} median-household-income.xls', header=2)\n",
    "\n",
    "    df1 = df1[0:len(df1)-7] # slice to remove unused rows\n",
    "\n",
    "    # rename columns\n",
    "    df1 = df1.rename(columns={'Area': 'Suburb', 'Median household income ($)':'Median Income'})\n",
    "\n",
    "\n",
    "    # append to dataframe\n",
    "    df = df.append(df1, ignore_index=True, sort=False)\n"
   ]
  },
  {
   "cell_type": "code",
   "execution_count": 5,
   "metadata": {},
   "outputs": [
    {
     "data": {
      "text/plain": [
       "(785, 2)"
      ]
     },
     "execution_count": 5,
     "metadata": {},
     "output_type": "execute_result"
    }
   ],
   "source": [
    "df.shape"
   ]
  },
  {
   "cell_type": "code",
   "execution_count": 6,
   "metadata": {},
   "outputs": [],
   "source": [
    "test_df = df.copy()"
   ]
  },
  {
   "cell_type": "code",
   "execution_count": 7,
   "metadata": {},
   "outputs": [
    {
     "data": {
      "text/html": [
       "<div>\n",
       "<style scoped>\n",
       "    .dataframe tbody tr th:only-of-type {\n",
       "        vertical-align: middle;\n",
       "    }\n",
       "\n",
       "    .dataframe tbody tr th {\n",
       "        vertical-align: top;\n",
       "    }\n",
       "\n",
       "    .dataframe thead th {\n",
       "        text-align: right;\n",
       "    }\n",
       "</style>\n",
       "<table border=\"1\" class=\"dataframe\">\n",
       "  <thead>\n",
       "    <tr style=\"text-align: right;\">\n",
       "      <th></th>\n",
       "      <th>Suburb</th>\n",
       "      <th>Median Income</th>\n",
       "    </tr>\n",
       "  </thead>\n",
       "  <tbody>\n",
       "    <tr>\n",
       "      <th>0</th>\n",
       "      <td>Briar Hill</td>\n",
       "      <td>1604.0</td>\n",
       "    </tr>\n",
       "    <tr>\n",
       "      <th>1</th>\n",
       "      <td>Bundoora</td>\n",
       "      <td>1363.0</td>\n",
       "    </tr>\n",
       "    <tr>\n",
       "      <th>2</th>\n",
       "      <td>Eaglemont</td>\n",
       "      <td>2352.0</td>\n",
       "    </tr>\n",
       "    <tr>\n",
       "      <th>3</th>\n",
       "      <td>Greensborough</td>\n",
       "      <td>1634.0</td>\n",
       "    </tr>\n",
       "    <tr>\n",
       "      <th>4</th>\n",
       "      <td>Heidelberg</td>\n",
       "      <td>1735.0</td>\n",
       "    </tr>\n",
       "  </tbody>\n",
       "</table>\n",
       "</div>"
      ],
      "text/plain": [
       "          Suburb  Median Income\n",
       "0     Briar Hill         1604.0\n",
       "1       Bundoora         1363.0\n",
       "2      Eaglemont         2352.0\n",
       "3  Greensborough         1634.0\n",
       "4     Heidelberg         1735.0"
      ]
     },
     "execution_count": 7,
     "metadata": {},
     "output_type": "execute_result"
    }
   ],
   "source": [
    "test_df['Suburb'] = test_df['Suburb'].apply(lambda x: x.replace(\" -\", \"\"))\n",
    "# df['Suburb'] = df['Suburb'].apply(lambda x: x[0])\n",
    "test_df.head()"
   ]
  },
  {
   "cell_type": "code",
   "execution_count": 8,
   "metadata": {},
   "outputs": [],
   "source": [
    "# using regular expression module to clean the suburbs name\n",
    "\n",
    "import re \n",
    "  \n",
    "# Function to clean the names \n",
    "def Clean_names_V(Sub_name): \n",
    "    # Search for opening bracket in the name followed by \n",
    "    # any characters repeated any number of times \n",
    "    if re.search('\\(.*', Sub_name): \n",
    "  \n",
    "        # Extract the position of beginning of pattern \n",
    "        pos = re.search('\\(.*', Sub_name).start() - 1\n",
    "        \n",
    "        if Sub_name[pos+1:pos+2] == 'V':\n",
    "  \n",
    "            # return the cleaned name \n",
    "            return Sub_name[:pos]\n",
    "        else:\n",
    "            Sub_name = Sub_name.split('(')\n",
    "            Sub_name = Sub_name[0]\n",
    "            \n",
    "            return Sub_name\n",
    "  \n",
    "    else: \n",
    "        # if clean up needed return the same name \n",
    "        return Sub_name "
   ]
  },
  {
   "cell_type": "code",
   "execution_count": 9,
   "metadata": {},
   "outputs": [],
   "source": [
    "test_df['Suburb'] = test_df['Suburb'].apply(Clean_names_V)"
   ]
  },
  {
   "cell_type": "code",
   "execution_count": 11,
   "metadata": {},
   "outputs": [],
   "source": [
    "test_df.to_csv(\"c:/users/home/documents/Monu-Hw [KD]/project_3/static/data/Median_Income_Test.csv\", index=False)"
   ]
  },
  {
   "cell_type": "code",
   "execution_count": null,
   "metadata": {},
   "outputs": [],
   "source": []
  },
  {
   "cell_type": "code",
   "execution_count": null,
   "metadata": {},
   "outputs": [],
   "source": []
  },
  {
   "cell_type": "code",
   "execution_count": null,
   "metadata": {},
   "outputs": [],
   "source": [
    "df['Suburb'] = df['Suburb'].apply(lambda x: x.split(\" -\"))\n",
    "df['Suburb'] = df['Suburb'].apply(lambda x: x[0])\n",
    "df.head()"
   ]
  },
  {
   "cell_type": "code",
   "execution_count": 27,
   "metadata": {},
   "outputs": [],
   "source": [
    "import re \n",
    "  \n",
    "# Function to clean the names \n",
    "def Clean_names(Sub_name): \n",
    "    # Search for opening bracket in the name followed by \n",
    "    # any characters repeated any number of times \n",
    "    if re.search('\\(.*', Sub_name): \n",
    "  \n",
    "        # Extract the position of beginning of pattern \n",
    "        pos = re.search('\\(.*', Sub_name).start() - 1\n",
    "  \n",
    "        # return the cleaned name \n",
    "        return Sub_name[:pos]\n",
    "  \n",
    "    else: \n",
    "        # if clean up needed return the same name \n",
    "        return Sub_name \n",
    "          \n"
   ]
  },
  {
   "cell_type": "code",
   "execution_count": null,
   "metadata": {},
   "outputs": [],
   "source": [
    "df['Suburb'] = df['Suburb'].apply(Clean_names)"
   ]
  },
  {
   "cell_type": "code",
   "execution_count": null,
   "metadata": {},
   "outputs": [],
   "source": [
    "df.to_csv(\"c:/users/home/documents/project_3/static/data/Median_Income.csv\", index=False)"
   ]
  },
  {
   "cell_type": "code",
   "execution_count": null,
   "metadata": {},
   "outputs": [],
   "source": [
    "# load real estate data\n",
    "import pandas as pd"
   ]
  },
  {
   "cell_type": "code",
   "execution_count": null,
   "metadata": {},
   "outputs": [],
   "source": [
    "df = pd.read_csv(\"C:/Users/home/Documents/Monu-Hw [KD]/project_3/static/data/MELBOURNE_HOUSE_PRICES_LESS.csv\")"
   ]
  },
  {
   "cell_type": "code",
   "execution_count": null,
   "metadata": {},
   "outputs": [],
   "source": [
    "df.columns"
   ]
  },
  {
   "cell_type": "code",
   "execution_count": null,
   "metadata": {},
   "outputs": [],
   "source": [
    "del_cols = ['Regionname', 'Propertycount', 'Distance']"
   ]
  },
  {
   "cell_type": "code",
   "execution_count": null,
   "metadata": {},
   "outputs": [],
   "source": [
    "df.drop(columns=del_cols, inplace=True)"
   ]
  },
  {
   "cell_type": "code",
   "execution_count": null,
   "metadata": {},
   "outputs": [],
   "source": [
    "df.tail()"
   ]
  },
  {
   "cell_type": "code",
   "execution_count": null,
   "metadata": {},
   "outputs": [],
   "source": [
    "df.info()"
   ]
  },
  {
   "cell_type": "code",
   "execution_count": null,
   "metadata": {},
   "outputs": [],
   "source": [
    "df = df[:100]"
   ]
  },
  {
   "cell_type": "code",
   "execution_count": null,
   "metadata": {},
   "outputs": [],
   "source": [
    "df.shape"
   ]
  },
  {
   "cell_type": "code",
   "execution_count": null,
   "metadata": {},
   "outputs": [],
   "source": [
    "#df.to_html(\"C:/Users/home/Documents/Monu-Hw [KD]/project_3/static/data/Melbourne_House_Price.html\", index=False)"
   ]
  },
  {
   "cell_type": "code",
   "execution_count": null,
   "metadata": {},
   "outputs": [],
   "source": [
    "df = pd.read_csv(\"C:/Users/home/Documents/Monu-Hw [KD]/project_3/static/data/dv279-schoollocations2019.csv\")"
   ]
  },
  {
   "cell_type": "code",
   "execution_count": null,
   "metadata": {},
   "outputs": [],
   "source": [
    "df.shape"
   ]
  },
  {
   "cell_type": "code",
   "execution_count": null,
   "metadata": {},
   "outputs": [],
   "source": [
    "df.columns"
   ]
  },
  {
   "cell_type": "code",
   "execution_count": null,
   "metadata": {},
   "outputs": [],
   "source": [
    "del_cols = ['Education_Sector', 'Entity_Type','Entity_Type', 'School_No',\n",
    "            'School_Status',  'Address_Line_2', 'Address_Town', 'Address_State', \n",
    "            'Postal_Address_Line_1', 'Postal_Address_Line_2', 'Postal_Town', \n",
    "            'Postal_State', 'Postal_Postcode', 'LGA_ID', 'X', 'Y']"
   ]
  },
  {
   "cell_type": "code",
   "execution_count": null,
   "metadata": {},
   "outputs": [],
   "source": [
    "df.drop(columns=del_cols, inplace=True)"
   ]
  },
  {
   "cell_type": "code",
   "execution_count": null,
   "metadata": {},
   "outputs": [],
   "source": [
    "df.head()"
   ]
  },
  {
   "cell_type": "code",
   "execution_count": null,
   "metadata": {},
   "outputs": [],
   "source": [
    "df = df.rename(columns={'School_Name': 'School Name', 'School_Type': 'School Type', \n",
    "                        'Address_Line_1': 'Address', 'Address_Postcode':'Postcode',\n",
    "                       'Full_Phone_No': 'Phone #', 'LGA_Name':'LGA Name'})"
   ]
  },
  {
   "cell_type": "code",
   "execution_count": null,
   "metadata": {},
   "outputs": [],
   "source": [
    "df.head()"
   ]
  },
  {
   "cell_type": "code",
   "execution_count": null,
   "metadata": {},
   "outputs": [],
   "source": [
    "df.to_csv(\"C:/Users/home/Documents/Monu-Hw [KD]/project_3/static/data/Melbourne_Schools.csv\", index=False)\n",
    "\n",
    "df.to_html(\"C:/Users/home/Documents/Monu-Hw [KD]/project_3/static/data/Melbourne_Schools.html\", index=False)"
   ]
  },
  {
   "cell_type": "code",
   "execution_count": 1,
   "metadata": {},
   "outputs": [],
   "source": [
    "import pandas as pd\n",
    "# loading population data\n",
    "\n",
    "df = pd.read_csv(\"C:/Users/home/Documents/Monu-Hw [KD]/project_3/static/data/VIC_ABS_ANNUAL_ERP_ASGS2001_2019.csv\")"
   ]
  },
  {
   "cell_type": "code",
   "execution_count": 76,
   "metadata": {},
   "outputs": [],
   "source": [
    "df = pd.read_csv(\"C:/Users/home/Documents/Monu-Hw [KD]/project_3/static/data/Vic_Subs_Popu_2001_2019.csv\")"
   ]
  },
  {
   "cell_type": "code",
   "execution_count": 77,
   "metadata": {},
   "outputs": [
    {
     "data": {
      "text/plain": [
       "(859, 20)"
      ]
     },
     "execution_count": 77,
     "metadata": {},
     "output_type": "execute_result"
    }
   ],
   "source": [
    "df.shape"
   ]
  },
  {
   "cell_type": "code",
   "execution_count": 78,
   "metadata": {},
   "outputs": [
    {
     "data": {
      "text/plain": [
       "Index(['Suburb', '2001', '2002', '2003', '2004', '2005', '2006', '2007',\n",
       "       '2008', '2009', '2010', '2011', '2012', '2013', '2014', '2015', '2016',\n",
       "       '2017', '2018', '2019'],\n",
       "      dtype='object')"
      ]
     },
     "execution_count": 78,
     "metadata": {},
     "output_type": "execute_result"
    }
   ],
   "source": [
    "df.columns"
   ]
  },
  {
   "cell_type": "code",
   "execution_count": 79,
   "metadata": {},
   "outputs": [],
   "source": [
    "df['Suburb'] = df['Suburb'].apply(lambda x: x.replace(\" -\", \"\"))"
   ]
  },
  {
   "cell_type": "code",
   "execution_count": 80,
   "metadata": {},
   "outputs": [],
   "source": [
    "df.to_csv('C:/Users/home/Documents/Monu-Hw [KD]/project_3/static/data/Vic_Subs_Popu_2001_2019.csv', index=False)"
   ]
  },
  {
   "cell_type": "code",
   "execution_count": null,
   "metadata": {},
   "outputs": [],
   "source": []
  },
  {
   "cell_type": "code",
   "execution_count": 4,
   "metadata": {},
   "outputs": [],
   "source": [
    "del_cols = ['MEASURE', 'Measure', 'REGIONTYPE', 'Geography Level', 'ASGS_2016',\n",
    "            'FREQUENCY', 'Frequency', 'TIME', 'Flag Codes', 'Flags']"
   ]
  },
  {
   "cell_type": "code",
   "execution_count": 5,
   "metadata": {},
   "outputs": [],
   "source": [
    "df.drop(columns=del_cols, inplace=True)"
   ]
  },
  {
   "cell_type": "code",
   "execution_count": 6,
   "metadata": {},
   "outputs": [],
   "source": [
    "df = df.rename(columns={'Region':'Suburb', 'Time':'Year'})"
   ]
  },
  {
   "cell_type": "code",
   "execution_count": 7,
   "metadata": {},
   "outputs": [
    {
     "data": {
      "text/plain": [
       "(17062, 3)"
      ]
     },
     "execution_count": 7,
     "metadata": {},
     "output_type": "execute_result"
    }
   ],
   "source": [
    "df.shape"
   ]
  },
  {
   "cell_type": "code",
   "execution_count": 8,
   "metadata": {},
   "outputs": [
    {
     "data": {
      "text/html": [
       "<div>\n",
       "<style scoped>\n",
       "    .dataframe tbody tr th:only-of-type {\n",
       "        vertical-align: middle;\n",
       "    }\n",
       "\n",
       "    .dataframe tbody tr th {\n",
       "        vertical-align: top;\n",
       "    }\n",
       "\n",
       "    .dataframe thead th {\n",
       "        text-align: right;\n",
       "    }\n",
       "</style>\n",
       "<table border=\"1\" class=\"dataframe\">\n",
       "  <thead>\n",
       "    <tr style=\"text-align: right;\">\n",
       "      <th></th>\n",
       "      <th>Suburb</th>\n",
       "      <th>Year</th>\n",
       "      <th>Value</th>\n",
       "    </tr>\n",
       "  </thead>\n",
       "  <tbody>\n",
       "    <tr>\n",
       "      <th>0</th>\n",
       "      <td>Brunswick</td>\n",
       "      <td>2001</td>\n",
       "      <td>20661</td>\n",
       "    </tr>\n",
       "    <tr>\n",
       "      <th>1</th>\n",
       "      <td>Brunswick</td>\n",
       "      <td>2002</td>\n",
       "      <td>20906</td>\n",
       "    </tr>\n",
       "    <tr>\n",
       "      <th>2</th>\n",
       "      <td>Brunswick</td>\n",
       "      <td>2003</td>\n",
       "      <td>21015</td>\n",
       "    </tr>\n",
       "    <tr>\n",
       "      <th>3</th>\n",
       "      <td>Brunswick</td>\n",
       "      <td>2004</td>\n",
       "      <td>21147</td>\n",
       "    </tr>\n",
       "    <tr>\n",
       "      <th>4</th>\n",
       "      <td>Brunswick</td>\n",
       "      <td>2005</td>\n",
       "      <td>21384</td>\n",
       "    </tr>\n",
       "  </tbody>\n",
       "</table>\n",
       "</div>"
      ],
      "text/plain": [
       "      Suburb  Year  Value\n",
       "0  Brunswick  2001  20661\n",
       "1  Brunswick  2002  20906\n",
       "2  Brunswick  2003  21015\n",
       "3  Brunswick  2004  21147\n",
       "4  Brunswick  2005  21384"
      ]
     },
     "execution_count": 8,
     "metadata": {},
     "output_type": "execute_result"
    }
   ],
   "source": [
    "df.head()"
   ]
  },
  {
   "cell_type": "code",
   "execution_count": 9,
   "metadata": {},
   "outputs": [],
   "source": [
    "# reverse table to col-row\n",
    "\n",
    "sub_df = df.pivot_table(index=['Suburb'], columns='Year',\n",
    "                     values='Value', aggfunc='first').reset_index()"
   ]
  },
  {
   "cell_type": "code",
   "execution_count": 11,
   "metadata": {},
   "outputs": [
    {
     "data": {
      "text/plain": [
       "(898, 20)"
      ]
     },
     "execution_count": 11,
     "metadata": {},
     "output_type": "execute_result"
    }
   ],
   "source": [
    "#sub_df.info()\n",
    "sub_df.shape"
   ]
  },
  {
   "cell_type": "code",
   "execution_count": 12,
   "metadata": {},
   "outputs": [],
   "source": [
    "sub_df.dropna(how='any', axis=0, inplace=True)"
   ]
  },
  {
   "cell_type": "code",
   "execution_count": 15,
   "metadata": {},
   "outputs": [
    {
     "data": {
      "text/html": [
       "<div>\n",
       "<style scoped>\n",
       "    .dataframe tbody tr th:only-of-type {\n",
       "        vertical-align: middle;\n",
       "    }\n",
       "\n",
       "    .dataframe tbody tr th {\n",
       "        vertical-align: top;\n",
       "    }\n",
       "\n",
       "    .dataframe thead th {\n",
       "        text-align: right;\n",
       "    }\n",
       "</style>\n",
       "<table border=\"1\" class=\"dataframe\">\n",
       "  <thead>\n",
       "    <tr style=\"text-align: right;\">\n",
       "      <th>Year</th>\n",
       "      <th>Suburb</th>\n",
       "      <th>2001</th>\n",
       "      <th>2002</th>\n",
       "      <th>2003</th>\n",
       "      <th>2004</th>\n",
       "      <th>2005</th>\n",
       "      <th>2006</th>\n",
       "      <th>2007</th>\n",
       "      <th>2008</th>\n",
       "      <th>2009</th>\n",
       "      <th>2010</th>\n",
       "      <th>2011</th>\n",
       "      <th>2012</th>\n",
       "      <th>2013</th>\n",
       "      <th>2014</th>\n",
       "      <th>2015</th>\n",
       "      <th>2016</th>\n",
       "      <th>2017</th>\n",
       "      <th>2018</th>\n",
       "      <th>2019</th>\n",
       "    </tr>\n",
       "  </thead>\n",
       "  <tbody>\n",
       "    <tr>\n",
       "      <th>0</th>\n",
       "      <td>APY Lands</td>\n",
       "      <td>2661</td>\n",
       "      <td>2599</td>\n",
       "      <td>2543</td>\n",
       "      <td>2469</td>\n",
       "      <td>2389</td>\n",
       "      <td>2310</td>\n",
       "      <td>2352</td>\n",
       "      <td>2416</td>\n",
       "      <td>2476</td>\n",
       "      <td>2560</td>\n",
       "      <td>2660</td>\n",
       "      <td>2651</td>\n",
       "      <td>2622</td>\n",
       "      <td>2605</td>\n",
       "      <td>2568</td>\n",
       "      <td>2498</td>\n",
       "      <td>2485</td>\n",
       "      <td>2520</td>\n",
       "      <td>2535</td>\n",
       "    </tr>\n",
       "    <tr>\n",
       "      <th>1</th>\n",
       "      <td>Abbotsford</td>\n",
       "      <td>4150</td>\n",
       "      <td>4339</td>\n",
       "      <td>4444</td>\n",
       "      <td>4452</td>\n",
       "      <td>4498</td>\n",
       "      <td>4537</td>\n",
       "      <td>4638</td>\n",
       "      <td>4727</td>\n",
       "      <td>4833</td>\n",
       "      <td>5029</td>\n",
       "      <td>5213</td>\n",
       "      <td>5544</td>\n",
       "      <td>6539</td>\n",
       "      <td>7411</td>\n",
       "      <td>8078</td>\n",
       "      <td>8770</td>\n",
       "      <td>9453</td>\n",
       "      <td>9855</td>\n",
       "      <td>10088</td>\n",
       "    </tr>\n",
       "    <tr>\n",
       "      <th>2</th>\n",
       "      <td>Aberfoyle Park</td>\n",
       "      <td>12307</td>\n",
       "      <td>12377</td>\n",
       "      <td>12433</td>\n",
       "      <td>12385</td>\n",
       "      <td>12415</td>\n",
       "      <td>12454</td>\n",
       "      <td>12414</td>\n",
       "      <td>12356</td>\n",
       "      <td>12251</td>\n",
       "      <td>12207</td>\n",
       "      <td>12146</td>\n",
       "      <td>12126</td>\n",
       "      <td>12063</td>\n",
       "      <td>12035</td>\n",
       "      <td>11960</td>\n",
       "      <td>11863</td>\n",
       "      <td>11835</td>\n",
       "      <td>11784</td>\n",
       "      <td>11723</td>\n",
       "    </tr>\n",
       "  </tbody>\n",
       "</table>\n",
       "</div>"
      ],
      "text/plain": [
       "Year          Suburb   2001   2002   2003   2004   2005   2006   2007   2008  \\\n",
       "0          APY Lands   2661   2599   2543   2469   2389   2310   2352   2416   \n",
       "1         Abbotsford   4150   4339   4444   4452   4498   4537   4638   4727   \n",
       "2     Aberfoyle Park  12307  12377  12433  12385  12415  12454  12414  12356   \n",
       "\n",
       "Year   2009   2010   2011   2012   2013   2014   2015   2016   2017   2018  \\\n",
       "0      2476   2560   2660   2651   2622   2605   2568   2498   2485   2520   \n",
       "1      4833   5029   5213   5544   6539   7411   8078   8770   9453   9855   \n",
       "2     12251  12207  12146  12126  12063  12035  11960  11863  11835  11784   \n",
       "\n",
       "Year   2019  \n",
       "0      2535  \n",
       "1     10088  \n",
       "2     11723  "
      ]
     },
     "execution_count": 15,
     "metadata": {},
     "output_type": "execute_result"
    }
   ],
   "source": [
    "sub_df.head(3)"
   ]
  },
  {
   "cell_type": "code",
   "execution_count": 18,
   "metadata": {},
   "outputs": [],
   "source": [
    "sub_df = sub_df[1:]"
   ]
  },
  {
   "cell_type": "code",
   "execution_count": 19,
   "metadata": {},
   "outputs": [
    {
     "data": {
      "text/html": [
       "<div>\n",
       "<style scoped>\n",
       "    .dataframe tbody tr th:only-of-type {\n",
       "        vertical-align: middle;\n",
       "    }\n",
       "\n",
       "    .dataframe tbody tr th {\n",
       "        vertical-align: top;\n",
       "    }\n",
       "\n",
       "    .dataframe thead th {\n",
       "        text-align: right;\n",
       "    }\n",
       "</style>\n",
       "<table border=\"1\" class=\"dataframe\">\n",
       "  <thead>\n",
       "    <tr style=\"text-align: right;\">\n",
       "      <th>Year</th>\n",
       "      <th>Suburb</th>\n",
       "      <th>2001</th>\n",
       "      <th>2002</th>\n",
       "      <th>2003</th>\n",
       "      <th>2004</th>\n",
       "      <th>2005</th>\n",
       "      <th>2006</th>\n",
       "      <th>2007</th>\n",
       "      <th>2008</th>\n",
       "      <th>2009</th>\n",
       "      <th>2010</th>\n",
       "      <th>2011</th>\n",
       "      <th>2012</th>\n",
       "      <th>2013</th>\n",
       "      <th>2014</th>\n",
       "      <th>2015</th>\n",
       "      <th>2016</th>\n",
       "      <th>2017</th>\n",
       "      <th>2018</th>\n",
       "      <th>2019</th>\n",
       "    </tr>\n",
       "  </thead>\n",
       "  <tbody>\n",
       "    <tr>\n",
       "      <th>1</th>\n",
       "      <td>Abbotsford</td>\n",
       "      <td>4150</td>\n",
       "      <td>4339</td>\n",
       "      <td>4444</td>\n",
       "      <td>4452</td>\n",
       "      <td>4498</td>\n",
       "      <td>4537</td>\n",
       "      <td>4638</td>\n",
       "      <td>4727</td>\n",
       "      <td>4833</td>\n",
       "      <td>5029</td>\n",
       "      <td>5213</td>\n",
       "      <td>5544</td>\n",
       "      <td>6539</td>\n",
       "      <td>7411</td>\n",
       "      <td>8078</td>\n",
       "      <td>8770</td>\n",
       "      <td>9453</td>\n",
       "      <td>9855</td>\n",
       "      <td>10088</td>\n",
       "    </tr>\n",
       "    <tr>\n",
       "      <th>2</th>\n",
       "      <td>Aberfoyle Park</td>\n",
       "      <td>12307</td>\n",
       "      <td>12377</td>\n",
       "      <td>12433</td>\n",
       "      <td>12385</td>\n",
       "      <td>12415</td>\n",
       "      <td>12454</td>\n",
       "      <td>12414</td>\n",
       "      <td>12356</td>\n",
       "      <td>12251</td>\n",
       "      <td>12207</td>\n",
       "      <td>12146</td>\n",
       "      <td>12126</td>\n",
       "      <td>12063</td>\n",
       "      <td>12035</td>\n",
       "      <td>11960</td>\n",
       "      <td>11863</td>\n",
       "      <td>11835</td>\n",
       "      <td>11784</td>\n",
       "      <td>11723</td>\n",
       "    </tr>\n",
       "    <tr>\n",
       "      <th>4</th>\n",
       "      <td>Airport West</td>\n",
       "      <td>6997</td>\n",
       "      <td>6970</td>\n",
       "      <td>6952</td>\n",
       "      <td>6904</td>\n",
       "      <td>6870</td>\n",
       "      <td>6878</td>\n",
       "      <td>6920</td>\n",
       "      <td>6983</td>\n",
       "      <td>7067</td>\n",
       "      <td>7175</td>\n",
       "      <td>7234</td>\n",
       "      <td>7301</td>\n",
       "      <td>7390</td>\n",
       "      <td>7521</td>\n",
       "      <td>7694</td>\n",
       "      <td>7903</td>\n",
       "      <td>8032</td>\n",
       "      <td>8280</td>\n",
       "      <td>8559</td>\n",
       "    </tr>\n",
       "  </tbody>\n",
       "</table>\n",
       "</div>"
      ],
      "text/plain": [
       "Year          Suburb   2001   2002   2003   2004   2005   2006   2007   2008  \\\n",
       "1         Abbotsford   4150   4339   4444   4452   4498   4537   4638   4727   \n",
       "2     Aberfoyle Park  12307  12377  12433  12385  12415  12454  12414  12356   \n",
       "4       Airport West   6997   6970   6952   6904   6870   6878   6920   6983   \n",
       "\n",
       "Year   2009   2010   2011   2012   2013   2014   2015   2016   2017   2018  \\\n",
       "1      4833   5029   5213   5544   6539   7411   8078   8770   9453   9855   \n",
       "2     12251  12207  12146  12126  12063  12035  11960  11863  11835  11784   \n",
       "4      7067   7175   7234   7301   7390   7521   7694   7903   8032   8280   \n",
       "\n",
       "Year   2019  \n",
       "1     10088  \n",
       "2     11723  \n",
       "4      8559  "
      ]
     },
     "execution_count": 19,
     "metadata": {},
     "output_type": "execute_result"
    }
   ],
   "source": [
    "sub_df.head(3)"
   ]
  },
  {
   "cell_type": "code",
   "execution_count": null,
   "metadata": {},
   "outputs": [],
   "source": [
    "# sub_df['Suburb'] = sub_df['Suburb'].apply(lambda x: x.split(\" -\"))\n",
    "# sub_df['Suburb'] = sub_df['Suburb'].apply(lambda x: x[0])\n",
    "# sub_df = sub_df[1:]\n",
    "# sub_df.head()"
   ]
  },
  {
   "cell_type": "code",
   "execution_count": 20,
   "metadata": {},
   "outputs": [],
   "source": [
    "sub_df['Suburb'] = sub_df['Suburb'].apply(lambda x: x.replace(\" -\", \"\"))"
   ]
  },
  {
   "cell_type": "code",
   "execution_count": 21,
   "metadata": {},
   "outputs": [],
   "source": [
    "# using regular expression module to clean the suburbs name\n",
    "\n",
    "import re \n",
    "  \n",
    "# Function to clean the names \n",
    "def Clean_names_V(Sub_name): \n",
    "    # Search for opening bracket in the name followed by \n",
    "    # any characters repeated any number of times \n",
    "    if re.search('\\(.*', Sub_name): \n",
    "  \n",
    "        # Extract the position of beginning of pattern \n",
    "        pos = re.search('\\(.*', Sub_name).start() - 1\n",
    "        \n",
    "        if Sub_name[pos+1:pos+2] == 'V':\n",
    "  \n",
    "            # return the cleaned name \n",
    "            return Sub_name[:pos]\n",
    "        else:\n",
    "            Sub_name = Sub_name.split('(')\n",
    "            Sub_name = Sub_name[0]\n",
    "            \n",
    "            return Sub_name\n",
    "  \n",
    "    else: \n",
    "        # if clean up needed return the same name \n",
    "        return Sub_name "
   ]
  },
  {
   "cell_type": "code",
   "execution_count": 31,
   "metadata": {},
   "outputs": [],
   "source": [
    "df['Suburb'] = df['Suburb'].apply(Clean_names)"
   ]
  },
  {
   "cell_type": "code",
   "execution_count": 24,
   "metadata": {},
   "outputs": [
    {
     "data": {
      "text/html": [
       "<div>\n",
       "<style scoped>\n",
       "    .dataframe tbody tr th:only-of-type {\n",
       "        vertical-align: middle;\n",
       "    }\n",
       "\n",
       "    .dataframe tbody tr th {\n",
       "        vertical-align: top;\n",
       "    }\n",
       "\n",
       "    .dataframe thead th {\n",
       "        text-align: right;\n",
       "    }\n",
       "</style>\n",
       "<table border=\"1\" class=\"dataframe\">\n",
       "  <thead>\n",
       "    <tr style=\"text-align: right;\">\n",
       "      <th>Year</th>\n",
       "      <th>Suburb</th>\n",
       "      <th>2001</th>\n",
       "      <th>2002</th>\n",
       "      <th>2003</th>\n",
       "      <th>2004</th>\n",
       "      <th>2005</th>\n",
       "      <th>2006</th>\n",
       "      <th>2007</th>\n",
       "      <th>2008</th>\n",
       "      <th>2009</th>\n",
       "      <th>2010</th>\n",
       "      <th>2011</th>\n",
       "      <th>2012</th>\n",
       "      <th>2013</th>\n",
       "      <th>2014</th>\n",
       "      <th>2015</th>\n",
       "      <th>2016</th>\n",
       "      <th>2017</th>\n",
       "      <th>2018</th>\n",
       "      <th>2019</th>\n",
       "    </tr>\n",
       "  </thead>\n",
       "  <tbody>\n",
       "    <tr>\n",
       "      <th>1</th>\n",
       "      <td>Abbotsford</td>\n",
       "      <td>4150</td>\n",
       "      <td>4339</td>\n",
       "      <td>4444</td>\n",
       "      <td>4452</td>\n",
       "      <td>4498</td>\n",
       "      <td>4537</td>\n",
       "      <td>4638</td>\n",
       "      <td>4727</td>\n",
       "      <td>4833</td>\n",
       "      <td>5029</td>\n",
       "      <td>5213</td>\n",
       "      <td>5544</td>\n",
       "      <td>6539</td>\n",
       "      <td>7411</td>\n",
       "      <td>8078</td>\n",
       "      <td>8770</td>\n",
       "      <td>9453</td>\n",
       "      <td>9855</td>\n",
       "      <td>10088</td>\n",
       "    </tr>\n",
       "    <tr>\n",
       "      <th>2</th>\n",
       "      <td>Aberfoyle Park</td>\n",
       "      <td>12307</td>\n",
       "      <td>12377</td>\n",
       "      <td>12433</td>\n",
       "      <td>12385</td>\n",
       "      <td>12415</td>\n",
       "      <td>12454</td>\n",
       "      <td>12414</td>\n",
       "      <td>12356</td>\n",
       "      <td>12251</td>\n",
       "      <td>12207</td>\n",
       "      <td>12146</td>\n",
       "      <td>12126</td>\n",
       "      <td>12063</td>\n",
       "      <td>12035</td>\n",
       "      <td>11960</td>\n",
       "      <td>11863</td>\n",
       "      <td>11835</td>\n",
       "      <td>11784</td>\n",
       "      <td>11723</td>\n",
       "    </tr>\n",
       "    <tr>\n",
       "      <th>4</th>\n",
       "      <td>Airport West</td>\n",
       "      <td>6997</td>\n",
       "      <td>6970</td>\n",
       "      <td>6952</td>\n",
       "      <td>6904</td>\n",
       "      <td>6870</td>\n",
       "      <td>6878</td>\n",
       "      <td>6920</td>\n",
       "      <td>6983</td>\n",
       "      <td>7067</td>\n",
       "      <td>7175</td>\n",
       "      <td>7234</td>\n",
       "      <td>7301</td>\n",
       "      <td>7390</td>\n",
       "      <td>7521</td>\n",
       "      <td>7694</td>\n",
       "      <td>7903</td>\n",
       "      <td>8032</td>\n",
       "      <td>8280</td>\n",
       "      <td>8559</td>\n",
       "    </tr>\n",
       "  </tbody>\n",
       "</table>\n",
       "</div>"
      ],
      "text/plain": [
       "Year          Suburb   2001   2002   2003   2004   2005   2006   2007   2008  \\\n",
       "1         Abbotsford   4150   4339   4444   4452   4498   4537   4638   4727   \n",
       "2     Aberfoyle Park  12307  12377  12433  12385  12415  12454  12414  12356   \n",
       "4       Airport West   6997   6970   6952   6904   6870   6878   6920   6983   \n",
       "\n",
       "Year   2009   2010   2011   2012   2013   2014   2015   2016   2017   2018  \\\n",
       "1      4833   5029   5213   5544   6539   7411   8078   8770   9453   9855   \n",
       "2     12251  12207  12146  12126  12063  12035  11960  11863  11835  11784   \n",
       "4      7067   7175   7234   7301   7390   7521   7694   7903   8032   8280   \n",
       "\n",
       "Year   2019  \n",
       "1     10088  \n",
       "2     11723  \n",
       "4      8559  "
      ]
     },
     "execution_count": 24,
     "metadata": {},
     "output_type": "execute_result"
    }
   ],
   "source": [
    "sub_df.head(3)"
   ]
  },
  {
   "cell_type": "code",
   "execution_count": 33,
   "metadata": {},
   "outputs": [],
   "source": [
    "#sub_df.to_csv('c:/users/home/documents/Monu-Hw [KD]/project_3/static/data/Vic_Subs_Popu_2001_2019_Test.csv', index=False)"
   ]
  },
  {
   "cell_type": "code",
   "execution_count": 67,
   "metadata": {},
   "outputs": [],
   "source": [
    "sub_popu_df = pd.read_csv('c:/users/home/documents/Monu-Hw [KD]/project_3/static/data/Vic_Subs_Popu_2001_2019.csv') "
   ]
  },
  {
   "cell_type": "code",
   "execution_count": 68,
   "metadata": {},
   "outputs": [
    {
     "data": {
      "text/plain": [
       "(860, 20)"
      ]
     },
     "execution_count": 68,
     "metadata": {},
     "output_type": "execute_result"
    }
   ],
   "source": [
    "sub_popu_df.shape"
   ]
  },
  {
   "cell_type": "code",
   "execution_count": 69,
   "metadata": {},
   "outputs": [
    {
     "data": {
      "text/plain": [
       "Index(['Suburb', '2001', '2002', '2003', '2004', '2005', '2006', '2007',\n",
       "       '2008', '2009', '2010', '2011', '2012', '2013', '2014', '2015', '2016',\n",
       "       '2017', '2018', '2019'],\n",
       "      dtype='object')"
      ]
     },
     "execution_count": 69,
     "metadata": {},
     "output_type": "execute_result"
    }
   ],
   "source": [
    "sub_popu_df.columns"
   ]
  },
  {
   "cell_type": "code",
   "execution_count": 70,
   "metadata": {},
   "outputs": [],
   "source": [
    "del_cols = ['2001', '2002', '2003', '2004', '2005', '2006', '2007',\n",
    "       '2008', '2009', '2010', '2011', '2012', '2013', '2014', '2015', '2016',\n",
    "       '2017', '2018']"
   ]
  },
  {
   "cell_type": "code",
   "execution_count": 71,
   "metadata": {},
   "outputs": [],
   "source": [
    "sub_popu_df.drop(columns=del_cols, axis=1, inplace=True)"
   ]
  },
  {
   "cell_type": "code",
   "execution_count": 72,
   "metadata": {},
   "outputs": [],
   "source": [
    "sub_popu_df = sub_popu_df.rename(columns={'2019':'Value'})"
   ]
  },
  {
   "cell_type": "code",
   "execution_count": 73,
   "metadata": {},
   "outputs": [
    {
     "data": {
      "text/html": [
       "<div>\n",
       "<style scoped>\n",
       "    .dataframe tbody tr th:only-of-type {\n",
       "        vertical-align: middle;\n",
       "    }\n",
       "\n",
       "    .dataframe tbody tr th {\n",
       "        vertical-align: top;\n",
       "    }\n",
       "\n",
       "    .dataframe thead th {\n",
       "        text-align: right;\n",
       "    }\n",
       "</style>\n",
       "<table border=\"1\" class=\"dataframe\">\n",
       "  <thead>\n",
       "    <tr style=\"text-align: right;\">\n",
       "      <th></th>\n",
       "      <th>Suburb</th>\n",
       "      <th>Value</th>\n",
       "    </tr>\n",
       "  </thead>\n",
       "  <tbody>\n",
       "    <tr>\n",
       "      <th>0</th>\n",
       "      <td>Abbotsford</td>\n",
       "      <td>10088</td>\n",
       "    </tr>\n",
       "    <tr>\n",
       "      <th>1</th>\n",
       "      <td>Aberfoyle Park</td>\n",
       "      <td>11723</td>\n",
       "    </tr>\n",
       "    <tr>\n",
       "      <th>2</th>\n",
       "      <td>Airport West</td>\n",
       "      <td>8559</td>\n",
       "    </tr>\n",
       "  </tbody>\n",
       "</table>\n",
       "</div>"
      ],
      "text/plain": [
       "           Suburb  Value\n",
       "0      Abbotsford  10088\n",
       "1  Aberfoyle Park  11723\n",
       "2    Airport West   8559"
      ]
     },
     "execution_count": 73,
     "metadata": {},
     "output_type": "execute_result"
    }
   ],
   "source": [
    "sub_popu_df.head(3)"
   ]
  },
  {
   "cell_type": "code",
   "execution_count": 75,
   "metadata": {},
   "outputs": [],
   "source": [
    "sub_popu_df.to_csv('c:/users/home/documents/Monu-Hw [KD]/project_3/static/data/Vic_Subs_Popu_2019.csv', index=False)"
   ]
  },
  {
   "cell_type": "code",
   "execution_count": null,
   "metadata": {},
   "outputs": [],
   "source": [
    "# sub_df.to_csv(\"C:/Users/home/Documents/Monu-Hw [KD]/project_3/static/data/Vic_Subs_Popu_2001_2019.csv\", index=False)"
   ]
  },
  {
   "cell_type": "code",
   "execution_count": null,
   "metadata": {},
   "outputs": [],
   "source": [
    "sub_df=pd.read_csv(\"C:/Users/home/Documents/Monu-Hw [KD]/project_3/static/data/Vic_Subs_Popu_2001_2019.csv\")"
   ]
  },
  {
   "cell_type": "code",
   "execution_count": null,
   "metadata": {},
   "outputs": [],
   "source": [
    "# sub_df.to_html(\"C:/Users/home/Documents/Monu-Hw [KD]/project_3/static/data/Vic_Subs_Popu_2001_2019.html\")"
   ]
  },
  {
   "cell_type": "code",
   "execution_count": null,
   "metadata": {},
   "outputs": [],
   "source": [
    "sub_df.columns"
   ]
  },
  {
   "cell_type": "code",
   "execution_count": null,
   "metadata": {},
   "outputs": [],
   "source": [
    "sub_df.drop(columns=['2001', '2002', '2003', '2004', '2005', '2006', '2007',\n",
    "       '2008'], axis=1, inplace=True)"
   ]
  },
  {
   "cell_type": "code",
   "execution_count": null,
   "metadata": {},
   "outputs": [],
   "source": [
    "sub_df.head()"
   ]
  },
  {
   "cell_type": "code",
   "execution_count": null,
   "metadata": {},
   "outputs": [],
   "source": [
    "sub_df.to_html(\"C:/Users/home/Documents/Monu-Hw [KD]/project_3/static/data/Vic_Subs_Popu_2009_2019.html\")"
   ]
  },
  {
   "cell_type": "code",
   "execution_count": null,
   "metadata": {},
   "outputs": [],
   "source": [
    "#cleaned_df.to_csv(\"C:/Users/home/Documents/Monu-Hw [KD]/project_3/static/data/Vic_Popu_2001_2019.csv\", index=False)"
   ]
  },
  {
   "cell_type": "code",
   "execution_count": 31,
   "metadata": {},
   "outputs": [],
   "source": [
    "# loading melbourne house data\n",
    "df = pd.read_csv(\"C:/Users/home/Documents/Monu-Hw [KD]/project_3/static/data/Melbourne_House_Full.csv\")"
   ]
  },
  {
   "cell_type": "markdown",
   "metadata": {},
   "source": [
    "Features of the Melbourne House Price Data:\n",
    "\n",
    "Suburb: An outlying district of a city\n",
    "Address: Address of the property.\n",
    "Rooms: Number of rooms\n",
    "Method: S - property sold; SP - property sold prior; PI - property passed in; PN - sold prior not disclosed; SN - sold not disclosed; NB - no bid; VB - vendor bid; W - withdrawn prior to auction; SA - sold after auction; SS - sold after auction price not disclosed. N/A - price or highest bid not available.\n",
    "Type: h - house,cottage,villa, semi,terrace; u - unit, duplex; t - townhouse;\n",
    "SellerG: Real Estate Agent\n",
    "Date: Date sold\n",
    "Distance: Distance from CBD(Central Business District)\n",
    "Regionname: General Region (West, North West, North, North east ...etc)\n",
    "Propertycount: Number of properties that exist in the suburb.\n",
    "Bedroom2 : Scraped # of Bedrooms (from different source)\n",
    "Bathroom: Number of Bathrooms\n",
    "Car: Number of carspots\n",
    "Landsize: Land Size\n",
    "BuildingArea: Building Size\n",
    "YearBuilt: Year the house was built\n",
    "CouncilArea: Governing council for the area\n",
    "Lattitude: Self explanatory\n",
    "Longtitude: Self explanatory"
   ]
  },
  {
   "cell_type": "code",
   "execution_count": 33,
   "metadata": {},
   "outputs": [
    {
     "data": {
      "text/plain": [
       "(34857, 21)"
      ]
     },
     "execution_count": 33,
     "metadata": {},
     "output_type": "execute_result"
    }
   ],
   "source": [
    "# having a look at the dataset\n",
    "df.shape"
   ]
  },
  {
   "cell_type": "code",
   "execution_count": 34,
   "metadata": {},
   "outputs": [
    {
     "data": {
      "text/plain": [
       "Index(['Suburb', 'Address', 'Rooms', 'Type', 'Price', 'Method', 'SellerG',\n",
       "       'Date', 'Distance', 'Postcode', 'Bedroom2', 'Bathroom', 'Car',\n",
       "       'Landsize', 'BuildingArea', 'YearBuilt', 'CouncilArea', 'Lattitude',\n",
       "       'Longtitude', 'Regionname', 'Propertycount'],\n",
       "      dtype='object')"
      ]
     },
     "execution_count": 34,
     "metadata": {},
     "output_type": "execute_result"
    }
   ],
   "source": [
    "df.columns"
   ]
  },
  {
   "cell_type": "code",
   "execution_count": null,
   "metadata": {},
   "outputs": [],
   "source": []
  },
  {
   "cell_type": "code",
   "execution_count": null,
   "metadata": {},
   "outputs": [],
   "source": []
  },
  {
   "cell_type": "code",
   "execution_count": null,
   "metadata": {},
   "outputs": [],
   "source": []
  },
  {
   "cell_type": "code",
   "execution_count": null,
   "metadata": {},
   "outputs": [],
   "source": [
    "df.describe()"
   ]
  },
  {
   "cell_type": "code",
   "execution_count": null,
   "metadata": {},
   "outputs": [],
   "source": [
    "df.skew()"
   ]
  },
  {
   "cell_type": "code",
   "execution_count": null,
   "metadata": {},
   "outputs": [],
   "source": [
    "# check if there is missing values\n",
    "df.isna().sum()"
   ]
  },
  {
   "cell_type": "code",
   "execution_count": null,
   "metadata": {},
   "outputs": [],
   "source": [
    "df['Car'].isna().sum()"
   ]
  },
  {
   "cell_type": "code",
   "execution_count": null,
   "metadata": {},
   "outputs": [],
   "source": [
    "df.Car.median()"
   ]
  },
  {
   "cell_type": "code",
   "execution_count": null,
   "metadata": {},
   "outputs": [],
   "source": [
    "df.Car.value_counts()"
   ]
  },
  {
   "cell_type": "code",
   "execution_count": null,
   "metadata": {},
   "outputs": [],
   "source": [
    "df.drop(columns=['BuildingArea'],axis=1,inplace=True)"
   ]
  },
  {
   "cell_type": "code",
   "execution_count": null,
   "metadata": {},
   "outputs": [],
   "source": [
    "# cleaning & parsing covid cases dataset"
   ]
  },
  {
   "cell_type": "code",
   "execution_count": null,
   "metadata": {},
   "outputs": [],
   "source": [
    "import pandas as pd"
   ]
  },
  {
   "cell_type": "code",
   "execution_count": null,
   "metadata": {},
   "outputs": [],
   "source": [
    "pwd"
   ]
  },
  {
   "cell_type": "code",
   "execution_count": null,
   "metadata": {},
   "outputs": [],
   "source": [
    "df = pd.read_csv('C:\\\\Users\\\\home\\\\Documents\\\\Monu-Hw [KD]\\\\project_3\\\\static\\\\data\\\\COVID19 Data Viz Postcode data - postcode.csv')"
   ]
  },
  {
   "cell_type": "code",
   "execution_count": null,
   "metadata": {},
   "outputs": [],
   "source": [
    "postcode_df = pd.read_csv('C:\\\\Users\\\\home\\\\Documents\\\\Monu-Hw [KD]\\\\project_3\\\\static\\\\data\\\\suburb_postcode_df.csv')"
   ]
  },
  {
   "cell_type": "code",
   "execution_count": null,
   "metadata": {},
   "outputs": [],
   "source": [
    "postcode_df.columns"
   ]
  },
  {
   "cell_type": "code",
   "execution_count": null,
   "metadata": {},
   "outputs": [],
   "source": [
    "postcode_df['Postal_Town'] = postcode_df['Postal_Town'].apply(lambda x: x.capitalize())"
   ]
  },
  {
   "cell_type": "code",
   "execution_count": null,
   "metadata": {},
   "outputs": [],
   "source": [
    "postcode_df.rename(columns={'Postal_Town': 'Suburb'}, inplace=True)"
   ]
  },
  {
   "cell_type": "code",
   "execution_count": null,
   "metadata": {},
   "outputs": [],
   "source": [
    "postcode_df.head()"
   ]
  },
  {
   "cell_type": "code",
   "execution_count": null,
   "metadata": {},
   "outputs": [],
   "source": [
    "postcode_df.shape"
   ]
  },
  {
   "cell_type": "code",
   "execution_count": null,
   "metadata": {},
   "outputs": [],
   "source": [
    "# postcode_df.to_csv('C:\\\\Users\\\\home\\\\Documents\\\\Monu-Hw [KD]\\\\project_3\\\\static\\\\data\\\\postcode_suburb.csv', index=False)"
   ]
  },
  {
   "cell_type": "code",
   "execution_count": null,
   "metadata": {},
   "outputs": [],
   "source": [
    "covid_df = pd.read_csv('C:\\\\Users\\\\home\\\\Documents\\\\Monu-Hw [KD]\\\\project_3\\\\static\\\\data\\\\COVID19 Data Viz Postcode data - postcode.csv')"
   ]
  },
  {
   "cell_type": "code",
   "execution_count": null,
   "metadata": {},
   "outputs": [],
   "source": [
    "covid_df.columns"
   ]
  },
  {
   "cell_type": "code",
   "execution_count": null,
   "metadata": {},
   "outputs": [],
   "source": [
    "covid_df.drop(columns = ['population', 'rate', 'new', 'band', 'file_processed_date'], axis = 1, inplace=True)\n",
    "covid_df.rename(columns={'postcode':'Postcode'}, inplace=True)"
   ]
  },
  {
   "cell_type": "code",
   "execution_count": null,
   "metadata": {},
   "outputs": [],
   "source": [
    "covid_df.drop_duplicates(subset=['Postcode'], inplace=True)"
   ]
  },
  {
   "cell_type": "code",
   "execution_count": null,
   "metadata": {},
   "outputs": [],
   "source": [
    "covid_df.shape"
   ]
  },
  {
   "cell_type": "code",
   "execution_count": null,
   "metadata": {},
   "outputs": [],
   "source": [
    "covid_df['Postcode'].value_counts().sum()"
   ]
  },
  {
   "cell_type": "code",
   "execution_count": null,
   "metadata": {},
   "outputs": [],
   "source": [
    "#df.to_csv('C:\\\\Users\\\\home\\\\Documents\\\\Monu-Hw [KD]\\\\project_3\\\\static\\\\data\\\\cleaned_covid19_cases.csv', index=False)"
   ]
  },
  {
   "cell_type": "code",
   "execution_count": null,
   "metadata": {},
   "outputs": [],
   "source": [
    "covid_data_df = covid_df.merge(postcode_df, how='left', on='Postcode')"
   ]
  },
  {
   "cell_type": "code",
   "execution_count": null,
   "metadata": {},
   "outputs": [],
   "source": [
    "covid_data_df.drop_duplicates(subset=['Postcode'], inplace=True)"
   ]
  },
  {
   "cell_type": "code",
   "execution_count": null,
   "metadata": {},
   "outputs": [],
   "source": [
    "covid_data_df.dropna(inplace=True)"
   ]
  },
  {
   "cell_type": "code",
   "execution_count": null,
   "metadata": {},
   "outputs": [],
   "source": [
    "covid_data_df.shape"
   ]
  },
  {
   "cell_type": "code",
   "execution_count": null,
   "metadata": {},
   "outputs": [],
   "source": [
    "#covid_data_df.to_csv('C:\\\\Users\\\\home\\\\Documents\\\\Monu-Hw [KD]\\\\project_3\\\\static\\\\data\\\\cleaned_covid19_cases.csv', index=False)"
   ]
  },
  {
   "cell_type": "code",
   "execution_count": null,
   "metadata": {},
   "outputs": [],
   "source": [
    "covid_data_df.tail(5)"
   ]
  },
  {
   "cell_type": "code",
   "execution_count": null,
   "metadata": {},
   "outputs": [],
   "source": [
    "import pandas as pd"
   ]
  },
  {
   "cell_type": "code",
   "execution_count": null,
   "metadata": {},
   "outputs": [],
   "source": [
    "df = pd.read_csv('C:\\\\Users\\\\home\\\\Downloads\\\\tmp\\\\project_3\\\\data collection\\\\[Boroondara] ProfileDataExport_GroupAge.csv')"
   ]
  },
  {
   "cell_type": "code",
   "execution_count": null,
   "metadata": {},
   "outputs": [],
   "source": [
    "df.head(3)"
   ]
  },
  {
   "cell_type": "code",
   "execution_count": null,
   "metadata": {},
   "outputs": [],
   "source": [
    "df.columns"
   ]
  },
  {
   "cell_type": "code",
   "execution_count": null,
   "metadata": {},
   "outputs": [],
   "source": [
    "df.drop(columns=['WebID', 'Data table' ,'Data Type','Unnamed: 9'], axis=1, inplace=True)"
   ]
  },
  {
   "cell_type": "code",
   "execution_count": null,
   "metadata": {},
   "outputs": [],
   "source": [
    "df = df.rename(columns={'Data label':'Group Age'})"
   ]
  },
  {
   "cell_type": "code",
   "execution_count": null,
   "metadata": {},
   "outputs": [],
   "source": [
    "df.head(3)"
   ]
  },
  {
   "cell_type": "code",
   "execution_count": null,
   "metadata": {},
   "outputs": [],
   "source": []
  },
  {
   "cell_type": "code",
   "execution_count": null,
   "metadata": {},
   "outputs": [],
   "source": [
    "# reverse table to col-row\n",
    "\n",
    "group_age_df = df.pivot_table(index=['Area'], columns='Group Age',\n",
    "                     values='2016', aggfunc='first').reset_index()"
   ]
  },
  {
   "cell_type": "code",
   "execution_count": null,
   "metadata": {},
   "outputs": [],
   "source": [
    "group_age_df.head(3)"
   ]
  },
  {
   "cell_type": "code",
   "execution_count": null,
   "metadata": {},
   "outputs": [],
   "source": [
    "#group_age_df.to_csv('C:\\\\Users\\\\home\\\\Documents\\\\Monu-Hw [KD]\\\\project_3\\\\static\\\\data\\\\[Boroondara] Group_Age.csv', index=False)"
   ]
  },
  {
   "cell_type": "code",
   "execution_count": null,
   "metadata": {},
   "outputs": [],
   "source": [
    "df = pd.read_csv('C:\\\\Users\\\\home\\\\Downloads\\\\tmp\\\\project_3\\\\data collection\\\\ABS_C16_T01_SA_15022021101039066.csv')"
   ]
  },
  {
   "cell_type": "code",
   "execution_count": null,
   "metadata": {},
   "outputs": [],
   "source": [
    "df.shape"
   ]
  },
  {
   "cell_type": "code",
   "execution_count": null,
   "metadata": {},
   "outputs": [],
   "source": [
    "df.columns"
   ]
  },
  {
   "cell_type": "code",
   "execution_count": null,
   "metadata": {},
   "outputs": [],
   "source": [
    "df.drop(columns=['SEX_ABS', 'STATE', 'State', 'REGIONTYPE',\n",
    "       'Geography Level', 'ASGS_2016', 'TIME', 'Census year',\n",
    "        'Flag Codes', 'Flags'], axis=1, inplace=True)\n",
    "\n",
    "df.head(3)"
   ]
  },
  {
   "cell_type": "code",
   "execution_count": null,
   "metadata": {},
   "outputs": [],
   "source": [
    "df.shape"
   ]
  },
  {
   "cell_type": "code",
   "execution_count": null,
   "metadata": {},
   "outputs": [],
   "source": [
    "df = df.loc[df.Sex !='Persons']"
   ]
  },
  {
   "cell_type": "code",
   "execution_count": null,
   "metadata": {},
   "outputs": [],
   "source": [
    "df = df.loc[df.Age !='20']\n",
    "df = df.loc[df.Age !='21']\n",
    "df = df.loc[df.Age !='22']\n",
    "df = df.loc[df.Age !='23']\n",
    "df = df.loc[df.Age !='24']"
   ]
  },
  {
   "cell_type": "code",
   "execution_count": null,
   "metadata": {},
   "outputs": [],
   "source": [
    "g10_14 = df.loc[df.Age == '10 - 14']\n",
    "g10_14.head()"
   ]
  },
  {
   "cell_type": "code",
   "execution_count": null,
   "metadata": {},
   "outputs": [],
   "source": [
    "df.head(3)"
   ]
  },
  {
   "cell_type": "code",
   "execution_count": null,
   "metadata": {},
   "outputs": [],
   "source": [
    "df.shape"
   ]
  },
  {
   "cell_type": "code",
   "execution_count": null,
   "metadata": {},
   "outputs": [],
   "source": [
    "# df.to_csv('C:\\\\Users\\\\home\\\\Documents\\\\Monu-Hw [KD]\\\\project_3\\\\static\\\\data\\\\Vic_Group_Age.csv', encoding= 'utf-8',index=False)"
   ]
  },
  {
   "cell_type": "code",
   "execution_count": null,
   "metadata": {},
   "outputs": [],
   "source": [
    "df.head()"
   ]
  },
  {
   "cell_type": "code",
   "execution_count": null,
   "metadata": {},
   "outputs": [],
   "source": [
    "# df.to_csv('C:\\\\Users\\\\home\\\\Documents\\\\Monu-Hw [KD]\\\\project_3\\\\static\\\\data\\\\Vic_Group_Age_Total.csv', index=False, utf = )"
   ]
  },
  {
   "cell_type": "code",
   "execution_count": null,
   "metadata": {},
   "outputs": [],
   "source": [
    "# reverse table to col-row\n",
    "\n",
    "group_age_df = df.pivot_table(index=['Region'], columns='Age',\n",
    "                     values='Value', aggfunc='first').reset_index()"
   ]
  },
  {
   "cell_type": "code",
   "execution_count": null,
   "metadata": {},
   "outputs": [],
   "source": [
    "group_age_df.head(3)"
   ]
  },
  {
   "cell_type": "code",
   "execution_count": null,
   "metadata": {},
   "outputs": [],
   "source": [
    "group_age_df['Region'] = group_age_df.Region.apply(lambda x: x.replace(\"- \", \"\"))"
   ]
  },
  {
   "cell_type": "code",
   "execution_count": null,
   "metadata": {},
   "outputs": [],
   "source": [
    "# using regular expression module to clean the suburbs name\n",
    "\n",
    "import re \n",
    "  \n",
    "# Function to clean the names \n",
    "def Clean_names(Sub_name): \n",
    "    # Search for opening bracket in the name followed by \n",
    "    # any characters repeated any number of times \n",
    "    if re.search('\\(.*', Sub_name): \n",
    "  \n",
    "        # Extract the position of beginning of pattern \n",
    "        pos = re.search('\\(.*', Sub_name).start() - 1\n",
    "        \n",
    "        if Sub_name[pos+1:pos+2] == 'V':\n",
    "  \n",
    "            # return the cleaned name \n",
    "            return Sub_name[:pos]\n",
    "        else:\n",
    "            Sub_name = Sub_name.split('(')\n",
    "            Sub_name = Sub_name[0]\n",
    "            \n",
    "            return Sub_name\n",
    "  \n",
    "    else: \n",
    "        # if clean up needed return the same name \n",
    "        return Sub_name "
   ]
  },
  {
   "cell_type": "code",
   "execution_count": null,
   "metadata": {},
   "outputs": [],
   "source": [
    "group_age_df['Region'] = group_age_df['Region'].apply(Clean_names)"
   ]
  },
  {
   "cell_type": "code",
   "execution_count": null,
   "metadata": {},
   "outputs": [],
   "source": [
    "group_age_df.head(3)"
   ]
  },
  {
   "cell_type": "code",
   "execution_count": null,
   "metadata": {},
   "outputs": [],
   "source": [
    "group_age_df.shape"
   ]
  },
  {
   "cell_type": "code",
   "execution_count": null,
   "metadata": {},
   "outputs": [],
   "source": [
    "group_age_df.drop(columns=['20', '21', '22', '23', '24', ], axis=1, inplace=True)\n",
    "\n",
    "group_age_df.head(3)"
   ]
  },
  {
   "cell_type": "code",
   "execution_count": null,
   "metadata": {},
   "outputs": [],
   "source": [
    "group_age_df.to_csv('C:\\\\Users\\\\home\\\\Documents\\\\Monu-Hw [KD]\\\\project_3\\\\static\\\\data\\\\Vic_Group_Age.csv', index=False)"
   ]
  },
  {
   "cell_type": "code",
   "execution_count": null,
   "metadata": {},
   "outputs": [],
   "source": [
    "df = pd.read_csv('C:\\\\Users\\\\home\\\\Documents\\\\Monu-Hw [KD]\\\\project_3\\\\static\\\\data\\\\ABS_C16_G51_SA_15022021141746327.csv')"
   ]
  },
  {
   "cell_type": "code",
   "execution_count": null,
   "metadata": {},
   "outputs": [],
   "source": [
    "df.shape"
   ]
  },
  {
   "cell_type": "code",
   "execution_count": null,
   "metadata": {},
   "outputs": [],
   "source": [
    "df.columns"
   ]
  },
  {
   "cell_type": "code",
   "execution_count": null,
   "metadata": {},
   "outputs": [],
   "source": [
    "df.head(3)"
   ]
  },
  {
   "cell_type": "code",
   "execution_count": null,
   "metadata": {},
   "outputs": [],
   "source": [
    "df.drop(columns=['AGE', 'Age','SEX_ABS', 'INDP_C16', 'STATE', 'State', 'REGIONTYPE', 'Geography Level', 'ASGS_2016',\n",
    "                'TIME', 'Census year', 'Flag Codes', 'Flags'], axis=1, inplace=True)\n",
    "\n",
    "df.head(3)"
   ]
  },
  {
   "cell_type": "code",
   "execution_count": null,
   "metadata": {},
   "outputs": [],
   "source": [
    "df.drop(columns=['AGE', 'Age'], axis = 1, inplace=True)"
   ]
  },
  {
   "cell_type": "code",
   "execution_count": null,
   "metadata": {},
   "outputs": [],
   "source": [
    "df.head()"
   ]
  },
  {
   "cell_type": "code",
   "execution_count": null,
   "metadata": {},
   "outputs": [],
   "source": [
    "df.shape"
   ]
  },
  {
   "cell_type": "code",
   "execution_count": null,
   "metadata": {},
   "outputs": [],
   "source": [
    "# filter out unused rows\n",
    "\n",
    "df = df.loc[df['Region'] != \"Victoria\"]\n",
    "df = df.loc[df['Region'] != \"Greater Melbourne\"]\n",
    "df = df.loc[df['Sex'] !='Persons']\n",
    "df = df.loc[df['Industry of Employment'] !='Total']\n"
   ]
  },
  {
   "cell_type": "code",
   "execution_count": null,
   "metadata": {},
   "outputs": [],
   "source": [
    "df.shape"
   ]
  },
  {
   "cell_type": "code",
   "execution_count": null,
   "metadata": {},
   "outputs": [],
   "source": [
    "#df.to_csv('C:\\\\Users\\\\home\\\\Documents\\\\Monu-Hw [KD]\\\\project_3\\\\static\\\\data\\\\Vic_Industry_Employment.csv', index=False)"
   ]
  },
  {
   "cell_type": "code",
   "execution_count": 1,
   "metadata": {},
   "outputs": [],
   "source": [
    "import pandas as pd"
   ]
  },
  {
   "cell_type": "code",
   "execution_count": 2,
   "metadata": {},
   "outputs": [],
   "source": [
    "df = pd.read_csv('C:\\\\Users\\\\home\\\\Documents\\\\Monu-Hw [KD]\\\\project_3\\\\static\\\\data\\\\ABS_C16_G57_SA_15022021212345508.csv')"
   ]
  },
  {
   "cell_type": "code",
   "execution_count": 3,
   "metadata": {},
   "outputs": [
    {
     "data": {
      "text/plain": [
       "(92800, 17)"
      ]
     },
     "execution_count": 3,
     "metadata": {},
     "output_type": "execute_result"
    }
   ],
   "source": [
    "df.shape"
   ]
  },
  {
   "cell_type": "code",
   "execution_count": 4,
   "metadata": {},
   "outputs": [
    {
     "data": {
      "text/plain": [
       "Index(['OCCP_C16', 'Occupation', 'SEX_ABS', 'Sex', 'AGE', 'Age', 'STATE',\n",
       "       'State', 'REGIONTYPE', 'Geography Level', 'ASGS_2016', 'Region', 'TIME',\n",
       "       'Census year', 'Value', 'Flag Codes', 'Flags'],\n",
       "      dtype='object')"
      ]
     },
     "execution_count": 4,
     "metadata": {},
     "output_type": "execute_result"
    }
   ],
   "source": [
    "df.columns"
   ]
  },
  {
   "cell_type": "code",
   "execution_count": 5,
   "metadata": {},
   "outputs": [
    {
     "data": {
      "text/html": [
       "<div>\n",
       "<style scoped>\n",
       "    .dataframe tbody tr th:only-of-type {\n",
       "        vertical-align: middle;\n",
       "    }\n",
       "\n",
       "    .dataframe tbody tr th {\n",
       "        vertical-align: top;\n",
       "    }\n",
       "\n",
       "    .dataframe thead th {\n",
       "        text-align: right;\n",
       "    }\n",
       "</style>\n",
       "<table border=\"1\" class=\"dataframe\">\n",
       "  <thead>\n",
       "    <tr style=\"text-align: right;\">\n",
       "      <th></th>\n",
       "      <th>Occupation</th>\n",
       "      <th>Sex</th>\n",
       "      <th>Age</th>\n",
       "      <th>Region</th>\n",
       "      <th>Value</th>\n",
       "    </tr>\n",
       "  </thead>\n",
       "  <tbody>\n",
       "    <tr>\n",
       "      <th>0</th>\n",
       "      <td>Managers</td>\n",
       "      <td>Males</td>\n",
       "      <td>15 - 19</td>\n",
       "      <td>Brunswick</td>\n",
       "      <td>3</td>\n",
       "    </tr>\n",
       "    <tr>\n",
       "      <th>1</th>\n",
       "      <td>Managers</td>\n",
       "      <td>Females</td>\n",
       "      <td>15 - 19</td>\n",
       "      <td>Brunswick</td>\n",
       "      <td>0</td>\n",
       "    </tr>\n",
       "    <tr>\n",
       "      <th>2</th>\n",
       "      <td>Professionals</td>\n",
       "      <td>Males</td>\n",
       "      <td>15 - 19</td>\n",
       "      <td>Brunswick</td>\n",
       "      <td>5</td>\n",
       "    </tr>\n",
       "  </tbody>\n",
       "</table>\n",
       "</div>"
      ],
      "text/plain": [
       "      Occupation      Sex      Age     Region  Value\n",
       "0       Managers    Males  15 - 19  Brunswick      3\n",
       "1       Managers  Females  15 - 19  Brunswick      0\n",
       "2  Professionals    Males  15 - 19  Brunswick      5"
      ]
     },
     "execution_count": 5,
     "metadata": {},
     "output_type": "execute_result"
    }
   ],
   "source": [
    "df.drop(columns=['OCCP_C16', 'SEX_ABS',  'AGE',  'STATE', 'State',\n",
    "        'REGIONTYPE', 'Geography Level', 'ASGS_2016', 'TIME',\n",
    "       'Census year', 'Flag Codes', 'Flags'], axis=1, inplace=True)\n",
    "\n",
    "df.head(3)"
   ]
  },
  {
   "cell_type": "code",
   "execution_count": 6,
   "metadata": {},
   "outputs": [],
   "source": [
    "df = df.loc[df['Occupation'] != \"Total\"]"
   ]
  },
  {
   "cell_type": "code",
   "execution_count": 7,
   "metadata": {},
   "outputs": [
    {
     "data": {
      "text/plain": [
       "(83520, 5)"
      ]
     },
     "execution_count": 7,
     "metadata": {},
     "output_type": "execute_result"
    }
   ],
   "source": [
    "df.shape"
   ]
  },
  {
   "cell_type": "code",
   "execution_count": 8,
   "metadata": {},
   "outputs": [],
   "source": [
    "#df.to_csv('C:\\\\Users\\\\home\\\\Documents\\\\Monu-Hw [KD]\\\\project_3\\\\static\\\\data\\\\Vic_Occupation.csv', index=False)"
   ]
  },
  {
   "cell_type": "code",
   "execution_count": 9,
   "metadata": {},
   "outputs": [],
   "source": [
    "df = pd.read_csv('C:\\\\Users\\\\home\\\\Documents\\\\Monu-Hw [KD]\\\\project_3\\\\static\\\\data\\\\ABS_C16_T21_SA_15022021213830336.csv')"
   ]
  },
  {
   "cell_type": "code",
   "execution_count": 10,
   "metadata": {},
   "outputs": [
    {
     "data": {
      "text/plain": [
       "(81025, 15)"
      ]
     },
     "execution_count": 10,
     "metadata": {},
     "output_type": "execute_result"
    }
   ],
   "source": [
    "df.shape"
   ]
  },
  {
   "cell_type": "code",
   "execution_count": 11,
   "metadata": {},
   "outputs": [
    {
     "data": {
      "text/plain": [
       "Index(['HHCD_2016', 'Household Composition', 'HIND_2016',\n",
       "       'Total Household Income (weekly)', 'STATE', 'State', 'REGIONTYPE',\n",
       "       'Geography Level', 'ASGS_2016', 'Region', 'TIME', 'Census year',\n",
       "       'Value', 'Flag Codes', 'Flags'],\n",
       "      dtype='object')"
      ]
     },
     "execution_count": 11,
     "metadata": {},
     "output_type": "execute_result"
    }
   ],
   "source": [
    "df.columns"
   ]
  },
  {
   "cell_type": "code",
   "execution_count": 12,
   "metadata": {},
   "outputs": [
    {
     "data": {
      "text/html": [
       "<div>\n",
       "<style scoped>\n",
       "    .dataframe tbody tr th:only-of-type {\n",
       "        vertical-align: middle;\n",
       "    }\n",
       "\n",
       "    .dataframe tbody tr th {\n",
       "        vertical-align: top;\n",
       "    }\n",
       "\n",
       "    .dataframe thead th {\n",
       "        text-align: right;\n",
       "    }\n",
       "</style>\n",
       "<table border=\"1\" class=\"dataframe\">\n",
       "  <thead>\n",
       "    <tr style=\"text-align: right;\">\n",
       "      <th></th>\n",
       "      <th>Total Household Income (weekly)</th>\n",
       "      <th>Region</th>\n",
       "      <th>Value</th>\n",
       "    </tr>\n",
       "  </thead>\n",
       "  <tbody>\n",
       "    <tr>\n",
       "      <th>0</th>\n",
       "      <td>Total</td>\n",
       "      <td>Brunswick</td>\n",
       "      <td>10653</td>\n",
       "    </tr>\n",
       "    <tr>\n",
       "      <th>1</th>\n",
       "      <td>$1,000-$1,249 ($52,000-$64,999)</td>\n",
       "      <td>Brunswick</td>\n",
       "      <td>731</td>\n",
       "    </tr>\n",
       "    <tr>\n",
       "      <th>2</th>\n",
       "      <td>$1,250-$1,499 ($65,000-$77,999)</td>\n",
       "      <td>Brunswick</td>\n",
       "      <td>752</td>\n",
       "    </tr>\n",
       "  </tbody>\n",
       "</table>\n",
       "</div>"
      ],
      "text/plain": [
       "   Total Household Income (weekly)     Region  Value\n",
       "0                            Total  Brunswick  10653\n",
       "1  $1,000-$1,249 ($52,000-$64,999)  Brunswick    731\n",
       "2  $1,250-$1,499 ($65,000-$77,999)  Brunswick    752"
      ]
     },
     "execution_count": 12,
     "metadata": {},
     "output_type": "execute_result"
    }
   ],
   "source": [
    "df.drop(columns=['HHCD_2016', 'Household Composition', 'HIND_2016',\n",
    "               'STATE', 'State', 'REGIONTYPE','Geography Level', 'ASGS_2016', \n",
    "               'TIME', 'Census year', 'Flag Codes', 'Flags'], axis=1, inplace=True)\n",
    "\n",
    "df.head(3)"
   ]
  },
  {
   "cell_type": "code",
   "execution_count": 13,
   "metadata": {},
   "outputs": [],
   "source": [
    "df = df.rename(columns={'Total Household Income (weekly)':'Weekly Income'})"
   ]
  },
  {
   "cell_type": "code",
   "execution_count": 15,
   "metadata": {},
   "outputs": [],
   "source": [
    "df = df.loc[df['Weekly Income'] != 'Total']"
   ]
  },
  {
   "cell_type": "code",
   "execution_count": 16,
   "metadata": {},
   "outputs": [
    {
     "data": {
      "text/plain": [
       "(77784, 3)"
      ]
     },
     "execution_count": 16,
     "metadata": {},
     "output_type": "execute_result"
    }
   ],
   "source": [
    "df.shape"
   ]
  },
  {
   "cell_type": "code",
   "execution_count": 17,
   "metadata": {},
   "outputs": [],
   "source": [
    "df.to_csv('C:\\\\Users\\\\home\\\\Documents\\\\Monu-Hw [KD]\\\\project_3\\\\static\\\\data\\\\Vic_Weekly_Income.csv', index=False)"
   ]
  },
  {
   "cell_type": "code",
   "execution_count": 36,
   "metadata": {},
   "outputs": [],
   "source": [
    "# load house data json\n",
    "df = pd.read_json('C:\\\\Users\\\\home\\\\Documents\\\\Monu-Hw [KD]\\\\project_3\\\\static\\\\data\\\\vic_suburb_stats.json')"
   ]
  },
  {
   "cell_type": "code",
   "execution_count": 49,
   "metadata": {},
   "outputs": [
    {
     "data": {
      "text/plain": [
       "(3, 208)"
      ]
     },
     "execution_count": 49,
     "metadata": {},
     "output_type": "execute_result"
    }
   ],
   "source": [
    "df.shape"
   ]
  },
  {
   "cell_type": "code",
   "execution_count": 50,
   "metadata": {},
   "outputs": [
    {
     "data": {
      "text/html": [
       "<div>\n",
       "<style scoped>\n",
       "    .dataframe tbody tr th:only-of-type {\n",
       "        vertical-align: middle;\n",
       "    }\n",
       "\n",
       "    .dataframe tbody tr th {\n",
       "        vertical-align: top;\n",
       "    }\n",
       "\n",
       "    .dataframe thead th {\n",
       "        text-align: right;\n",
       "    }\n",
       "</style>\n",
       "<table border=\"1\" class=\"dataframe\">\n",
       "  <thead>\n",
       "    <tr style=\"text-align: right;\">\n",
       "      <th></th>\n",
       "      <th>ABBOTSFORD-3067</th>\n",
       "      <th>ABERFELDIE-3040</th>\n",
       "      <th>AINTREE-3336</th>\n",
       "      <th>ALBANVALE-3021</th>\n",
       "      <th>ALBION-3020</th>\n",
       "      <th>ALPHINGTON-3078</th>\n",
       "      <th>ALTONA-3018</th>\n",
       "      <th>ARDEER-3022</th>\n",
       "      <th>ARMADALE-3143</th>\n",
       "      <th>ASHBURTON-3147</th>\n",
       "      <th>...</th>\n",
       "      <th>WARRANDYTE-3113</th>\n",
       "      <th>WARRANWOOD-3134</th>\n",
       "      <th>WATERWAYS-3195</th>\n",
       "      <th>WATSONIA-3087</th>\n",
       "      <th>WERRIBEE-3030</th>\n",
       "      <th>WESTMEADOWS-3049</th>\n",
       "      <th>WILLIAMSTOWN-3016</th>\n",
       "      <th>WINDSOR-3181</th>\n",
       "      <th>WOLLERT-3750</th>\n",
       "      <th>YALLAMBIE-3085</th>\n",
       "    </tr>\n",
       "  </thead>\n",
       "  <tbody>\n",
       "    <tr>\n",
       "      <th>details</th>\n",
       "      <td>{'metro': 'Melbourne', 'postcode': '3067', 'st...</td>\n",
       "      <td>{'metro': 'Melbourne', 'postcode': '3040', 'st...</td>\n",
       "      <td>{'metro': None, 'postcode': '3336', 'state': '...</td>\n",
       "      <td>{'metro': 'Melbourne', 'postcode': '3021', 'st...</td>\n",
       "      <td>{'metro': 'Melbourne', 'postcode': '3020', 'st...</td>\n",
       "      <td>{'metro': 'Melbourne', 'postcode': '3078', 'st...</td>\n",
       "      <td>{'metro': 'Melbourne', 'postcode': '3018', 'st...</td>\n",
       "      <td>{'metro': 'Melbourne', 'postcode': '3022', 'st...</td>\n",
       "      <td>{'metro': 'Melbourne', 'postcode': '3143', 'st...</td>\n",
       "      <td>{'metro': 'Melbourne', 'postcode': '3147', 'st...</td>\n",
       "      <td>...</td>\n",
       "      <td>{'metro': 'Melbourne', 'postcode': '3113', 'st...</td>\n",
       "      <td>{'metro': 'Melbourne', 'postcode': '3134', 'st...</td>\n",
       "      <td>{'metro': 'Melbourne', 'postcode': '3195', 'st...</td>\n",
       "      <td>{'metro': 'Melbourne', 'postcode': '3087', 'st...</td>\n",
       "      <td>{'metro': 'Melbourne', 'postcode': '3030', 'st...</td>\n",
       "      <td>{'metro': 'Melbourne', 'postcode': '3049', 'st...</td>\n",
       "      <td>{'metro': 'Melbourne', 'postcode': '3016', 'st...</td>\n",
       "      <td>{'metro': 'Melbourne', 'postcode': '3181', 'st...</td>\n",
       "      <td>{'metro': 'Melbourne', 'postcode': '3750', 'st...</td>\n",
       "      <td>{'metro': 'Melbourne', 'postcode': '3085', 'st...</td>\n",
       "    </tr>\n",
       "    <tr>\n",
       "      <th>processed_date</th>\n",
       "      <td>{'rental': '2018-11-13', 'sale': '2018-11-12',...</td>\n",
       "      <td>{'rental': '2018-11-13', 'sale': '2018-11-12',...</td>\n",
       "      <td>{'rental': '2018-11-13', 'sale': '2018-11-12',...</td>\n",
       "      <td>{'rental': '2018-11-13', 'sale': '2018-11-12',...</td>\n",
       "      <td>{'rental': '2018-11-13', 'sale': '2018-11-12',...</td>\n",
       "      <td>{'rental': '2018-11-13', 'sale': '2018-11-12',...</td>\n",
       "      <td>{'rental': '2018-11-13', 'sale': '2018-11-12',...</td>\n",
       "      <td>{'rental': '2018-11-13', 'sale': '2018-11-12',...</td>\n",
       "      <td>{'rental': '2018-11-13', 'sale': '2018-11-12',...</td>\n",
       "      <td>{'rental': '2018-11-13', 'sale': '2018-11-12',...</td>\n",
       "      <td>...</td>\n",
       "      <td>{'rental': '2018-11-13', 'sale': '2018-11-12',...</td>\n",
       "      <td>{'rental': '2018-11-13', 'sale': '2018-11-12',...</td>\n",
       "      <td>{'rental': '2018-11-13', 'sale': '2018-11-12',...</td>\n",
       "      <td>{'rental': '2018-11-13', 'sale': '2018-11-12',...</td>\n",
       "      <td>{'rental': '2018-11-13', 'sale': '2018-11-12',...</td>\n",
       "      <td>{'rental': '2018-11-13', 'sale': '2018-11-12',...</td>\n",
       "      <td>{'rental': '2018-11-13', 'sale': '2018-11-12',...</td>\n",
       "      <td>{'rental': '2018-11-13', 'sale': '2018-11-12',...</td>\n",
       "      <td>{'rental': '2018-11-13', 'sale': '2018-11-12',...</td>\n",
       "      <td>{'rental': '2018-11-13', 'sale': '2018-11-12',...</td>\n",
       "    </tr>\n",
       "    <tr>\n",
       "      <th>property_types</th>\n",
       "      <td>{'HOUSE': {'bedrooms': {'1': {'investor_metric...</td>\n",
       "      <td>{'HOUSE': {'bedrooms': {'1': {'investor_metric...</td>\n",
       "      <td>{'HOUSE': {'bedrooms': {'3': {'investor_metric...</td>\n",
       "      <td>{'HOUSE': {'bedrooms': {'1': {'investor_metric...</td>\n",
       "      <td>{'HOUSE': {'bedrooms': {'1': {'investor_metric...</td>\n",
       "      <td>{'HOUSE': {'bedrooms': {'1': {'investor_metric...</td>\n",
       "      <td>{'HOUSE': {'bedrooms': {'1': {'investor_metric...</td>\n",
       "      <td>{'HOUSE': {'bedrooms': {'2': {'investor_metric...</td>\n",
       "      <td>{'HOUSE': {'bedrooms': {'1': {'investor_metric...</td>\n",
       "      <td>{'HOUSE': {'bedrooms': {'2': {'investor_metric...</td>\n",
       "      <td>...</td>\n",
       "      <td>{'HOUSE': {'bedrooms': {'1': {'investor_metric...</td>\n",
       "      <td>{'HOUSE': {'bedrooms': {'3': {'investor_metric...</td>\n",
       "      <td>{'HOUSE': {'bedrooms': {'3': {'investor_metric...</td>\n",
       "      <td>{'HOUSE': {'bedrooms': {'1': {'investor_metric...</td>\n",
       "      <td>{'HOUSE': {'bedrooms': {'0': {'investor_metric...</td>\n",
       "      <td>{'HOUSE': {'bedrooms': {'1': {'investor_metric...</td>\n",
       "      <td>{'HOUSE': {'bedrooms': {'0': {'investor_metric...</td>\n",
       "      <td>{'HOUSE': {'bedrooms': {'1': {'investor_metric...</td>\n",
       "      <td>{'HOUSE': {'bedrooms': {'0': {'investor_metric...</td>\n",
       "      <td>{'HOUSE': {'bedrooms': {'2': {'investor_metric...</td>\n",
       "    </tr>\n",
       "  </tbody>\n",
       "</table>\n",
       "<p>3 rows × 208 columns</p>\n",
       "</div>"
      ],
      "text/plain": [
       "                                                  ABBOTSFORD-3067  \\\n",
       "details         {'metro': 'Melbourne', 'postcode': '3067', 'st...   \n",
       "processed_date  {'rental': '2018-11-13', 'sale': '2018-11-12',...   \n",
       "property_types  {'HOUSE': {'bedrooms': {'1': {'investor_metric...   \n",
       "\n",
       "                                                  ABERFELDIE-3040  \\\n",
       "details         {'metro': 'Melbourne', 'postcode': '3040', 'st...   \n",
       "processed_date  {'rental': '2018-11-13', 'sale': '2018-11-12',...   \n",
       "property_types  {'HOUSE': {'bedrooms': {'1': {'investor_metric...   \n",
       "\n",
       "                                                     AINTREE-3336  \\\n",
       "details         {'metro': None, 'postcode': '3336', 'state': '...   \n",
       "processed_date  {'rental': '2018-11-13', 'sale': '2018-11-12',...   \n",
       "property_types  {'HOUSE': {'bedrooms': {'3': {'investor_metric...   \n",
       "\n",
       "                                                   ALBANVALE-3021  \\\n",
       "details         {'metro': 'Melbourne', 'postcode': '3021', 'st...   \n",
       "processed_date  {'rental': '2018-11-13', 'sale': '2018-11-12',...   \n",
       "property_types  {'HOUSE': {'bedrooms': {'1': {'investor_metric...   \n",
       "\n",
       "                                                      ALBION-3020  \\\n",
       "details         {'metro': 'Melbourne', 'postcode': '3020', 'st...   \n",
       "processed_date  {'rental': '2018-11-13', 'sale': '2018-11-12',...   \n",
       "property_types  {'HOUSE': {'bedrooms': {'1': {'investor_metric...   \n",
       "\n",
       "                                                  ALPHINGTON-3078  \\\n",
       "details         {'metro': 'Melbourne', 'postcode': '3078', 'st...   \n",
       "processed_date  {'rental': '2018-11-13', 'sale': '2018-11-12',...   \n",
       "property_types  {'HOUSE': {'bedrooms': {'1': {'investor_metric...   \n",
       "\n",
       "                                                      ALTONA-3018  \\\n",
       "details         {'metro': 'Melbourne', 'postcode': '3018', 'st...   \n",
       "processed_date  {'rental': '2018-11-13', 'sale': '2018-11-12',...   \n",
       "property_types  {'HOUSE': {'bedrooms': {'1': {'investor_metric...   \n",
       "\n",
       "                                                      ARDEER-3022  \\\n",
       "details         {'metro': 'Melbourne', 'postcode': '3022', 'st...   \n",
       "processed_date  {'rental': '2018-11-13', 'sale': '2018-11-12',...   \n",
       "property_types  {'HOUSE': {'bedrooms': {'2': {'investor_metric...   \n",
       "\n",
       "                                                    ARMADALE-3143  \\\n",
       "details         {'metro': 'Melbourne', 'postcode': '3143', 'st...   \n",
       "processed_date  {'rental': '2018-11-13', 'sale': '2018-11-12',...   \n",
       "property_types  {'HOUSE': {'bedrooms': {'1': {'investor_metric...   \n",
       "\n",
       "                                                   ASHBURTON-3147  ...  \\\n",
       "details         {'metro': 'Melbourne', 'postcode': '3147', 'st...  ...   \n",
       "processed_date  {'rental': '2018-11-13', 'sale': '2018-11-12',...  ...   \n",
       "property_types  {'HOUSE': {'bedrooms': {'2': {'investor_metric...  ...   \n",
       "\n",
       "                                                  WARRANDYTE-3113  \\\n",
       "details         {'metro': 'Melbourne', 'postcode': '3113', 'st...   \n",
       "processed_date  {'rental': '2018-11-13', 'sale': '2018-11-12',...   \n",
       "property_types  {'HOUSE': {'bedrooms': {'1': {'investor_metric...   \n",
       "\n",
       "                                                  WARRANWOOD-3134  \\\n",
       "details         {'metro': 'Melbourne', 'postcode': '3134', 'st...   \n",
       "processed_date  {'rental': '2018-11-13', 'sale': '2018-11-12',...   \n",
       "property_types  {'HOUSE': {'bedrooms': {'3': {'investor_metric...   \n",
       "\n",
       "                                                   WATERWAYS-3195  \\\n",
       "details         {'metro': 'Melbourne', 'postcode': '3195', 'st...   \n",
       "processed_date  {'rental': '2018-11-13', 'sale': '2018-11-12',...   \n",
       "property_types  {'HOUSE': {'bedrooms': {'3': {'investor_metric...   \n",
       "\n",
       "                                                    WATSONIA-3087  \\\n",
       "details         {'metro': 'Melbourne', 'postcode': '3087', 'st...   \n",
       "processed_date  {'rental': '2018-11-13', 'sale': '2018-11-12',...   \n",
       "property_types  {'HOUSE': {'bedrooms': {'1': {'investor_metric...   \n",
       "\n",
       "                                                    WERRIBEE-3030  \\\n",
       "details         {'metro': 'Melbourne', 'postcode': '3030', 'st...   \n",
       "processed_date  {'rental': '2018-11-13', 'sale': '2018-11-12',...   \n",
       "property_types  {'HOUSE': {'bedrooms': {'0': {'investor_metric...   \n",
       "\n",
       "                                                 WESTMEADOWS-3049  \\\n",
       "details         {'metro': 'Melbourne', 'postcode': '3049', 'st...   \n",
       "processed_date  {'rental': '2018-11-13', 'sale': '2018-11-12',...   \n",
       "property_types  {'HOUSE': {'bedrooms': {'1': {'investor_metric...   \n",
       "\n",
       "                                                WILLIAMSTOWN-3016  \\\n",
       "details         {'metro': 'Melbourne', 'postcode': '3016', 'st...   \n",
       "processed_date  {'rental': '2018-11-13', 'sale': '2018-11-12',...   \n",
       "property_types  {'HOUSE': {'bedrooms': {'0': {'investor_metric...   \n",
       "\n",
       "                                                     WINDSOR-3181  \\\n",
       "details         {'metro': 'Melbourne', 'postcode': '3181', 'st...   \n",
       "processed_date  {'rental': '2018-11-13', 'sale': '2018-11-12',...   \n",
       "property_types  {'HOUSE': {'bedrooms': {'1': {'investor_metric...   \n",
       "\n",
       "                                                     WOLLERT-3750  \\\n",
       "details         {'metro': 'Melbourne', 'postcode': '3750', 'st...   \n",
       "processed_date  {'rental': '2018-11-13', 'sale': '2018-11-12',...   \n",
       "property_types  {'HOUSE': {'bedrooms': {'0': {'investor_metric...   \n",
       "\n",
       "                                                   YALLAMBIE-3085  \n",
       "details         {'metro': 'Melbourne', 'postcode': '3085', 'st...  \n",
       "processed_date  {'rental': '2018-11-13', 'sale': '2018-11-12',...  \n",
       "property_types  {'HOUSE': {'bedrooms': {'2': {'investor_metric...  \n",
       "\n",
       "[3 rows x 208 columns]"
      ]
     },
     "execution_count": 50,
     "metadata": {},
     "output_type": "execute_result"
    }
   ],
   "source": [
    "df.head(3)"
   ]
  },
  {
   "cell_type": "code",
   "execution_count": 38,
   "metadata": {},
   "outputs": [
    {
     "data": {
      "text/plain": [
       "Index(['ABBOTSFORD-3067', 'ABERFELDIE-3040', 'AINTREE-3336', 'ALBANVALE-3021',\n",
       "       'ALBION-3020', 'ALPHINGTON-3078', 'ALTONA-3018', 'ARDEER-3022',\n",
       "       'ARMADALE-3143', 'ASHBURTON-3147',\n",
       "       ...\n",
       "       'WARRANDYTE-3113', 'WARRANWOOD-3134', 'WATERWAYS-3195', 'WATSONIA-3087',\n",
       "       'WERRIBEE-3030', 'WESTMEADOWS-3049', 'WILLIAMSTOWN-3016',\n",
       "       'WINDSOR-3181', 'WOLLERT-3750', 'YALLAMBIE-3085'],\n",
       "      dtype='object', length=208)"
      ]
     },
     "execution_count": 38,
     "metadata": {},
     "output_type": "execute_result"
    }
   ],
   "source": [
    "df.columns"
   ]
  },
  {
   "cell_type": "code",
   "execution_count": 196,
   "metadata": {},
   "outputs": [
    {
     "data": {
      "text/plain": [
       "'Abbotsford'"
      ]
     },
     "execution_count": 196,
     "metadata": {},
     "output_type": "execute_result"
    }
   ],
   "source": [
    "df['ABBOTSFORD-3067']['details']['suburb_name']\n",
    "# df['ABBOTSFORD-3067']['details']['postcode']"
   ]
  },
  {
   "cell_type": "code",
   "execution_count": 197,
   "metadata": {},
   "outputs": [
    {
     "data": {
      "text/plain": [
       "'3067'"
      ]
     },
     "execution_count": 197,
     "metadata": {},
     "output_type": "execute_result"
    }
   ],
   "source": [
    "df['ABBOTSFORD-3067']['details']['postcode']"
   ]
  },
  {
   "cell_type": "code",
   "execution_count": 198,
   "metadata": {},
   "outputs": [
    {
     "data": {
      "text/plain": [
       "1220000.0"
      ]
     },
     "execution_count": 198,
     "metadata": {},
     "output_type": "execute_result"
    }
   ],
   "source": [
    "\n",
    "df['ABBOTSFORD-3067']['property_types']['HOUSE']['bedrooms']['ALL']['investor_metrics']['median_sold_price']\n"
   ]
  },
  {
   "cell_type": "code",
   "execution_count": 129,
   "metadata": {},
   "outputs": [],
   "source": [
    "f1_df = df.copy()"
   ]
  },
  {
   "cell_type": "code",
   "execution_count": 87,
   "metadata": {},
   "outputs": [],
   "source": [
    "# looping through dataset\n",
    "\n",
    "# for i in range(1, len(df.columns)):\n",
    "#     print(df[i])#['details']['postcode'])"
   ]
  },
  {
   "cell_type": "code",
   "execution_count": 211,
   "metadata": {},
   "outputs": [
    {
     "data": {
      "text/html": [
       "<div>\n",
       "<style scoped>\n",
       "    .dataframe tbody tr th:only-of-type {\n",
       "        vertical-align: middle;\n",
       "    }\n",
       "\n",
       "    .dataframe tbody tr th {\n",
       "        vertical-align: top;\n",
       "    }\n",
       "\n",
       "    .dataframe thead th {\n",
       "        text-align: right;\n",
       "    }\n",
       "</style>\n",
       "<table border=\"1\" class=\"dataframe\">\n",
       "  <thead>\n",
       "    <tr style=\"text-align: right;\">\n",
       "      <th></th>\n",
       "      <th>details</th>\n",
       "      <th>processed_date</th>\n",
       "      <th>property_types</th>\n",
       "    </tr>\n",
       "  </thead>\n",
       "  <tbody>\n",
       "    <tr>\n",
       "      <th>ABBOTSFORD-3067</th>\n",
       "      <td>{'metro': 'Melbourne', 'postcode': '3067', 'st...</td>\n",
       "      <td>{'rental': '2018-11-13', 'sale': '2018-11-12',...</td>\n",
       "      <td>{'HOUSE': {'bedrooms': {'1': {'investor_metric...</td>\n",
       "    </tr>\n",
       "    <tr>\n",
       "      <th>ABERFELDIE-3040</th>\n",
       "      <td>{'metro': 'Melbourne', 'postcode': '3040', 'st...</td>\n",
       "      <td>{'rental': '2018-11-13', 'sale': '2018-11-12',...</td>\n",
       "      <td>{'HOUSE': {'bedrooms': {'1': {'investor_metric...</td>\n",
       "    </tr>\n",
       "    <tr>\n",
       "      <th>AINTREE-3336</th>\n",
       "      <td>{'metro': None, 'postcode': '3336', 'state': '...</td>\n",
       "      <td>{'rental': '2018-11-13', 'sale': '2018-11-12',...</td>\n",
       "      <td>{'HOUSE': {'bedrooms': {'3': {'investor_metric...</td>\n",
       "    </tr>\n",
       "  </tbody>\n",
       "</table>\n",
       "</div>"
      ],
      "text/plain": [
       "                                                           details  \\\n",
       "ABBOTSFORD-3067  {'metro': 'Melbourne', 'postcode': '3067', 'st...   \n",
       "ABERFELDIE-3040  {'metro': 'Melbourne', 'postcode': '3040', 'st...   \n",
       "AINTREE-3336     {'metro': None, 'postcode': '3336', 'state': '...   \n",
       "\n",
       "                                                    processed_date  \\\n",
       "ABBOTSFORD-3067  {'rental': '2018-11-13', 'sale': '2018-11-12',...   \n",
       "ABERFELDIE-3040  {'rental': '2018-11-13', 'sale': '2018-11-12',...   \n",
       "AINTREE-3336     {'rental': '2018-11-13', 'sale': '2018-11-12',...   \n",
       "\n",
       "                                                    property_types  \n",
       "ABBOTSFORD-3067  {'HOUSE': {'bedrooms': {'1': {'investor_metric...  \n",
       "ABERFELDIE-3040  {'HOUSE': {'bedrooms': {'1': {'investor_metric...  \n",
       "AINTREE-3336     {'HOUSE': {'bedrooms': {'3': {'investor_metric...  "
      ]
     },
     "execution_count": 211,
     "metadata": {},
     "output_type": "execute_result"
    }
   ],
   "source": [
    "f2_df = f1_df.T\n",
    "f2_df.head(3)\n",
    "#pivot_table(index=['Area'], columns='Group Age',\n",
    "#                      values='2016', aggfunc='first').reset_index()"
   ]
  },
  {
   "cell_type": "code",
   "execution_count": 231,
   "metadata": {},
   "outputs": [
    {
     "data": {
      "text/plain": [
       "790000.0"
      ]
     },
     "execution_count": 231,
     "metadata": {},
     "output_type": "execute_result"
    }
   ],
   "source": [
    "\n",
    "# looping through dataset and store suburb, median price sold into DataFrame\n",
    "\n",
    "subList = [];\n",
    "medianPrice = [];\n",
    "\n",
    "for i in range(0, len(f2_df)):\n",
    "    subName = f2_df['details'][i]['suburb_name']\n",
    "#     print(f2_df['details'][i]['suburb_name'])\n",
    "#     print(f2_df['property_types'][i]['HOUSE']['bedrooms']['ALL']['investor_metrics']['median_sold_price'])\n",
    "    subPrice = f2_df['property_types'][i]['HOUSE']['bedrooms']['ALL']['investor_metrics']['median_sold_price']\n",
    "    subList.append(subName)\n",
    "    medianPrice.append(subPrice)\n"
   ]
  },
  {
   "cell_type": "code",
   "execution_count": 232,
   "metadata": {},
   "outputs": [
    {
     "data": {
      "text/plain": [
       "[1220000.0,\n",
       " 1540000.0,\n",
       " 655000.0,\n",
       " 547500.0,\n",
       " 746000.0,\n",
       " 1800000.0,\n",
       " 887000.0,\n",
       " None,\n",
       " 1656000.0,\n",
       " 1740000.0,\n",
       " 1270000.0,\n",
       " 1076000.0,\n",
       " 727500.0,\n",
       " 1270000.0,\n",
       " 2330000.0,\n",
       " 765000.0,\n",
       " 735000.0,\n",
       " 1710000.0,\n",
       " 676016.0,\n",
       " 870000.0,\n",
       " 1393750.0,\n",
       " 699000.0,\n",
       " 650000.0,\n",
       " 1335000.0,\n",
       " 982500.0,\n",
       " 885000.0,\n",
       " 750000.0,\n",
       " 2574000.0,\n",
       " 747900.0,\n",
       " 2297500.0,\n",
       " 573750.0,\n",
       " 485000.0,\n",
       " 737000.0,\n",
       " 1077500.0,\n",
       " 1233000.0,\n",
       " 730000.0,\n",
       " 1270000.0,\n",
       " 620000.0,\n",
       " 730000.0,\n",
       " 2075000.0,\n",
       " 570000.0,\n",
       " 2486500.0,\n",
       " 1184010.0,\n",
       " 1350000.0,\n",
       " 807000.0,\n",
       " 1710500.0,\n",
       " 1109000.0,\n",
       " 861000.0,\n",
       " 1052500.0,\n",
       " 807500.0,\n",
       " 1050000.0,\n",
       " 460000.0,\n",
       " 872000.0,\n",
       " 1087250.0,\n",
       " 482500.0,\n",
       " 556000.0,\n",
       " 540000.0,\n",
       " 1265500.0,\n",
       " 485000.0,\n",
       " 631000.0,\n",
       " 2606500.0,\n",
       " 582500.0,\n",
       " 612000.0,\n",
       " 1900000.0,\n",
       " 1350000.0,\n",
       " 1200000.0,\n",
       " 610000.0,\n",
       " 540000.0,\n",
       " 1950000.0,\n",
       " 955000.0,\n",
       " 1840000.0,\n",
       " 952500.0,\n",
       " 2060000.0,\n",
       " 750000.0,\n",
       " 610000.0,\n",
       " 1465000.0,\n",
       " 627500.0,\n",
       " 1308500.0,\n",
       " 720000.0,\n",
       " 1335500.0,\n",
       " 925000.0,\n",
       " 898500.0,\n",
       " 615075.0,\n",
       " 1871500.0,\n",
       " 722000.0,\n",
       " 711250.0,\n",
       " 817500.0,\n",
       " 750000.0,\n",
       " 635500.0,\n",
       " 1870000.0,\n",
       " 480000.0,\n",
       " 515000.0,\n",
       " 1700500.0,\n",
       " 935000.0,\n",
       " 920000.0,\n",
       " 1107500.0,\n",
       " 1300000.0,\n",
       " 640500.0,\n",
       " 1300000.0,\n",
       " 1045000.0,\n",
       " 561000.0,\n",
       " 614000.0,\n",
       " 2129440.0,\n",
       " 800000.0,\n",
       " 695000.0,\n",
       " 716000.0,\n",
       " 980000.0,\n",
       " 820000.0,\n",
       " 1755000.0,\n",
       " 440000.0,\n",
       " 640000.0,\n",
       " 637375.0,\n",
       " 575000.0,\n",
       " 726000.0,\n",
       " 651000.0,\n",
       " 705000.0,\n",
       " 1042500.0,\n",
       " 904500.0,\n",
       " 790000.0,\n",
       " 2695000.0,\n",
       " 965000.0,\n",
       " 824500.0,\n",
       " 1675000.0,\n",
       " 414000.0,\n",
       " 1005000.0,\n",
       " 576000.0,\n",
       " 1000000.0,\n",
       " 650000.0,\n",
       " 887500.0,\n",
       " 751000.0,\n",
       " 1200000.0,\n",
       " 1575000.0,\n",
       " 728000.0,\n",
       " 940000.0,\n",
       " 830000.0,\n",
       " 890000.0,\n",
       " 1405000.0,\n",
       " 1060000.0,\n",
       " 1096000.0,\n",
       " 1325000.0,\n",
       " 1000000.0,\n",
       " 1173750.0,\n",
       " 561500.0,\n",
       " 770000.0,\n",
       " 1685000.0,\n",
       " 522500.0,\n",
       " 1180000.0,\n",
       " 1515000.0,\n",
       " 678075.0,\n",
       " 630000.0,\n",
       " 1825000.0,\n",
       " 1466750.0,\n",
       " 1000250.0,\n",
       " 1100000.0,\n",
       " 775000.0,\n",
       " 1230000.0,\n",
       " 878750.0,\n",
       " 1563750.0,\n",
       " 580000.0,\n",
       " 1112500.0,\n",
       " 610000.0,\n",
       " 870000.0,\n",
       " 717000.0,\n",
       " 820000.0,\n",
       " 1850000.0,\n",
       " 810000.0,\n",
       " 660000.0,\n",
       " 710000.0,\n",
       " 950000.0,\n",
       " 1025750.0,\n",
       " 660000.0,\n",
       " 611000.0,\n",
       " 2877000.0,\n",
       " 626000.0,\n",
       " 1377500.0,\n",
       " 907500.0,\n",
       " 1057000.0,\n",
       " 757500.0,\n",
       " 1353750.0,\n",
       " 540000.0,\n",
       " 778500.0,\n",
       " 633500.0,\n",
       " 570000.0,\n",
       " 705000.0,\n",
       " 1350500.0,\n",
       " 645000.0,\n",
       " 1115000.0,\n",
       " 3362500.0,\n",
       " 617500.0,\n",
       " None,\n",
       " 1475000.0,\n",
       " 570000.0,\n",
       " 661000.0,\n",
       " 580000.0,\n",
       " 700250.0,\n",
       " 990000.0,\n",
       " 950000.0,\n",
       " 938500.0,\n",
       " 1205000.0,\n",
       " 930000.0,\n",
       " 1010000.0,\n",
       " 820000.0,\n",
       " 508000.0,\n",
       " 602501.0,\n",
       " 1400000.0,\n",
       " 1366000.0,\n",
       " 593500.0,\n",
       " 790000.0]"
      ]
     },
     "execution_count": 232,
     "metadata": {},
     "output_type": "execute_result"
    }
   ],
   "source": [
    "medianPrice"
   ]
  },
  {
   "cell_type": "code",
   "execution_count": 234,
   "metadata": {},
   "outputs": [],
   "source": [
    "house_median_price_df = pd.DataFrame({'Suburb':subList,\n",
    "                                    'Median Price':medianPrice})"
   ]
  },
  {
   "cell_type": "code",
   "execution_count": 236,
   "metadata": {},
   "outputs": [
    {
     "data": {
      "text/html": [
       "<div>\n",
       "<style scoped>\n",
       "    .dataframe tbody tr th:only-of-type {\n",
       "        vertical-align: middle;\n",
       "    }\n",
       "\n",
       "    .dataframe tbody tr th {\n",
       "        vertical-align: top;\n",
       "    }\n",
       "\n",
       "    .dataframe thead th {\n",
       "        text-align: right;\n",
       "    }\n",
       "</style>\n",
       "<table border=\"1\" class=\"dataframe\">\n",
       "  <thead>\n",
       "    <tr style=\"text-align: right;\">\n",
       "      <th></th>\n",
       "      <th>Suburb</th>\n",
       "      <th>Median Price</th>\n",
       "    </tr>\n",
       "  </thead>\n",
       "  <tbody>\n",
       "    <tr>\n",
       "      <th>0</th>\n",
       "      <td>Abbotsford</td>\n",
       "      <td>1220000.0</td>\n",
       "    </tr>\n",
       "    <tr>\n",
       "      <th>1</th>\n",
       "      <td>Aberfeldie</td>\n",
       "      <td>1540000.0</td>\n",
       "    </tr>\n",
       "    <tr>\n",
       "      <th>2</th>\n",
       "      <td>Aintree</td>\n",
       "      <td>655000.0</td>\n",
       "    </tr>\n",
       "  </tbody>\n",
       "</table>\n",
       "</div>"
      ],
      "text/plain": [
       "       Suburb  Median Price\n",
       "0  Abbotsford     1220000.0\n",
       "1  Aberfeldie     1540000.0\n",
       "2     Aintree      655000.0"
      ]
     },
     "execution_count": 236,
     "metadata": {},
     "output_type": "execute_result"
    }
   ],
   "source": [
    "house_median_price_df.head(3)"
   ]
  },
  {
   "cell_type": "code",
   "execution_count": 240,
   "metadata": {},
   "outputs": [
    {
     "data": {
      "text/html": [
       "<div>\n",
       "<style scoped>\n",
       "    .dataframe tbody tr th:only-of-type {\n",
       "        vertical-align: middle;\n",
       "    }\n",
       "\n",
       "    .dataframe tbody tr th {\n",
       "        vertical-align: top;\n",
       "    }\n",
       "\n",
       "    .dataframe thead th {\n",
       "        text-align: right;\n",
       "    }\n",
       "</style>\n",
       "<table border=\"1\" class=\"dataframe\">\n",
       "  <thead>\n",
       "    <tr style=\"text-align: right;\">\n",
       "      <th></th>\n",
       "      <th>Median Price</th>\n",
       "    </tr>\n",
       "  </thead>\n",
       "  <tbody>\n",
       "    <tr>\n",
       "      <th>count</th>\n",
       "      <td>2.060000e+02</td>\n",
       "    </tr>\n",
       "    <tr>\n",
       "      <th>mean</th>\n",
       "      <td>1.032757e+06</td>\n",
       "    </tr>\n",
       "    <tr>\n",
       "      <th>std</th>\n",
       "      <td>5.084542e+05</td>\n",
       "    </tr>\n",
       "    <tr>\n",
       "      <th>min</th>\n",
       "      <td>4.140000e+05</td>\n",
       "    </tr>\n",
       "    <tr>\n",
       "      <th>25%</th>\n",
       "      <td>6.600000e+05</td>\n",
       "    </tr>\n",
       "    <tr>\n",
       "      <th>50%</th>\n",
       "      <td>8.860000e+05</td>\n",
       "    </tr>\n",
       "    <tr>\n",
       "      <th>75%</th>\n",
       "      <td>1.268875e+06</td>\n",
       "    </tr>\n",
       "    <tr>\n",
       "      <th>max</th>\n",
       "      <td>3.362500e+06</td>\n",
       "    </tr>\n",
       "  </tbody>\n",
       "</table>\n",
       "</div>"
      ],
      "text/plain": [
       "       Median Price\n",
       "count  2.060000e+02\n",
       "mean   1.032757e+06\n",
       "std    5.084542e+05\n",
       "min    4.140000e+05\n",
       "25%    6.600000e+05\n",
       "50%    8.860000e+05\n",
       "75%    1.268875e+06\n",
       "max    3.362500e+06"
      ]
     },
     "execution_count": 240,
     "metadata": {},
     "output_type": "execute_result"
    }
   ],
   "source": [
    "house_median_price_df.describe()"
   ]
  },
  {
   "cell_type": "code",
   "execution_count": 241,
   "metadata": {},
   "outputs": [],
   "source": [
    "house_median_price_df.to_csv('C:\\\\Users\\\\home\\\\Documents\\\\Monu-Hw [KD]\\\\project_3\\\\static\\\\data\\\\Vic_House_Median_Price.csv', index=False)"
   ]
  },
  {
   "cell_type": "code",
   "execution_count": 244,
   "metadata": {},
   "outputs": [
    {
     "name": "stdout",
     "output_type": "stream",
     "text": [
      "Aberfeldie\n",
      "Aintree\n",
      "Albanvale\n",
      "Albion\n"
     ]
    }
   ],
   "source": [
    "for i in range (1, 5):\n",
    "    print(house_median_price_df['Suburb'][i])"
   ]
  },
  {
   "cell_type": "code",
   "execution_count": 245,
   "metadata": {},
   "outputs": [],
   "source": [
    "# loading population dataset\n",
    "popu_df = pd.read_csv(\"C:/Users/home/Documents/Monu-Hw [KD]/project_3/static/data/Vic_Subs_Popu_2001_2019.csv\")"
   ]
  },
  {
   "cell_type": "code",
   "execution_count": 251,
   "metadata": {},
   "outputs": [
    {
     "data": {
      "text/html": [
       "<div>\n",
       "<style scoped>\n",
       "    .dataframe tbody tr th:only-of-type {\n",
       "        vertical-align: middle;\n",
       "    }\n",
       "\n",
       "    .dataframe tbody tr th {\n",
       "        vertical-align: top;\n",
       "    }\n",
       "\n",
       "    .dataframe thead th {\n",
       "        text-align: right;\n",
       "    }\n",
       "</style>\n",
       "<table border=\"1\" class=\"dataframe\">\n",
       "  <thead>\n",
       "    <tr style=\"text-align: right;\">\n",
       "      <th></th>\n",
       "      <th>Suburb</th>\n",
       "      <th>2001</th>\n",
       "      <th>2002</th>\n",
       "      <th>2003</th>\n",
       "      <th>2004</th>\n",
       "      <th>2005</th>\n",
       "      <th>2006</th>\n",
       "      <th>2007</th>\n",
       "      <th>2008</th>\n",
       "      <th>2009</th>\n",
       "      <th>2010</th>\n",
       "      <th>2011</th>\n",
       "      <th>2012</th>\n",
       "      <th>2013</th>\n",
       "      <th>2014</th>\n",
       "      <th>2015</th>\n",
       "      <th>2016</th>\n",
       "      <th>2017</th>\n",
       "      <th>2018</th>\n",
       "      <th>2019</th>\n",
       "    </tr>\n",
       "  </thead>\n",
       "  <tbody>\n",
       "    <tr>\n",
       "      <th>0</th>\n",
       "      <td>Abbotsford</td>\n",
       "      <td>4150</td>\n",
       "      <td>4339</td>\n",
       "      <td>4444</td>\n",
       "      <td>4452</td>\n",
       "      <td>4498</td>\n",
       "      <td>4537</td>\n",
       "      <td>4638</td>\n",
       "      <td>4727</td>\n",
       "      <td>4833</td>\n",
       "      <td>5029</td>\n",
       "      <td>5213</td>\n",
       "      <td>5544</td>\n",
       "      <td>6539</td>\n",
       "      <td>7411</td>\n",
       "      <td>8078</td>\n",
       "      <td>8770</td>\n",
       "      <td>9453</td>\n",
       "      <td>9855</td>\n",
       "      <td>10088</td>\n",
       "    </tr>\n",
       "    <tr>\n",
       "      <th>1</th>\n",
       "      <td>Aberfoyle Park</td>\n",
       "      <td>12307</td>\n",
       "      <td>12377</td>\n",
       "      <td>12433</td>\n",
       "      <td>12385</td>\n",
       "      <td>12415</td>\n",
       "      <td>12454</td>\n",
       "      <td>12414</td>\n",
       "      <td>12356</td>\n",
       "      <td>12251</td>\n",
       "      <td>12207</td>\n",
       "      <td>12146</td>\n",
       "      <td>12126</td>\n",
       "      <td>12063</td>\n",
       "      <td>12035</td>\n",
       "      <td>11960</td>\n",
       "      <td>11863</td>\n",
       "      <td>11835</td>\n",
       "      <td>11784</td>\n",
       "      <td>11723</td>\n",
       "    </tr>\n",
       "    <tr>\n",
       "      <th>2</th>\n",
       "      <td>Airport West</td>\n",
       "      <td>6997</td>\n",
       "      <td>6970</td>\n",
       "      <td>6952</td>\n",
       "      <td>6904</td>\n",
       "      <td>6870</td>\n",
       "      <td>6878</td>\n",
       "      <td>6920</td>\n",
       "      <td>6983</td>\n",
       "      <td>7067</td>\n",
       "      <td>7175</td>\n",
       "      <td>7234</td>\n",
       "      <td>7301</td>\n",
       "      <td>7390</td>\n",
       "      <td>7521</td>\n",
       "      <td>7694</td>\n",
       "      <td>7903</td>\n",
       "      <td>8032</td>\n",
       "      <td>8280</td>\n",
       "      <td>8559</td>\n",
       "    </tr>\n",
       "  </tbody>\n",
       "</table>\n",
       "</div>"
      ],
      "text/plain": [
       "           Suburb   2001   2002   2003   2004   2005   2006   2007   2008  \\\n",
       "0      Abbotsford   4150   4339   4444   4452   4498   4537   4638   4727   \n",
       "1  Aberfoyle Park  12307  12377  12433  12385  12415  12454  12414  12356   \n",
       "2    Airport West   6997   6970   6952   6904   6870   6878   6920   6983   \n",
       "\n",
       "    2009   2010   2011   2012   2013   2014   2015   2016   2017   2018   2019  \n",
       "0   4833   5029   5213   5544   6539   7411   8078   8770   9453   9855  10088  \n",
       "1  12251  12207  12146  12126  12063  12035  11960  11863  11835  11784  11723  \n",
       "2   7067   7175   7234   7301   7390   7521   7694   7903   8032   8280   8559  "
      ]
     },
     "execution_count": 251,
     "metadata": {},
     "output_type": "execute_result"
    }
   ],
   "source": [
    "popu_df.head(3)"
   ]
  },
  {
   "cell_type": "code",
   "execution_count": 250,
   "metadata": {},
   "outputs": [
    {
     "data": {
      "text/plain": [
       "Index(['Suburb', '2001', '2002', '2003', '2004', '2005', '2006', '2007',\n",
       "       '2008', '2009', '2010', '2011', '2012', '2013', '2014', '2015', '2016',\n",
       "       '2017', '2018', '2019'],\n",
       "      dtype='object')"
      ]
     },
     "execution_count": 250,
     "metadata": {},
     "output_type": "execute_result"
    }
   ],
   "source": [
    "popu_df.columns"
   ]
  },
  {
   "cell_type": "code",
   "execution_count": 247,
   "metadata": {},
   "outputs": [],
   "source": [
    "subName = 'Abbotsford'"
   ]
  },
  {
   "cell_type": "code",
   "execution_count": 257,
   "metadata": {},
   "outputs": [],
   "source": [
    "subArray = popu_df.loc[popu_df['Suburb'] == subName]"
   ]
  },
  {
   "cell_type": "code",
   "execution_count": 258,
   "metadata": {},
   "outputs": [
    {
     "data": {
      "text/html": [
       "<div>\n",
       "<style scoped>\n",
       "    .dataframe tbody tr th:only-of-type {\n",
       "        vertical-align: middle;\n",
       "    }\n",
       "\n",
       "    .dataframe tbody tr th {\n",
       "        vertical-align: top;\n",
       "    }\n",
       "\n",
       "    .dataframe thead th {\n",
       "        text-align: right;\n",
       "    }\n",
       "</style>\n",
       "<table border=\"1\" class=\"dataframe\">\n",
       "  <thead>\n",
       "    <tr style=\"text-align: right;\">\n",
       "      <th></th>\n",
       "      <th>Suburb</th>\n",
       "      <th>2001</th>\n",
       "      <th>2002</th>\n",
       "      <th>2003</th>\n",
       "      <th>2004</th>\n",
       "      <th>2005</th>\n",
       "      <th>2006</th>\n",
       "      <th>2007</th>\n",
       "      <th>2008</th>\n",
       "      <th>2009</th>\n",
       "      <th>2010</th>\n",
       "      <th>2011</th>\n",
       "      <th>2012</th>\n",
       "      <th>2013</th>\n",
       "      <th>2014</th>\n",
       "      <th>2015</th>\n",
       "      <th>2016</th>\n",
       "      <th>2017</th>\n",
       "      <th>2018</th>\n",
       "      <th>2019</th>\n",
       "    </tr>\n",
       "  </thead>\n",
       "  <tbody>\n",
       "    <tr>\n",
       "      <th>0</th>\n",
       "      <td>Abbotsford</td>\n",
       "      <td>4150</td>\n",
       "      <td>4339</td>\n",
       "      <td>4444</td>\n",
       "      <td>4452</td>\n",
       "      <td>4498</td>\n",
       "      <td>4537</td>\n",
       "      <td>4638</td>\n",
       "      <td>4727</td>\n",
       "      <td>4833</td>\n",
       "      <td>5029</td>\n",
       "      <td>5213</td>\n",
       "      <td>5544</td>\n",
       "      <td>6539</td>\n",
       "      <td>7411</td>\n",
       "      <td>8078</td>\n",
       "      <td>8770</td>\n",
       "      <td>9453</td>\n",
       "      <td>9855</td>\n",
       "      <td>10088</td>\n",
       "    </tr>\n",
       "  </tbody>\n",
       "</table>\n",
       "</div>"
      ],
      "text/plain": [
       "       Suburb  2001  2002  2003  2004  2005  2006  2007  2008  2009  2010  \\\n",
       "0  Abbotsford  4150  4339  4444  4452  4498  4537  4638  4727  4833  5029   \n",
       "\n",
       "   2011  2012  2013  2014  2015  2016  2017  2018   2019  \n",
       "0  5213  5544  6539  7411  8078  8770  9453  9855  10088  "
      ]
     },
     "execution_count": 258,
     "metadata": {},
     "output_type": "execute_result"
    }
   ],
   "source": [
    "subArray"
   ]
  },
  {
   "cell_type": "code",
   "execution_count": 278,
   "metadata": {},
   "outputs": [
    {
     "ename": "KeyError",
     "evalue": "0",
     "output_type": "error",
     "traceback": [
      "\u001b[1;31m---------------------------------------------------------------------------\u001b[0m",
      "\u001b[1;31mKeyError\u001b[0m                                  Traceback (most recent call last)",
      "\u001b[1;32m~\\.conda\\envs\\PythonData\\lib\\site-packages\\pandas\\core\\indexes\\base.py\u001b[0m in \u001b[0;36mget_loc\u001b[1;34m(self, key, method, tolerance)\u001b[0m\n\u001b[0;32m   2645\u001b[0m             \u001b[1;32mtry\u001b[0m\u001b[1;33m:\u001b[0m\u001b[1;33m\u001b[0m\u001b[1;33m\u001b[0m\u001b[0m\n\u001b[1;32m-> 2646\u001b[1;33m                 \u001b[1;32mreturn\u001b[0m \u001b[0mself\u001b[0m\u001b[1;33m.\u001b[0m\u001b[0m_engine\u001b[0m\u001b[1;33m.\u001b[0m\u001b[0mget_loc\u001b[0m\u001b[1;33m(\u001b[0m\u001b[0mkey\u001b[0m\u001b[1;33m)\u001b[0m\u001b[1;33m\u001b[0m\u001b[1;33m\u001b[0m\u001b[0m\n\u001b[0m\u001b[0;32m   2647\u001b[0m             \u001b[1;32mexcept\u001b[0m \u001b[0mKeyError\u001b[0m\u001b[1;33m:\u001b[0m\u001b[1;33m\u001b[0m\u001b[1;33m\u001b[0m\u001b[0m\n",
      "\u001b[1;32mpandas\\_libs\\index.pyx\u001b[0m in \u001b[0;36mpandas._libs.index.IndexEngine.get_loc\u001b[1;34m()\u001b[0m\n",
      "\u001b[1;32mpandas\\_libs\\index.pyx\u001b[0m in \u001b[0;36mpandas._libs.index.IndexEngine.get_loc\u001b[1;34m()\u001b[0m\n",
      "\u001b[1;32mpandas\\_libs\\hashtable_class_helper.pxi\u001b[0m in \u001b[0;36mpandas._libs.hashtable.PyObjectHashTable.get_item\u001b[1;34m()\u001b[0m\n",
      "\u001b[1;32mpandas\\_libs\\hashtable_class_helper.pxi\u001b[0m in \u001b[0;36mpandas._libs.hashtable.PyObjectHashTable.get_item\u001b[1;34m()\u001b[0m\n",
      "\u001b[1;31mKeyError\u001b[0m: 0",
      "\nDuring handling of the above exception, another exception occurred:\n",
      "\u001b[1;31mKeyError\u001b[0m                                  Traceback (most recent call last)",
      "\u001b[1;32m<ipython-input-278-328aae06e8f5>\u001b[0m in \u001b[0;36m<module>\u001b[1;34m\u001b[0m\n\u001b[1;32m----> 1\u001b[1;33m \u001b[0msubArray\u001b[0m\u001b[1;33m[\u001b[0m\u001b[1;36m0\u001b[0m\u001b[1;33m:\u001b[0m\u001b[1;36m1\u001b[0m\u001b[1;33m]\u001b[0m\u001b[1;33m[\u001b[0m\u001b[1;36m0\u001b[0m\u001b[1;33m]\u001b[0m\u001b[1;33m\u001b[0m\u001b[1;33m\u001b[0m\u001b[0m\n\u001b[0m",
      "\u001b[1;32m~\\.conda\\envs\\PythonData\\lib\\site-packages\\pandas\\core\\frame.py\u001b[0m in \u001b[0;36m__getitem__\u001b[1;34m(self, key)\u001b[0m\n\u001b[0;32m   2798\u001b[0m             \u001b[1;32mif\u001b[0m \u001b[0mself\u001b[0m\u001b[1;33m.\u001b[0m\u001b[0mcolumns\u001b[0m\u001b[1;33m.\u001b[0m\u001b[0mnlevels\u001b[0m \u001b[1;33m>\u001b[0m \u001b[1;36m1\u001b[0m\u001b[1;33m:\u001b[0m\u001b[1;33m\u001b[0m\u001b[1;33m\u001b[0m\u001b[0m\n\u001b[0;32m   2799\u001b[0m                 \u001b[1;32mreturn\u001b[0m \u001b[0mself\u001b[0m\u001b[1;33m.\u001b[0m\u001b[0m_getitem_multilevel\u001b[0m\u001b[1;33m(\u001b[0m\u001b[0mkey\u001b[0m\u001b[1;33m)\u001b[0m\u001b[1;33m\u001b[0m\u001b[1;33m\u001b[0m\u001b[0m\n\u001b[1;32m-> 2800\u001b[1;33m             \u001b[0mindexer\u001b[0m \u001b[1;33m=\u001b[0m \u001b[0mself\u001b[0m\u001b[1;33m.\u001b[0m\u001b[0mcolumns\u001b[0m\u001b[1;33m.\u001b[0m\u001b[0mget_loc\u001b[0m\u001b[1;33m(\u001b[0m\u001b[0mkey\u001b[0m\u001b[1;33m)\u001b[0m\u001b[1;33m\u001b[0m\u001b[1;33m\u001b[0m\u001b[0m\n\u001b[0m\u001b[0;32m   2801\u001b[0m             \u001b[1;32mif\u001b[0m \u001b[0mis_integer\u001b[0m\u001b[1;33m(\u001b[0m\u001b[0mindexer\u001b[0m\u001b[1;33m)\u001b[0m\u001b[1;33m:\u001b[0m\u001b[1;33m\u001b[0m\u001b[1;33m\u001b[0m\u001b[0m\n\u001b[0;32m   2802\u001b[0m                 \u001b[0mindexer\u001b[0m \u001b[1;33m=\u001b[0m \u001b[1;33m[\u001b[0m\u001b[0mindexer\u001b[0m\u001b[1;33m]\u001b[0m\u001b[1;33m\u001b[0m\u001b[1;33m\u001b[0m\u001b[0m\n",
      "\u001b[1;32m~\\.conda\\envs\\PythonData\\lib\\site-packages\\pandas\\core\\indexes\\base.py\u001b[0m in \u001b[0;36mget_loc\u001b[1;34m(self, key, method, tolerance)\u001b[0m\n\u001b[0;32m   2646\u001b[0m                 \u001b[1;32mreturn\u001b[0m \u001b[0mself\u001b[0m\u001b[1;33m.\u001b[0m\u001b[0m_engine\u001b[0m\u001b[1;33m.\u001b[0m\u001b[0mget_loc\u001b[0m\u001b[1;33m(\u001b[0m\u001b[0mkey\u001b[0m\u001b[1;33m)\u001b[0m\u001b[1;33m\u001b[0m\u001b[1;33m\u001b[0m\u001b[0m\n\u001b[0;32m   2647\u001b[0m             \u001b[1;32mexcept\u001b[0m \u001b[0mKeyError\u001b[0m\u001b[1;33m:\u001b[0m\u001b[1;33m\u001b[0m\u001b[1;33m\u001b[0m\u001b[0m\n\u001b[1;32m-> 2648\u001b[1;33m                 \u001b[1;32mreturn\u001b[0m \u001b[0mself\u001b[0m\u001b[1;33m.\u001b[0m\u001b[0m_engine\u001b[0m\u001b[1;33m.\u001b[0m\u001b[0mget_loc\u001b[0m\u001b[1;33m(\u001b[0m\u001b[0mself\u001b[0m\u001b[1;33m.\u001b[0m\u001b[0m_maybe_cast_indexer\u001b[0m\u001b[1;33m(\u001b[0m\u001b[0mkey\u001b[0m\u001b[1;33m)\u001b[0m\u001b[1;33m)\u001b[0m\u001b[1;33m\u001b[0m\u001b[1;33m\u001b[0m\u001b[0m\n\u001b[0m\u001b[0;32m   2649\u001b[0m         \u001b[0mindexer\u001b[0m \u001b[1;33m=\u001b[0m \u001b[0mself\u001b[0m\u001b[1;33m.\u001b[0m\u001b[0mget_indexer\u001b[0m\u001b[1;33m(\u001b[0m\u001b[1;33m[\u001b[0m\u001b[0mkey\u001b[0m\u001b[1;33m]\u001b[0m\u001b[1;33m,\u001b[0m \u001b[0mmethod\u001b[0m\u001b[1;33m=\u001b[0m\u001b[0mmethod\u001b[0m\u001b[1;33m,\u001b[0m \u001b[0mtolerance\u001b[0m\u001b[1;33m=\u001b[0m\u001b[0mtolerance\u001b[0m\u001b[1;33m)\u001b[0m\u001b[1;33m\u001b[0m\u001b[1;33m\u001b[0m\u001b[0m\n\u001b[0;32m   2650\u001b[0m         \u001b[1;32mif\u001b[0m \u001b[0mindexer\u001b[0m\u001b[1;33m.\u001b[0m\u001b[0mndim\u001b[0m \u001b[1;33m>\u001b[0m \u001b[1;36m1\u001b[0m \u001b[1;32mor\u001b[0m \u001b[0mindexer\u001b[0m\u001b[1;33m.\u001b[0m\u001b[0msize\u001b[0m \u001b[1;33m>\u001b[0m \u001b[1;36m1\u001b[0m\u001b[1;33m:\u001b[0m\u001b[1;33m\u001b[0m\u001b[1;33m\u001b[0m\u001b[0m\n",
      "\u001b[1;32mpandas\\_libs\\index.pyx\u001b[0m in \u001b[0;36mpandas._libs.index.IndexEngine.get_loc\u001b[1;34m()\u001b[0m\n",
      "\u001b[1;32mpandas\\_libs\\index.pyx\u001b[0m in \u001b[0;36mpandas._libs.index.IndexEngine.get_loc\u001b[1;34m()\u001b[0m\n",
      "\u001b[1;32mpandas\\_libs\\hashtable_class_helper.pxi\u001b[0m in \u001b[0;36mpandas._libs.hashtable.PyObjectHashTable.get_item\u001b[1;34m()\u001b[0m\n",
      "\u001b[1;32mpandas\\_libs\\hashtable_class_helper.pxi\u001b[0m in \u001b[0;36mpandas._libs.hashtable.PyObjectHashTable.get_item\u001b[1;34m()\u001b[0m\n",
      "\u001b[1;31mKeyError\u001b[0m: 0"
     ]
    }
   ],
   "source": [
    "subArray[0:1]"
   ]
  },
  {
   "cell_type": "code",
   "execution_count": 272,
   "metadata": {},
   "outputs": [],
   "source": [
    "y = subArray.iloc[0, 9:19].values"
   ]
  },
  {
   "cell_type": "code",
   "execution_count": 273,
   "metadata": {},
   "outputs": [
    {
     "data": {
      "text/plain": [
       "array([4833, 5029, 5213, 5544, 6539, 7411, 8078, 8770, 9453, 9855],\n",
       "      dtype=object)"
      ]
     },
     "execution_count": 273,
     "metadata": {},
     "output_type": "execute_result"
    }
   ],
   "source": [
    "y"
   ]
  },
  {
   "cell_type": "code",
   "execution_count": 269,
   "metadata": {},
   "outputs": [],
   "source": [
    "import numpy as np"
   ]
  },
  {
   "cell_type": "code",
   "execution_count": 270,
   "metadata": {},
   "outputs": [],
   "source": [
    "y = np.array(y)"
   ]
  },
  {
   "cell_type": "code",
   "execution_count": 271,
   "metadata": {},
   "outputs": [
    {
     "data": {
      "text/plain": [
       "array([4833, 5029, 5213, 5544, 6539, 7411, 8078, 8770, 9453, 9855],\n",
       "      dtype=object)"
      ]
     },
     "execution_count": 271,
     "metadata": {},
     "output_type": "execute_result"
    }
   ],
   "source": [
    "y"
   ]
  },
  {
   "cell_type": "code",
   "execution_count": 279,
   "metadata": {},
   "outputs": [],
   "source": [
    "x = 2.6\n",
    "x = int(x)"
   ]
  },
  {
   "cell_type": "code",
   "execution_count": 280,
   "metadata": {},
   "outputs": [
    {
     "data": {
      "text/plain": [
       "2"
      ]
     },
     "execution_count": 280,
     "metadata": {},
     "output_type": "execute_result"
    }
   ],
   "source": [
    "x"
   ]
  },
  {
   "cell_type": "code",
   "execution_count": null,
   "metadata": {},
   "outputs": [],
   "source": []
  }
 ],
 "metadata": {
  "kernelspec": {
   "display_name": "Python 3.6.10 64-bit ('PythonData': conda)",
   "language": "python",
   "name": "python361064bitpythondatacondaa70f06a6f8ee448e835eff764d6ba02e"
  },
  "language_info": {
   "codemirror_mode": {
    "name": "ipython",
    "version": 3
   },
   "file_extension": ".py",
   "mimetype": "text/x-python",
   "name": "python",
   "nbconvert_exporter": "python",
   "pygments_lexer": "ipython3",
   "version": "3.6.10"
  }
 },
 "nbformat": 4,
 "nbformat_minor": 4
}
