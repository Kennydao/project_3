{
 "cells": [
  {
   "cell_type": "code",
   "execution_count": 2,
   "metadata": {},
   "outputs": [],
   "source": [
    "import pandas as pd\n",
    "# import datetime as dt"
   ]
  },
  {
   "cell_type": "code",
   "execution_count": null,
   "metadata": {},
   "outputs": [],
   "source": [
    "df = pd.read_csv('c:/users/home/documents/project_3/static/data/[City of Stonnington] ProfileDataExport.csv')"
   ]
  },
  {
   "cell_type": "code",
   "execution_count": null,
   "metadata": {},
   "outputs": [],
   "source": [
    "df.head()"
   ]
  },
  {
   "cell_type": "code",
   "execution_count": null,
   "metadata": {},
   "outputs": [],
   "source": [
    "df.drop(columns=['WebID', 'Data table', 'LatestERP', '2016%', '2011', '2011%', 'Data Type', 'Unnamed: 10'], axis=1, inplace=True)"
   ]
  },
  {
   "cell_type": "code",
   "execution_count": null,
   "metadata": {},
   "outputs": [],
   "source": [
    "df.head()"
   ]
  },
  {
   "cell_type": "code",
   "execution_count": null,
   "metadata": {},
   "outputs": [],
   "source": [
    "df = df[df['Data label' ] == 'Usual Resident Population']"
   ]
  },
  {
   "cell_type": "code",
   "execution_count": null,
   "metadata": {},
   "outputs": [],
   "source": [
    "df.head()"
   ]
  },
  {
   "cell_type": "code",
   "execution_count": null,
   "metadata": {},
   "outputs": [],
   "source": [
    "df.drop(columns=['Data label'], axis = 1, inplace = True)\n"
   ]
  },
  {
   "cell_type": "code",
   "execution_count": null,
   "metadata": {},
   "outputs": [],
   "source": [
    "df.head()"
   ]
  },
  {
   "cell_type": "code",
   "execution_count": null,
   "metadata": {},
   "outputs": [],
   "source": [
    "df.shape"
   ]
  },
  {
   "cell_type": "code",
   "execution_count": null,
   "metadata": {},
   "outputs": [],
   "source": [
    "#df.to_csv(\"c:/users/home/documents/project_3/static/data/Stonnington_Population.csv\", index=False)"
   ]
  },
  {
   "cell_type": "code",
   "execution_count": null,
   "metadata": {},
   "outputs": [],
   "source": [
    "df = pd.read_csv('c:/users/home/documents/project_3/static/data/[City of Greater Bendigo] ProfileDataExport.csv')\n"
   ]
  },
  {
   "cell_type": "code",
   "execution_count": null,
   "metadata": {},
   "outputs": [],
   "source": [
    "df.drop(columns=['WebID', 'Data table', 'LatestERP', '2016%', '2011', '2011%', 'Data Type', 'Unnamed: 10'], axis=1, inplace=True)\n",
    "\n",
    "df = df[df['Data label' ] == 'Usual Resident Population']\n",
    "\n",
    "df.drop(columns=['Data label'], axis = 1, inplace = True)\n",
    "\n",
    "df.shape"
   ]
  },
  {
   "cell_type": "code",
   "execution_count": null,
   "metadata": {},
   "outputs": [],
   "source": [
    "#df.to_csv(\"c:/users/home/documents/project_3/static/data/Bendigo_Population.csv\", index=False)"
   ]
  },
  {
   "cell_type": "code",
   "execution_count": null,
   "metadata": {},
   "outputs": [],
   "source": [
    "df = pd.read_csv('c:/users/home/documents/project_3/static/data/[City of Darebin] ProfileDataExport.csv')"
   ]
  },
  {
   "cell_type": "code",
   "execution_count": null,
   "metadata": {},
   "outputs": [],
   "source": [
    "df.drop(columns=['WebID', 'Data table', 'LatestERP', '2016%', '2011', '2011%', 'Data Type', 'Unnamed: 10'], axis=1, inplace=True)\n",
    "\n",
    "df = df[df['Data label' ] == 'Usual Resident Population']\n",
    "\n",
    "df.drop(columns=['Data label'], axis = 1, inplace = True)\n",
    "\n",
    "df.shape"
   ]
  },
  {
   "cell_type": "code",
   "execution_count": null,
   "metadata": {},
   "outputs": [],
   "source": [
    "#df.to_csv(\"c:/users/home/documents/project_3/static/data/Darebin_Population.csv\", index=False)"
   ]
  },
  {
   "cell_type": "code",
   "execution_count": null,
   "metadata": {},
   "outputs": [],
   "source": [
    "df = pd.read_csv('c:/users/home/documents/project_3/static/data/CaseyProfileDataExport.csv', encoding= 'unicode_escape')"
   ]
  },
  {
   "cell_type": "code",
   "execution_count": null,
   "metadata": {},
   "outputs": [],
   "source": [
    "df.columns"
   ]
  },
  {
   "cell_type": "code",
   "execution_count": null,
   "metadata": {},
   "outputs": [],
   "source": [
    "df.drop(columns=['WebID', 'Data table', 'LatestERP', '2016%', '2011', '2011%', 'Data Type'], axis=1, inplace=True)\n",
    "\n",
    "df = df[df['Data label' ] == 'Usual Resident Population']\n",
    "\n",
    "df.drop(columns=['Data label'], axis = 1, inplace = True)\n",
    "\n",
    "df.shape"
   ]
  },
  {
   "cell_type": "code",
   "execution_count": null,
   "metadata": {},
   "outputs": [],
   "source": [
    "#df.to_csv(\"c:/users/home/documents/project_3/static/data/Casey_Population.csv\", index=False)"
   ]
  },
  {
   "cell_type": "code",
   "execution_count": null,
   "metadata": {},
   "outputs": [],
   "source": [
    "df = pd.read_csv('c:/users/home/documents/project_3/static/data/[Boroondara] ProfileDataExport_WeeklyIncome.csv')"
   ]
  },
  {
   "cell_type": "code",
   "execution_count": null,
   "metadata": {},
   "outputs": [],
   "source": [
    "df.head()"
   ]
  },
  {
   "cell_type": "code",
   "execution_count": null,
   "metadata": {},
   "outputs": [],
   "source": [
    "import pandas as pd"
   ]
  },
  {
   "cell_type": "code",
   "execution_count": null,
   "metadata": {},
   "outputs": [],
   "source": [
    "vic_subs_popu_2019_df = pd.read_csv('c:/users/home/documents/project_3/static/data/VIC_ABS_ANNUAL_ERP_ASGS_2019.csv')"
   ]
  },
  {
   "cell_type": "code",
   "execution_count": null,
   "metadata": {},
   "outputs": [],
   "source": [
    "vic_subs_popu_2019_df.drop(columns =['MEASURE', 'Measure', 'REGIONTYPE', 'Geography Level', 'ASGS_2016',\n",
    "      'FREQUENCY', 'Frequency', 'TIME', 'Time', 'Flag Codes', 'Flags'], axis = 1, inplace=True)"
   ]
  },
  {
   "cell_type": "code",
   "execution_count": null,
   "metadata": {},
   "outputs": [],
   "source": [
    "vic_subs_popu_2019_df.head()"
   ]
  },
  {
   "cell_type": "code",
   "execution_count": null,
   "metadata": {},
   "outputs": [],
   "source": [
    "vic_subs_popu_2019_df['Region'] = vic_subs_popu_2019_df.Region.apply(lambda x: x.replace(\"- \", \"\"))"
   ]
  },
  {
   "cell_type": "code",
   "execution_count": null,
   "metadata": {},
   "outputs": [],
   "source": [
    "# subs_df = vic_subs_popu_2019_df['Region']"
   ]
  },
  {
   "cell_type": "code",
   "execution_count": null,
   "metadata": {},
   "outputs": [],
   "source": [
    "# vic_subs_popu_2019_df = vic_subs_popu_2019_df.Region.replace(\" (Vic.)\", \"\",regex=True)"
   ]
  },
  {
   "cell_type": "code",
   "execution_count": null,
   "metadata": {},
   "outputs": [],
   "source": [
    "# vic_subs_popu_2019_df['Region'] = vic_subs_popu_2019_df['Region'].apply(lambda x: x[:x.find(\"(\")])"
   ]
  },
  {
   "cell_type": "code",
   "execution_count": null,
   "metadata": {},
   "outputs": [],
   "source": [
    "# vic_subs_popu_2019_df.head()"
   ]
  },
  {
   "cell_type": "code",
   "execution_count": null,
   "metadata": {},
   "outputs": [],
   "source": [
    "\n",
    "# using regular expression module to clean the suburbs name\n",
    "\n",
    "import re \n",
    "  \n",
    "# Function to clean the names \n",
    "def Clean_names(Sub_name): \n",
    "    # Search for opening bracket in the name followed by \n",
    "    # any characters repeated any number of times \n",
    "    if re.search('\\(.*', Sub_name): \n",
    "  \n",
    "        # Extract the position of beginning of pattern \n",
    "        pos = re.search('\\(.*', Sub_name).start() - 1\n",
    "  \n",
    "        # return the cleaned name \n",
    "        return Sub_name[:pos]\n",
    "  \n",
    "    else: \n",
    "        # if clean up needed return the same name \n",
    "        return Sub_name \n",
    "          \n"
   ]
  },
  {
   "cell_type": "code",
   "execution_count": null,
   "metadata": {},
   "outputs": [],
   "source": [
    "# Updated the city columns \n",
    "\n",
    "vic_subs_popu_2019_df['Region'] = vic_subs_popu_2019_df['Region'].apply(Clean_names)\n",
    "\n",
    "\n",
    "# Print the updated dataframe \n",
    "# print(vic_subs_popu_2019_df) "
   ]
  },
  {
   "cell_type": "code",
   "execution_count": null,
   "metadata": {},
   "outputs": [],
   "source": [
    "#vic_subs_popu_2019_df.to_csv('c:/users/home/documents/project_3/static/data/Vic_Subs_Popu_2019.csv', index= False)"
   ]
  },
  {
   "cell_type": "code",
   "execution_count": null,
   "metadata": {},
   "outputs": [],
   "source": [
    "# vic_subs_popu_2019_df.head()"
   ]
  },
  {
   "cell_type": "code",
   "execution_count": null,
   "metadata": {},
   "outputs": [],
   "source": [
    "# cleaning median household income data"
   ]
  },
  {
   "cell_type": "code",
   "execution_count": null,
   "metadata": {},
   "outputs": [],
   "source": [
    "import pandas as pd"
   ]
  },
  {
   "cell_type": "code",
   "execution_count": null,
   "metadata": {},
   "outputs": [],
   "source": [
    "df = pd.read_excel('c:/users/home/documents/project_3/static/data/[Boroondara] median-household-income.xls', header=2)"
   ]
  },
  {
   "cell_type": "code",
   "execution_count": null,
   "metadata": {},
   "outputs": [],
   "source": [
    "df = df[0:len(df)-7]"
   ]
  },
  {
   "cell_type": "code",
   "execution_count": null,
   "metadata": {},
   "outputs": [],
   "source": [
    "df = df.rename(columns={'Area': 'Suburb', 'Median household income ($)':'Median Income' })"
   ]
  },
  {
   "cell_type": "code",
   "execution_count": null,
   "metadata": {},
   "outputs": [],
   "source": [
    "df"
   ]
  },
  {
   "cell_type": "code",
   "execution_count": null,
   "metadata": {},
   "outputs": [],
   "source": [
    "df = pd.read_excel('c:/users/home/documents/project_3/static/data/[Stonnington] median-household-income.xls', header=2)"
   ]
  },
  {
   "cell_type": "code",
   "execution_count": null,
   "metadata": {},
   "outputs": [],
   "source": [
    "df = df[0:len(df)-6]\n",
    "df = df.rename(columns={'Area': 'Suburb', 'Median household income ($)':'Median Income' })\n",
    "df"
   ]
  },
  {
   "cell_type": "code",
   "execution_count": null,
   "metadata": {},
   "outputs": [],
   "source": [
    "df = pd.read_excel('c:/users/home/documents/project_3/static/data/[City of Yarra] median-household-income.xls', header=2)\n",
    "#df"
   ]
  },
  {
   "cell_type": "code",
   "execution_count": null,
   "metadata": {},
   "outputs": [],
   "source": [
    "df = df[0:len(df)-7]\n",
    "df2 = df.rename(columns={'Area': 'Suburb', 'Median household income ($)':'Median Income' })\n",
    "df2"
   ]
  },
  {
   "cell_type": "code",
   "execution_count": null,
   "metadata": {},
   "outputs": [],
   "source": [
    "frames = [df, df2]\n",
    "df = pd.concat(frames, ignore_index=True, sort=False)"
   ]
  },
  {
   "cell_type": "code",
   "execution_count": null,
   "metadata": {},
   "outputs": [],
   "source": [
    "df"
   ]
  },
  {
   "cell_type": "code",
   "execution_count": null,
   "metadata": {},
   "outputs": [],
   "source": [
    "df.columns"
   ]
  },
  {
   "cell_type": "code",
   "execution_count": null,
   "metadata": {},
   "outputs": [],
   "source": []
  },
  {
   "cell_type": "code",
   "execution_count": null,
   "metadata": {},
   "outputs": [],
   "source": [
    "len(lga_list)"
   ]
  },
  {
   "cell_type": "code",
   "execution_count": 80,
   "metadata": {},
   "outputs": [],
   "source": [
    "import pandas as pd\n"
   ]
  },
  {
   "cell_type": "code",
   "execution_count": 81,
   "metadata": {},
   "outputs": [],
   "source": [
    "# create a list of lga\n",
    "lga_list = ['[Banyule]', '[Bendigo]', '[Boroondara]', '[City of Ballarat]', \n",
    "           '[City of Yarra]', '[Colac]', '[Darebin]', '[East Gippsland]', \n",
    "            '[Eastern Region]', '[Frankston]', '[Geelong]', '[Gippsland]',\n",
    "           '[Glen Eira]', '[Grampians Shire]', '[Hobsons Bay]', \n",
    "           '[Hume City]', '[Kingston]', '[Knox]', '[Macedon]', \n",
    "            '[Manningham]', '[Maribyrnong]', '[Maroondah]', '[Melton]',\n",
    "           '[Mitchell Shire Council]', '[Monash]', '[Moorabool Shire]',\n",
    "           '[Moreland]', '[Mornington]', '[Port Phillip]', '[Shepparton]',\n",
    "           '[South Gippsland Shire]', '[Wangaratta]', '[Warrnambool]', \n",
    "            '[Wellington Shire]', '[Whitehorse]', '[Whittlesea]', '[Wodonga]',\n",
    "           '[Wyndham]', '[Yarra Ranges]']\n",
    "\n"
   ]
  },
  {
   "cell_type": "code",
   "execution_count": 217,
   "metadata": {},
   "outputs": [],
   "source": [
    "df = pd.read_excel('c:/users/home/documents/project_3/static/data/median-household-income/[Banyule] median-household-income.xls', header=2)\n",
    "df = df[0:len(df)-7] # slice to remove unused rows\n",
    "df = df.rename(columns={'Area': 'Suburb', 'Median household income ($)':'Median Income'})\n",
    "\n",
    "for i in range(1, len(lga_list)):\n",
    "\n",
    "    # read excel file\n",
    "\n",
    "    df1 = pd.read_excel(f'c:/users/home/documents/project_3/static/data/median-household-income/{lga_list[i]} median-household-income.xls', header=2)\n",
    "\n",
    "    df1 = df1[0:len(df1)-7] # slice to remove unused rows\n",
    "\n",
    "    # rename columns\n",
    "    df1 = df1.rename(columns={'Area': 'Suburb', 'Median household income ($)':'Median Income'})\n",
    "\n",
    "\n",
    "    # append to dataframe\n",
    "    df = df.append(df1, ignore_index=True, sort=False)\n"
   ]
  },
  {
   "cell_type": "code",
   "execution_count": 222,
   "metadata": {},
   "outputs": [
    {
     "data": {
      "text/plain": [
       "pandas.core.frame.DataFrame"
      ]
     },
     "execution_count": 222,
     "metadata": {},
     "output_type": "execute_result"
    }
   ],
   "source": [
    "type(df)"
   ]
  },
  {
   "cell_type": "code",
   "execution_count": 223,
   "metadata": {},
   "outputs": [],
   "source": [
    "test_df = df.copy()"
   ]
  },
  {
   "cell_type": "code",
   "execution_count": 226,
   "metadata": {},
   "outputs": [
    {
     "data": {
      "text/html": [
       "<div>\n",
       "<style scoped>\n",
       "    .dataframe tbody tr th:only-of-type {\n",
       "        vertical-align: middle;\n",
       "    }\n",
       "\n",
       "    .dataframe tbody tr th {\n",
       "        vertical-align: top;\n",
       "    }\n",
       "\n",
       "    .dataframe thead th {\n",
       "        text-align: right;\n",
       "    }\n",
       "</style>\n",
       "<table border=\"1\" class=\"dataframe\">\n",
       "  <thead>\n",
       "    <tr style=\"text-align: right;\">\n",
       "      <th></th>\n",
       "      <th>Suburb</th>\n",
       "      <th>Median Income</th>\n",
       "    </tr>\n",
       "  </thead>\n",
       "  <tbody>\n",
       "    <tr>\n",
       "      <th>0</th>\n",
       "      <td>Briar Hill</td>\n",
       "      <td>1604.0</td>\n",
       "    </tr>\n",
       "    <tr>\n",
       "      <th>1</th>\n",
       "      <td>Bundoora</td>\n",
       "      <td>1363.0</td>\n",
       "    </tr>\n",
       "    <tr>\n",
       "      <th>2</th>\n",
       "      <td>Eaglemont</td>\n",
       "      <td>2352.0</td>\n",
       "    </tr>\n",
       "    <tr>\n",
       "      <th>3</th>\n",
       "      <td>Greensborough</td>\n",
       "      <td>1634.0</td>\n",
       "    </tr>\n",
       "    <tr>\n",
       "      <th>4</th>\n",
       "      <td>Heidelberg</td>\n",
       "      <td>1735.0</td>\n",
       "    </tr>\n",
       "  </tbody>\n",
       "</table>\n",
       "</div>"
      ],
      "text/plain": [
       "          Suburb  Median Income\n",
       "0     Briar Hill         1604.0\n",
       "1       Bundoora         1363.0\n",
       "2      Eaglemont         2352.0\n",
       "3  Greensborough         1634.0\n",
       "4     Heidelberg         1735.0"
      ]
     },
     "execution_count": 226,
     "metadata": {},
     "output_type": "execute_result"
    }
   ],
   "source": [
    "df['Suburb'] = df['Suburb'].apply(lambda x: x.split(\" -\"))\n",
    "df['Suburb'] = df['Suburb'].apply(lambda x: x[0])\n",
    "df.head()"
   ]
  },
  {
   "cell_type": "code",
   "execution_count": 230,
   "metadata": {},
   "outputs": [],
   "source": [
    "import re \n",
    "  \n",
    "# Function to clean the names \n",
    "def Clean_names(Sub_name): \n",
    "    # Search for opening bracket in the name followed by \n",
    "    # any characters repeated any number of times \n",
    "    if re.search('\\(.*', Sub_name): \n",
    "  \n",
    "        # Extract the position of beginning of pattern \n",
    "        pos = re.search('\\(.*', Sub_name).start() - 1\n",
    "  \n",
    "        # return the cleaned name \n",
    "        return Sub_name[:pos]\n",
    "  \n",
    "    else: \n",
    "        # if clean up needed return the same name \n",
    "        return Sub_name \n",
    "          \n"
   ]
  },
  {
   "cell_type": "code",
   "execution_count": 231,
   "metadata": {},
   "outputs": [],
   "source": [
    "df['Suburb'] = df['Suburb'].apply(Clean_names)"
   ]
  },
  {
   "cell_type": "code",
   "execution_count": 232,
   "metadata": {},
   "outputs": [],
   "source": [
    "df.to_csv(\"c:/users/home/documents/project_3/static/data/Median_Income.csv\", index=False)"
   ]
  },
  {
   "cell_type": "code",
   "execution_count": 1,
   "metadata": {},
   "outputs": [],
   "source": [
    "# load real estate data\n",
    "import pandas as pd"
   ]
  },
  {
   "cell_type": "code",
   "execution_count": 7,
   "metadata": {},
   "outputs": [],
   "source": [
    "df = pd.read_csv(\"C:/Users/home/Documents/Monu-Hw [KD]/project_3/static/data/MELBOURNE_HOUSE_PRICES_LESS.csv\")"
   ]
  },
  {
   "cell_type": "code",
   "execution_count": 8,
   "metadata": {},
   "outputs": [
    {
     "data": {
      "text/plain": [
       "Index(['Suburb', 'Address', 'Rooms', 'Type', 'Price', 'Method', 'SellerG',\n",
       "       'Date', 'Postcode', 'Regionname', 'Propertycount', 'Distance',\n",
       "       'CouncilArea'],\n",
       "      dtype='object')"
      ]
     },
     "execution_count": 8,
     "metadata": {},
     "output_type": "execute_result"
    }
   ],
   "source": [
    "df.columns"
   ]
  },
  {
   "cell_type": "code",
   "execution_count": 9,
   "metadata": {},
   "outputs": [],
   "source": [
    "del_cols = ['Regionname', 'Propertycount', 'Distance']"
   ]
  },
  {
   "cell_type": "code",
   "execution_count": 10,
   "metadata": {},
   "outputs": [],
   "source": [
    "df.drop(columns=del_cols, inplace=True)"
   ]
  },
  {
   "cell_type": "code",
   "execution_count": 22,
   "metadata": {},
   "outputs": [
    {
     "data": {
      "text/html": [
       "<div>\n",
       "<style scoped>\n",
       "    .dataframe tbody tr th:only-of-type {\n",
       "        vertical-align: middle;\n",
       "    }\n",
       "\n",
       "    .dataframe tbody tr th {\n",
       "        vertical-align: top;\n",
       "    }\n",
       "\n",
       "    .dataframe thead th {\n",
       "        text-align: right;\n",
       "    }\n",
       "</style>\n",
       "<table border=\"1\" class=\"dataframe\">\n",
       "  <thead>\n",
       "    <tr style=\"text-align: right;\">\n",
       "      <th></th>\n",
       "      <th>Suburb</th>\n",
       "      <th>Address</th>\n",
       "      <th>Rooms</th>\n",
       "      <th>Type</th>\n",
       "      <th>Price</th>\n",
       "      <th>Method</th>\n",
       "      <th>SellerG</th>\n",
       "      <th>Date</th>\n",
       "      <th>Postcode</th>\n",
       "      <th>CouncilArea</th>\n",
       "    </tr>\n",
       "  </thead>\n",
       "  <tbody>\n",
       "    <tr>\n",
       "      <th>63018</th>\n",
       "      <td>Roxburgh Park</td>\n",
       "      <td>3 Carr Pl</td>\n",
       "      <td>3</td>\n",
       "      <td>h</td>\n",
       "      <td>566000.0</td>\n",
       "      <td>S</td>\n",
       "      <td>Raine</td>\n",
       "      <td>31/03/2018</td>\n",
       "      <td>3064</td>\n",
       "      <td>Hume City Council</td>\n",
       "    </tr>\n",
       "    <tr>\n",
       "      <th>63019</th>\n",
       "      <td>Roxburgh Park</td>\n",
       "      <td>9 Parker Ct</td>\n",
       "      <td>3</td>\n",
       "      <td>h</td>\n",
       "      <td>500000.0</td>\n",
       "      <td>S</td>\n",
       "      <td>Raine</td>\n",
       "      <td>31/03/2018</td>\n",
       "      <td>3064</td>\n",
       "      <td>Hume City Council</td>\n",
       "    </tr>\n",
       "    <tr>\n",
       "      <th>63020</th>\n",
       "      <td>Roxburgh Park</td>\n",
       "      <td>5 Parkinson Wy</td>\n",
       "      <td>3</td>\n",
       "      <td>h</td>\n",
       "      <td>545000.0</td>\n",
       "      <td>S</td>\n",
       "      <td>Raine</td>\n",
       "      <td>31/03/2018</td>\n",
       "      <td>3064</td>\n",
       "      <td>Hume City Council</td>\n",
       "    </tr>\n",
       "    <tr>\n",
       "      <th>63021</th>\n",
       "      <td>Thomastown</td>\n",
       "      <td>3/1 Travers St</td>\n",
       "      <td>3</td>\n",
       "      <td>u</td>\n",
       "      <td>NaN</td>\n",
       "      <td>PI</td>\n",
       "      <td>Barry</td>\n",
       "      <td>31/03/2018</td>\n",
       "      <td>3074</td>\n",
       "      <td>Whittlesea City Council</td>\n",
       "    </tr>\n",
       "    <tr>\n",
       "      <th>63022</th>\n",
       "      <td>Williams Landing</td>\n",
       "      <td>1 Diadem Wy</td>\n",
       "      <td>4</td>\n",
       "      <td>h</td>\n",
       "      <td>NaN</td>\n",
       "      <td>SP</td>\n",
       "      <td>Aussie</td>\n",
       "      <td>31/03/2018</td>\n",
       "      <td>3027</td>\n",
       "      <td>Wyndham City Council</td>\n",
       "    </tr>\n",
       "  </tbody>\n",
       "</table>\n",
       "</div>"
      ],
      "text/plain": [
       "                 Suburb         Address  Rooms Type     Price Method SellerG  \\\n",
       "63018     Roxburgh Park       3 Carr Pl      3    h  566000.0      S   Raine   \n",
       "63019     Roxburgh Park     9 Parker Ct      3    h  500000.0      S   Raine   \n",
       "63020     Roxburgh Park  5 Parkinson Wy      3    h  545000.0      S   Raine   \n",
       "63021        Thomastown  3/1 Travers St      3    u       NaN     PI   Barry   \n",
       "63022  Williams Landing     1 Diadem Wy      4    h       NaN     SP  Aussie   \n",
       "\n",
       "             Date  Postcode              CouncilArea  \n",
       "63018  31/03/2018      3064        Hume City Council  \n",
       "63019  31/03/2018      3064        Hume City Council  \n",
       "63020  31/03/2018      3064        Hume City Council  \n",
       "63021  31/03/2018      3074  Whittlesea City Council  \n",
       "63022  31/03/2018      3027     Wyndham City Council  "
      ]
     },
     "execution_count": 22,
     "metadata": {},
     "output_type": "execute_result"
    }
   ],
   "source": [
    "df.tail()"
   ]
  },
  {
   "cell_type": "code",
   "execution_count": 26,
   "metadata": {},
   "outputs": [
    {
     "name": "stdout",
     "output_type": "stream",
     "text": [
      "<class 'pandas.core.frame.DataFrame'>\n",
      "Int64Index: 62353 entries, 670 to 63022\n",
      "Data columns (total 10 columns):\n",
      " #   Column       Non-Null Count  Dtype  \n",
      "---  ------       --------------  -----  \n",
      " 0   Suburb       62353 non-null  object \n",
      " 1   Address      62353 non-null  object \n",
      " 2   Rooms        62353 non-null  int64  \n",
      " 3   Type         62353 non-null  object \n",
      " 4   Price        47910 non-null  float64\n",
      " 5   Method       62353 non-null  object \n",
      " 6   SellerG      62353 non-null  object \n",
      " 7   Date         62353 non-null  object \n",
      " 8   Postcode     62353 non-null  int64  \n",
      " 9   CouncilArea  62353 non-null  object \n",
      "dtypes: float64(1), int64(2), object(7)\n",
      "memory usage: 5.2+ MB\n"
     ]
    }
   ],
   "source": [
    "df.info()"
   ]
  },
  {
   "cell_type": "code",
   "execution_count": 31,
   "metadata": {},
   "outputs": [],
   "source": [
    "df = df[:100]"
   ]
  },
  {
   "cell_type": "code",
   "execution_count": 34,
   "metadata": {},
   "outputs": [
    {
     "data": {
      "text/plain": [
       "(100, 10)"
      ]
     },
     "execution_count": 34,
     "metadata": {},
     "output_type": "execute_result"
    }
   ],
   "source": [
    "df.shape"
   ]
  },
  {
   "cell_type": "code",
   "execution_count": 35,
   "metadata": {},
   "outputs": [],
   "source": [
    "#df.to_html(\"C:/Users/home/Documents/Monu-Hw [KD]/project_3/static/data/Melbourne_House_Price.html\", index=False)"
   ]
  },
  {
   "cell_type": "code",
   "execution_count": 44,
   "metadata": {},
   "outputs": [],
   "source": [
    "df = pd.read_csv(\"C:/Users/home/Documents/Monu-Hw [KD]/project_3/static/data/dv279-schoollocations2019.csv\")"
   ]
  },
  {
   "cell_type": "code",
   "execution_count": 37,
   "metadata": {},
   "outputs": [
    {
     "data": {
      "text/plain": [
       "(2254, 21)"
      ]
     },
     "execution_count": 37,
     "metadata": {},
     "output_type": "execute_result"
    }
   ],
   "source": [
    "df.shape"
   ]
  },
  {
   "cell_type": "code",
   "execution_count": 38,
   "metadata": {},
   "outputs": [
    {
     "data": {
      "text/plain": [
       "Index(['Education_Sector', 'Entity_Type', 'School_No', 'School_Name',\n",
       "       'School_Type', 'School_Status', 'Address_Line_1', 'Address_Line_2',\n",
       "       'Address_Town', 'Address_State', 'Address_Postcode',\n",
       "       'Postal_Address_Line_1', 'Postal_Address_Line_2', 'Postal_Town',\n",
       "       'Postal_State', 'Postal_Postcode', 'Full_Phone_No', 'LGA_ID',\n",
       "       'LGA_Name', 'X', 'Y'],\n",
       "      dtype='object')"
      ]
     },
     "execution_count": 38,
     "metadata": {},
     "output_type": "execute_result"
    }
   ],
   "source": [
    "df.columns"
   ]
  },
  {
   "cell_type": "code",
   "execution_count": 45,
   "metadata": {},
   "outputs": [],
   "source": [
    "del_cols = ['Education_Sector', 'Entity_Type','Entity_Type', 'School_No',\n",
    "            'School_Status',  'Address_Line_2', 'Address_Town', 'Address_State', \n",
    "            'Postal_Address_Line_1', 'Postal_Address_Line_2', 'Postal_Town', \n",
    "            'Postal_State', 'Postal_Postcode', 'LGA_ID', 'X', 'Y']"
   ]
  },
  {
   "cell_type": "code",
   "execution_count": 46,
   "metadata": {},
   "outputs": [],
   "source": [
    "df.drop(columns=del_cols, inplace=True)"
   ]
  },
  {
   "cell_type": "code",
   "execution_count": 47,
   "metadata": {},
   "outputs": [
    {
     "data": {
      "text/html": [
       "<div>\n",
       "<style scoped>\n",
       "    .dataframe tbody tr th:only-of-type {\n",
       "        vertical-align: middle;\n",
       "    }\n",
       "\n",
       "    .dataframe tbody tr th {\n",
       "        vertical-align: top;\n",
       "    }\n",
       "\n",
       "    .dataframe thead th {\n",
       "        text-align: right;\n",
       "    }\n",
       "</style>\n",
       "<table border=\"1\" class=\"dataframe\">\n",
       "  <thead>\n",
       "    <tr style=\"text-align: right;\">\n",
       "      <th></th>\n",
       "      <th>School_Name</th>\n",
       "      <th>School_Type</th>\n",
       "      <th>Address_Line_1</th>\n",
       "      <th>Address_Postcode</th>\n",
       "      <th>Full_Phone_No</th>\n",
       "      <th>LGA_Name</th>\n",
       "    </tr>\n",
       "  </thead>\n",
       "  <tbody>\n",
       "    <tr>\n",
       "      <th>0</th>\n",
       "      <td>Alberton Primary School</td>\n",
       "      <td>Primary</td>\n",
       "      <td>21 Thomson Street</td>\n",
       "      <td>3971</td>\n",
       "      <td>03 5183 2412</td>\n",
       "      <td>Wellington (S)</td>\n",
       "    </tr>\n",
       "    <tr>\n",
       "      <th>1</th>\n",
       "      <td>Allansford and District Primary School</td>\n",
       "      <td>Primary</td>\n",
       "      <td>Frank Street</td>\n",
       "      <td>3277</td>\n",
       "      <td>03 5565 1382</td>\n",
       "      <td>Warrnambool (C)</td>\n",
       "    </tr>\n",
       "    <tr>\n",
       "      <th>2</th>\n",
       "      <td>Avoca Primary School</td>\n",
       "      <td>Primary</td>\n",
       "      <td>118 Barnett Street</td>\n",
       "      <td>3467</td>\n",
       "      <td>03 5465 3176</td>\n",
       "      <td>Pyrenees (S)</td>\n",
       "    </tr>\n",
       "    <tr>\n",
       "      <th>3</th>\n",
       "      <td>Avenel Primary School</td>\n",
       "      <td>Primary</td>\n",
       "      <td>40 Anderson Street</td>\n",
       "      <td>3664</td>\n",
       "      <td>03 5796 2264</td>\n",
       "      <td>Strathbogie (S)</td>\n",
       "    </tr>\n",
       "    <tr>\n",
       "      <th>4</th>\n",
       "      <td>Warrandyte Primary School</td>\n",
       "      <td>Primary</td>\n",
       "      <td>5-11 Forbes Street</td>\n",
       "      <td>3113</td>\n",
       "      <td>03 9844 3537</td>\n",
       "      <td>Manningham (C)</td>\n",
       "    </tr>\n",
       "  </tbody>\n",
       "</table>\n",
       "</div>"
      ],
      "text/plain": [
       "                              School_Name School_Type      Address_Line_1  \\\n",
       "0                 Alberton Primary School     Primary   21 Thomson Street   \n",
       "1  Allansford and District Primary School     Primary        Frank Street   \n",
       "2                    Avoca Primary School     Primary  118 Barnett Street   \n",
       "3                   Avenel Primary School     Primary  40 Anderson Street   \n",
       "4               Warrandyte Primary School     Primary  5-11 Forbes Street   \n",
       "\n",
       "   Address_Postcode Full_Phone_No         LGA_Name  \n",
       "0              3971  03 5183 2412   Wellington (S)  \n",
       "1              3277  03 5565 1382  Warrnambool (C)  \n",
       "2              3467  03 5465 3176     Pyrenees (S)  \n",
       "3              3664  03 5796 2264  Strathbogie (S)  \n",
       "4              3113  03 9844 3537   Manningham (C)  "
      ]
     },
     "execution_count": 47,
     "metadata": {},
     "output_type": "execute_result"
    }
   ],
   "source": [
    "df.head()"
   ]
  },
  {
   "cell_type": "code",
   "execution_count": 50,
   "metadata": {},
   "outputs": [],
   "source": [
    "df = df.rename(columns={'School_Name': 'School Name', 'School_Type': 'School Type', \n",
    "                        'Address_Line_1': 'Address', 'Address_Postcode':'Postcode',\n",
    "                       'Full_Phone_No': 'Phone #', 'LGA_Name':'LGA Name'})"
   ]
  },
  {
   "cell_type": "code",
   "execution_count": 51,
   "metadata": {},
   "outputs": [
    {
     "data": {
      "text/html": [
       "<div>\n",
       "<style scoped>\n",
       "    .dataframe tbody tr th:only-of-type {\n",
       "        vertical-align: middle;\n",
       "    }\n",
       "\n",
       "    .dataframe tbody tr th {\n",
       "        vertical-align: top;\n",
       "    }\n",
       "\n",
       "    .dataframe thead th {\n",
       "        text-align: right;\n",
       "    }\n",
       "</style>\n",
       "<table border=\"1\" class=\"dataframe\">\n",
       "  <thead>\n",
       "    <tr style=\"text-align: right;\">\n",
       "      <th></th>\n",
       "      <th>School Name</th>\n",
       "      <th>School Type</th>\n",
       "      <th>Address</th>\n",
       "      <th>Postcode</th>\n",
       "      <th>Phone #</th>\n",
       "      <th>LGA Name</th>\n",
       "    </tr>\n",
       "  </thead>\n",
       "  <tbody>\n",
       "    <tr>\n",
       "      <th>0</th>\n",
       "      <td>Alberton Primary School</td>\n",
       "      <td>Primary</td>\n",
       "      <td>21 Thomson Street</td>\n",
       "      <td>3971</td>\n",
       "      <td>03 5183 2412</td>\n",
       "      <td>Wellington (S)</td>\n",
       "    </tr>\n",
       "    <tr>\n",
       "      <th>1</th>\n",
       "      <td>Allansford and District Primary School</td>\n",
       "      <td>Primary</td>\n",
       "      <td>Frank Street</td>\n",
       "      <td>3277</td>\n",
       "      <td>03 5565 1382</td>\n",
       "      <td>Warrnambool (C)</td>\n",
       "    </tr>\n",
       "    <tr>\n",
       "      <th>2</th>\n",
       "      <td>Avoca Primary School</td>\n",
       "      <td>Primary</td>\n",
       "      <td>118 Barnett Street</td>\n",
       "      <td>3467</td>\n",
       "      <td>03 5465 3176</td>\n",
       "      <td>Pyrenees (S)</td>\n",
       "    </tr>\n",
       "    <tr>\n",
       "      <th>3</th>\n",
       "      <td>Avenel Primary School</td>\n",
       "      <td>Primary</td>\n",
       "      <td>40 Anderson Street</td>\n",
       "      <td>3664</td>\n",
       "      <td>03 5796 2264</td>\n",
       "      <td>Strathbogie (S)</td>\n",
       "    </tr>\n",
       "    <tr>\n",
       "      <th>4</th>\n",
       "      <td>Warrandyte Primary School</td>\n",
       "      <td>Primary</td>\n",
       "      <td>5-11 Forbes Street</td>\n",
       "      <td>3113</td>\n",
       "      <td>03 9844 3537</td>\n",
       "      <td>Manningham (C)</td>\n",
       "    </tr>\n",
       "  </tbody>\n",
       "</table>\n",
       "</div>"
      ],
      "text/plain": [
       "                              School Name School Type             Address  \\\n",
       "0                 Alberton Primary School     Primary   21 Thomson Street   \n",
       "1  Allansford and District Primary School     Primary        Frank Street   \n",
       "2                    Avoca Primary School     Primary  118 Barnett Street   \n",
       "3                   Avenel Primary School     Primary  40 Anderson Street   \n",
       "4               Warrandyte Primary School     Primary  5-11 Forbes Street   \n",
       "\n",
       "   Postcode       Phone #         LGA Name  \n",
       "0      3971  03 5183 2412   Wellington (S)  \n",
       "1      3277  03 5565 1382  Warrnambool (C)  \n",
       "2      3467  03 5465 3176     Pyrenees (S)  \n",
       "3      3664  03 5796 2264  Strathbogie (S)  \n",
       "4      3113  03 9844 3537   Manningham (C)  "
      ]
     },
     "execution_count": 51,
     "metadata": {},
     "output_type": "execute_result"
    }
   ],
   "source": [
    "df.head()"
   ]
  },
  {
   "cell_type": "code",
   "execution_count": 52,
   "metadata": {},
   "outputs": [],
   "source": [
    "df.to_csv(\"C:/Users/home/Documents/Monu-Hw [KD]/project_3/static/data/Melbourne_Schools.csv\", index=False)\n",
    "\n",
    "df.to_html(\"C:/Users/home/Documents/Monu-Hw [KD]/project_3/static/data/Melbourne_Schools.html\", index=False)"
   ]
  },
  {
   "cell_type": "code",
   "execution_count": 55,
   "metadata": {},
   "outputs": [],
   "source": [
    "# loading population data\n",
    "\n",
    "df = pd.read_csv(\"C:/Users/home/Documents/Monu-Hw [KD]/project_3/static/data/VIC_ABS_ANNUAL_ERP_ASGS2001_2019.csv\")"
   ]
  },
  {
   "cell_type": "code",
   "execution_count": 57,
   "metadata": {},
   "outputs": [
    {
     "data": {
      "text/plain": [
       "(17062, 13)"
      ]
     },
     "execution_count": 57,
     "metadata": {},
     "output_type": "execute_result"
    }
   ],
   "source": [
    "df.shape"
   ]
  },
  {
   "cell_type": "code",
   "execution_count": 58,
   "metadata": {},
   "outputs": [
    {
     "data": {
      "text/plain": [
       "Index(['MEASURE', 'Measure', 'REGIONTYPE', 'Geography Level', 'ASGS_2016',\n",
       "       'Region', 'FREQUENCY', 'Frequency', 'TIME', 'Time', 'Value',\n",
       "       'Flag Codes', 'Flags'],\n",
       "      dtype='object')"
      ]
     },
     "execution_count": 58,
     "metadata": {},
     "output_type": "execute_result"
    }
   ],
   "source": [
    "df.columns"
   ]
  },
  {
   "cell_type": "code",
   "execution_count": 59,
   "metadata": {},
   "outputs": [],
   "source": [
    "del_cols = ['MEASURE', 'Measure', 'REGIONTYPE', 'Geography Level', 'ASGS_2016',\n",
    "            'FREQUENCY', 'Frequency', 'TIME', 'Flag Codes', 'Flags']"
   ]
  },
  {
   "cell_type": "code",
   "execution_count": 60,
   "metadata": {},
   "outputs": [],
   "source": [
    "df.drop(columns=del_cols, inplace=True)"
   ]
  },
  {
   "cell_type": "code",
   "execution_count": 62,
   "metadata": {},
   "outputs": [],
   "source": [
    "df = df.rename(columns={'Region':'Suburb', 'Time':'Year'})"
   ]
  },
  {
   "cell_type": "code",
   "execution_count": 126,
   "metadata": {},
   "outputs": [
    {
     "data": {
      "text/plain": [
       "(17062, 3)"
      ]
     },
     "execution_count": 126,
     "metadata": {},
     "output_type": "execute_result"
    }
   ],
   "source": [
    "df.shape"
   ]
  },
  {
   "cell_type": "code",
   "execution_count": 63,
   "metadata": {},
   "outputs": [
    {
     "data": {
      "text/html": [
       "<div>\n",
       "<style scoped>\n",
       "    .dataframe tbody tr th:only-of-type {\n",
       "        vertical-align: middle;\n",
       "    }\n",
       "\n",
       "    .dataframe tbody tr th {\n",
       "        vertical-align: top;\n",
       "    }\n",
       "\n",
       "    .dataframe thead th {\n",
       "        text-align: right;\n",
       "    }\n",
       "</style>\n",
       "<table border=\"1\" class=\"dataframe\">\n",
       "  <thead>\n",
       "    <tr style=\"text-align: right;\">\n",
       "      <th></th>\n",
       "      <th>Suburb</th>\n",
       "      <th>Year</th>\n",
       "      <th>Value</th>\n",
       "    </tr>\n",
       "  </thead>\n",
       "  <tbody>\n",
       "    <tr>\n",
       "      <th>0</th>\n",
       "      <td>Brunswick</td>\n",
       "      <td>2001</td>\n",
       "      <td>20661</td>\n",
       "    </tr>\n",
       "    <tr>\n",
       "      <th>1</th>\n",
       "      <td>Brunswick</td>\n",
       "      <td>2002</td>\n",
       "      <td>20906</td>\n",
       "    </tr>\n",
       "    <tr>\n",
       "      <th>2</th>\n",
       "      <td>Brunswick</td>\n",
       "      <td>2003</td>\n",
       "      <td>21015</td>\n",
       "    </tr>\n",
       "    <tr>\n",
       "      <th>3</th>\n",
       "      <td>Brunswick</td>\n",
       "      <td>2004</td>\n",
       "      <td>21147</td>\n",
       "    </tr>\n",
       "    <tr>\n",
       "      <th>4</th>\n",
       "      <td>Brunswick</td>\n",
       "      <td>2005</td>\n",
       "      <td>21384</td>\n",
       "    </tr>\n",
       "  </tbody>\n",
       "</table>\n",
       "</div>"
      ],
      "text/plain": [
       "      Suburb  Year  Value\n",
       "0  Brunswick  2001  20661\n",
       "1  Brunswick  2002  20906\n",
       "2  Brunswick  2003  21015\n",
       "3  Brunswick  2004  21147\n",
       "4  Brunswick  2005  21384"
      ]
     },
     "execution_count": 63,
     "metadata": {},
     "output_type": "execute_result"
    }
   ],
   "source": [
    "df.head()"
   ]
  },
  {
   "cell_type": "code",
   "execution_count": 193,
   "metadata": {},
   "outputs": [],
   "source": [
    "# reverse table to col-row\n",
    "\n",
    "sub_df = df.pivot_table(index=['Suburb'], columns='Year',\n",
    "                     values='Value', aggfunc='first').reset_index()"
   ]
  },
  {
   "cell_type": "code",
   "execution_count": 177,
   "metadata": {},
   "outputs": [],
   "source": [
    "#sub_df.info()"
   ]
  },
  {
   "cell_type": "code",
   "execution_count": 178,
   "metadata": {},
   "outputs": [],
   "source": [
    "sub_df.dropna(how='any', axis=0, inplace=True)"
   ]
  },
  {
   "cell_type": "code",
   "execution_count": 170,
   "metadata": {},
   "outputs": [
    {
     "data": {
      "text/html": [
       "<div>\n",
       "<style scoped>\n",
       "    .dataframe tbody tr th:only-of-type {\n",
       "        vertical-align: middle;\n",
       "    }\n",
       "\n",
       "    .dataframe tbody tr th {\n",
       "        vertical-align: top;\n",
       "    }\n",
       "\n",
       "    .dataframe thead th {\n",
       "        text-align: right;\n",
       "    }\n",
       "</style>\n",
       "<table border=\"1\" class=\"dataframe\">\n",
       "  <thead>\n",
       "    <tr style=\"text-align: right;\">\n",
       "      <th>Year</th>\n",
       "      <th>2001</th>\n",
       "      <th>2002</th>\n",
       "      <th>2003</th>\n",
       "      <th>2004</th>\n",
       "      <th>2005</th>\n",
       "      <th>2006</th>\n",
       "      <th>2007</th>\n",
       "      <th>2008</th>\n",
       "      <th>2009</th>\n",
       "      <th>2010</th>\n",
       "      <th>2011</th>\n",
       "      <th>2012</th>\n",
       "      <th>2013</th>\n",
       "      <th>2014</th>\n",
       "      <th>2015</th>\n",
       "      <th>2016</th>\n",
       "      <th>2017</th>\n",
       "      <th>2018</th>\n",
       "      <th>2019</th>\n",
       "    </tr>\n",
       "  </thead>\n",
       "  <tbody>\n",
       "    <tr>\n",
       "      <th>count</th>\n",
       "      <td>898.000000</td>\n",
       "      <td>898.000000</td>\n",
       "      <td>898.000000</td>\n",
       "      <td>898.000000</td>\n",
       "      <td>898.000000</td>\n",
       "      <td>898.000000</td>\n",
       "      <td>898.000000</td>\n",
       "      <td>898.000000</td>\n",
       "      <td>898.000000</td>\n",
       "      <td>898.000000</td>\n",
       "      <td>898.000000</td>\n",
       "      <td>898.000000</td>\n",
       "      <td>898.000000</td>\n",
       "      <td>898.000000</td>\n",
       "      <td>898.000000</td>\n",
       "      <td>898.000000</td>\n",
       "      <td>898.000000</td>\n",
       "      <td>898.000000</td>\n",
       "      <td>898.000000</td>\n",
       "    </tr>\n",
       "    <tr>\n",
       "      <th>mean</th>\n",
       "      <td>8961.835189</td>\n",
       "      <td>9053.270601</td>\n",
       "      <td>9152.161470</td>\n",
       "      <td>9249.358575</td>\n",
       "      <td>9363.307350</td>\n",
       "      <td>9499.008909</td>\n",
       "      <td>9679.680401</td>\n",
       "      <td>9884.732739</td>\n",
       "      <td>10109.772829</td>\n",
       "      <td>10283.038976</td>\n",
       "      <td>10449.623608</td>\n",
       "      <td>10671.886414</td>\n",
       "      <td>10889.513363</td>\n",
       "      <td>11073.603563</td>\n",
       "      <td>11253.802895</td>\n",
       "      <td>11450.945434</td>\n",
       "      <td>11649.007795</td>\n",
       "      <td>11842.150334</td>\n",
       "      <td>12038.587973</td>\n",
       "    </tr>\n",
       "    <tr>\n",
       "      <th>std</th>\n",
       "      <td>5685.827975</td>\n",
       "      <td>5679.815471</td>\n",
       "      <td>5673.242362</td>\n",
       "      <td>5679.373213</td>\n",
       "      <td>5699.081274</td>\n",
       "      <td>5742.094155</td>\n",
       "      <td>5819.899502</td>\n",
       "      <td>5921.744738</td>\n",
       "      <td>6041.857541</td>\n",
       "      <td>6139.257277</td>\n",
       "      <td>6237.572193</td>\n",
       "      <td>6381.161428</td>\n",
       "      <td>6541.223751</td>\n",
       "      <td>6699.386238</td>\n",
       "      <td>6868.804000</td>\n",
       "      <td>7076.149218</td>\n",
       "      <td>7303.173609</td>\n",
       "      <td>7534.487080</td>\n",
       "      <td>7776.912091</td>\n",
       "    </tr>\n",
       "    <tr>\n",
       "      <th>min</th>\n",
       "      <td>0.000000</td>\n",
       "      <td>0.000000</td>\n",
       "      <td>0.000000</td>\n",
       "      <td>0.000000</td>\n",
       "      <td>0.000000</td>\n",
       "      <td>0.000000</td>\n",
       "      <td>0.000000</td>\n",
       "      <td>0.000000</td>\n",
       "      <td>0.000000</td>\n",
       "      <td>0.000000</td>\n",
       "      <td>0.000000</td>\n",
       "      <td>0.000000</td>\n",
       "      <td>0.000000</td>\n",
       "      <td>0.000000</td>\n",
       "      <td>0.000000</td>\n",
       "      <td>0.000000</td>\n",
       "      <td>0.000000</td>\n",
       "      <td>0.000000</td>\n",
       "      <td>0.000000</td>\n",
       "    </tr>\n",
       "    <tr>\n",
       "      <th>25%</th>\n",
       "      <td>4589.500000</td>\n",
       "      <td>4665.500000</td>\n",
       "      <td>4678.250000</td>\n",
       "      <td>4759.750000</td>\n",
       "      <td>4826.250000</td>\n",
       "      <td>4953.000000</td>\n",
       "      <td>5010.500000</td>\n",
       "      <td>5171.000000</td>\n",
       "      <td>5331.500000</td>\n",
       "      <td>5457.750000</td>\n",
       "      <td>5511.750000</td>\n",
       "      <td>5592.250000</td>\n",
       "      <td>5648.250000</td>\n",
       "      <td>5717.000000</td>\n",
       "      <td>5803.500000</td>\n",
       "      <td>5920.000000</td>\n",
       "      <td>5979.750000</td>\n",
       "      <td>6042.250000</td>\n",
       "      <td>6091.250000</td>\n",
       "    </tr>\n",
       "    <tr>\n",
       "      <th>50%</th>\n",
       "      <td>8068.500000</td>\n",
       "      <td>8126.500000</td>\n",
       "      <td>8331.000000</td>\n",
       "      <td>8485.500000</td>\n",
       "      <td>8521.000000</td>\n",
       "      <td>8616.500000</td>\n",
       "      <td>8885.000000</td>\n",
       "      <td>9133.000000</td>\n",
       "      <td>9290.000000</td>\n",
       "      <td>9465.000000</td>\n",
       "      <td>9679.000000</td>\n",
       "      <td>9945.000000</td>\n",
       "      <td>10098.000000</td>\n",
       "      <td>10289.500000</td>\n",
       "      <td>10433.000000</td>\n",
       "      <td>10539.500000</td>\n",
       "      <td>10722.000000</td>\n",
       "      <td>10821.000000</td>\n",
       "      <td>10973.500000</td>\n",
       "    </tr>\n",
       "    <tr>\n",
       "      <th>75%</th>\n",
       "      <td>12846.500000</td>\n",
       "      <td>12993.000000</td>\n",
       "      <td>13073.000000</td>\n",
       "      <td>13192.750000</td>\n",
       "      <td>13487.000000</td>\n",
       "      <td>13634.000000</td>\n",
       "      <td>13917.500000</td>\n",
       "      <td>14052.500000</td>\n",
       "      <td>14276.250000</td>\n",
       "      <td>14577.500000</td>\n",
       "      <td>14773.000000</td>\n",
       "      <td>14919.000000</td>\n",
       "      <td>15236.000000</td>\n",
       "      <td>15418.500000</td>\n",
       "      <td>15779.000000</td>\n",
       "      <td>16038.500000</td>\n",
       "      <td>16366.250000</td>\n",
       "      <td>16608.000000</td>\n",
       "      <td>16815.500000</td>\n",
       "    </tr>\n",
       "    <tr>\n",
       "      <th>max</th>\n",
       "      <td>26445.000000</td>\n",
       "      <td>26384.000000</td>\n",
       "      <td>26263.000000</td>\n",
       "      <td>26062.000000</td>\n",
       "      <td>25768.000000</td>\n",
       "      <td>25883.000000</td>\n",
       "      <td>26313.000000</td>\n",
       "      <td>26774.000000</td>\n",
       "      <td>27312.000000</td>\n",
       "      <td>27583.000000</td>\n",
       "      <td>27978.000000</td>\n",
       "      <td>29910.000000</td>\n",
       "      <td>31504.000000</td>\n",
       "      <td>33626.000000</td>\n",
       "      <td>37162.000000</td>\n",
       "      <td>40181.000000</td>\n",
       "      <td>45327.000000</td>\n",
       "      <td>49247.000000</td>\n",
       "      <td>51894.000000</td>\n",
       "    </tr>\n",
       "  </tbody>\n",
       "</table>\n",
       "</div>"
      ],
      "text/plain": [
       "Year           2001          2002          2003          2004          2005  \\\n",
       "count    898.000000    898.000000    898.000000    898.000000    898.000000   \n",
       "mean    8961.835189   9053.270601   9152.161470   9249.358575   9363.307350   \n",
       "std     5685.827975   5679.815471   5673.242362   5679.373213   5699.081274   \n",
       "min        0.000000      0.000000      0.000000      0.000000      0.000000   \n",
       "25%     4589.500000   4665.500000   4678.250000   4759.750000   4826.250000   \n",
       "50%     8068.500000   8126.500000   8331.000000   8485.500000   8521.000000   \n",
       "75%    12846.500000  12993.000000  13073.000000  13192.750000  13487.000000   \n",
       "max    26445.000000  26384.000000  26263.000000  26062.000000  25768.000000   \n",
       "\n",
       "Year           2006          2007          2008          2009          2010  \\\n",
       "count    898.000000    898.000000    898.000000    898.000000    898.000000   \n",
       "mean    9499.008909   9679.680401   9884.732739  10109.772829  10283.038976   \n",
       "std     5742.094155   5819.899502   5921.744738   6041.857541   6139.257277   \n",
       "min        0.000000      0.000000      0.000000      0.000000      0.000000   \n",
       "25%     4953.000000   5010.500000   5171.000000   5331.500000   5457.750000   \n",
       "50%     8616.500000   8885.000000   9133.000000   9290.000000   9465.000000   \n",
       "75%    13634.000000  13917.500000  14052.500000  14276.250000  14577.500000   \n",
       "max    25883.000000  26313.000000  26774.000000  27312.000000  27583.000000   \n",
       "\n",
       "Year           2011          2012          2013          2014          2015  \\\n",
       "count    898.000000    898.000000    898.000000    898.000000    898.000000   \n",
       "mean   10449.623608  10671.886414  10889.513363  11073.603563  11253.802895   \n",
       "std     6237.572193   6381.161428   6541.223751   6699.386238   6868.804000   \n",
       "min        0.000000      0.000000      0.000000      0.000000      0.000000   \n",
       "25%     5511.750000   5592.250000   5648.250000   5717.000000   5803.500000   \n",
       "50%     9679.000000   9945.000000  10098.000000  10289.500000  10433.000000   \n",
       "75%    14773.000000  14919.000000  15236.000000  15418.500000  15779.000000   \n",
       "max    27978.000000  29910.000000  31504.000000  33626.000000  37162.000000   \n",
       "\n",
       "Year           2016          2017          2018          2019  \n",
       "count    898.000000    898.000000    898.000000    898.000000  \n",
       "mean   11450.945434  11649.007795  11842.150334  12038.587973  \n",
       "std     7076.149218   7303.173609   7534.487080   7776.912091  \n",
       "min        0.000000      0.000000      0.000000      0.000000  \n",
       "25%     5920.000000   5979.750000   6042.250000   6091.250000  \n",
       "50%    10539.500000  10722.000000  10821.000000  10973.500000  \n",
       "75%    16038.500000  16366.250000  16608.000000  16815.500000  \n",
       "max    40181.000000  45327.000000  49247.000000  51894.000000  "
      ]
     },
     "execution_count": 170,
     "metadata": {},
     "output_type": "execute_result"
    }
   ],
   "source": [
    "sub_df.describe()"
   ]
  },
  {
   "cell_type": "code",
   "execution_count": 194,
   "metadata": {},
   "outputs": [],
   "source": [
    "sub_df = sub_df[sub_df[2001] != 0]"
   ]
  },
  {
   "cell_type": "code",
   "execution_count": 195,
   "metadata": {},
   "outputs": [
    {
     "data": {
      "text/html": [
       "<div>\n",
       "<style scoped>\n",
       "    .dataframe tbody tr th:only-of-type {\n",
       "        vertical-align: middle;\n",
       "    }\n",
       "\n",
       "    .dataframe tbody tr th {\n",
       "        vertical-align: top;\n",
       "    }\n",
       "\n",
       "    .dataframe thead th {\n",
       "        text-align: right;\n",
       "    }\n",
       "</style>\n",
       "<table border=\"1\" class=\"dataframe\">\n",
       "  <thead>\n",
       "    <tr style=\"text-align: right;\">\n",
       "      <th>Year</th>\n",
       "      <th>2001</th>\n",
       "      <th>2002</th>\n",
       "      <th>2003</th>\n",
       "      <th>2004</th>\n",
       "      <th>2005</th>\n",
       "      <th>2006</th>\n",
       "      <th>2007</th>\n",
       "      <th>2008</th>\n",
       "      <th>2009</th>\n",
       "      <th>2010</th>\n",
       "      <th>2011</th>\n",
       "      <th>2012</th>\n",
       "      <th>2013</th>\n",
       "      <th>2014</th>\n",
       "      <th>2015</th>\n",
       "      <th>2016</th>\n",
       "      <th>2017</th>\n",
       "      <th>2018</th>\n",
       "      <th>2019</th>\n",
       "    </tr>\n",
       "  </thead>\n",
       "  <tbody>\n",
       "    <tr>\n",
       "      <th>count</th>\n",
       "      <td>870.000000</td>\n",
       "      <td>870.000000</td>\n",
       "      <td>870.000000</td>\n",
       "      <td>870.000000</td>\n",
       "      <td>870.000000</td>\n",
       "      <td>870.000000</td>\n",
       "      <td>870.000000</td>\n",
       "      <td>870.000000</td>\n",
       "      <td>870.000000</td>\n",
       "      <td>870.000000</td>\n",
       "      <td>870.000000</td>\n",
       "      <td>870.000000</td>\n",
       "      <td>870.000000</td>\n",
       "      <td>870.000000</td>\n",
       "      <td>870.000000</td>\n",
       "      <td>870.000000</td>\n",
       "      <td>870.000000</td>\n",
       "      <td>870.000000</td>\n",
       "      <td>870.000000</td>\n",
       "    </tr>\n",
       "    <tr>\n",
       "      <th>mean</th>\n",
       "      <td>9250.262069</td>\n",
       "      <td>9344.640230</td>\n",
       "      <td>9446.713793</td>\n",
       "      <td>9547.039080</td>\n",
       "      <td>9664.655172</td>\n",
       "      <td>9804.724138</td>\n",
       "      <td>9991.187356</td>\n",
       "      <td>10202.728736</td>\n",
       "      <td>10434.801149</td>\n",
       "      <td>10613.495402</td>\n",
       "      <td>10785.240230</td>\n",
       "      <td>11014.198851</td>\n",
       "      <td>11238.383908</td>\n",
       "      <td>11428.006897</td>\n",
       "      <td>11613.516092</td>\n",
       "      <td>11816.490805</td>\n",
       "      <td>12020.490805</td>\n",
       "      <td>12219.463218</td>\n",
       "      <td>12421.865517</td>\n",
       "    </tr>\n",
       "    <tr>\n",
       "      <th>std</th>\n",
       "      <td>5540.686292</td>\n",
       "      <td>5529.365576</td>\n",
       "      <td>5516.971844</td>\n",
       "      <td>5518.091866</td>\n",
       "      <td>5532.655251</td>\n",
       "      <td>5570.737833</td>\n",
       "      <td>5643.306626</td>\n",
       "      <td>5740.217670</td>\n",
       "      <td>5855.604677</td>\n",
       "      <td>5949.657612</td>\n",
       "      <td>6045.156193</td>\n",
       "      <td>6186.095891</td>\n",
       "      <td>6344.785164</td>\n",
       "      <td>6503.221267</td>\n",
       "      <td>6673.916108</td>\n",
       "      <td>6883.873051</td>\n",
       "      <td>7114.389665</td>\n",
       "      <td>7349.477250</td>\n",
       "      <td>7595.937575</td>\n",
       "    </tr>\n",
       "    <tr>\n",
       "      <th>min</th>\n",
       "      <td>3.000000</td>\n",
       "      <td>3.000000</td>\n",
       "      <td>4.000000</td>\n",
       "      <td>5.000000</td>\n",
       "      <td>5.000000</td>\n",
       "      <td>3.000000</td>\n",
       "      <td>4.000000</td>\n",
       "      <td>6.000000</td>\n",
       "      <td>7.000000</td>\n",
       "      <td>9.000000</td>\n",
       "      <td>9.000000</td>\n",
       "      <td>9.000000</td>\n",
       "      <td>7.000000</td>\n",
       "      <td>6.000000</td>\n",
       "      <td>4.000000</td>\n",
       "      <td>3.000000</td>\n",
       "      <td>3.000000</td>\n",
       "      <td>3.000000</td>\n",
       "      <td>3.000000</td>\n",
       "    </tr>\n",
       "    <tr>\n",
       "      <th>25%</th>\n",
       "      <td>4836.000000</td>\n",
       "      <td>4894.000000</td>\n",
       "      <td>5007.250000</td>\n",
       "      <td>5140.750000</td>\n",
       "      <td>5199.000000</td>\n",
       "      <td>5283.750000</td>\n",
       "      <td>5349.500000</td>\n",
       "      <td>5466.500000</td>\n",
       "      <td>5690.250000</td>\n",
       "      <td>5711.750000</td>\n",
       "      <td>5841.250000</td>\n",
       "      <td>6015.500000</td>\n",
       "      <td>6073.250000</td>\n",
       "      <td>6103.000000</td>\n",
       "      <td>6194.500000</td>\n",
       "      <td>6290.500000</td>\n",
       "      <td>6312.750000</td>\n",
       "      <td>6409.250000</td>\n",
       "      <td>6457.500000</td>\n",
       "    </tr>\n",
       "    <tr>\n",
       "      <th>50%</th>\n",
       "      <td>8311.500000</td>\n",
       "      <td>8441.500000</td>\n",
       "      <td>8643.500000</td>\n",
       "      <td>8782.500000</td>\n",
       "      <td>8930.500000</td>\n",
       "      <td>9012.500000</td>\n",
       "      <td>9187.500000</td>\n",
       "      <td>9465.000000</td>\n",
       "      <td>9657.500000</td>\n",
       "      <td>9836.000000</td>\n",
       "      <td>10012.500000</td>\n",
       "      <td>10067.500000</td>\n",
       "      <td>10342.500000</td>\n",
       "      <td>10490.500000</td>\n",
       "      <td>10731.500000</td>\n",
       "      <td>10803.500000</td>\n",
       "      <td>10916.000000</td>\n",
       "      <td>11027.000000</td>\n",
       "      <td>11161.500000</td>\n",
       "    </tr>\n",
       "    <tr>\n",
       "      <th>75%</th>\n",
       "      <td>12947.000000</td>\n",
       "      <td>13109.250000</td>\n",
       "      <td>13170.750000</td>\n",
       "      <td>13412.750000</td>\n",
       "      <td>13585.750000</td>\n",
       "      <td>13795.750000</td>\n",
       "      <td>13983.250000</td>\n",
       "      <td>14204.000000</td>\n",
       "      <td>14346.000000</td>\n",
       "      <td>14741.500000</td>\n",
       "      <td>14949.250000</td>\n",
       "      <td>15117.000000</td>\n",
       "      <td>15701.750000</td>\n",
       "      <td>15834.750000</td>\n",
       "      <td>16008.250000</td>\n",
       "      <td>16377.250000</td>\n",
       "      <td>16622.250000</td>\n",
       "      <td>16809.000000</td>\n",
       "      <td>17096.000000</td>\n",
       "    </tr>\n",
       "    <tr>\n",
       "      <th>max</th>\n",
       "      <td>26445.000000</td>\n",
       "      <td>26384.000000</td>\n",
       "      <td>26263.000000</td>\n",
       "      <td>26062.000000</td>\n",
       "      <td>25768.000000</td>\n",
       "      <td>25883.000000</td>\n",
       "      <td>26313.000000</td>\n",
       "      <td>26774.000000</td>\n",
       "      <td>27312.000000</td>\n",
       "      <td>27583.000000</td>\n",
       "      <td>27978.000000</td>\n",
       "      <td>29910.000000</td>\n",
       "      <td>31504.000000</td>\n",
       "      <td>33626.000000</td>\n",
       "      <td>37162.000000</td>\n",
       "      <td>40181.000000</td>\n",
       "      <td>45327.000000</td>\n",
       "      <td>49247.000000</td>\n",
       "      <td>51894.000000</td>\n",
       "    </tr>\n",
       "  </tbody>\n",
       "</table>\n",
       "</div>"
      ],
      "text/plain": [
       "Year           2001          2002          2003          2004          2005  \\\n",
       "count    870.000000    870.000000    870.000000    870.000000    870.000000   \n",
       "mean    9250.262069   9344.640230   9446.713793   9547.039080   9664.655172   \n",
       "std     5540.686292   5529.365576   5516.971844   5518.091866   5532.655251   \n",
       "min        3.000000      3.000000      4.000000      5.000000      5.000000   \n",
       "25%     4836.000000   4894.000000   5007.250000   5140.750000   5199.000000   \n",
       "50%     8311.500000   8441.500000   8643.500000   8782.500000   8930.500000   \n",
       "75%    12947.000000  13109.250000  13170.750000  13412.750000  13585.750000   \n",
       "max    26445.000000  26384.000000  26263.000000  26062.000000  25768.000000   \n",
       "\n",
       "Year           2006          2007          2008          2009          2010  \\\n",
       "count    870.000000    870.000000    870.000000    870.000000    870.000000   \n",
       "mean    9804.724138   9991.187356  10202.728736  10434.801149  10613.495402   \n",
       "std     5570.737833   5643.306626   5740.217670   5855.604677   5949.657612   \n",
       "min        3.000000      4.000000      6.000000      7.000000      9.000000   \n",
       "25%     5283.750000   5349.500000   5466.500000   5690.250000   5711.750000   \n",
       "50%     9012.500000   9187.500000   9465.000000   9657.500000   9836.000000   \n",
       "75%    13795.750000  13983.250000  14204.000000  14346.000000  14741.500000   \n",
       "max    25883.000000  26313.000000  26774.000000  27312.000000  27583.000000   \n",
       "\n",
       "Year           2011          2012          2013          2014          2015  \\\n",
       "count    870.000000    870.000000    870.000000    870.000000    870.000000   \n",
       "mean   10785.240230  11014.198851  11238.383908  11428.006897  11613.516092   \n",
       "std     6045.156193   6186.095891   6344.785164   6503.221267   6673.916108   \n",
       "min        9.000000      9.000000      7.000000      6.000000      4.000000   \n",
       "25%     5841.250000   6015.500000   6073.250000   6103.000000   6194.500000   \n",
       "50%    10012.500000  10067.500000  10342.500000  10490.500000  10731.500000   \n",
       "75%    14949.250000  15117.000000  15701.750000  15834.750000  16008.250000   \n",
       "max    27978.000000  29910.000000  31504.000000  33626.000000  37162.000000   \n",
       "\n",
       "Year           2016          2017          2018          2019  \n",
       "count    870.000000    870.000000    870.000000    870.000000  \n",
       "mean   11816.490805  12020.490805  12219.463218  12421.865517  \n",
       "std     6883.873051   7114.389665   7349.477250   7595.937575  \n",
       "min        3.000000      3.000000      3.000000      3.000000  \n",
       "25%     6290.500000   6312.750000   6409.250000   6457.500000  \n",
       "50%    10803.500000  10916.000000  11027.000000  11161.500000  \n",
       "75%    16377.250000  16622.250000  16809.000000  17096.000000  \n",
       "max    40181.000000  45327.000000  49247.000000  51894.000000  "
      ]
     },
     "execution_count": 195,
     "metadata": {},
     "output_type": "execute_result"
    }
   ],
   "source": [
    "sub_df.describe()"
   ]
  },
  {
   "cell_type": "code",
   "execution_count": 202,
   "metadata": {},
   "outputs": [
    {
     "data": {
      "text/html": [
       "<div>\n",
       "<style scoped>\n",
       "    .dataframe tbody tr th:only-of-type {\n",
       "        vertical-align: middle;\n",
       "    }\n",
       "\n",
       "    .dataframe tbody tr th {\n",
       "        vertical-align: top;\n",
       "    }\n",
       "\n",
       "    .dataframe thead th {\n",
       "        text-align: right;\n",
       "    }\n",
       "</style>\n",
       "<table border=\"1\" class=\"dataframe\">\n",
       "  <thead>\n",
       "    <tr style=\"text-align: right;\">\n",
       "      <th></th>\n",
       "      <th>Suburb</th>\n",
       "      <th>2001</th>\n",
       "      <th>2002</th>\n",
       "      <th>2003</th>\n",
       "      <th>2004</th>\n",
       "      <th>2005</th>\n",
       "      <th>2006</th>\n",
       "      <th>2007</th>\n",
       "      <th>2008</th>\n",
       "      <th>2009</th>\n",
       "      <th>2010</th>\n",
       "      <th>2011</th>\n",
       "      <th>2012</th>\n",
       "      <th>2013</th>\n",
       "      <th>2014</th>\n",
       "      <th>2015</th>\n",
       "      <th>2016</th>\n",
       "      <th>2017</th>\n",
       "      <th>2018</th>\n",
       "      <th>2019</th>\n",
       "    </tr>\n",
       "  </thead>\n",
       "  <tbody>\n",
       "    <tr>\n",
       "      <th>1</th>\n",
       "      <td>Abbotsford</td>\n",
       "      <td>4150</td>\n",
       "      <td>4339</td>\n",
       "      <td>4444</td>\n",
       "      <td>4452</td>\n",
       "      <td>4498</td>\n",
       "      <td>4537</td>\n",
       "      <td>4638</td>\n",
       "      <td>4727</td>\n",
       "      <td>4833</td>\n",
       "      <td>5029</td>\n",
       "      <td>5213</td>\n",
       "      <td>5544</td>\n",
       "      <td>6539</td>\n",
       "      <td>7411</td>\n",
       "      <td>8078</td>\n",
       "      <td>8770</td>\n",
       "      <td>9453</td>\n",
       "      <td>9855</td>\n",
       "      <td>10088</td>\n",
       "    </tr>\n",
       "    <tr>\n",
       "      <th>2</th>\n",
       "      <td>Aberfoyle Park</td>\n",
       "      <td>12307</td>\n",
       "      <td>12377</td>\n",
       "      <td>12433</td>\n",
       "      <td>12385</td>\n",
       "      <td>12415</td>\n",
       "      <td>12454</td>\n",
       "      <td>12414</td>\n",
       "      <td>12356</td>\n",
       "      <td>12251</td>\n",
       "      <td>12207</td>\n",
       "      <td>12146</td>\n",
       "      <td>12126</td>\n",
       "      <td>12063</td>\n",
       "      <td>12035</td>\n",
       "      <td>11960</td>\n",
       "      <td>11863</td>\n",
       "      <td>11835</td>\n",
       "      <td>11784</td>\n",
       "      <td>11723</td>\n",
       "    </tr>\n",
       "    <tr>\n",
       "      <th>3</th>\n",
       "      <td>Airport West</td>\n",
       "      <td>6997</td>\n",
       "      <td>6970</td>\n",
       "      <td>6952</td>\n",
       "      <td>6904</td>\n",
       "      <td>6870</td>\n",
       "      <td>6878</td>\n",
       "      <td>6920</td>\n",
       "      <td>6983</td>\n",
       "      <td>7067</td>\n",
       "      <td>7175</td>\n",
       "      <td>7234</td>\n",
       "      <td>7301</td>\n",
       "      <td>7390</td>\n",
       "      <td>7521</td>\n",
       "      <td>7694</td>\n",
       "      <td>7903</td>\n",
       "      <td>8032</td>\n",
       "      <td>8280</td>\n",
       "      <td>8559</td>\n",
       "    </tr>\n",
       "    <tr>\n",
       "      <th>4</th>\n",
       "      <td>Albany</td>\n",
       "      <td>13971</td>\n",
       "      <td>14019</td>\n",
       "      <td>14047</td>\n",
       "      <td>14088</td>\n",
       "      <td>14173</td>\n",
       "      <td>14218</td>\n",
       "      <td>14230</td>\n",
       "      <td>14254</td>\n",
       "      <td>14274</td>\n",
       "      <td>14298</td>\n",
       "      <td>14324</td>\n",
       "      <td>14503</td>\n",
       "      <td>14630</td>\n",
       "      <td>14635</td>\n",
       "      <td>14663</td>\n",
       "      <td>14622</td>\n",
       "      <td>14490</td>\n",
       "      <td>14402</td>\n",
       "      <td>14286</td>\n",
       "    </tr>\n",
       "    <tr>\n",
       "      <th>5</th>\n",
       "      <td>Albany Region</td>\n",
       "      <td>2805</td>\n",
       "      <td>2816</td>\n",
       "      <td>2837</td>\n",
       "      <td>2854</td>\n",
       "      <td>2891</td>\n",
       "      <td>2929</td>\n",
       "      <td>2941</td>\n",
       "      <td>2964</td>\n",
       "      <td>3010</td>\n",
       "      <td>3039</td>\n",
       "      <td>3082</td>\n",
       "      <td>3155</td>\n",
       "      <td>3258</td>\n",
       "      <td>3364</td>\n",
       "      <td>3439</td>\n",
       "      <td>3501</td>\n",
       "      <td>3561</td>\n",
       "      <td>3620</td>\n",
       "      <td>3685</td>\n",
       "    </tr>\n",
       "  </tbody>\n",
       "</table>\n",
       "</div>"
      ],
      "text/plain": [
       "           Suburb   2001   2002   2003   2004   2005   2006   2007   2008  \\\n",
       "1      Abbotsford   4150   4339   4444   4452   4498   4537   4638   4727   \n",
       "2  Aberfoyle Park  12307  12377  12433  12385  12415  12454  12414  12356   \n",
       "3    Airport West   6997   6970   6952   6904   6870   6878   6920   6983   \n",
       "4          Albany  13971  14019  14047  14088  14173  14218  14230  14254   \n",
       "5   Albany Region   2805   2816   2837   2854   2891   2929   2941   2964   \n",
       "\n",
       "    2009   2010   2011   2012   2013   2014   2015   2016   2017   2018   2019  \n",
       "1   4833   5029   5213   5544   6539   7411   8078   8770   9453   9855  10088  \n",
       "2  12251  12207  12146  12126  12063  12035  11960  11863  11835  11784  11723  \n",
       "3   7067   7175   7234   7301   7390   7521   7694   7903   8032   8280   8559  \n",
       "4  14274  14298  14324  14503  14630  14635  14663  14622  14490  14402  14286  \n",
       "5   3010   3039   3082   3155   3258   3364   3439   3501   3561   3620   3685  "
      ]
     },
     "execution_count": 202,
     "metadata": {},
     "output_type": "execute_result"
    }
   ],
   "source": [
    "# sub_df['Suburb'] = sub_df['Suburb'].apply(lambda x: x.split(\" -\"))\n",
    "# sub_df['Suburb'] = sub_df['Suburb'].apply(lambda x: x[0])\n",
    "sub_df = sub_df[1:]\n",
    "sub_df.head()"
   ]
  },
  {
   "cell_type": "code",
   "execution_count": 203,
   "metadata": {},
   "outputs": [],
   "source": [
    "# sub_df.to_csv(\"C:/Users/home/Documents/Monu-Hw [KD]/project_3/static/data/Vic_Subs_Popu_2001_2019.csv\", index=False)"
   ]
  },
  {
   "cell_type": "code",
   "execution_count": 204,
   "metadata": {},
   "outputs": [],
   "source": [
    "sub_df=pd.read_csv(\"C:/Users/home/Documents/Monu-Hw [KD]/project_3/static/data/Vic_Subs_Popu_2001_2019.csv\")"
   ]
  },
  {
   "cell_type": "code",
   "execution_count": 205,
   "metadata": {},
   "outputs": [],
   "source": [
    "# sub_df.to_html(\"C:/Users/home/Documents/Monu-Hw [KD]/project_3/static/data/Vic_Subs_Popu_2001_2019.html\")"
   ]
  },
  {
   "cell_type": "code",
   "execution_count": 206,
   "metadata": {},
   "outputs": [
    {
     "data": {
      "text/plain": [
       "Index(['Suburb', '2001', '2002', '2003', '2004', '2005', '2006', '2007',\n",
       "       '2008', '2009', '2010', '2011', '2012', '2013', '2014', '2015', '2016',\n",
       "       '2017', '2018', '2019'],\n",
       "      dtype='object')"
      ]
     },
     "execution_count": 206,
     "metadata": {},
     "output_type": "execute_result"
    }
   ],
   "source": [
    "sub_df.columns"
   ]
  },
  {
   "cell_type": "code",
   "execution_count": 207,
   "metadata": {},
   "outputs": [],
   "source": [
    "sub_df.drop(columns=['2001', '2002', '2003', '2004', '2005', '2006', '2007',\n",
    "       '2008'], axis=1, inplace=True)"
   ]
  },
  {
   "cell_type": "code",
   "execution_count": 208,
   "metadata": {},
   "outputs": [
    {
     "data": {
      "text/html": [
       "<div>\n",
       "<style scoped>\n",
       "    .dataframe tbody tr th:only-of-type {\n",
       "        vertical-align: middle;\n",
       "    }\n",
       "\n",
       "    .dataframe tbody tr th {\n",
       "        vertical-align: top;\n",
       "    }\n",
       "\n",
       "    .dataframe thead th {\n",
       "        text-align: right;\n",
       "    }\n",
       "</style>\n",
       "<table border=\"1\" class=\"dataframe\">\n",
       "  <thead>\n",
       "    <tr style=\"text-align: right;\">\n",
       "      <th></th>\n",
       "      <th>Suburb</th>\n",
       "      <th>2009</th>\n",
       "      <th>2010</th>\n",
       "      <th>2011</th>\n",
       "      <th>2012</th>\n",
       "      <th>2013</th>\n",
       "      <th>2014</th>\n",
       "      <th>2015</th>\n",
       "      <th>2016</th>\n",
       "      <th>2017</th>\n",
       "      <th>2018</th>\n",
       "      <th>2019</th>\n",
       "    </tr>\n",
       "  </thead>\n",
       "  <tbody>\n",
       "    <tr>\n",
       "      <th>0</th>\n",
       "      <td>Abbotsford</td>\n",
       "      <td>4833</td>\n",
       "      <td>5029</td>\n",
       "      <td>5213</td>\n",
       "      <td>5544</td>\n",
       "      <td>6539</td>\n",
       "      <td>7411</td>\n",
       "      <td>8078</td>\n",
       "      <td>8770</td>\n",
       "      <td>9453</td>\n",
       "      <td>9855</td>\n",
       "      <td>10088</td>\n",
       "    </tr>\n",
       "    <tr>\n",
       "      <th>1</th>\n",
       "      <td>Aberfoyle Park</td>\n",
       "      <td>12251</td>\n",
       "      <td>12207</td>\n",
       "      <td>12146</td>\n",
       "      <td>12126</td>\n",
       "      <td>12063</td>\n",
       "      <td>12035</td>\n",
       "      <td>11960</td>\n",
       "      <td>11863</td>\n",
       "      <td>11835</td>\n",
       "      <td>11784</td>\n",
       "      <td>11723</td>\n",
       "    </tr>\n",
       "    <tr>\n",
       "      <th>2</th>\n",
       "      <td>Airport West</td>\n",
       "      <td>7067</td>\n",
       "      <td>7175</td>\n",
       "      <td>7234</td>\n",
       "      <td>7301</td>\n",
       "      <td>7390</td>\n",
       "      <td>7521</td>\n",
       "      <td>7694</td>\n",
       "      <td>7903</td>\n",
       "      <td>8032</td>\n",
       "      <td>8280</td>\n",
       "      <td>8559</td>\n",
       "    </tr>\n",
       "    <tr>\n",
       "      <th>3</th>\n",
       "      <td>Albany</td>\n",
       "      <td>14274</td>\n",
       "      <td>14298</td>\n",
       "      <td>14324</td>\n",
       "      <td>14503</td>\n",
       "      <td>14630</td>\n",
       "      <td>14635</td>\n",
       "      <td>14663</td>\n",
       "      <td>14622</td>\n",
       "      <td>14490</td>\n",
       "      <td>14402</td>\n",
       "      <td>14286</td>\n",
       "    </tr>\n",
       "    <tr>\n",
       "      <th>4</th>\n",
       "      <td>Albany Region</td>\n",
       "      <td>3010</td>\n",
       "      <td>3039</td>\n",
       "      <td>3082</td>\n",
       "      <td>3155</td>\n",
       "      <td>3258</td>\n",
       "      <td>3364</td>\n",
       "      <td>3439</td>\n",
       "      <td>3501</td>\n",
       "      <td>3561</td>\n",
       "      <td>3620</td>\n",
       "      <td>3685</td>\n",
       "    </tr>\n",
       "  </tbody>\n",
       "</table>\n",
       "</div>"
      ],
      "text/plain": [
       "           Suburb   2009   2010   2011   2012   2013   2014   2015   2016  \\\n",
       "0      Abbotsford   4833   5029   5213   5544   6539   7411   8078   8770   \n",
       "1  Aberfoyle Park  12251  12207  12146  12126  12063  12035  11960  11863   \n",
       "2    Airport West   7067   7175   7234   7301   7390   7521   7694   7903   \n",
       "3          Albany  14274  14298  14324  14503  14630  14635  14663  14622   \n",
       "4   Albany Region   3010   3039   3082   3155   3258   3364   3439   3501   \n",
       "\n",
       "    2017   2018   2019  \n",
       "0   9453   9855  10088  \n",
       "1  11835  11784  11723  \n",
       "2   8032   8280   8559  \n",
       "3  14490  14402  14286  \n",
       "4   3561   3620   3685  "
      ]
     },
     "execution_count": 208,
     "metadata": {},
     "output_type": "execute_result"
    }
   ],
   "source": [
    "sub_df.head()"
   ]
  },
  {
   "cell_type": "code",
   "execution_count": 209,
   "metadata": {},
   "outputs": [],
   "source": [
    "sub_df.to_html(\"C:/Users/home/Documents/Monu-Hw [KD]/project_3/static/data/Vic_Subs_Popu_2009_2019.html\")"
   ]
  },
  {
   "cell_type": "code",
   "execution_count": 166,
   "metadata": {},
   "outputs": [],
   "source": [
    "#cleaned_df.to_csv(\"C:/Users/home/Documents/Monu-Hw [KD]/project_3/static/data/Vic_Popu_2001_2019.csv\", index=False)"
   ]
  },
  {
   "cell_type": "code",
   "execution_count": 3,
   "metadata": {},
   "outputs": [],
   "source": [
    "# loading melbourne house data\n",
    "df = pd.read_csv(\"C:/Users/home/Documents/Monu-Hw [KD]/project_3/static/data/Melbourne_House_Full.csv\")"
   ]
  },
  {
   "cell_type": "markdown",
   "metadata": {},
   "source": [
    "Features of the Melbourne House Price Data:\n",
    "\n",
    "Suburb: An outlying district of a city\n",
    "Address: Address of the property.\n",
    "Rooms: Number of rooms\n",
    "Method: S - property sold; SP - property sold prior; PI - property passed in; PN - sold prior not disclosed; SN - sold not disclosed; NB - no bid; VB - vendor bid; W - withdrawn prior to auction; SA - sold after auction; SS - sold after auction price not disclosed. N/A - price or highest bid not available.\n",
    "Type: h - house,cottage,villa, semi,terrace; u - unit, duplex; t - townhouse;\n",
    "SellerG: Real Estate Agent\n",
    "Date: Date sold\n",
    "Distance: Distance from CBD(Central Business District)\n",
    "Regionname: General Region (West, North West, North, North east ...etc)\n",
    "Propertycount: Number of properties that exist in the suburb.\n",
    "Bedroom2 : Scraped # of Bedrooms (from different source)\n",
    "Bathroom: Number of Bathrooms\n",
    "Car: Number of carspots\n",
    "Landsize: Land Size\n",
    "BuildingArea: Building Size\n",
    "YearBuilt: Year the house was built\n",
    "CouncilArea: Governing council for the area\n",
    "Lattitude: Self explanatory\n",
    "Longtitude: Self explanatory"
   ]
  },
  {
   "cell_type": "code",
   "execution_count": 5,
   "metadata": {},
   "outputs": [
    {
     "name": "stdout",
     "output_type": "stream",
     "text": [
      "<class 'pandas.core.frame.DataFrame'>\n",
      "RangeIndex: 34857 entries, 0 to 34856\n",
      "Data columns (total 21 columns):\n",
      " #   Column         Non-Null Count  Dtype  \n",
      "---  ------         --------------  -----  \n",
      " 0   Suburb         34857 non-null  object \n",
      " 1   Address        34857 non-null  object \n",
      " 2   Rooms          34857 non-null  int64  \n",
      " 3   Type           34857 non-null  object \n",
      " 4   Price          27247 non-null  float64\n",
      " 5   Method         34857 non-null  object \n",
      " 6   SellerG        34857 non-null  object \n",
      " 7   Date           34857 non-null  object \n",
      " 8   Distance       34856 non-null  float64\n",
      " 9   Postcode       34856 non-null  float64\n",
      " 10  Bedroom2       26640 non-null  float64\n",
      " 11  Bathroom       26631 non-null  float64\n",
      " 12  Car            26129 non-null  float64\n",
      " 13  Landsize       23047 non-null  float64\n",
      " 14  BuildingArea   13742 non-null  float64\n",
      " 15  YearBuilt      15551 non-null  float64\n",
      " 16  CouncilArea    34854 non-null  object \n",
      " 17  Lattitude      26881 non-null  float64\n",
      " 18  Longtitude     26881 non-null  float64\n",
      " 19  Regionname     34854 non-null  object \n",
      " 20  Propertycount  34854 non-null  float64\n",
      "dtypes: float64(12), int64(1), object(8)\n",
      "memory usage: 5.6+ MB\n"
     ]
    }
   ],
   "source": [
    "# having a look at the dataset\n",
    "df.info()"
   ]
  },
  {
   "cell_type": "code",
   "execution_count": 6,
   "metadata": {},
   "outputs": [],
   "source": [
    "import numpy as np\n",
    "\n",
    "import matplotlib.pyplot as plt\n",
    "%matplotlib inline\n",
    "\n",
    "import seaborn as sns\n"
   ]
  },
  {
   "cell_type": "code",
   "execution_count": 11,
   "metadata": {},
   "outputs": [],
   "source": [
    "#Plotly\n",
    "import plotly.express as px\n",
    "import plotly.graph_objs as go"
   ]
  },
  {
   "cell_type": "code",
   "execution_count": 13,
   "metadata": {},
   "outputs": [],
   "source": [
    "#Some styling\n",
    "sns.set_style(\"whitegrid\")\n",
    "plt.style.use(\"fivethirtyeight\")\n",
    "\n",
    "import plotly.io as pio\n",
    "pio.templates.default = 'presentation'\n",
    "\n",
    "#Subplots\n",
    "from plotly.subplots import make_subplots\n",
    "\n",
    "\n",
    "#Showing full path of datasets\n",
    "import os\n",
    "for dirname, _, filenames in os.walk('/kaggle/input'):\n",
    "    for filename in filenames:\n",
    "        print(os.path.join(dirname, filename))\n",
    "        \n",
    "# Disable warnings \n",
    "import warnings\n",
    "warnings.filterwarnings('ignore')"
   ]
  },
  {
   "cell_type": "code",
   "execution_count": 10,
   "metadata": {},
   "outputs": [
    {
     "data": {
      "text/html": [
       "<div>\n",
       "<style scoped>\n",
       "    .dataframe tbody tr th:only-of-type {\n",
       "        vertical-align: middle;\n",
       "    }\n",
       "\n",
       "    .dataframe tbody tr th {\n",
       "        vertical-align: top;\n",
       "    }\n",
       "\n",
       "    .dataframe thead th {\n",
       "        text-align: right;\n",
       "    }\n",
       "</style>\n",
       "<table border=\"1\" class=\"dataframe\">\n",
       "  <thead>\n",
       "    <tr style=\"text-align: right;\">\n",
       "      <th></th>\n",
       "      <th>Suburb</th>\n",
       "      <th>Address</th>\n",
       "      <th>Rooms</th>\n",
       "      <th>Type</th>\n",
       "      <th>Price</th>\n",
       "      <th>Method</th>\n",
       "      <th>SellerG</th>\n",
       "      <th>Date</th>\n",
       "      <th>Distance</th>\n",
       "      <th>Postcode</th>\n",
       "      <th>...</th>\n",
       "      <th>Bathroom</th>\n",
       "      <th>Car</th>\n",
       "      <th>Landsize</th>\n",
       "      <th>BuildingArea</th>\n",
       "      <th>YearBuilt</th>\n",
       "      <th>CouncilArea</th>\n",
       "      <th>Lattitude</th>\n",
       "      <th>Longtitude</th>\n",
       "      <th>Regionname</th>\n",
       "      <th>Propertycount</th>\n",
       "    </tr>\n",
       "  </thead>\n",
       "  <tbody>\n",
       "    <tr>\n",
       "      <th>0</th>\n",
       "      <td>Abbotsford</td>\n",
       "      <td>68 Studley St</td>\n",
       "      <td>2</td>\n",
       "      <td>h</td>\n",
       "      <td>NaN</td>\n",
       "      <td>SS</td>\n",
       "      <td>Jellis</td>\n",
       "      <td>3/09/2016</td>\n",
       "      <td>2.5</td>\n",
       "      <td>3067.0</td>\n",
       "      <td>...</td>\n",
       "      <td>1.0</td>\n",
       "      <td>1.0</td>\n",
       "      <td>126.0</td>\n",
       "      <td>NaN</td>\n",
       "      <td>NaN</td>\n",
       "      <td>Yarra City Council</td>\n",
       "      <td>-37.8014</td>\n",
       "      <td>144.9958</td>\n",
       "      <td>Northern Metropolitan</td>\n",
       "      <td>4019.0</td>\n",
       "    </tr>\n",
       "    <tr>\n",
       "      <th>1</th>\n",
       "      <td>Abbotsford</td>\n",
       "      <td>85 Turner St</td>\n",
       "      <td>2</td>\n",
       "      <td>h</td>\n",
       "      <td>1480000.0</td>\n",
       "      <td>S</td>\n",
       "      <td>Biggin</td>\n",
       "      <td>3/12/2016</td>\n",
       "      <td>2.5</td>\n",
       "      <td>3067.0</td>\n",
       "      <td>...</td>\n",
       "      <td>1.0</td>\n",
       "      <td>1.0</td>\n",
       "      <td>202.0</td>\n",
       "      <td>NaN</td>\n",
       "      <td>NaN</td>\n",
       "      <td>Yarra City Council</td>\n",
       "      <td>-37.7996</td>\n",
       "      <td>144.9984</td>\n",
       "      <td>Northern Metropolitan</td>\n",
       "      <td>4019.0</td>\n",
       "    </tr>\n",
       "    <tr>\n",
       "      <th>2</th>\n",
       "      <td>Abbotsford</td>\n",
       "      <td>25 Bloomburg St</td>\n",
       "      <td>2</td>\n",
       "      <td>h</td>\n",
       "      <td>1035000.0</td>\n",
       "      <td>S</td>\n",
       "      <td>Biggin</td>\n",
       "      <td>4/02/2016</td>\n",
       "      <td>2.5</td>\n",
       "      <td>3067.0</td>\n",
       "      <td>...</td>\n",
       "      <td>1.0</td>\n",
       "      <td>0.0</td>\n",
       "      <td>156.0</td>\n",
       "      <td>79.0</td>\n",
       "      <td>1900.0</td>\n",
       "      <td>Yarra City Council</td>\n",
       "      <td>-37.8079</td>\n",
       "      <td>144.9934</td>\n",
       "      <td>Northern Metropolitan</td>\n",
       "      <td>4019.0</td>\n",
       "    </tr>\n",
       "    <tr>\n",
       "      <th>3</th>\n",
       "      <td>Abbotsford</td>\n",
       "      <td>18/659 Victoria St</td>\n",
       "      <td>3</td>\n",
       "      <td>u</td>\n",
       "      <td>NaN</td>\n",
       "      <td>VB</td>\n",
       "      <td>Rounds</td>\n",
       "      <td>4/02/2016</td>\n",
       "      <td>2.5</td>\n",
       "      <td>3067.0</td>\n",
       "      <td>...</td>\n",
       "      <td>2.0</td>\n",
       "      <td>1.0</td>\n",
       "      <td>0.0</td>\n",
       "      <td>NaN</td>\n",
       "      <td>NaN</td>\n",
       "      <td>Yarra City Council</td>\n",
       "      <td>-37.8114</td>\n",
       "      <td>145.0116</td>\n",
       "      <td>Northern Metropolitan</td>\n",
       "      <td>4019.0</td>\n",
       "    </tr>\n",
       "    <tr>\n",
       "      <th>4</th>\n",
       "      <td>Abbotsford</td>\n",
       "      <td>5 Charles St</td>\n",
       "      <td>3</td>\n",
       "      <td>h</td>\n",
       "      <td>1465000.0</td>\n",
       "      <td>SP</td>\n",
       "      <td>Biggin</td>\n",
       "      <td>4/03/2017</td>\n",
       "      <td>2.5</td>\n",
       "      <td>3067.0</td>\n",
       "      <td>...</td>\n",
       "      <td>2.0</td>\n",
       "      <td>0.0</td>\n",
       "      <td>134.0</td>\n",
       "      <td>150.0</td>\n",
       "      <td>1900.0</td>\n",
       "      <td>Yarra City Council</td>\n",
       "      <td>-37.8093</td>\n",
       "      <td>144.9944</td>\n",
       "      <td>Northern Metropolitan</td>\n",
       "      <td>4019.0</td>\n",
       "    </tr>\n",
       "  </tbody>\n",
       "</table>\n",
       "<p>5 rows × 21 columns</p>\n",
       "</div>"
      ],
      "text/plain": [
       "       Suburb             Address  Rooms Type      Price Method SellerG  \\\n",
       "0  Abbotsford       68 Studley St      2    h        NaN     SS  Jellis   \n",
       "1  Abbotsford        85 Turner St      2    h  1480000.0      S  Biggin   \n",
       "2  Abbotsford     25 Bloomburg St      2    h  1035000.0      S  Biggin   \n",
       "3  Abbotsford  18/659 Victoria St      3    u        NaN     VB  Rounds   \n",
       "4  Abbotsford        5 Charles St      3    h  1465000.0     SP  Biggin   \n",
       "\n",
       "        Date  Distance  Postcode  ...  Bathroom  Car  Landsize  BuildingArea  \\\n",
       "0  3/09/2016       2.5    3067.0  ...       1.0  1.0     126.0           NaN   \n",
       "1  3/12/2016       2.5    3067.0  ...       1.0  1.0     202.0           NaN   \n",
       "2  4/02/2016       2.5    3067.0  ...       1.0  0.0     156.0          79.0   \n",
       "3  4/02/2016       2.5    3067.0  ...       2.0  1.0       0.0           NaN   \n",
       "4  4/03/2017       2.5    3067.0  ...       2.0  0.0     134.0         150.0   \n",
       "\n",
       "   YearBuilt         CouncilArea Lattitude  Longtitude             Regionname  \\\n",
       "0        NaN  Yarra City Council  -37.8014    144.9958  Northern Metropolitan   \n",
       "1        NaN  Yarra City Council  -37.7996    144.9984  Northern Metropolitan   \n",
       "2     1900.0  Yarra City Council  -37.8079    144.9934  Northern Metropolitan   \n",
       "3        NaN  Yarra City Council  -37.8114    145.0116  Northern Metropolitan   \n",
       "4     1900.0  Yarra City Council  -37.8093    144.9944  Northern Metropolitan   \n",
       "\n",
       "  Propertycount  \n",
       "0        4019.0  \n",
       "1        4019.0  \n",
       "2        4019.0  \n",
       "3        4019.0  \n",
       "4        4019.0  \n",
       "\n",
       "[5 rows x 21 columns]"
      ]
     },
     "execution_count": 10,
     "metadata": {},
     "output_type": "execute_result"
    },
    {
     "name": "stdout",
     "output_type": "stream",
     "text": [
      "Collecting plotly\n",
      "  Downloading plotly-4.14.3-py2.py3-none-any.whl (13.2 MB)\n",
      "Collecting retrying>=1.3.3\n",
      "  Downloading retrying-1.3.3.tar.gz (10 kB)\n",
      "Requirement already satisfied: six in c:\\users\\home\\.conda\\envs\\pythondata\\lib\\site-packages (from plotly) (1.15.0)\n",
      "Building wheels for collected packages: retrying\n",
      "  Building wheel for retrying (setup.py): started\n",
      "  Building wheel for retrying (setup.py): finished with status 'done'\n",
      "  Created wheel for retrying: filename=retrying-1.3.3-py3-none-any.whl size=11429 sha256=0fd69d65d2547ad4b28056ac84f1afef169ff68530b1eedea99c332985ed605c\n",
      "  Stored in directory: c:\\users\\home\\appdata\\local\\pip\\cache\\wheels\\ac\\cb\\8a\\b27bf6323e2f4c462dcbf77d70b7c5e7868a7fbe12871770cf\n",
      "Successfully built retrying\n",
      "Installing collected packages: retrying, plotly\n",
      "Successfully installed plotly-4.14.3 retrying-1.3.3\n"
     ]
    }
   ],
   "source": [
    "df.head()"
   ]
  },
  {
   "cell_type": "code",
   "execution_count": 14,
   "metadata": {},
   "outputs": [
    {
     "data": {
      "text/plain": [
       "(34857, 21)"
      ]
     },
     "execution_count": 14,
     "metadata": {},
     "output_type": "execute_result"
    }
   ],
   "source": [
    "df.shape"
   ]
  },
  {
   "cell_type": "code",
   "execution_count": 15,
   "metadata": {},
   "outputs": [
    {
     "data": {
      "text/plain": [
       "Index(['Suburb', 'Address', 'Rooms', 'Type', 'Price', 'Method', 'SellerG',\n",
       "       'Date', 'Distance', 'Postcode', 'Bedroom2', 'Bathroom', 'Car',\n",
       "       'Landsize', 'BuildingArea', 'YearBuilt', 'CouncilArea', 'Lattitude',\n",
       "       'Longtitude', 'Regionname', 'Propertycount'],\n",
       "      dtype='object')"
      ]
     },
     "execution_count": 15,
     "metadata": {},
     "output_type": "execute_result"
    }
   ],
   "source": [
    "df.columns"
   ]
  },
  {
   "cell_type": "code",
   "execution_count": 16,
   "metadata": {},
   "outputs": [
    {
     "name": "stdout",
     "output_type": "stream",
     "text": [
      "<class 'pandas.core.frame.DataFrame'>\n",
      "RangeIndex: 34857 entries, 0 to 34856\n",
      "Data columns (total 21 columns):\n",
      " #   Column         Non-Null Count  Dtype  \n",
      "---  ------         --------------  -----  \n",
      " 0   Suburb         34857 non-null  object \n",
      " 1   Address        34857 non-null  object \n",
      " 2   Rooms          34857 non-null  int64  \n",
      " 3   Type           34857 non-null  object \n",
      " 4   Price          27247 non-null  float64\n",
      " 5   Method         34857 non-null  object \n",
      " 6   SellerG        34857 non-null  object \n",
      " 7   Date           34857 non-null  object \n",
      " 8   Distance       34856 non-null  float64\n",
      " 9   Postcode       34856 non-null  float64\n",
      " 10  Bedroom2       26640 non-null  float64\n",
      " 11  Bathroom       26631 non-null  float64\n",
      " 12  Car            26129 non-null  float64\n",
      " 13  Landsize       23047 non-null  float64\n",
      " 14  BuildingArea   13742 non-null  float64\n",
      " 15  YearBuilt      15551 non-null  float64\n",
      " 16  CouncilArea    34854 non-null  object \n",
      " 17  Lattitude      26881 non-null  float64\n",
      " 18  Longtitude     26881 non-null  float64\n",
      " 19  Regionname     34854 non-null  object \n",
      " 20  Propertycount  34854 non-null  float64\n",
      "dtypes: float64(12), int64(1), object(8)\n",
      "memory usage: 5.6+ MB\n"
     ]
    }
   ],
   "source": [
    "df.info()"
   ]
  },
  {
   "cell_type": "code",
   "execution_count": 18,
   "metadata": {},
   "outputs": [
    {
     "data": {
      "text/html": [
       "<div>\n",
       "<style scoped>\n",
       "    .dataframe tbody tr th:only-of-type {\n",
       "        vertical-align: middle;\n",
       "    }\n",
       "\n",
       "    .dataframe tbody tr th {\n",
       "        vertical-align: top;\n",
       "    }\n",
       "\n",
       "    .dataframe thead th {\n",
       "        text-align: right;\n",
       "    }\n",
       "</style>\n",
       "<table border=\"1\" class=\"dataframe\">\n",
       "  <thead>\n",
       "    <tr style=\"text-align: right;\">\n",
       "      <th></th>\n",
       "      <th>Rooms</th>\n",
       "      <th>Price</th>\n",
       "      <th>Distance</th>\n",
       "      <th>Postcode</th>\n",
       "      <th>Bedroom2</th>\n",
       "      <th>Bathroom</th>\n",
       "      <th>Car</th>\n",
       "      <th>Landsize</th>\n",
       "      <th>BuildingArea</th>\n",
       "      <th>YearBuilt</th>\n",
       "      <th>Lattitude</th>\n",
       "      <th>Longtitude</th>\n",
       "      <th>Propertycount</th>\n",
       "    </tr>\n",
       "  </thead>\n",
       "  <tbody>\n",
       "    <tr>\n",
       "      <th>count</th>\n",
       "      <td>34857.000000</td>\n",
       "      <td>2.724700e+04</td>\n",
       "      <td>34856.000000</td>\n",
       "      <td>34856.000000</td>\n",
       "      <td>26640.000000</td>\n",
       "      <td>26631.000000</td>\n",
       "      <td>26129.000000</td>\n",
       "      <td>23047.000000</td>\n",
       "      <td>13742.00000</td>\n",
       "      <td>15551.000000</td>\n",
       "      <td>26881.000000</td>\n",
       "      <td>26881.000000</td>\n",
       "      <td>34854.000000</td>\n",
       "    </tr>\n",
       "    <tr>\n",
       "      <th>mean</th>\n",
       "      <td>3.031012</td>\n",
       "      <td>1.050173e+06</td>\n",
       "      <td>11.184929</td>\n",
       "      <td>3116.062859</td>\n",
       "      <td>3.084647</td>\n",
       "      <td>1.624798</td>\n",
       "      <td>1.728845</td>\n",
       "      <td>593.598993</td>\n",
       "      <td>160.25640</td>\n",
       "      <td>1965.289885</td>\n",
       "      <td>-37.810634</td>\n",
       "      <td>145.001851</td>\n",
       "      <td>7572.888306</td>\n",
       "    </tr>\n",
       "    <tr>\n",
       "      <th>std</th>\n",
       "      <td>0.969933</td>\n",
       "      <td>6.414671e+05</td>\n",
       "      <td>6.788892</td>\n",
       "      <td>109.023903</td>\n",
       "      <td>0.980690</td>\n",
       "      <td>0.724212</td>\n",
       "      <td>1.010771</td>\n",
       "      <td>3398.841946</td>\n",
       "      <td>401.26706</td>\n",
       "      <td>37.328178</td>\n",
       "      <td>0.090279</td>\n",
       "      <td>0.120169</td>\n",
       "      <td>4428.090313</td>\n",
       "    </tr>\n",
       "    <tr>\n",
       "      <th>min</th>\n",
       "      <td>1.000000</td>\n",
       "      <td>8.500000e+04</td>\n",
       "      <td>0.000000</td>\n",
       "      <td>3000.000000</td>\n",
       "      <td>0.000000</td>\n",
       "      <td>0.000000</td>\n",
       "      <td>0.000000</td>\n",
       "      <td>0.000000</td>\n",
       "      <td>0.00000</td>\n",
       "      <td>1196.000000</td>\n",
       "      <td>-38.190430</td>\n",
       "      <td>144.423790</td>\n",
       "      <td>83.000000</td>\n",
       "    </tr>\n",
       "    <tr>\n",
       "      <th>25%</th>\n",
       "      <td>2.000000</td>\n",
       "      <td>6.350000e+05</td>\n",
       "      <td>6.400000</td>\n",
       "      <td>3051.000000</td>\n",
       "      <td>2.000000</td>\n",
       "      <td>1.000000</td>\n",
       "      <td>1.000000</td>\n",
       "      <td>224.000000</td>\n",
       "      <td>102.00000</td>\n",
       "      <td>1940.000000</td>\n",
       "      <td>-37.862950</td>\n",
       "      <td>144.933500</td>\n",
       "      <td>4385.000000</td>\n",
       "    </tr>\n",
       "    <tr>\n",
       "      <th>50%</th>\n",
       "      <td>3.000000</td>\n",
       "      <td>8.700000e+05</td>\n",
       "      <td>10.300000</td>\n",
       "      <td>3103.000000</td>\n",
       "      <td>3.000000</td>\n",
       "      <td>2.000000</td>\n",
       "      <td>2.000000</td>\n",
       "      <td>521.000000</td>\n",
       "      <td>136.00000</td>\n",
       "      <td>1970.000000</td>\n",
       "      <td>-37.807600</td>\n",
       "      <td>145.007800</td>\n",
       "      <td>6763.000000</td>\n",
       "    </tr>\n",
       "    <tr>\n",
       "      <th>75%</th>\n",
       "      <td>4.000000</td>\n",
       "      <td>1.295000e+06</td>\n",
       "      <td>14.000000</td>\n",
       "      <td>3156.000000</td>\n",
       "      <td>4.000000</td>\n",
       "      <td>2.000000</td>\n",
       "      <td>2.000000</td>\n",
       "      <td>670.000000</td>\n",
       "      <td>188.00000</td>\n",
       "      <td>2000.000000</td>\n",
       "      <td>-37.754100</td>\n",
       "      <td>145.071900</td>\n",
       "      <td>10412.000000</td>\n",
       "    </tr>\n",
       "    <tr>\n",
       "      <th>max</th>\n",
       "      <td>16.000000</td>\n",
       "      <td>1.120000e+07</td>\n",
       "      <td>48.100000</td>\n",
       "      <td>3978.000000</td>\n",
       "      <td>30.000000</td>\n",
       "      <td>12.000000</td>\n",
       "      <td>26.000000</td>\n",
       "      <td>433014.000000</td>\n",
       "      <td>44515.00000</td>\n",
       "      <td>2106.000000</td>\n",
       "      <td>-37.390200</td>\n",
       "      <td>145.526350</td>\n",
       "      <td>21650.000000</td>\n",
       "    </tr>\n",
       "  </tbody>\n",
       "</table>\n",
       "</div>"
      ],
      "text/plain": [
       "              Rooms         Price      Distance      Postcode      Bedroom2  \\\n",
       "count  34857.000000  2.724700e+04  34856.000000  34856.000000  26640.000000   \n",
       "mean       3.031012  1.050173e+06     11.184929   3116.062859      3.084647   \n",
       "std        0.969933  6.414671e+05      6.788892    109.023903      0.980690   \n",
       "min        1.000000  8.500000e+04      0.000000   3000.000000      0.000000   \n",
       "25%        2.000000  6.350000e+05      6.400000   3051.000000      2.000000   \n",
       "50%        3.000000  8.700000e+05     10.300000   3103.000000      3.000000   \n",
       "75%        4.000000  1.295000e+06     14.000000   3156.000000      4.000000   \n",
       "max       16.000000  1.120000e+07     48.100000   3978.000000     30.000000   \n",
       "\n",
       "           Bathroom           Car       Landsize  BuildingArea     YearBuilt  \\\n",
       "count  26631.000000  26129.000000   23047.000000   13742.00000  15551.000000   \n",
       "mean       1.624798      1.728845     593.598993     160.25640   1965.289885   \n",
       "std        0.724212      1.010771    3398.841946     401.26706     37.328178   \n",
       "min        0.000000      0.000000       0.000000       0.00000   1196.000000   \n",
       "25%        1.000000      1.000000     224.000000     102.00000   1940.000000   \n",
       "50%        2.000000      2.000000     521.000000     136.00000   1970.000000   \n",
       "75%        2.000000      2.000000     670.000000     188.00000   2000.000000   \n",
       "max       12.000000     26.000000  433014.000000   44515.00000   2106.000000   \n",
       "\n",
       "          Lattitude    Longtitude  Propertycount  \n",
       "count  26881.000000  26881.000000   34854.000000  \n",
       "mean     -37.810634    145.001851    7572.888306  \n",
       "std        0.090279      0.120169    4428.090313  \n",
       "min      -38.190430    144.423790      83.000000  \n",
       "25%      -37.862950    144.933500    4385.000000  \n",
       "50%      -37.807600    145.007800    6763.000000  \n",
       "75%      -37.754100    145.071900   10412.000000  \n",
       "max      -37.390200    145.526350   21650.000000  "
      ]
     },
     "execution_count": 18,
     "metadata": {},
     "output_type": "execute_result"
    }
   ],
   "source": [
    "df.describe()"
   ]
  },
  {
   "cell_type": "code",
   "execution_count": 19,
   "metadata": {},
   "outputs": [
    {
     "data": {
      "text/plain": [
       "Rooms             0.499097\n",
       "Price             2.588969\n",
       "Distance          1.503586\n",
       "Postcode          4.018786\n",
       "Bedroom2          1.406366\n",
       "Bathroom          1.356293\n",
       "Car               2.095176\n",
       "Landsize         96.022311\n",
       "BuildingArea     99.132579\n",
       "YearBuilt        -1.080913\n",
       "Lattitude        -0.257661\n",
       "Longtitude       -0.394880\n",
       "Propertycount     0.992100\n",
       "dtype: float64"
      ]
     },
     "execution_count": 19,
     "metadata": {},
     "output_type": "execute_result"
    }
   ],
   "source": [
    "df.skew()"
   ]
  },
  {
   "cell_type": "code",
   "execution_count": 25,
   "metadata": {},
   "outputs": [
    {
     "data": {
      "text/plain": [
       "Suburb               0\n",
       "Address              0\n",
       "Rooms                0\n",
       "Type                 0\n",
       "Price             7610\n",
       "Method               0\n",
       "SellerG              0\n",
       "Date                 0\n",
       "Distance             1\n",
       "Postcode             1\n",
       "Bedroom2          8217\n",
       "Bathroom          8226\n",
       "Car               8728\n",
       "Landsize         11810\n",
       "BuildingArea     21115\n",
       "YearBuilt        19306\n",
       "CouncilArea          3\n",
       "Lattitude         7976\n",
       "Longtitude        7976\n",
       "Regionname           3\n",
       "Propertycount        3\n",
       "dtype: int64"
      ]
     },
     "execution_count": 25,
     "metadata": {},
     "output_type": "execute_result"
    }
   ],
   "source": [
    "# check if there is missing values\n",
    "df.isna().sum()"
   ]
  },
  {
   "cell_type": "code",
   "execution_count": 26,
   "metadata": {},
   "outputs": [
    {
     "data": {
      "text/plain": [
       "8728"
      ]
     },
     "execution_count": 26,
     "metadata": {},
     "output_type": "execute_result"
    }
   ],
   "source": [
    "df['Car'].isna().sum()"
   ]
  },
  {
   "cell_type": "code",
   "execution_count": 27,
   "metadata": {},
   "outputs": [
    {
     "data": {
      "text/plain": [
       "2.0"
      ]
     },
     "execution_count": 27,
     "metadata": {},
     "output_type": "execute_result"
    }
   ],
   "source": [
    "df.Car.median()"
   ]
  },
  {
   "cell_type": "code",
   "execution_count": 28,
   "metadata": {},
   "outputs": [
    {
     "data": {
      "text/plain": [
       "2.0     12214\n",
       "1.0      9164\n",
       "0.0      1631\n",
       "3.0      1606\n",
       "4.0      1161\n",
       "5.0       151\n",
       "6.0       140\n",
       "7.0        25\n",
       "8.0        23\n",
       "10.0        6\n",
       "9.0         3\n",
       "11.0        2\n",
       "26.0        1\n",
       "12.0        1\n",
       "18.0        1\n",
       "Name: Car, dtype: int64"
      ]
     },
     "execution_count": 28,
     "metadata": {},
     "output_type": "execute_result"
    }
   ],
   "source": [
    "df.Car.value_counts()"
   ]
  },
  {
   "cell_type": "code",
   "execution_count": null,
   "metadata": {},
   "outputs": [],
   "source": [
    "df.drop(columns=['BuildingArea'],axis=1,inplace=True)"
   ]
  },
  {
   "cell_type": "code",
   "execution_count": null,
   "metadata": {},
   "outputs": [],
   "source": []
  }
 ],
 "metadata": {
  "kernelspec": {
   "display_name": "Python 3.6.10 64-bit ('PythonData': conda)",
   "language": "python",
   "name": "python361064bitpythondatacondaa70f06a6f8ee448e835eff764d6ba02e"
  },
  "language_info": {
   "codemirror_mode": {
    "name": "ipython",
    "version": 3
   },
   "file_extension": ".py",
   "mimetype": "text/x-python",
   "name": "python",
   "nbconvert_exporter": "python",
   "pygments_lexer": "ipython3",
   "version": "3.6.10"
  }
 },
 "nbformat": 4,
 "nbformat_minor": 4
}
