{
 "cells": [
  {
   "cell_type": "code",
   "execution_count": 1,
   "id": "original-romantic",
   "metadata": {},
   "outputs": [],
   "source": [
    "import pandas as pd\n",
    "from sklearn.model_selection import train_test_split\n",
    "from sklearn import ensemble\n",
    "from sklearn.metrics import mean_absolute_error\n",
    "import joblib"
   ]
  },
  {
   "cell_type": "code",
   "execution_count": null,
   "id": "ancient-police",
   "metadata": {},
   "outputs": [],
   "source": [
    "import matplotlib.pyplot as plt\n",
    "import seaborn as sns\n",
    "from scipy.stats import norm, skew \n",
    "from scipy import stats\n",
    "\n",
    "color = sns.color_palette()\n",
    "sns.set_style('darkgrid')\n",
    "%matplotlib inline"
   ]
  },
  {
   "cell_type": "code",
   "execution_count": null,
   "id": "directed-mandate",
   "metadata": {},
   "outputs": [],
   "source": [
    "color = sns.color_palette()\n",
    "sns.set_style('darkgrid')"
   ]
  },
  {
   "cell_type": "code",
   "execution_count": null,
   "id": "rotary-promotion",
   "metadata": {},
   "outputs": [],
   "source": [
    "df = pd.read_csv('Melbourne_housing_FULL.csv')"
   ]
  },
  {
   "cell_type": "code",
   "execution_count": 3,
   "id": "ranging-jefferson",
   "metadata": {},
   "outputs": [
    {
     "data": {
      "text/plain": [
       "'C:\\\\Users\\\\home\\\\Documents\\\\Monu-Hw [KD]\\\\project_3'"
      ]
     },
     "execution_count": 3,
     "metadata": {},
     "output_type": "execute_result"
    }
   ],
   "source": [
    "pwd"
   ]
  },
  {
   "cell_type": "code",
   "execution_count": 6,
   "id": "worth-france",
   "metadata": {},
   "outputs": [],
   "source": [
    "df = pd.read_csv('static/data/vic-sales-precovid.csv')"
   ]
  },
  {
   "cell_type": "code",
   "execution_count": 7,
   "id": "cardiovascular-fight",
   "metadata": {},
   "outputs": [
    {
     "data": {
      "text/html": [
       "<div>\n",
       "<style scoped>\n",
       "    .dataframe tbody tr th:only-of-type {\n",
       "        vertical-align: middle;\n",
       "    }\n",
       "\n",
       "    .dataframe tbody tr th {\n",
       "        vertical-align: top;\n",
       "    }\n",
       "\n",
       "    .dataframe thead th {\n",
       "        text-align: right;\n",
       "    }\n",
       "</style>\n",
       "<table border=\"1\" class=\"dataframe\">\n",
       "  <thead>\n",
       "    <tr style=\"text-align: right;\">\n",
       "      <th></th>\n",
       "      <th>Unnamed: 0</th>\n",
       "      <th>date_sold</th>\n",
       "      <th>price</th>\n",
       "      <th>suburb</th>\n",
       "      <th>city_name</th>\n",
       "      <th>state</th>\n",
       "      <th>lat</th>\n",
       "      <th>lon</th>\n",
       "      <th>bedrooms</th>\n",
       "      <th>property_type</th>\n",
       "      <th>loc_pid</th>\n",
       "      <th>lga_pid</th>\n",
       "      <th>Postcode</th>\n",
       "    </tr>\n",
       "  </thead>\n",
       "  <tbody>\n",
       "    <tr>\n",
       "      <th>0</th>\n",
       "      <td>0</td>\n",
       "      <td>2018-09-02</td>\n",
       "      <td>1123000.0</td>\n",
       "      <td>Elsternwick</td>\n",
       "      <td>Melbourne</td>\n",
       "      <td>VIC</td>\n",
       "      <td>-37.880265</td>\n",
       "      <td>145.002303</td>\n",
       "      <td>3</td>\n",
       "      <td>townhouse</td>\n",
       "      <td>VIC857</td>\n",
       "      <td>VIC89</td>\n",
       "      <td>3185.0</td>\n",
       "    </tr>\n",
       "    <tr>\n",
       "      <th>1</th>\n",
       "      <td>1</td>\n",
       "      <td>2018-09-02</td>\n",
       "      <td>460000.0</td>\n",
       "      <td>Rosebud</td>\n",
       "      <td>Melbourne</td>\n",
       "      <td>VIC</td>\n",
       "      <td>-38.389428</td>\n",
       "      <td>144.924085</td>\n",
       "      <td>3</td>\n",
       "      <td>house</td>\n",
       "      <td>VIC2199</td>\n",
       "      <td>VIC125</td>\n",
       "      <td>3939.0</td>\n",
       "    </tr>\n",
       "    <tr>\n",
       "      <th>2</th>\n",
       "      <td>2</td>\n",
       "      <td>2018-09-02</td>\n",
       "      <td>450000.0</td>\n",
       "      <td>Cheltenham</td>\n",
       "      <td>Melbourne</td>\n",
       "      <td>VIC</td>\n",
       "      <td>-37.964607</td>\n",
       "      <td>145.053552</td>\n",
       "      <td>2</td>\n",
       "      <td>unit</td>\n",
       "      <td>VIC537</td>\n",
       "      <td>VIC98</td>\n",
       "      <td>3192.0</td>\n",
       "    </tr>\n",
       "    <tr>\n",
       "      <th>3</th>\n",
       "      <td>3</td>\n",
       "      <td>2018-09-02</td>\n",
       "      <td>575000.0</td>\n",
       "      <td>Keysborough</td>\n",
       "      <td>Melbourne</td>\n",
       "      <td>VIC</td>\n",
       "      <td>-38.004906</td>\n",
       "      <td>145.165695</td>\n",
       "      <td>2</td>\n",
       "      <td>townhouse</td>\n",
       "      <td>VIC1334</td>\n",
       "      <td>VIC91</td>\n",
       "      <td>3173.0</td>\n",
       "    </tr>\n",
       "    <tr>\n",
       "      <th>4</th>\n",
       "      <td>4</td>\n",
       "      <td>2018-09-02</td>\n",
       "      <td>620000.0</td>\n",
       "      <td>Pakenham</td>\n",
       "      <td>Melbourne</td>\n",
       "      <td>VIC</td>\n",
       "      <td>-38.058174</td>\n",
       "      <td>145.454603</td>\n",
       "      <td>4</td>\n",
       "      <td>house</td>\n",
       "      <td>VIC2023</td>\n",
       "      <td>VIC161</td>\n",
       "      <td>3810.0</td>\n",
       "    </tr>\n",
       "  </tbody>\n",
       "</table>\n",
       "</div>"
      ],
      "text/plain": [
       "   Unnamed: 0   date_sold      price       suburb  city_name state        lat  \\\n",
       "0           0  2018-09-02  1123000.0  Elsternwick  Melbourne   VIC -37.880265   \n",
       "1           1  2018-09-02   460000.0      Rosebud  Melbourne   VIC -38.389428   \n",
       "2           2  2018-09-02   450000.0   Cheltenham  Melbourne   VIC -37.964607   \n",
       "3           3  2018-09-02   575000.0  Keysborough  Melbourne   VIC -38.004906   \n",
       "4           4  2018-09-02   620000.0     Pakenham  Melbourne   VIC -38.058174   \n",
       "\n",
       "          lon  bedrooms property_type  loc_pid lga_pid  Postcode  \n",
       "0  145.002303         3     townhouse   VIC857   VIC89    3185.0  \n",
       "1  144.924085         3         house  VIC2199  VIC125    3939.0  \n",
       "2  145.053552         2          unit   VIC537   VIC98    3192.0  \n",
       "3  145.165695         2     townhouse  VIC1334   VIC91    3173.0  \n",
       "4  145.454603         4         house  VIC2023  VIC161    3810.0  "
      ]
     },
     "execution_count": 7,
     "metadata": {},
     "output_type": "execute_result"
    }
   ],
   "source": [
    "df.head()"
   ]
  },
  {
   "cell_type": "code",
   "execution_count": 8,
   "id": "visible-executive",
   "metadata": {},
   "outputs": [
    {
     "data": {
      "text/plain": [
       "Index(['Unnamed: 0', 'date_sold', 'price', 'suburb', 'city_name', 'state',\n",
       "       'lat', 'lon', 'bedrooms', 'property_type', 'loc_pid', 'lga_pid',\n",
       "       'Postcode'],\n",
       "      dtype='object')"
      ]
     },
     "execution_count": 8,
     "metadata": {},
     "output_type": "execute_result"
    }
   ],
   "source": [
    "df.columns"
   ]
  },
  {
   "cell_type": "code",
   "execution_count": 9,
   "id": "organizational-essence",
   "metadata": {},
   "outputs": [],
   "source": [
    "del_cols = ['Unnamed: 0', 'city_name', 'state', 'lat', 'lon', \n",
    "            'loc_pid', 'lga_pid', 'Postcode']"
   ]
  },
  {
   "cell_type": "code",
   "execution_count": 10,
   "id": "positive-majority",
   "metadata": {},
   "outputs": [],
   "source": [
    "df.drop(columns=del_cols, inplace=True)"
   ]
  },
  {
   "cell_type": "code",
   "execution_count": 28,
   "id": "competitive-tuesday",
   "metadata": {},
   "outputs": [
    {
     "data": {
      "text/plain": [
       "(45705, 5)"
      ]
     },
     "execution_count": 28,
     "metadata": {},
     "output_type": "execute_result"
    }
   ],
   "source": [
    "df.shape"
   ]
  },
  {
   "cell_type": "code",
   "execution_count": 15,
   "id": "great-peace",
   "metadata": {},
   "outputs": [],
   "source": [
    "df['date_sold'] = pd.to_datetime(df['date_sold'])"
   ]
  },
  {
   "cell_type": "code",
   "execution_count": 16,
   "id": "weekly-project",
   "metadata": {},
   "outputs": [],
   "source": [
    "df['date_sold'] = df['date_sold'].dt.year.astype(str) + df['date_sold'].dt.month.astype(str) + df['date_sold'].dt.day.astype(str)"
   ]
  },
  {
   "cell_type": "code",
   "execution_count": 17,
   "id": "divine-index",
   "metadata": {},
   "outputs": [
    {
     "data": {
      "text/html": [
       "<div>\n",
       "<style scoped>\n",
       "    .dataframe tbody tr th:only-of-type {\n",
       "        vertical-align: middle;\n",
       "    }\n",
       "\n",
       "    .dataframe tbody tr th {\n",
       "        vertical-align: top;\n",
       "    }\n",
       "\n",
       "    .dataframe thead th {\n",
       "        text-align: right;\n",
       "    }\n",
       "</style>\n",
       "<table border=\"1\" class=\"dataframe\">\n",
       "  <thead>\n",
       "    <tr style=\"text-align: right;\">\n",
       "      <th></th>\n",
       "      <th>date_sold</th>\n",
       "      <th>price</th>\n",
       "      <th>suburb</th>\n",
       "      <th>bedrooms</th>\n",
       "      <th>property_type</th>\n",
       "    </tr>\n",
       "  </thead>\n",
       "  <tbody>\n",
       "    <tr>\n",
       "      <th>0</th>\n",
       "      <td>201892</td>\n",
       "      <td>1123000.0</td>\n",
       "      <td>Elsternwick</td>\n",
       "      <td>3</td>\n",
       "      <td>townhouse</td>\n",
       "    </tr>\n",
       "    <tr>\n",
       "      <th>1</th>\n",
       "      <td>201892</td>\n",
       "      <td>460000.0</td>\n",
       "      <td>Rosebud</td>\n",
       "      <td>3</td>\n",
       "      <td>house</td>\n",
       "    </tr>\n",
       "    <tr>\n",
       "      <th>2</th>\n",
       "      <td>201892</td>\n",
       "      <td>450000.0</td>\n",
       "      <td>Cheltenham</td>\n",
       "      <td>2</td>\n",
       "      <td>unit</td>\n",
       "    </tr>\n",
       "    <tr>\n",
       "      <th>3</th>\n",
       "      <td>201892</td>\n",
       "      <td>575000.0</td>\n",
       "      <td>Keysborough</td>\n",
       "      <td>2</td>\n",
       "      <td>townhouse</td>\n",
       "    </tr>\n",
       "    <tr>\n",
       "      <th>4</th>\n",
       "      <td>201892</td>\n",
       "      <td>620000.0</td>\n",
       "      <td>Pakenham</td>\n",
       "      <td>4</td>\n",
       "      <td>house</td>\n",
       "    </tr>\n",
       "  </tbody>\n",
       "</table>\n",
       "</div>"
      ],
      "text/plain": [
       "  date_sold      price       suburb  bedrooms property_type\n",
       "0    201892  1123000.0  Elsternwick         3     townhouse\n",
       "1    201892   460000.0      Rosebud         3         house\n",
       "2    201892   450000.0   Cheltenham         2          unit\n",
       "3    201892   575000.0  Keysborough         2     townhouse\n",
       "4    201892   620000.0     Pakenham         4         house"
      ]
     },
     "execution_count": 17,
     "metadata": {},
     "output_type": "execute_result"
    }
   ],
   "source": [
    "df.head()"
   ]
  },
  {
   "cell_type": "code",
   "execution_count": 18,
   "id": "large-munich",
   "metadata": {},
   "outputs": [],
   "source": [
    "df.dropna(axis=0, how='any', thresh=None, subset=None, inplace=True)"
   ]
  },
  {
   "cell_type": "code",
   "execution_count": 20,
   "id": "unavailable-recipient",
   "metadata": {},
   "outputs": [],
   "source": [
    "features_df = pd.get_dummies(df, columns = ['suburb','property_type'])"
   ]
  },
  {
   "cell_type": "code",
   "execution_count": 22,
   "id": "funny-split",
   "metadata": {},
   "outputs": [],
   "source": [
    "# remove price\n",
    "del features_df['price']"
   ]
  },
  {
   "cell_type": "code",
   "execution_count": 24,
   "id": "better-connectivity",
   "metadata": {},
   "outputs": [],
   "source": [
    "X = features_df.to_numpy()\n",
    "y = df['price'].to_numpy()"
   ]
  },
  {
   "cell_type": "code",
   "execution_count": 25,
   "id": "corresponding-mortality",
   "metadata": {},
   "outputs": [],
   "source": [
    "X_train, X_test, y_train, y_test = train_test_split(X, y, test_size=0.3, random_state=0)"
   ]
  },
  {
   "cell_type": "code",
   "execution_count": 56,
   "id": "incoming-ivory",
   "metadata": {},
   "outputs": [],
   "source": [
    "model = ensemble.GradientBoostingRegressor(\n",
    "                n_estimators = 150, learning_rate=0.2,                \n",
    "                max_depth=30, min_samples_split=4, min_samples_leaf=6, \n",
    "                max_features = 0.6, loss='huber')"
   ]
  },
  {
   "cell_type": "code",
   "execution_count": 57,
   "id": "found-mixture",
   "metadata": {},
   "outputs": [
    {
     "data": {
      "text/plain": [
       "GradientBoostingRegressor(learning_rate=0.2, loss='huber', max_depth=20,\n",
       "                          max_features=0.6, min_samples_leaf=6,\n",
       "                          min_samples_split=3, n_estimators=120)"
      ]
     },
     "execution_count": 57,
     "metadata": {},
     "output_type": "execute_result"
    }
   ],
   "source": [
    "model.fit(X_train, y_train)"
   ]
  },
  {
   "cell_type": "code",
   "execution_count": 29,
   "id": "suspended-characterization",
   "metadata": {},
   "outputs": [
    {
     "name": "stdout",
     "output_type": "stream",
     "text": [
      "Training Set Mean Absolute Error: 87633.90\n",
      "Test Set Mean Absolute Error: 149222.47\n"
     ]
    }
   ],
   "source": [
    "mse = mean_absolute_error(y_train, model.predict(X_train))\n",
    "print(\"Training Set Mean Absolute Error: %.2f\"%mse)\n",
    "ytest_mse = mean_absolute_error(y_test, model.predict(X_test))\n",
    "print(\"Test Set Mean Absolute Error: %.2f\"%ytest_mse)"
   ]
  },
  {
   "cell_type": "code",
   "execution_count": 58,
   "id": "enormous-economics",
   "metadata": {},
   "outputs": [
    {
     "name": "stdout",
     "output_type": "stream",
     "text": [
      "Training Set Mean Absolute Error: 108238.17\n",
      "Test Set Mean Absolute Error: 142669.62\n"
     ]
    }
   ],
   "source": [
    "mse = mean_absolute_error(y_train, model.predict(X_train))\n",
    "print(\"Training Set Mean Absolute Error: %.2f\"%mse)\n",
    "ytest_mse = mean_absolute_error(y_test, model.predict(X_test))\n",
    "print(\"Test Set Mean Absolute Error: %.2f\"%ytest_mse)"
   ]
  },
  {
   "cell_type": "code",
   "execution_count": 46,
   "id": "starting-coach",
   "metadata": {},
   "outputs": [
    {
     "data": {
      "text/plain": [
       "array(['201997', 3, 0, 0, 0, 0, 0, 0, 0, 0, 0, 0, 0, 0, 0, 0, 0, 0, 0, 0,\n",
       "       0, 0, 0, 0, 0, 0, 0, 0, 0, 0, 0, 0, 0, 0, 0, 0, 0, 0, 0, 0, 0, 0,\n",
       "       0, 0, 0, 0, 0, 0, 0, 0, 0, 0, 0, 0, 0, 0, 0, 0, 0, 0, 0, 0, 0, 0,\n",
       "       0, 0, 0, 0, 0, 0, 0, 0, 0, 0, 0, 0, 0, 0, 0, 0, 0, 0, 0, 0, 0, 0,\n",
       "       0, 0, 0, 0, 0, 0, 0, 0, 0, 0, 0, 0, 0, 0, 0, 0, 0, 0, 0, 0, 0, 0,\n",
       "       0, 0, 0, 0, 0, 0, 0, 0, 0, 0, 0, 0, 0, 0, 0, 0, 0, 0, 0, 0, 0, 0,\n",
       "       0, 0, 0, 0, 0, 0, 0, 0, 0, 0, 0, 0, 0, 0, 0, 0, 0, 0, 0, 0, 0, 0,\n",
       "       0, 0, 0, 0, 0, 0, 0, 0, 0, 0, 0, 0, 0, 0, 0, 0, 0, 0, 0, 0, 0, 0,\n",
       "       0, 0, 0, 0, 0, 0, 0, 0, 0, 0, 0, 0, 0, 0, 0, 0, 0, 0, 0, 0, 0, 0,\n",
       "       0, 0, 0, 0, 1, 0, 0, 0, 0, 0, 0, 0, 0, 0, 1, 0, 0], dtype=object)"
      ]
     },
     "execution_count": 46,
     "metadata": {},
     "output_type": "execute_result"
    }
   ],
   "source": [
    "X_test[2]"
   ]
  },
  {
   "cell_type": "code",
   "execution_count": 53,
   "id": "activated-opera",
   "metadata": {},
   "outputs": [
    {
     "data": {
      "text/plain": [
       "array([['2019226', 3, 0, 0, 0, 0, 0, 0, 0, 0, 0, 0, 0, 0, 0, 0, 0, 0, 0,\n",
       "        0, 0, 0, 0, 0, 0, 0, 0, 0, 0, 0, 0, 0, 0, 0, 0, 0, 0, 0, 0, 0, 0,\n",
       "        0, 0, 0, 0, 0, 0, 0, 0, 0, 0, 0, 0, 0, 0, 0, 0, 0, 0, 0, 0, 0, 0,\n",
       "        0, 0, 0, 0, 0, 0, 0, 0, 0, 0, 0, 0, 0, 0, 0, 0, 0, 0, 0, 0, 0, 0,\n",
       "        0, 0, 0, 0, 0, 0, 0, 0, 0, 0, 0, 0, 0, 0, 0, 0, 0, 0, 0, 0, 0, 0,\n",
       "        0, 0, 0, 0, 0, 0, 0, 0, 0, 0, 0, 0, 0, 0, 0, 0, 0, 0, 0, 0, 0, 0,\n",
       "        0, 0, 0, 0, 0, 0, 0, 0, 0, 0, 0, 0, 0, 0, 0, 0, 0, 0, 0, 0, 0, 0,\n",
       "        0, 0, 0, 0, 0, 0, 0, 0, 0, 0, 0, 0, 0, 0, 0, 0, 0, 0, 0, 0, 0, 0,\n",
       "        0, 0, 0, 0, 0, 0, 0, 0, 0, 0, 0, 0, 0, 0, 0, 0, 0, 0, 1, 0, 0, 0,\n",
       "        0, 0, 0, 0, 0, 0, 0, 0, 0, 0, 0, 0, 0, 0, 0, 1, 0, 0]],\n",
       "      dtype=object)"
      ]
     },
     "execution_count": 53,
     "metadata": {},
     "output_type": "execute_result"
    }
   ],
   "source": [
    "# new_observation\n",
    "new_observation = X_test[9].reshape(1, -1)\n",
    "new_observation"
   ]
  },
  {
   "cell_type": "code",
   "execution_count": 54,
   "id": "perfect-dimension",
   "metadata": {},
   "outputs": [
    {
     "data": {
      "text/plain": [
       "array([544495.47133964])"
      ]
     },
     "execution_count": 54,
     "metadata": {},
     "output_type": "execute_result"
    }
   ],
   "source": [
    "model.predict(new_observation)\n"
   ]
  },
  {
   "cell_type": "code",
   "execution_count": 55,
   "id": "industrial-participation",
   "metadata": {},
   "outputs": [
    {
     "data": {
      "text/plain": [
       "430000.0"
      ]
     },
     "execution_count": 55,
     "metadata": {},
     "output_type": "execute_result"
    }
   ],
   "source": [
    "y_test[9]"
   ]
  },
  {
   "cell_type": "code",
   "execution_count": null,
   "id": "french-married",
   "metadata": {},
   "outputs": [],
   "source": []
  },
  {
   "cell_type": "code",
   "execution_count": null,
   "id": "entire-jacket",
   "metadata": {},
   "outputs": [],
   "source": []
  },
  {
   "cell_type": "code",
   "execution_count": null,
   "id": "insured-parameter",
   "metadata": {},
   "outputs": [],
   "source": [
    "# df.head(5)\n",
    "# df.columns\n",
    "# del_cols = ['Address', 'Method', 'SellerG',\n",
    "#        'Date', 'Postcode', 'Bedroom2', 'Bathroom', 'Car',\n",
    "#        'Landsize', 'BuildingArea', 'YearBuilt', 'CouncilArea']"
   ]
  },
  {
   "cell_type": "code",
   "execution_count": null,
   "id": "still-inventory",
   "metadata": {},
   "outputs": [],
   "source": [
    "del df['Address']\n",
    "del df['Method']\n",
    "del df['SellerG']\n",
    "del df['Date']\n",
    "del df['Postcode']\n",
    "del df['Lattitude']\n",
    "del df['Longtitude']\n",
    "del df['Regionname']\n",
    "del df['Propertycount']"
   ]
  },
  {
   "cell_type": "code",
   "execution_count": null,
   "id": "scenic-xerox",
   "metadata": {},
   "outputs": [],
   "source": [
    "df.dropna(axis=0, how='any', thresh=None, subset=None, inplace=True)"
   ]
  },
  {
   "cell_type": "code",
   "execution_count": null,
   "id": "after-hygiene",
   "metadata": {},
   "outputs": [],
   "source": [
    "features_df = pd.get_dummies(df, columns = ['Suburb', 'CouncilArea', 'Type'])"
   ]
  },
  {
   "cell_type": "code",
   "execution_count": null,
   "id": "handled-respect",
   "metadata": {},
   "outputs": [],
   "source": [
    "# remove price\n",
    "#del features_df['Price']"
   ]
  },
  {
   "cell_type": "code",
   "execution_count": null,
   "id": "silent-headline",
   "metadata": {},
   "outputs": [],
   "source": [
    "X = features_df.to_numpy()\n",
    "y = df['Price'].to_numpy()"
   ]
  },
  {
   "cell_type": "code",
   "execution_count": null,
   "id": "circular-assembly",
   "metadata": {},
   "outputs": [],
   "source": [
    "features_df"
   ]
  },
  {
   "cell_type": "code",
   "execution_count": null,
   "id": "direct-disposal",
   "metadata": {},
   "outputs": [],
   "source": [
    "X_train, X_test, y_train, y_test = train_test_split(X, y, test_size=0.3, random_state=0)"
   ]
  },
  {
   "cell_type": "code",
   "execution_count": null,
   "id": "injured-single",
   "metadata": {},
   "outputs": [],
   "source": [
    "model = ensemble.GradientBoostingRegressor(\n",
    "                n_estimators = 150, learning_rate=0.3,                \n",
    "                max_depth=30, min_samples_split=4, min_samples_leaf=6, \n",
    "                max_features = 0.6, loss='huber')"
   ]
  },
  {
   "cell_type": "code",
   "execution_count": null,
   "id": "straight-traveler",
   "metadata": {},
   "outputs": [],
   "source": [
    "model"
   ]
  },
  {
   "cell_type": "code",
   "execution_count": null,
   "id": "amino-latitude",
   "metadata": {},
   "outputs": [],
   "source": [
    "model.fit(X_train, y_train)"
   ]
  },
  {
   "cell_type": "code",
   "execution_count": null,
   "id": "designing-cartoon",
   "metadata": {},
   "outputs": [],
   "source": [
    "# joblib.dump(model, 'house_trained_model.pkl')"
   ]
  },
  {
   "cell_type": "code",
   "execution_count": null,
   "id": "provincial-copying",
   "metadata": {},
   "outputs": [],
   "source": [
    "mse = mean_absolute_error(y_train, model.predict(X_train))\n",
    "print(\"Training Set Mean Absolute Error: %.2f\"%mse)"
   ]
  },
  {
   "cell_type": "code",
   "execution_count": null,
   "id": "hourly-temperature",
   "metadata": {},
   "outputs": [],
   "source": [
    "ytest_mse = mean_absolute_error(y_test, model.predict(X_test))\n",
    "print(\"Test Set Mean Absolute Error: %.2f\"%ytest_mse)"
   ]
  },
  {
   "cell_type": "code",
   "execution_count": null,
   "id": "endless-fundamental",
   "metadata": {},
   "outputs": [],
   "source": [
    "# loading the pre-build model\n",
    "#classifer = joblib.load('house_trained_model.pkl')"
   ]
  },
  {
   "cell_type": "code",
   "execution_count": null,
   "id": "opposed-shade",
   "metadata": {},
   "outputs": [],
   "source": [
    "new_observation = X[2,:]\n",
    "# new_observation"
   ]
  },
  {
   "cell_type": "code",
   "execution_count": null,
   "id": "friendly-thickness",
   "metadata": {},
   "outputs": [],
   "source": [
    "new_observation = new_observation.reshape(1, -1)\n",
    "# new_observation"
   ]
  },
  {
   "cell_type": "code",
   "execution_count": null,
   "id": "encouraging-philosophy",
   "metadata": {},
   "outputs": [],
   "source": [
    "#new_observation"
   ]
  },
  {
   "cell_type": "code",
   "execution_count": null,
   "id": "fuzzy-livestock",
   "metadata": {},
   "outputs": [],
   "source": [
    "model.predict(new_observation)"
   ]
  },
  {
   "cell_type": "code",
   "execution_count": null,
   "id": "essential-topic",
   "metadata": {},
   "outputs": [],
   "source": [
    "y_test[2]"
   ]
  },
  {
   "cell_type": "code",
   "execution_count": null,
   "id": "minute-patio",
   "metadata": {},
   "outputs": [],
   "source": [
    "# Grid Search Model"
   ]
  },
  {
   "cell_type": "code",
   "execution_count": null,
   "id": "cross-jungle",
   "metadata": {},
   "outputs": [],
   "source": [
    "# import libraries\n",
    "import joblib\n",
    "from sklearn.model_selection import GridSearchCV"
   ]
  },
  {
   "cell_type": "code",
   "execution_count": null,
   "id": "further-convention",
   "metadata": {},
   "outputs": [],
   "source": [
    "features_df = pd.get_dummies(df, columns = ['Suburb', 'CouncilArea', 'Type'])"
   ]
  },
  {
   "cell_type": "code",
   "execution_count": null,
   "id": "activated-scientist",
   "metadata": {},
   "outputs": [],
   "source": [
    "# remove price\n",
    "del features_df['Price']"
   ]
  },
  {
   "cell_type": "code",
   "execution_count": null,
   "id": "quiet-diamond",
   "metadata": {},
   "outputs": [],
   "source": [
    "X = features_df.to_numpy()\n",
    "y = df['Price'].to_numpy()"
   ]
  },
  {
   "cell_type": "code",
   "execution_count": null,
   "id": "ranking-demand",
   "metadata": {},
   "outputs": [],
   "source": [
    "# Input algorithm\n",
    "model = ensemble.GradientBoostingRegressor()"
   ]
  },
  {
   "cell_type": "code",
   "execution_count": null,
   "id": "single-utilization",
   "metadata": {},
   "outputs": [],
   "source": [
    "# Set params for testing\n",
    "param_grid = {'n_estimators':[50, 100, 200],\n",
    "             'max_depth':[3, 5, 7],\n",
    "             'min_samples_split':[3, 4, 5],\n",
    "             'min_samples_leaf':[6, 7, 8],\n",
    "             'learning_rate':[0.01, 0.02, 0.05, 0.07],\n",
    "             'max_features':[0.6, 0.9],\n",
    "             'loss':['ls', 'lad', 'huber']}"
   ]
  },
  {
   "cell_type": "code",
   "execution_count": null,
   "id": "eligible-coach",
   "metadata": {},
   "outputs": [],
   "source": [
    "gs_cv = GridSearchCV(model, param_grid, n_jobs=2)"
   ]
  },
  {
   "cell_type": "code",
   "execution_count": null,
   "id": "social-nation",
   "metadata": {},
   "outputs": [],
   "source": [
    "# gs_cv.fit(X_train, y_train)"
   ]
  },
  {
   "cell_type": "code",
   "execution_count": null,
   "id": "exterior-ministry",
   "metadata": {},
   "outputs": [],
   "source": [
    "print(gs_cv.best_params_)"
   ]
  },
  {
   "cell_type": "code",
   "execution_count": null,
   "id": "frozen-humidity",
   "metadata": {},
   "outputs": [],
   "source": [
    "mse = mean_absolute_error(y_train, gs_cv.predict(X_train))\n",
    "ytest_mse = mean_absolute_error(y_test, gs_cv.predict(X_test))\n",
    "\n",
    "print(\"Training Set Mean Absolute Error: %.2f\"%mse)\n",
    "print(\"Test Set Mean Absolute Error: %.2f\"%ytest_mse)"
   ]
  },
  {
   "cell_type": "code",
   "execution_count": null,
   "id": "progressive-stopping",
   "metadata": {},
   "outputs": [],
   "source": []
  },
  {
   "cell_type": "code",
   "execution_count": null,
   "id": "illegal-victorian",
   "metadata": {},
   "outputs": [],
   "source": [
    "fig, ax = plt.subplots()\n",
    "ax.scatter(x = df['Suburb'], y = df['Price'])\n",
    "plt.ylabel('SalePrice', fontsize=13)\n",
    "plt.xlabel('Suburb', fontsize=13)\n",
    "plt.show()\n",
    "\n"
   ]
  },
  {
   "cell_type": "code",
   "execution_count": null,
   "id": "seven-module",
   "metadata": {},
   "outputs": [],
   "source": [
    "\n",
    "# train = df.drop(df['Price'] > 8000000)\n",
    "# train\n",
    "# fig, ax = plt.subplots()\n",
    "# ax.scatter(x= train['Suburb'], train['Price'])\n",
    "# plt.ylabel('SalePrice', fontsize=13)\n",
    "# plt.xlabel('Suburb', fontsize=13)\n",
    "# plt.show()"
   ]
  },
  {
   "cell_type": "code",
   "execution_count": null,
   "id": "scenic-chart",
   "metadata": {},
   "outputs": [],
   "source": [
    "sns.distplot(df['Price'] , fit=norm);"
   ]
  },
  {
   "cell_type": "code",
   "execution_count": null,
   "id": "breathing-uncertainty",
   "metadata": {},
   "outputs": [],
   "source": []
  },
  {
   "cell_type": "code",
   "execution_count": null,
   "id": "hairy-multiple",
   "metadata": {},
   "outputs": [],
   "source": []
  },
  {
   "cell_type": "code",
   "execution_count": null,
   "id": "scheduled-compensation",
   "metadata": {},
   "outputs": [],
   "source": [
    "# Use Grid Search CV\n",
    "from sklearn.svm import SVC \n",
    "gs_model = SVC(kernel='linear')\n",
    "gs_model"
   ]
  },
  {
   "cell_type": "code",
   "execution_count": null,
   "id": "hundred-estonia",
   "metadata": {},
   "outputs": [],
   "source": [
    "from sklearn.model_selection import GridSearchCV\n",
    "param_grid = {'C': [1, 5, 10, 50],\n",
    "              'gamma': [0.0001, 0.0005, 0.001, 0.005]}\n",
    "grid = GridSearchCV(gs_model, param_grid, verbose=3)"
   ]
  },
  {
   "cell_type": "code",
   "execution_count": null,
   "id": "innovative-angola",
   "metadata": {},
   "outputs": [],
   "source": [
    "X_train, X_test, y_train, y_test = train_test_split(X, y, random_state=42)"
   ]
  },
  {
   "cell_type": "code",
   "execution_count": null,
   "id": "radio-police",
   "metadata": {},
   "outputs": [],
   "source": [
    "# grid.fit(X_train, y_train)"
   ]
  },
  {
   "cell_type": "code",
   "execution_count": null,
   "id": "legal-matthew",
   "metadata": {},
   "outputs": [],
   "source": []
  },
  {
   "cell_type": "code",
   "execution_count": null,
   "id": "angry-syndrome",
   "metadata": {},
   "outputs": [],
   "source": [
    "# Test random forest regressor "
   ]
  },
  {
   "cell_type": "code",
   "execution_count": null,
   "id": "amazing-constraint",
   "metadata": {},
   "outputs": [],
   "source": [
    "from sklearn.ensemble import RandomForestRegressor\n"
   ]
  },
  {
   "cell_type": "code",
   "execution_count": null,
   "id": "visible-observer",
   "metadata": {},
   "outputs": [],
   "source": [
    "randomforest = RandomForestRegressor(random_state=0, n_jobs=-1)"
   ]
  },
  {
   "cell_type": "code",
   "execution_count": null,
   "id": "adopted-string",
   "metadata": {},
   "outputs": [],
   "source": [
    "# Train model\n",
    "rf_model = randomforest.fit(X_train, y_train)"
   ]
  },
  {
   "cell_type": "code",
   "execution_count": null,
   "id": "basic-retail",
   "metadata": {},
   "outputs": [],
   "source": [
    "mse = mean_absolute_error(y_train, rf_model.predict(X_train))\n",
    "print(\"Training Set Mean Absolute Error: %.2f\"%mse)"
   ]
  },
  {
   "cell_type": "code",
   "execution_count": null,
   "id": "numerous-principal",
   "metadata": {},
   "outputs": [],
   "source": [
    "ytest_mse = mean_absolute_error(y_test, rf_model.predict(X_test))\n",
    "print(\"Test Set Mean Absolute Error: %.2f\"%ytest_mse)"
   ]
  },
  {
   "cell_type": "code",
   "execution_count": null,
   "id": "stone-macedonia",
   "metadata": {},
   "outputs": [],
   "source": []
  },
  {
   "cell_type": "code",
   "execution_count": null,
   "id": "ideal-exhaust",
   "metadata": {},
   "outputs": [],
   "source": []
  },
  {
   "cell_type": "code",
   "execution_count": null,
   "id": "fabulous-republic",
   "metadata": {},
   "outputs": [],
   "source": [
    "# Evaluate model"
   ]
  },
  {
   "cell_type": "code",
   "execution_count": null,
   "id": "dirty-modem",
   "metadata": {},
   "outputs": [],
   "source": [
    "# Load libraries\n",
    "# from sklearn import datasets\n",
    "# from sklearn import metrics\n",
    "from sklearn.model_selection import KFold, cross_val_score\n",
    "from sklearn.pipeline import make_pipeline\n",
    "from sklearn.linear_model import LogisticRegression\n",
    "from sklearn.preprocessing import StandardScaler"
   ]
  },
  {
   "cell_type": "code",
   "execution_count": null,
   "id": "operational-watson",
   "metadata": {},
   "outputs": [],
   "source": [
    "# Create feature matrix\n",
    "features = features_df.to_numpy()\n",
    "\n",
    "# Create target vector\n",
    "target = df['Price'].to_numpy()\n"
   ]
  },
  {
   "cell_type": "code",
   "execution_count": null,
   "id": "brutal-lemon",
   "metadata": {},
   "outputs": [],
   "source": [
    "print(features)\n",
    "print(target)"
   ]
  },
  {
   "cell_type": "code",
   "execution_count": null,
   "id": "infectious-spokesman",
   "metadata": {},
   "outputs": [],
   "source": [
    "# Create standardizer\n",
    "standardizer = StandardScaler()"
   ]
  },
  {
   "cell_type": "code",
   "execution_count": null,
   "id": "emotional-tutorial",
   "metadata": {},
   "outputs": [],
   "source": [
    "# create training and test sets\n",
    "features_train, features_test, target_train, target_test = train_test_split(features, target, test_size=0.1, random_state=1)"
   ]
  },
  {
   "cell_type": "code",
   "execution_count": null,
   "id": "strategic-vampire",
   "metadata": {},
   "outputs": [],
   "source": [
    "# Fit standardizer to training_set\n",
    "standardizer.fit(features_train)"
   ]
  },
  {
   "cell_type": "code",
   "execution_count": null,
   "id": "trained-airport",
   "metadata": {},
   "outputs": [],
   "source": [
    "# Apply both training and test sets\n",
    "features_train_std = standardizer.transform(features_train)\n",
    "features_test_std = standardizer.transform(features_test)\n"
   ]
  },
  {
   "cell_type": "code",
   "execution_count": null,
   "id": "square-kingston",
   "metadata": {},
   "outputs": [],
   "source": [
    "# Create logistic regression object\n",
    "#logit = LogisticRegression()\n",
    "Gradient_model = ensemble.GradientBoostingRegressor(\n",
    "                n_estimators = 150, learning_rate=0.3,                \n",
    "                max_depth=30, min_samples_split=4, min_samples_leaf=6, \n",
    "                max_features = 0.6, loss='huber')\n"
   ]
  },
  {
   "cell_type": "code",
   "execution_count": null,
   "id": "hazardous-lawrence",
   "metadata": {},
   "outputs": [],
   "source": [
    "# Create pipeline that standardizes, the runs GradientBoostingRegressor\n",
    "pipeline = make_pipeline(standardizer, Gradient_model)"
   ]
  },
  {
   "cell_type": "code",
   "execution_count": null,
   "id": "presidential-syndicate",
   "metadata": {},
   "outputs": [],
   "source": [
    "# Create k-Fold cross-validation\n",
    "kf = KFold(n_splits = 10, shuffle=True, random_state = 1)"
   ]
  },
  {
   "cell_type": "code",
   "execution_count": null,
   "id": "surprised-hawaiian",
   "metadata": {},
   "outputs": [],
   "source": [
    "# Conduct k-fold cross-validation\n",
    "# cv_results = cross_val_score(pipeline, # Pipeline\n",
    "#                             features, # Feature matrix\n",
    "#                             target, # Target vector\n",
    "#                             cv = kf, # Cross-validation technique\n",
    "#                             scoring=\"accuracy\", # Loss function\n",
    "#                             n_jobs=-1) # Use all CPU scores"
   ]
  },
  {
   "cell_type": "code",
   "execution_count": null,
   "id": "selective-operations",
   "metadata": {},
   "outputs": [],
   "source": [
    "# Calculate mean\n",
    "cv_results.mean()"
   ]
  },
  {
   "cell_type": "code",
   "execution_count": null,
   "id": "initial-course",
   "metadata": {},
   "outputs": [],
   "source": []
  },
  {
   "cell_type": "code",
   "execution_count": null,
   "id": "electoral-child",
   "metadata": {},
   "outputs": [],
   "source": [
    "# build trained model with bedroom attribute"
   ]
  },
  {
   "cell_type": "code",
   "execution_count": null,
   "id": "colored-evidence",
   "metadata": {},
   "outputs": [],
   "source": [
    "df.shape"
   ]
  },
  {
   "cell_type": "code",
   "execution_count": null,
   "id": "heated-arkansas",
   "metadata": {},
   "outputs": [],
   "source": [
    "sub_bedroom_df = df.copy() #drop(columns=['Type', 'CouncilArea'], axis=1, inplace= True)"
   ]
  },
  {
   "cell_type": "code",
   "execution_count": null,
   "id": "worst-protest",
   "metadata": {},
   "outputs": [],
   "source": [
    "sub_bedroom_df.head()"
   ]
  },
  {
   "cell_type": "code",
   "execution_count": null,
   "id": "practical-congo",
   "metadata": {},
   "outputs": [],
   "source": [
    "#sub_bedroom_df.drop(columns=['Distance', 'BuildingArea', 'Type', 'CouncilArea','Rooms', 'Price', 'Car', 'Bathroom', 'YearBuilt'], axis=1, inplace= True)\n",
    "sub_bedroom_df.drop(columns=['CouncilArea', 'Price', 'Type'], axis = 1, inplace = True)"
   ]
  },
  {
   "cell_type": "code",
   "execution_count": null,
   "id": "minor-demographic",
   "metadata": {},
   "outputs": [],
   "source": [
    "# from sklearn import preprocessing\n",
    "# le = preprocessing.LabelEncoder()\n",
    "\n",
    "# la = preprocessing.LabelEncoder()\n",
    "\n",
    "\n",
    "# sub_bedroom_df['Suburb']= la.fit_transform(sub_bedroom_df['Suburb'])\n",
    "# # sub_bedroom_df['Type']= le.fit_transform(sub_bedroom_df['Type'])\n",
    "\n"
   ]
  },
  {
   "cell_type": "code",
   "execution_count": null,
   "id": "matched-hardwood",
   "metadata": {},
   "outputs": [],
   "source": [
    "sub_bedroom_df = pd.get_dummies(sub_bedroom_df, columns = [ 'Suburb']) #,'Bedroom2','CouncilArea', 'Type'])"
   ]
  },
  {
   "cell_type": "code",
   "execution_count": null,
   "id": "elder-warehouse",
   "metadata": {},
   "outputs": [],
   "source": [
    "X = sub_bedroom_df.to_numpy()\n",
    "y = df['Price'].to_numpy()"
   ]
  },
  {
   "cell_type": "code",
   "execution_count": null,
   "id": "contemporary-contemporary",
   "metadata": {},
   "outputs": [],
   "source": [
    "#sub_bedroom_df.columns #[0]"
   ]
  },
  {
   "cell_type": "code",
   "execution_count": null,
   "id": "irish-federation",
   "metadata": {},
   "outputs": [],
   "source": [
    "X_train, X_test, y_train, y_test = train_test_split(X, y, test_size=0.3, random_state=42)"
   ]
  },
  {
   "cell_type": "code",
   "execution_count": null,
   "id": "spoken-processing",
   "metadata": {},
   "outputs": [],
   "source": [
    "print(X_test)\n",
    "print(y_train)"
   ]
  },
  {
   "cell_type": "code",
   "execution_count": null,
   "id": "overall-olive",
   "metadata": {},
   "outputs": [],
   "source": [
    "bedroom_model = ensemble.GradientBoostingRegressor(\n",
    "                n_estimators = 220, learning_rate=0.2,                \n",
    "                max_depth=20, min_samples_split=4, min_samples_leaf=6, \n",
    "                max_features = 0.6, loss='huber')"
   ]
  },
  {
   "cell_type": "code",
   "execution_count": null,
   "id": "written-consistency",
   "metadata": {},
   "outputs": [],
   "source": [
    "bedroom_model.fit(X_train, y_train)"
   ]
  },
  {
   "cell_type": "code",
   "execution_count": null,
   "id": "front-still",
   "metadata": {},
   "outputs": [],
   "source": [
    "bedroom_model.predict(X_test)"
   ]
  },
  {
   "cell_type": "code",
   "execution_count": null,
   "id": "numeric-amino",
   "metadata": {},
   "outputs": [],
   "source": [
    "y_test"
   ]
  },
  {
   "cell_type": "code",
   "execution_count": null,
   "id": "pending-dragon",
   "metadata": {},
   "outputs": [],
   "source": [
    "mse = mean_absolute_error(y_train, bedroom_model.predict(X_train))\n",
    "print(\"Training Set Mean Absolute Error: %.2f\"%mse)\n",
    "ytest_mse = mean_absolute_error(y_test, bedroom_model.predict(X_test))\n",
    "print(\"Test Set Mean Absolute Error: %.2f\"%ytest_mse)"
   ]
  },
  {
   "cell_type": "code",
   "execution_count": null,
   "id": "abroad-uganda",
   "metadata": {},
   "outputs": [],
   "source": [
    "#model.feature_importances_"
   ]
  },
  {
   "cell_type": "code",
   "execution_count": null,
   "id": "adopted-trunk",
   "metadata": {},
   "outputs": [],
   "source": [
    "print(\"R-squared for Train: %.2f\" %bedroom_model.score(X_train, y_train))\n",
    "print(\"R-squared for Test: %.2f\" %bedroom_model.score(X_test, y_test))"
   ]
  },
  {
   "cell_type": "code",
   "execution_count": null,
   "id": "engaging-indonesia",
   "metadata": {},
   "outputs": [],
   "source": [
    "from sklearn.metrics import mean_squared_error"
   ]
  },
  {
   "cell_type": "code",
   "execution_count": null,
   "id": "acute-ecuador",
   "metadata": {},
   "outputs": [],
   "source": [
    "mean_squared_error(y_test, model.predict(X_test))"
   ]
  },
  {
   "cell_type": "code",
   "execution_count": null,
   "id": "massive-cartridge",
   "metadata": {},
   "outputs": [],
   "source": [
    "import math\n",
    "print(math.sqrt(4285332751.4189487))"
   ]
  },
  {
   "cell_type": "code",
   "execution_count": null,
   "id": "continuing-respondent",
   "metadata": {},
   "outputs": [],
   "source": [
    "print(math.sqrt(93127935233.24974))"
   ]
  },
  {
   "cell_type": "code",
   "execution_count": null,
   "id": "accessory-pension",
   "metadata": {},
   "outputs": [],
   "source": [
    "le.inverse_transform([0])\n"
   ]
  },
  {
   "cell_type": "code",
   "execution_count": null,
   "id": "exact-berry",
   "metadata": {},
   "outputs": [],
   "source": [
    "X_train"
   ]
  },
  {
   "cell_type": "code",
   "execution_count": null,
   "id": "ideal-creator",
   "metadata": {},
   "outputs": [],
   "source": [
    "sub_bedroom_df.head(2)"
   ]
  },
  {
   "cell_type": "code",
   "execution_count": null,
   "id": "eight-stamp",
   "metadata": {},
   "outputs": [],
   "source": [
    "X_train[0]"
   ]
  },
  {
   "cell_type": "code",
   "execution_count": null,
   "id": "labeled-emergency",
   "metadata": {},
   "outputs": [],
   "source": [
    "sub_bedroom_df.values[0]"
   ]
  },
  {
   "cell_type": "code",
   "execution_count": null,
   "id": "straight-welsh",
   "metadata": {},
   "outputs": [],
   "source": [
    "#'0, 2, 0, 1035000.0, 2.5, 2.0, 1.0, 0.0, 156.0, 79.0, 1900.0'"
   ]
  },
  {
   "cell_type": "code",
   "execution_count": null,
   "id": "subjective-approval",
   "metadata": {},
   "outputs": [],
   "source": [
    "sub_bedroom_df.columns"
   ]
  },
  {
   "cell_type": "code",
   "execution_count": null,
   "id": "obvious-ownership",
   "metadata": {},
   "outputs": [],
   "source": [
    "sub_bedroom_df[['Suburb', 'Rooms', 'Type', 'Distance', 'Bedroom2', 'Bathroom',\n",
    "       'Car', 'Landsize', 'BuildingArea', 'YearBuilt']]"
   ]
  },
  {
   "cell_type": "code",
   "execution_count": null,
   "id": "olive-guitar",
   "metadata": {},
   "outputs": [],
   "source": []
  },
  {
   "cell_type": "code",
   "execution_count": null,
   "id": "unlimited-gabriel",
   "metadata": {},
   "outputs": [],
   "source": [
    "model.predict([[3.090e+02, 2.000e+00, 2.000e+00, 5.850e+05, 5.100e+00, 2.000e+00,\n",
    "       1.000e+00, 1.000e+00, 0.000e+00, 7.900e+01, 1.965e+03]])"
   ]
  },
  {
   "cell_type": "code",
   "execution_count": null,
   "id": "rising-brooks",
   "metadata": {},
   "outputs": [],
   "source": []
  }
 ],
 "metadata": {
  "kernelspec": {
   "display_name": "Python 3.6.10 64-bit ('PythonData': conda)",
   "language": "python",
   "name": "python361064bitpythondatacondaa70f06a6f8ee448e835eff764d6ba02e"
  },
  "language_info": {
   "codemirror_mode": {
    "name": "ipython",
    "version": 3
   },
   "file_extension": ".py",
   "mimetype": "text/x-python",
   "name": "python",
   "nbconvert_exporter": "python",
   "pygments_lexer": "ipython3",
   "version": "3.6.10"
  }
 },
 "nbformat": 4,
 "nbformat_minor": 5
}
