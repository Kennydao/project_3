{
 "cells": [
  {
   "cell_type": "code",
   "execution_count": 2,
   "id": "informative-banking",
   "metadata": {},
   "outputs": [],
   "source": [
    "import pandas as pd\n",
    "from sklearn.model_selection import train_test_split\n",
    "from sklearn import ensemble\n",
    "from sklearn.metrics import mean_absolute_error\n",
    "import joblib"
   ]
  },
  {
   "cell_type": "code",
   "execution_count": 27,
   "id": "neither-cycling",
   "metadata": {},
   "outputs": [],
   "source": [
    "import matplotlib.pyplot as plt\n",
    "import seaborn as sns\n",
    "from scipy.stats import norm, skew \n",
    "from scipy import stats\n",
    "\n",
    "color = sns.color_palette()\n",
    "sns.set_style('darkgrid')\n",
    "%matplotlib inline"
   ]
  },
  {
   "cell_type": "code",
   "execution_count": 24,
   "id": "hollywood-alert",
   "metadata": {},
   "outputs": [],
   "source": [
    "color = sns.color_palette()\n",
    "sns.set_style('darkgrid')"
   ]
  },
  {
   "cell_type": "code",
   "execution_count": 3,
   "id": "impaired-constant",
   "metadata": {},
   "outputs": [],
   "source": [
    "df = pd.read_csv('Melbourne_housing_FULL.csv')"
   ]
  },
  {
   "cell_type": "code",
   "execution_count": 4,
   "id": "precious-algeria",
   "metadata": {},
   "outputs": [],
   "source": [
    "# df.head(5)\n",
    "# df.columns\n",
    "# del_cols = ['Address', 'Method', 'SellerG',\n",
    "#        'Date', 'Postcode', 'Bedroom2', 'Bathroom', 'Car',\n",
    "#        'Landsize', 'BuildingArea', 'YearBuilt', 'CouncilArea']"
   ]
  },
  {
   "cell_type": "code",
   "execution_count": 5,
   "id": "mechanical-services",
   "metadata": {},
   "outputs": [],
   "source": [
    "del df['Address']\n",
    "del df['Method']\n",
    "del df['SellerG']\n",
    "del df['Date']\n",
    "del df['Postcode']\n",
    "del df['Lattitude']\n",
    "del df['Longtitude']\n",
    "del df['Regionname']\n",
    "del df['Propertycount']"
   ]
  },
  {
   "cell_type": "code",
   "execution_count": 6,
   "id": "korean-hampton",
   "metadata": {},
   "outputs": [],
   "source": [
    "df.dropna(axis=0, how='any', thresh=None, subset=None, inplace=True)"
   ]
  },
  {
   "cell_type": "code",
   "execution_count": 7,
   "id": "logical-aviation",
   "metadata": {},
   "outputs": [],
   "source": [
    "features_df = pd.get_dummies(df, columns = ['Suburb', 'CouncilArea', 'Type'])"
   ]
  },
  {
   "cell_type": "code",
   "execution_count": 8,
   "id": "intelligent-appointment",
   "metadata": {},
   "outputs": [],
   "source": [
    "# remove price\n",
    "#del features_df['Price']"
   ]
  },
  {
   "cell_type": "code",
   "execution_count": 9,
   "id": "square-complexity",
   "metadata": {},
   "outputs": [],
   "source": [
    "X = features_df.to_numpy()\n",
    "y = df['Price'].to_numpy()"
   ]
  },
  {
   "cell_type": "code",
   "execution_count": 25,
   "id": "large-particle",
   "metadata": {},
   "outputs": [
    {
     "data": {
      "text/html": [
       "<div>\n",
       "<style scoped>\n",
       "    .dataframe tbody tr th:only-of-type {\n",
       "        vertical-align: middle;\n",
       "    }\n",
       "\n",
       "    .dataframe tbody tr th {\n",
       "        vertical-align: top;\n",
       "    }\n",
       "\n",
       "    .dataframe thead th {\n",
       "        text-align: right;\n",
       "    }\n",
       "</style>\n",
       "<table border=\"1\" class=\"dataframe\">\n",
       "  <thead>\n",
       "    <tr style=\"text-align: right;\">\n",
       "      <th></th>\n",
       "      <th>Rooms</th>\n",
       "      <th>Price</th>\n",
       "      <th>Distance</th>\n",
       "      <th>Bedroom2</th>\n",
       "      <th>Bathroom</th>\n",
       "      <th>Car</th>\n",
       "      <th>Landsize</th>\n",
       "      <th>BuildingArea</th>\n",
       "      <th>YearBuilt</th>\n",
       "      <th>Suburb_Abbotsford</th>\n",
       "      <th>...</th>\n",
       "      <th>CouncilArea_Port Phillip City Council</th>\n",
       "      <th>CouncilArea_Stonnington City Council</th>\n",
       "      <th>CouncilArea_Whitehorse City Council</th>\n",
       "      <th>CouncilArea_Whittlesea City Council</th>\n",
       "      <th>CouncilArea_Wyndham City Council</th>\n",
       "      <th>CouncilArea_Yarra City Council</th>\n",
       "      <th>CouncilArea_Yarra Ranges Shire Council</th>\n",
       "      <th>Type_h</th>\n",
       "      <th>Type_t</th>\n",
       "      <th>Type_u</th>\n",
       "    </tr>\n",
       "  </thead>\n",
       "  <tbody>\n",
       "    <tr>\n",
       "      <th>2</th>\n",
       "      <td>2</td>\n",
       "      <td>1035000.0</td>\n",
       "      <td>2.5</td>\n",
       "      <td>2.0</td>\n",
       "      <td>1.0</td>\n",
       "      <td>0.0</td>\n",
       "      <td>156.0</td>\n",
       "      <td>79.0</td>\n",
       "      <td>1900.0</td>\n",
       "      <td>1</td>\n",
       "      <td>...</td>\n",
       "      <td>0</td>\n",
       "      <td>0</td>\n",
       "      <td>0</td>\n",
       "      <td>0</td>\n",
       "      <td>0</td>\n",
       "      <td>1</td>\n",
       "      <td>0</td>\n",
       "      <td>1</td>\n",
       "      <td>0</td>\n",
       "      <td>0</td>\n",
       "    </tr>\n",
       "    <tr>\n",
       "      <th>4</th>\n",
       "      <td>3</td>\n",
       "      <td>1465000.0</td>\n",
       "      <td>2.5</td>\n",
       "      <td>3.0</td>\n",
       "      <td>2.0</td>\n",
       "      <td>0.0</td>\n",
       "      <td>134.0</td>\n",
       "      <td>150.0</td>\n",
       "      <td>1900.0</td>\n",
       "      <td>1</td>\n",
       "      <td>...</td>\n",
       "      <td>0</td>\n",
       "      <td>0</td>\n",
       "      <td>0</td>\n",
       "      <td>0</td>\n",
       "      <td>0</td>\n",
       "      <td>1</td>\n",
       "      <td>0</td>\n",
       "      <td>1</td>\n",
       "      <td>0</td>\n",
       "      <td>0</td>\n",
       "    </tr>\n",
       "    <tr>\n",
       "      <th>6</th>\n",
       "      <td>4</td>\n",
       "      <td>1600000.0</td>\n",
       "      <td>2.5</td>\n",
       "      <td>3.0</td>\n",
       "      <td>1.0</td>\n",
       "      <td>2.0</td>\n",
       "      <td>120.0</td>\n",
       "      <td>142.0</td>\n",
       "      <td>2014.0</td>\n",
       "      <td>1</td>\n",
       "      <td>...</td>\n",
       "      <td>0</td>\n",
       "      <td>0</td>\n",
       "      <td>0</td>\n",
       "      <td>0</td>\n",
       "      <td>0</td>\n",
       "      <td>1</td>\n",
       "      <td>0</td>\n",
       "      <td>1</td>\n",
       "      <td>0</td>\n",
       "      <td>0</td>\n",
       "    </tr>\n",
       "    <tr>\n",
       "      <th>11</th>\n",
       "      <td>3</td>\n",
       "      <td>1876000.0</td>\n",
       "      <td>2.5</td>\n",
       "      <td>4.0</td>\n",
       "      <td>2.0</td>\n",
       "      <td>0.0</td>\n",
       "      <td>245.0</td>\n",
       "      <td>210.0</td>\n",
       "      <td>1910.0</td>\n",
       "      <td>1</td>\n",
       "      <td>...</td>\n",
       "      <td>0</td>\n",
       "      <td>0</td>\n",
       "      <td>0</td>\n",
       "      <td>0</td>\n",
       "      <td>0</td>\n",
       "      <td>1</td>\n",
       "      <td>0</td>\n",
       "      <td>1</td>\n",
       "      <td>0</td>\n",
       "      <td>0</td>\n",
       "    </tr>\n",
       "    <tr>\n",
       "      <th>14</th>\n",
       "      <td>2</td>\n",
       "      <td>1636000.0</td>\n",
       "      <td>2.5</td>\n",
       "      <td>2.0</td>\n",
       "      <td>1.0</td>\n",
       "      <td>2.0</td>\n",
       "      <td>256.0</td>\n",
       "      <td>107.0</td>\n",
       "      <td>1890.0</td>\n",
       "      <td>1</td>\n",
       "      <td>...</td>\n",
       "      <td>0</td>\n",
       "      <td>0</td>\n",
       "      <td>0</td>\n",
       "      <td>0</td>\n",
       "      <td>0</td>\n",
       "      <td>1</td>\n",
       "      <td>0</td>\n",
       "      <td>1</td>\n",
       "      <td>0</td>\n",
       "      <td>0</td>\n",
       "    </tr>\n",
       "    <tr>\n",
       "      <th>...</th>\n",
       "      <td>...</td>\n",
       "      <td>...</td>\n",
       "      <td>...</td>\n",
       "      <td>...</td>\n",
       "      <td>...</td>\n",
       "      <td>...</td>\n",
       "      <td>...</td>\n",
       "      <td>...</td>\n",
       "      <td>...</td>\n",
       "      <td>...</td>\n",
       "      <td>...</td>\n",
       "      <td>...</td>\n",
       "      <td>...</td>\n",
       "      <td>...</td>\n",
       "      <td>...</td>\n",
       "      <td>...</td>\n",
       "      <td>...</td>\n",
       "      <td>...</td>\n",
       "      <td>...</td>\n",
       "      <td>...</td>\n",
       "      <td>...</td>\n",
       "    </tr>\n",
       "    <tr>\n",
       "      <th>34847</th>\n",
       "      <td>3</td>\n",
       "      <td>500000.0</td>\n",
       "      <td>25.5</td>\n",
       "      <td>3.0</td>\n",
       "      <td>2.0</td>\n",
       "      <td>2.0</td>\n",
       "      <td>383.0</td>\n",
       "      <td>118.0</td>\n",
       "      <td>2016.0</td>\n",
       "      <td>0</td>\n",
       "      <td>...</td>\n",
       "      <td>0</td>\n",
       "      <td>0</td>\n",
       "      <td>0</td>\n",
       "      <td>1</td>\n",
       "      <td>0</td>\n",
       "      <td>0</td>\n",
       "      <td>0</td>\n",
       "      <td>1</td>\n",
       "      <td>0</td>\n",
       "      <td>0</td>\n",
       "    </tr>\n",
       "    <tr>\n",
       "      <th>34849</th>\n",
       "      <td>3</td>\n",
       "      <td>570000.0</td>\n",
       "      <td>25.5</td>\n",
       "      <td>3.0</td>\n",
       "      <td>2.0</td>\n",
       "      <td>2.0</td>\n",
       "      <td>404.0</td>\n",
       "      <td>158.0</td>\n",
       "      <td>2012.0</td>\n",
       "      <td>0</td>\n",
       "      <td>...</td>\n",
       "      <td>0</td>\n",
       "      <td>0</td>\n",
       "      <td>0</td>\n",
       "      <td>1</td>\n",
       "      <td>0</td>\n",
       "      <td>0</td>\n",
       "      <td>0</td>\n",
       "      <td>1</td>\n",
       "      <td>0</td>\n",
       "      <td>0</td>\n",
       "    </tr>\n",
       "    <tr>\n",
       "      <th>34853</th>\n",
       "      <td>2</td>\n",
       "      <td>888000.0</td>\n",
       "      <td>6.3</td>\n",
       "      <td>2.0</td>\n",
       "      <td>2.0</td>\n",
       "      <td>1.0</td>\n",
       "      <td>98.0</td>\n",
       "      <td>104.0</td>\n",
       "      <td>2018.0</td>\n",
       "      <td>0</td>\n",
       "      <td>...</td>\n",
       "      <td>0</td>\n",
       "      <td>0</td>\n",
       "      <td>0</td>\n",
       "      <td>0</td>\n",
       "      <td>0</td>\n",
       "      <td>0</td>\n",
       "      <td>0</td>\n",
       "      <td>1</td>\n",
       "      <td>0</td>\n",
       "      <td>0</td>\n",
       "    </tr>\n",
       "    <tr>\n",
       "      <th>34854</th>\n",
       "      <td>2</td>\n",
       "      <td>705000.0</td>\n",
       "      <td>6.3</td>\n",
       "      <td>2.0</td>\n",
       "      <td>1.0</td>\n",
       "      <td>2.0</td>\n",
       "      <td>220.0</td>\n",
       "      <td>120.0</td>\n",
       "      <td>2000.0</td>\n",
       "      <td>0</td>\n",
       "      <td>...</td>\n",
       "      <td>0</td>\n",
       "      <td>0</td>\n",
       "      <td>0</td>\n",
       "      <td>0</td>\n",
       "      <td>0</td>\n",
       "      <td>0</td>\n",
       "      <td>0</td>\n",
       "      <td>0</td>\n",
       "      <td>1</td>\n",
       "      <td>0</td>\n",
       "    </tr>\n",
       "    <tr>\n",
       "      <th>34856</th>\n",
       "      <td>2</td>\n",
       "      <td>1020000.0</td>\n",
       "      <td>6.3</td>\n",
       "      <td>2.0</td>\n",
       "      <td>1.0</td>\n",
       "      <td>0.0</td>\n",
       "      <td>250.0</td>\n",
       "      <td>103.0</td>\n",
       "      <td>1930.0</td>\n",
       "      <td>0</td>\n",
       "      <td>...</td>\n",
       "      <td>0</td>\n",
       "      <td>0</td>\n",
       "      <td>0</td>\n",
       "      <td>0</td>\n",
       "      <td>0</td>\n",
       "      <td>0</td>\n",
       "      <td>0</td>\n",
       "      <td>1</td>\n",
       "      <td>0</td>\n",
       "      <td>0</td>\n",
       "    </tr>\n",
       "  </tbody>\n",
       "</table>\n",
       "<p>8895 rows × 360 columns</p>\n",
       "</div>"
      ],
      "text/plain": [
       "       Rooms      Price  Distance  Bedroom2  Bathroom  Car  Landsize  \\\n",
       "2          2  1035000.0       2.5       2.0       1.0  0.0     156.0   \n",
       "4          3  1465000.0       2.5       3.0       2.0  0.0     134.0   \n",
       "6          4  1600000.0       2.5       3.0       1.0  2.0     120.0   \n",
       "11         3  1876000.0       2.5       4.0       2.0  0.0     245.0   \n",
       "14         2  1636000.0       2.5       2.0       1.0  2.0     256.0   \n",
       "...      ...        ...       ...       ...       ...  ...       ...   \n",
       "34847      3   500000.0      25.5       3.0       2.0  2.0     383.0   \n",
       "34849      3   570000.0      25.5       3.0       2.0  2.0     404.0   \n",
       "34853      2   888000.0       6.3       2.0       2.0  1.0      98.0   \n",
       "34854      2   705000.0       6.3       2.0       1.0  2.0     220.0   \n",
       "34856      2  1020000.0       6.3       2.0       1.0  0.0     250.0   \n",
       "\n",
       "       BuildingArea  YearBuilt  Suburb_Abbotsford  ...  \\\n",
       "2              79.0     1900.0                  1  ...   \n",
       "4             150.0     1900.0                  1  ...   \n",
       "6             142.0     2014.0                  1  ...   \n",
       "11            210.0     1910.0                  1  ...   \n",
       "14            107.0     1890.0                  1  ...   \n",
       "...             ...        ...                ...  ...   \n",
       "34847         118.0     2016.0                  0  ...   \n",
       "34849         158.0     2012.0                  0  ...   \n",
       "34853         104.0     2018.0                  0  ...   \n",
       "34854         120.0     2000.0                  0  ...   \n",
       "34856         103.0     1930.0                  0  ...   \n",
       "\n",
       "       CouncilArea_Port Phillip City Council  \\\n",
       "2                                          0   \n",
       "4                                          0   \n",
       "6                                          0   \n",
       "11                                         0   \n",
       "14                                         0   \n",
       "...                                      ...   \n",
       "34847                                      0   \n",
       "34849                                      0   \n",
       "34853                                      0   \n",
       "34854                                      0   \n",
       "34856                                      0   \n",
       "\n",
       "       CouncilArea_Stonnington City Council  \\\n",
       "2                                         0   \n",
       "4                                         0   \n",
       "6                                         0   \n",
       "11                                        0   \n",
       "14                                        0   \n",
       "...                                     ...   \n",
       "34847                                     0   \n",
       "34849                                     0   \n",
       "34853                                     0   \n",
       "34854                                     0   \n",
       "34856                                     0   \n",
       "\n",
       "       CouncilArea_Whitehorse City Council  \\\n",
       "2                                        0   \n",
       "4                                        0   \n",
       "6                                        0   \n",
       "11                                       0   \n",
       "14                                       0   \n",
       "...                                    ...   \n",
       "34847                                    0   \n",
       "34849                                    0   \n",
       "34853                                    0   \n",
       "34854                                    0   \n",
       "34856                                    0   \n",
       "\n",
       "       CouncilArea_Whittlesea City Council  CouncilArea_Wyndham City Council  \\\n",
       "2                                        0                                 0   \n",
       "4                                        0                                 0   \n",
       "6                                        0                                 0   \n",
       "11                                       0                                 0   \n",
       "14                                       0                                 0   \n",
       "...                                    ...                               ...   \n",
       "34847                                    1                                 0   \n",
       "34849                                    1                                 0   \n",
       "34853                                    0                                 0   \n",
       "34854                                    0                                 0   \n",
       "34856                                    0                                 0   \n",
       "\n",
       "       CouncilArea_Yarra City Council  CouncilArea_Yarra Ranges Shire Council  \\\n",
       "2                                   1                                       0   \n",
       "4                                   1                                       0   \n",
       "6                                   1                                       0   \n",
       "11                                  1                                       0   \n",
       "14                                  1                                       0   \n",
       "...                               ...                                     ...   \n",
       "34847                               0                                       0   \n",
       "34849                               0                                       0   \n",
       "34853                               0                                       0   \n",
       "34854                               0                                       0   \n",
       "34856                               0                                       0   \n",
       "\n",
       "       Type_h  Type_t  Type_u  \n",
       "2           1       0       0  \n",
       "4           1       0       0  \n",
       "6           1       0       0  \n",
       "11          1       0       0  \n",
       "14          1       0       0  \n",
       "...       ...     ...     ...  \n",
       "34847       1       0       0  \n",
       "34849       1       0       0  \n",
       "34853       1       0       0  \n",
       "34854       0       1       0  \n",
       "34856       1       0       0  \n",
       "\n",
       "[8895 rows x 360 columns]"
      ]
     },
     "execution_count": 25,
     "metadata": {},
     "output_type": "execute_result"
    }
   ],
   "source": [
    "features_df"
   ]
  },
  {
   "cell_type": "code",
   "execution_count": 10,
   "id": "shaped-picnic",
   "metadata": {},
   "outputs": [],
   "source": [
    "X_train, X_test, y_train, y_test = train_test_split(X, y, test_size=0.3, random_state=0)"
   ]
  },
  {
   "cell_type": "code",
   "execution_count": 11,
   "id": "recovered-ownership",
   "metadata": {},
   "outputs": [],
   "source": [
    "model = ensemble.GradientBoostingRegressor(\n",
    "                n_estimators = 150, learning_rate=0.3,                \n",
    "                max_depth=30, min_samples_split=4, min_samples_leaf=6, \n",
    "                max_features = 0.6, loss='huber')"
   ]
  },
  {
   "cell_type": "code",
   "execution_count": 12,
   "id": "normal-rogers",
   "metadata": {},
   "outputs": [
    {
     "data": {
      "text/plain": [
       "GradientBoostingRegressor(learning_rate=0.3, loss='huber', max_depth=30,\n",
       "                          max_features=0.6, min_samples_leaf=6,\n",
       "                          min_samples_split=4, n_estimators=150)"
      ]
     },
     "execution_count": 12,
     "metadata": {},
     "output_type": "execute_result"
    }
   ],
   "source": [
    "model"
   ]
  },
  {
   "cell_type": "code",
   "execution_count": 13,
   "id": "common-conclusion",
   "metadata": {},
   "outputs": [
    {
     "data": {
      "text/plain": [
       "GradientBoostingRegressor(learning_rate=0.3, loss='huber', max_depth=30,\n",
       "                          max_features=0.6, min_samples_leaf=6,\n",
       "                          min_samples_split=4, n_estimators=150)"
      ]
     },
     "execution_count": 13,
     "metadata": {},
     "output_type": "execute_result"
    }
   ],
   "source": [
    "model.fit(X_train, y_train)"
   ]
  },
  {
   "cell_type": "code",
   "execution_count": 14,
   "id": "fifty-soundtrack",
   "metadata": {},
   "outputs": [],
   "source": [
    "# joblib.dump(model, 'house_trained_model.pkl')"
   ]
  },
  {
   "cell_type": "code",
   "execution_count": 16,
   "id": "actual-mouse",
   "metadata": {},
   "outputs": [
    {
     "name": "stdout",
     "output_type": "stream",
     "text": [
      "Training Set Mean Absolute Error: 1387.26\n"
     ]
    }
   ],
   "source": [
    "mse = mean_absolute_error(y_train, model.predict(X_train))\n",
    "print(\"Training Set Mean Absolute Error: %.2f\"%mse)"
   ]
  },
  {
   "cell_type": "code",
   "execution_count": 17,
   "id": "particular-thinking",
   "metadata": {},
   "outputs": [
    {
     "name": "stdout",
     "output_type": "stream",
     "text": [
      "Test Set Mean Absolute Error: 12431.74\n"
     ]
    }
   ],
   "source": [
    "ytest_mse = mean_absolute_error(y_test, model.predict(X_test))\n",
    "print(\"Test Set Mean Absolute Error: %.2f\"%ytest_mse)"
   ]
  },
  {
   "cell_type": "code",
   "execution_count": 15,
   "id": "european-bermuda",
   "metadata": {},
   "outputs": [],
   "source": [
    "# loading the pre-build model\n",
    "#classifer = joblib.load('house_trained_model.pkl')"
   ]
  },
  {
   "cell_type": "code",
   "execution_count": 18,
   "id": "closed-memphis",
   "metadata": {},
   "outputs": [],
   "source": [
    "new_observation = X[2,:]\n",
    "# new_observation"
   ]
  },
  {
   "cell_type": "code",
   "execution_count": 19,
   "id": "adapted-latest",
   "metadata": {},
   "outputs": [],
   "source": [
    "new_observation = new_observation.reshape(1, -1)\n",
    "# new_observation"
   ]
  },
  {
   "cell_type": "code",
   "execution_count": 20,
   "id": "suitable-techno",
   "metadata": {},
   "outputs": [],
   "source": [
    "#new_observation"
   ]
  },
  {
   "cell_type": "code",
   "execution_count": 21,
   "id": "geographic-positive",
   "metadata": {},
   "outputs": [
    {
     "data": {
      "text/plain": [
       "array([1600069.11036601])"
      ]
     },
     "execution_count": 21,
     "metadata": {},
     "output_type": "execute_result"
    }
   ],
   "source": [
    "model.predict(new_observation)"
   ]
  },
  {
   "cell_type": "code",
   "execution_count": 22,
   "id": "infectious-payment",
   "metadata": {},
   "outputs": [
    {
     "data": {
      "text/plain": [
       "1400000.0"
      ]
     },
     "execution_count": 22,
     "metadata": {},
     "output_type": "execute_result"
    }
   ],
   "source": [
    "y_test[2]"
   ]
  },
  {
   "cell_type": "code",
   "execution_count": null,
   "id": "specific-think",
   "metadata": {},
   "outputs": [],
   "source": [
    "# Grid Search Model"
   ]
  },
  {
   "cell_type": "code",
   "execution_count": 38,
   "id": "constant-given",
   "metadata": {},
   "outputs": [],
   "source": [
    "# import libraries\n",
    "import joblib\n",
    "from sklearn.model_selection import GridSearchCV"
   ]
  },
  {
   "cell_type": "code",
   "execution_count": 39,
   "id": "internal-noise",
   "metadata": {},
   "outputs": [],
   "source": [
    "features_df = pd.get_dummies(df, columns = ['Suburb', 'CouncilArea', 'Type'])"
   ]
  },
  {
   "cell_type": "code",
   "execution_count": 40,
   "id": "clear-vacation",
   "metadata": {},
   "outputs": [],
   "source": [
    "# remove price\n",
    "del features_df['Price']"
   ]
  },
  {
   "cell_type": "code",
   "execution_count": 41,
   "id": "dangerous-noise",
   "metadata": {},
   "outputs": [],
   "source": [
    "X = features_df.to_numpy()\n",
    "y = df['Price'].to_numpy()"
   ]
  },
  {
   "cell_type": "code",
   "execution_count": 42,
   "id": "identical-wallpaper",
   "metadata": {},
   "outputs": [],
   "source": [
    "# Input algorithm\n",
    "model = ensemble.GradientBoostingRegressor()"
   ]
  },
  {
   "cell_type": "code",
   "execution_count": 50,
   "id": "third-crazy",
   "metadata": {},
   "outputs": [],
   "source": [
    "# Set params for testing\n",
    "param_grid = {'n_estimators':[50, 100, 200],\n",
    "             'max_depth':[3, 5, 7],\n",
    "             'min_samples_split':[3, 4, 5],\n",
    "             'min_samples_leaf':[6, 7, 8],\n",
    "             'learning_rate':[0.01, 0.02, 0.05, 0.07],\n",
    "             'max_features':[0.6, 0.9],\n",
    "             'loss':['ls', 'lad', 'huber']}"
   ]
  },
  {
   "cell_type": "code",
   "execution_count": 51,
   "id": "rational-concord",
   "metadata": {},
   "outputs": [],
   "source": [
    "gs_cv = GridSearchCV(model, param_grid, n_jobs=2)"
   ]
  },
  {
   "cell_type": "code",
   "execution_count": 52,
   "id": "cross-format",
   "metadata": {},
   "outputs": [
    {
     "ename": "KeyboardInterrupt",
     "evalue": "",
     "output_type": "error",
     "traceback": [
      "\u001b[1;31m---------------------------------------------------------------------------\u001b[0m",
      "\u001b[1;31mKeyboardInterrupt\u001b[0m                         Traceback (most recent call last)",
      "\u001b[1;32m<ipython-input-52-bc8b12067532>\u001b[0m in \u001b[0;36m<module>\u001b[1;34m\u001b[0m\n\u001b[1;32m----> 1\u001b[1;33m \u001b[0mgs_cv\u001b[0m\u001b[1;33m.\u001b[0m\u001b[0mfit\u001b[0m\u001b[1;33m(\u001b[0m\u001b[0mX_train\u001b[0m\u001b[1;33m,\u001b[0m \u001b[0my_train\u001b[0m\u001b[1;33m)\u001b[0m\u001b[1;33m\u001b[0m\u001b[1;33m\u001b[0m\u001b[0m\n\u001b[0m",
      "\u001b[1;32m~\\.conda\\envs\\PythonData\\lib\\site-packages\\sklearn\\utils\\validation.py\u001b[0m in \u001b[0;36minner_f\u001b[1;34m(*args, **kwargs)\u001b[0m\n\u001b[0;32m     71\u001b[0m                           FutureWarning)\n\u001b[0;32m     72\u001b[0m         \u001b[0mkwargs\u001b[0m\u001b[1;33m.\u001b[0m\u001b[0mupdate\u001b[0m\u001b[1;33m(\u001b[0m\u001b[1;33m{\u001b[0m\u001b[0mk\u001b[0m\u001b[1;33m:\u001b[0m \u001b[0marg\u001b[0m \u001b[1;32mfor\u001b[0m \u001b[0mk\u001b[0m\u001b[1;33m,\u001b[0m \u001b[0marg\u001b[0m \u001b[1;32min\u001b[0m \u001b[0mzip\u001b[0m\u001b[1;33m(\u001b[0m\u001b[0msig\u001b[0m\u001b[1;33m.\u001b[0m\u001b[0mparameters\u001b[0m\u001b[1;33m,\u001b[0m \u001b[0margs\u001b[0m\u001b[1;33m)\u001b[0m\u001b[1;33m}\u001b[0m\u001b[1;33m)\u001b[0m\u001b[1;33m\u001b[0m\u001b[1;33m\u001b[0m\u001b[0m\n\u001b[1;32m---> 73\u001b[1;33m         \u001b[1;32mreturn\u001b[0m \u001b[0mf\u001b[0m\u001b[1;33m(\u001b[0m\u001b[1;33m**\u001b[0m\u001b[0mkwargs\u001b[0m\u001b[1;33m)\u001b[0m\u001b[1;33m\u001b[0m\u001b[1;33m\u001b[0m\u001b[0m\n\u001b[0m\u001b[0;32m     74\u001b[0m     \u001b[1;32mreturn\u001b[0m \u001b[0minner_f\u001b[0m\u001b[1;33m\u001b[0m\u001b[1;33m\u001b[0m\u001b[0m\n\u001b[0;32m     75\u001b[0m \u001b[1;33m\u001b[0m\u001b[0m\n",
      "\u001b[1;32m~\\.conda\\envs\\PythonData\\lib\\site-packages\\sklearn\\model_selection\\_search.py\u001b[0m in \u001b[0;36mfit\u001b[1;34m(self, X, y, groups, **fit_params)\u001b[0m\n\u001b[0;32m    734\u001b[0m                 \u001b[1;32mreturn\u001b[0m \u001b[0mresults\u001b[0m\u001b[1;33m\u001b[0m\u001b[1;33m\u001b[0m\u001b[0m\n\u001b[0;32m    735\u001b[0m \u001b[1;33m\u001b[0m\u001b[0m\n\u001b[1;32m--> 736\u001b[1;33m             \u001b[0mself\u001b[0m\u001b[1;33m.\u001b[0m\u001b[0m_run_search\u001b[0m\u001b[1;33m(\u001b[0m\u001b[0mevaluate_candidates\u001b[0m\u001b[1;33m)\u001b[0m\u001b[1;33m\u001b[0m\u001b[1;33m\u001b[0m\u001b[0m\n\u001b[0m\u001b[0;32m    737\u001b[0m \u001b[1;33m\u001b[0m\u001b[0m\n\u001b[0;32m    738\u001b[0m         \u001b[1;31m# For multi-metric evaluation, store the best_index_, best_params_ and\u001b[0m\u001b[1;33m\u001b[0m\u001b[1;33m\u001b[0m\u001b[1;33m\u001b[0m\u001b[0m\n",
      "\u001b[1;32m~\\.conda\\envs\\PythonData\\lib\\site-packages\\sklearn\\model_selection\\_search.py\u001b[0m in \u001b[0;36m_run_search\u001b[1;34m(self, evaluate_candidates)\u001b[0m\n\u001b[0;32m   1186\u001b[0m     \u001b[1;32mdef\u001b[0m \u001b[0m_run_search\u001b[0m\u001b[1;33m(\u001b[0m\u001b[0mself\u001b[0m\u001b[1;33m,\u001b[0m \u001b[0mevaluate_candidates\u001b[0m\u001b[1;33m)\u001b[0m\u001b[1;33m:\u001b[0m\u001b[1;33m\u001b[0m\u001b[1;33m\u001b[0m\u001b[0m\n\u001b[0;32m   1187\u001b[0m         \u001b[1;34m\"\"\"Search all candidates in param_grid\"\"\"\u001b[0m\u001b[1;33m\u001b[0m\u001b[1;33m\u001b[0m\u001b[0m\n\u001b[1;32m-> 1188\u001b[1;33m         \u001b[0mevaluate_candidates\u001b[0m\u001b[1;33m(\u001b[0m\u001b[0mParameterGrid\u001b[0m\u001b[1;33m(\u001b[0m\u001b[0mself\u001b[0m\u001b[1;33m.\u001b[0m\u001b[0mparam_grid\u001b[0m\u001b[1;33m)\u001b[0m\u001b[1;33m)\u001b[0m\u001b[1;33m\u001b[0m\u001b[1;33m\u001b[0m\u001b[0m\n\u001b[0m\u001b[0;32m   1189\u001b[0m \u001b[1;33m\u001b[0m\u001b[0m\n\u001b[0;32m   1190\u001b[0m \u001b[1;33m\u001b[0m\u001b[0m\n",
      "\u001b[1;32m~\\.conda\\envs\\PythonData\\lib\\site-packages\\sklearn\\model_selection\\_search.py\u001b[0m in \u001b[0;36mevaluate_candidates\u001b[1;34m(candidate_params)\u001b[0m\n\u001b[0;32m    713\u001b[0m                                \u001b[1;32mfor\u001b[0m \u001b[0mparameters\u001b[0m\u001b[1;33m,\u001b[0m \u001b[1;33m(\u001b[0m\u001b[0mtrain\u001b[0m\u001b[1;33m,\u001b[0m \u001b[0mtest\u001b[0m\u001b[1;33m)\u001b[0m\u001b[1;33m\u001b[0m\u001b[1;33m\u001b[0m\u001b[0m\n\u001b[0;32m    714\u001b[0m                                in product(candidate_params,\n\u001b[1;32m--> 715\u001b[1;33m                                           cv.split(X, y, groups)))\n\u001b[0m\u001b[0;32m    716\u001b[0m \u001b[1;33m\u001b[0m\u001b[0m\n\u001b[0;32m    717\u001b[0m                 \u001b[1;32mif\u001b[0m \u001b[0mlen\u001b[0m\u001b[1;33m(\u001b[0m\u001b[0mout\u001b[0m\u001b[1;33m)\u001b[0m \u001b[1;33m<\u001b[0m \u001b[1;36m1\u001b[0m\u001b[1;33m:\u001b[0m\u001b[1;33m\u001b[0m\u001b[1;33m\u001b[0m\u001b[0m\n",
      "\u001b[1;32m~\\.conda\\envs\\PythonData\\lib\\site-packages\\joblib\\parallel.py\u001b[0m in \u001b[0;36m__call__\u001b[1;34m(self, iterable)\u001b[0m\n\u001b[0;32m   1040\u001b[0m \u001b[1;33m\u001b[0m\u001b[0m\n\u001b[0;32m   1041\u001b[0m             \u001b[1;32mwith\u001b[0m \u001b[0mself\u001b[0m\u001b[1;33m.\u001b[0m\u001b[0m_backend\u001b[0m\u001b[1;33m.\u001b[0m\u001b[0mretrieval_context\u001b[0m\u001b[1;33m(\u001b[0m\u001b[1;33m)\u001b[0m\u001b[1;33m:\u001b[0m\u001b[1;33m\u001b[0m\u001b[1;33m\u001b[0m\u001b[0m\n\u001b[1;32m-> 1042\u001b[1;33m                 \u001b[0mself\u001b[0m\u001b[1;33m.\u001b[0m\u001b[0mretrieve\u001b[0m\u001b[1;33m(\u001b[0m\u001b[1;33m)\u001b[0m\u001b[1;33m\u001b[0m\u001b[1;33m\u001b[0m\u001b[0m\n\u001b[0m\u001b[0;32m   1043\u001b[0m             \u001b[1;31m# Make sure that we get a last message telling us we are done\u001b[0m\u001b[1;33m\u001b[0m\u001b[1;33m\u001b[0m\u001b[1;33m\u001b[0m\u001b[0m\n\u001b[0;32m   1044\u001b[0m             \u001b[0melapsed_time\u001b[0m \u001b[1;33m=\u001b[0m \u001b[0mtime\u001b[0m\u001b[1;33m.\u001b[0m\u001b[0mtime\u001b[0m\u001b[1;33m(\u001b[0m\u001b[1;33m)\u001b[0m \u001b[1;33m-\u001b[0m \u001b[0mself\u001b[0m\u001b[1;33m.\u001b[0m\u001b[0m_start_time\u001b[0m\u001b[1;33m\u001b[0m\u001b[1;33m\u001b[0m\u001b[0m\n",
      "\u001b[1;32m~\\.conda\\envs\\PythonData\\lib\\site-packages\\joblib\\parallel.py\u001b[0m in \u001b[0;36mretrieve\u001b[1;34m(self)\u001b[0m\n\u001b[0;32m    919\u001b[0m             \u001b[1;32mtry\u001b[0m\u001b[1;33m:\u001b[0m\u001b[1;33m\u001b[0m\u001b[1;33m\u001b[0m\u001b[0m\n\u001b[0;32m    920\u001b[0m                 \u001b[1;32mif\u001b[0m \u001b[0mgetattr\u001b[0m\u001b[1;33m(\u001b[0m\u001b[0mself\u001b[0m\u001b[1;33m.\u001b[0m\u001b[0m_backend\u001b[0m\u001b[1;33m,\u001b[0m \u001b[1;34m'supports_timeout'\u001b[0m\u001b[1;33m,\u001b[0m \u001b[1;32mFalse\u001b[0m\u001b[1;33m)\u001b[0m\u001b[1;33m:\u001b[0m\u001b[1;33m\u001b[0m\u001b[1;33m\u001b[0m\u001b[0m\n\u001b[1;32m--> 921\u001b[1;33m                     \u001b[0mself\u001b[0m\u001b[1;33m.\u001b[0m\u001b[0m_output\u001b[0m\u001b[1;33m.\u001b[0m\u001b[0mextend\u001b[0m\u001b[1;33m(\u001b[0m\u001b[0mjob\u001b[0m\u001b[1;33m.\u001b[0m\u001b[0mget\u001b[0m\u001b[1;33m(\u001b[0m\u001b[0mtimeout\u001b[0m\u001b[1;33m=\u001b[0m\u001b[0mself\u001b[0m\u001b[1;33m.\u001b[0m\u001b[0mtimeout\u001b[0m\u001b[1;33m)\u001b[0m\u001b[1;33m)\u001b[0m\u001b[1;33m\u001b[0m\u001b[1;33m\u001b[0m\u001b[0m\n\u001b[0m\u001b[0;32m    922\u001b[0m                 \u001b[1;32melse\u001b[0m\u001b[1;33m:\u001b[0m\u001b[1;33m\u001b[0m\u001b[1;33m\u001b[0m\u001b[0m\n\u001b[0;32m    923\u001b[0m                     \u001b[0mself\u001b[0m\u001b[1;33m.\u001b[0m\u001b[0m_output\u001b[0m\u001b[1;33m.\u001b[0m\u001b[0mextend\u001b[0m\u001b[1;33m(\u001b[0m\u001b[0mjob\u001b[0m\u001b[1;33m.\u001b[0m\u001b[0mget\u001b[0m\u001b[1;33m(\u001b[0m\u001b[1;33m)\u001b[0m\u001b[1;33m)\u001b[0m\u001b[1;33m\u001b[0m\u001b[1;33m\u001b[0m\u001b[0m\n",
      "\u001b[1;32m~\\.conda\\envs\\PythonData\\lib\\site-packages\\joblib\\_parallel_backends.py\u001b[0m in \u001b[0;36mwrap_future_result\u001b[1;34m(future, timeout)\u001b[0m\n\u001b[0;32m    540\u001b[0m         AsyncResults.get from multiprocessing.\"\"\"\n\u001b[0;32m    541\u001b[0m         \u001b[1;32mtry\u001b[0m\u001b[1;33m:\u001b[0m\u001b[1;33m\u001b[0m\u001b[1;33m\u001b[0m\u001b[0m\n\u001b[1;32m--> 542\u001b[1;33m             \u001b[1;32mreturn\u001b[0m \u001b[0mfuture\u001b[0m\u001b[1;33m.\u001b[0m\u001b[0mresult\u001b[0m\u001b[1;33m(\u001b[0m\u001b[0mtimeout\u001b[0m\u001b[1;33m=\u001b[0m\u001b[0mtimeout\u001b[0m\u001b[1;33m)\u001b[0m\u001b[1;33m\u001b[0m\u001b[1;33m\u001b[0m\u001b[0m\n\u001b[0m\u001b[0;32m    543\u001b[0m         \u001b[1;32mexcept\u001b[0m \u001b[0mCfTimeoutError\u001b[0m \u001b[1;32mas\u001b[0m \u001b[0me\u001b[0m\u001b[1;33m:\u001b[0m\u001b[1;33m\u001b[0m\u001b[1;33m\u001b[0m\u001b[0m\n\u001b[0;32m    544\u001b[0m             \u001b[1;32mraise\u001b[0m \u001b[0mTimeoutError\u001b[0m \u001b[1;32mfrom\u001b[0m \u001b[0me\u001b[0m\u001b[1;33m\u001b[0m\u001b[1;33m\u001b[0m\u001b[0m\n",
      "\u001b[1;32m~\\.conda\\envs\\PythonData\\lib\\concurrent\\futures\\_base.py\u001b[0m in \u001b[0;36mresult\u001b[1;34m(self, timeout)\u001b[0m\n\u001b[0;32m    425\u001b[0m                 \u001b[1;32mreturn\u001b[0m \u001b[0mself\u001b[0m\u001b[1;33m.\u001b[0m\u001b[0m__get_result\u001b[0m\u001b[1;33m(\u001b[0m\u001b[1;33m)\u001b[0m\u001b[1;33m\u001b[0m\u001b[1;33m\u001b[0m\u001b[0m\n\u001b[0;32m    426\u001b[0m \u001b[1;33m\u001b[0m\u001b[0m\n\u001b[1;32m--> 427\u001b[1;33m             \u001b[0mself\u001b[0m\u001b[1;33m.\u001b[0m\u001b[0m_condition\u001b[0m\u001b[1;33m.\u001b[0m\u001b[0mwait\u001b[0m\u001b[1;33m(\u001b[0m\u001b[0mtimeout\u001b[0m\u001b[1;33m)\u001b[0m\u001b[1;33m\u001b[0m\u001b[1;33m\u001b[0m\u001b[0m\n\u001b[0m\u001b[0;32m    428\u001b[0m \u001b[1;33m\u001b[0m\u001b[0m\n\u001b[0;32m    429\u001b[0m             \u001b[1;32mif\u001b[0m \u001b[0mself\u001b[0m\u001b[1;33m.\u001b[0m\u001b[0m_state\u001b[0m \u001b[1;32min\u001b[0m \u001b[1;33m[\u001b[0m\u001b[0mCANCELLED\u001b[0m\u001b[1;33m,\u001b[0m \u001b[0mCANCELLED_AND_NOTIFIED\u001b[0m\u001b[1;33m]\u001b[0m\u001b[1;33m:\u001b[0m\u001b[1;33m\u001b[0m\u001b[1;33m\u001b[0m\u001b[0m\n",
      "\u001b[1;32m~\\.conda\\envs\\PythonData\\lib\\threading.py\u001b[0m in \u001b[0;36mwait\u001b[1;34m(self, timeout)\u001b[0m\n\u001b[0;32m    293\u001b[0m         \u001b[1;32mtry\u001b[0m\u001b[1;33m:\u001b[0m    \u001b[1;31m# restore state no matter what (e.g., KeyboardInterrupt)\u001b[0m\u001b[1;33m\u001b[0m\u001b[1;33m\u001b[0m\u001b[0m\n\u001b[0;32m    294\u001b[0m             \u001b[1;32mif\u001b[0m \u001b[0mtimeout\u001b[0m \u001b[1;32mis\u001b[0m \u001b[1;32mNone\u001b[0m\u001b[1;33m:\u001b[0m\u001b[1;33m\u001b[0m\u001b[1;33m\u001b[0m\u001b[0m\n\u001b[1;32m--> 295\u001b[1;33m                 \u001b[0mwaiter\u001b[0m\u001b[1;33m.\u001b[0m\u001b[0macquire\u001b[0m\u001b[1;33m(\u001b[0m\u001b[1;33m)\u001b[0m\u001b[1;33m\u001b[0m\u001b[1;33m\u001b[0m\u001b[0m\n\u001b[0m\u001b[0;32m    296\u001b[0m                 \u001b[0mgotit\u001b[0m \u001b[1;33m=\u001b[0m \u001b[1;32mTrue\u001b[0m\u001b[1;33m\u001b[0m\u001b[1;33m\u001b[0m\u001b[0m\n\u001b[0;32m    297\u001b[0m             \u001b[1;32melse\u001b[0m\u001b[1;33m:\u001b[0m\u001b[1;33m\u001b[0m\u001b[1;33m\u001b[0m\u001b[0m\n",
      "\u001b[1;31mKeyboardInterrupt\u001b[0m: "
     ]
    }
   ],
   "source": [
    "# gs_cv.fit(X_train, y_train)"
   ]
  },
  {
   "cell_type": "code",
   "execution_count": null,
   "id": "intensive-wyoming",
   "metadata": {},
   "outputs": [],
   "source": [
    "print(gs_cv.best_params_)"
   ]
  },
  {
   "cell_type": "code",
   "execution_count": null,
   "id": "enormous-particle",
   "metadata": {},
   "outputs": [],
   "source": [
    "mse = mean_absolute_error(y_train, gs_cv.predict(X_train))\n",
    "ytest_mse = mean_absolute_error(y_test, gs_cv.predict(X_test))\n",
    "\n",
    "print(\"Training Set Mean Absolute Error: %.2f\"%mse)\n",
    "print(\"Test Set Mean Absolute Error: %.2f\"%ytest_mse)"
   ]
  },
  {
   "cell_type": "code",
   "execution_count": null,
   "id": "hazardous-gathering",
   "metadata": {},
   "outputs": [],
   "source": []
  },
  {
   "cell_type": "code",
   "execution_count": 28,
   "id": "caroline-trigger",
   "metadata": {},
   "outputs": [
    {
     "data": {
      "image/png": "[encoded data removed]",
      "text/plain": [
       "<Figure size 432x288 with 1 Axes>"
      ]
     },
     "metadata": {
      "needs_background": "light"
     },
     "output_type": "display_data"
    }
   ],
   "source": [
    "fig, ax = plt.subplots()\n",
    "ax.scatter(x = df['Suburb'], y = df['Price'])\n",
    "plt.ylabel('SalePrice', fontsize=13)\n",
    "plt.xlabel('Suburb', fontsize=13)\n",
    "plt.show()\n",
    "\n"
   ]
  },
  {
   "cell_type": "code",
   "execution_count": 35,
   "id": "monthly-boulder",
   "metadata": {},
   "outputs": [],
   "source": [
    "\n",
    "# train = df.drop(df['Price'] > 8000000)\n",
    "# train\n",
    "# fig, ax = plt.subplots()\n",
    "# ax.scatter(x= train['Suburb'], train['Price'])\n",
    "# plt.ylabel('SalePrice', fontsize=13)\n",
    "# plt.xlabel('Suburb', fontsize=13)\n",
    "# plt.show()"
   ]
  },
  {
   "cell_type": "code",
   "execution_count": 36,
   "id": "sharing-auditor",
   "metadata": {},
   "outputs": [
    {
     "data": {
      "image/png": "[encoded data removed]",
      "text/plain": [
       "<Figure size 432x288 with 1 Axes>"
      ]
     },
     "metadata": {
      "needs_background": "light"
     },
     "output_type": "display_data"
    }
   ],
   "source": [
    "sns.distplot(df['Price'] , fit=norm);"
   ]
  },
  {
   "cell_type": "code",
   "execution_count": null,
   "id": "automated-tampa",
   "metadata": {},
   "outputs": [],
   "source": []
  },
  {
   "cell_type": "code",
   "execution_count": null,
   "id": "billion-diesel",
   "metadata": {},
   "outputs": [],
   "source": []
  },
  {
   "cell_type": "code",
   "execution_count": 23,
   "id": "copyrighted-minutes",
   "metadata": {},
   "outputs": [
    {
     "data": {
      "text/plain": [
       "SVC(kernel='linear')"
      ]
     },
     "execution_count": 23,
     "metadata": {},
     "output_type": "execute_result"
    }
   ],
   "source": [
    "# Use Grid Search CV\n",
    "from sklearn.svm import SVC \n",
    "gs_model = SVC(kernel='linear')\n",
    "gs_model"
   ]
  },
  {
   "cell_type": "code",
   "execution_count": 26,
   "id": "willing-chuck",
   "metadata": {},
   "outputs": [],
   "source": [
    "from sklearn.model_selection import GridSearchCV\n",
    "param_grid = {'C': [1, 5, 10, 50],\n",
    "              'gamma': [0.0001, 0.0005, 0.001, 0.005]}\n",
    "grid = GridSearchCV(gs_model, param_grid, verbose=3)"
   ]
  },
  {
   "cell_type": "code",
   "execution_count": null,
   "id": "incorrect-house",
   "metadata": {},
   "outputs": [],
   "source": [
    "X_train, X_test, y_train, y_test = train_test_split(X, y, random_state=42)"
   ]
  },
  {
   "cell_type": "code",
   "execution_count": null,
   "id": "handy-champion",
   "metadata": {},
   "outputs": [],
   "source": [
    "# grid.fit(X_train, y_train)"
   ]
  },
  {
   "cell_type": "code",
   "execution_count": null,
   "id": "committed-indication",
   "metadata": {},
   "outputs": [],
   "source": []
  },
  {
   "cell_type": "code",
   "execution_count": null,
   "id": "further-aurora",
   "metadata": {},
   "outputs": [],
   "source": [
    "# Test random forest regressor "
   ]
  },
  {
   "cell_type": "code",
   "execution_count": null,
   "id": "arbitrary-tattoo",
   "metadata": {},
   "outputs": [],
   "source": [
    "from sklearn.ensemble import RandomForestRegressor\n"
   ]
  },
  {
   "cell_type": "code",
   "execution_count": null,
   "id": "persistent-morris",
   "metadata": {},
   "outputs": [],
   "source": [
    "randomforest = RandomForestRegressor(random_state=0, n_jobs=-1)"
   ]
  },
  {
   "cell_type": "code",
   "execution_count": null,
   "id": "fossil-notification",
   "metadata": {},
   "outputs": [],
   "source": [
    "# Train model\n",
    "rf_model = randomforest.fit(X_train, y_train)"
   ]
  },
  {
   "cell_type": "code",
   "execution_count": null,
   "id": "thrown-overhead",
   "metadata": {},
   "outputs": [],
   "source": [
    "mse = mean_absolute_error(y_train, rf_model.predict(X_train))\n",
    "print(\"Training Set Mean Absolute Error: %.2f\"%mse)"
   ]
  },
  {
   "cell_type": "code",
   "execution_count": null,
   "id": "cloudy-minnesota",
   "metadata": {},
   "outputs": [],
   "source": [
    "ytest_mse = mean_absolute_error(y_test, rf_model.predict(X_test))\n",
    "print(\"Test Set Mean Absolute Error: %.2f\"%ytest_mse)"
   ]
  },
  {
   "cell_type": "code",
   "execution_count": null,
   "id": "plain-telling",
   "metadata": {},
   "outputs": [],
   "source": []
  },
  {
   "cell_type": "code",
   "execution_count": null,
   "id": "fewer-worth",
   "metadata": {},
   "outputs": [],
   "source": []
  },
  {
   "cell_type": "code",
   "execution_count": null,
   "id": "regular-instrumentation",
   "metadata": {},
   "outputs": [],
   "source": [
    "# Evaluate model"
   ]
  },
  {
   "cell_type": "code",
   "execution_count": null,
   "id": "common-dominican",
   "metadata": {},
   "outputs": [],
   "source": [
    "# Load libraries\n",
    "# from sklearn import datasets\n",
    "# from sklearn import metrics\n",
    "from sklearn.model_selection import KFold, cross_val_score\n",
    "from sklearn.pipeline import make_pipeline\n",
    "from sklearn.linear_model import LogisticRegression\n",
    "from sklearn.preprocessing import StandardScaler"
   ]
  },
  {
   "cell_type": "code",
   "execution_count": null,
   "id": "legendary-serbia",
   "metadata": {},
   "outputs": [],
   "source": [
    "# Create feature matrix\n",
    "features = features_df.to_numpy()\n",
    "\n",
    "# Create target vector\n",
    "target = df['Price'].to_numpy()\n"
   ]
  },
  {
   "cell_type": "code",
   "execution_count": null,
   "id": "initial-gauge",
   "metadata": {},
   "outputs": [],
   "source": [
    "print(features)\n",
    "print(target)"
   ]
  },
  {
   "cell_type": "code",
   "execution_count": null,
   "id": "united-friday",
   "metadata": {},
   "outputs": [],
   "source": [
    "# Create standardizer\n",
    "standardizer = StandardScaler()"
   ]
  },
  {
   "cell_type": "code",
   "execution_count": null,
   "id": "native-committee",
   "metadata": {},
   "outputs": [],
   "source": [
    "# create training and test sets\n",
    "features_train, features_test, target_train, target_test = train_test_split(features, target, test_size=0.1, random_state=1)"
   ]
  },
  {
   "cell_type": "code",
   "execution_count": null,
   "id": "blond-scanner",
   "metadata": {},
   "outputs": [],
   "source": [
    "# Fit standardizer to training_set\n",
    "standardizer.fit(features_train)"
   ]
  },
  {
   "cell_type": "code",
   "execution_count": null,
   "id": "married-success",
   "metadata": {},
   "outputs": [],
   "source": [
    "# Apply both training and test sets\n",
    "features_train_std = standardizer.transform(features_train)\n",
    "features_test_std = standardizer.transform(features_test)\n"
   ]
  },
  {
   "cell_type": "code",
   "execution_count": null,
   "id": "responsible-hampton",
   "metadata": {},
   "outputs": [],
   "source": [
    "# Create logistic regression object\n",
    "#logit = LogisticRegression()\n",
    "Gradient_model = ensemble.GradientBoostingRegressor(\n",
    "                n_estimators = 150, learning_rate=0.3,                \n",
    "                max_depth=30, min_samples_split=4, min_samples_leaf=6, \n",
    "                max_features = 0.6, loss='huber')\n"
   ]
  },
  {
   "cell_type": "code",
   "execution_count": null,
   "id": "embedded-request",
   "metadata": {},
   "outputs": [],
   "source": [
    "# Create pipeline that standardizes, the runs GradientBoostingRegressor\n",
    "pipeline = make_pipeline(standardizer, Gradient_model)"
   ]
  },
  {
   "cell_type": "code",
   "execution_count": null,
   "id": "dried-confidence",
   "metadata": {},
   "outputs": [],
   "source": [
    "# Create k-Fold cross-validation\n",
    "kf = KFold(n_splits = 10, shuffle=True, random_state = 1)"
   ]
  },
  {
   "cell_type": "code",
   "execution_count": null,
   "id": "fitted-socket",
   "metadata": {},
   "outputs": [],
   "source": [
    "# Conduct k-fold cross-validation\n",
    "# cv_results = cross_val_score(pipeline, # Pipeline\n",
    "#                             features, # Feature matrix\n",
    "#                             target, # Target vector\n",
    "#                             cv = kf, # Cross-validation technique\n",
    "#                             scoring=\"accuracy\", # Loss function\n",
    "#                             n_jobs=-1) # Use all CPU scores"
   ]
  },
  {
   "cell_type": "code",
   "execution_count": null,
   "id": "compliant-pollution",
   "metadata": {},
   "outputs": [],
   "source": [
    "# Calculate mean\n",
    "cv_results.mean()"
   ]
  },
  {
   "cell_type": "code",
   "execution_count": null,
   "id": "mechanical-spectrum",
   "metadata": {},
   "outputs": [],
   "source": []
  },
  {
   "cell_type": "code",
   "execution_count": null,
   "id": "short-polymer",
   "metadata": {},
   "outputs": [],
   "source": [
    "# build trained model with bedroom attribute"
   ]
  },
  {
   "cell_type": "code",
   "execution_count": null,
   "id": "adjustable-international",
   "metadata": {},
   "outputs": [],
   "source": [
    "df.shape"
   ]
  },
  {
   "cell_type": "code",
   "execution_count": null,
   "id": "excess-simulation",
   "metadata": {},
   "outputs": [],
   "source": [
    "sub_bedroom_df = df.copy() #drop(columns=['Type', 'CouncilArea'], axis=1, inplace= True)"
   ]
  },
  {
   "cell_type": "code",
   "execution_count": null,
   "id": "increasing-mongolia",
   "metadata": {},
   "outputs": [],
   "source": [
    "sub_bedroom_df.head()"
   ]
  },
  {
   "cell_type": "code",
   "execution_count": null,
   "id": "third-enforcement",
   "metadata": {},
   "outputs": [],
   "source": [
    "#sub_bedroom_df.drop(columns=['Distance', 'BuildingArea', 'Type', 'CouncilArea','Rooms', 'Price', 'Car', 'Bathroom', 'YearBuilt'], axis=1, inplace= True)\n",
    "sub_bedroom_df.drop(columns=['CouncilArea', 'Price', 'Type'], axis = 1, inplace = True)"
   ]
  },
  {
   "cell_type": "code",
   "execution_count": null,
   "id": "chicken-laser",
   "metadata": {},
   "outputs": [],
   "source": [
    "# from sklearn import preprocessing\n",
    "# le = preprocessing.LabelEncoder()\n",
    "\n",
    "# la = preprocessing.LabelEncoder()\n",
    "\n",
    "\n",
    "# sub_bedroom_df['Suburb']= la.fit_transform(sub_bedroom_df['Suburb'])\n",
    "# # sub_bedroom_df['Type']= le.fit_transform(sub_bedroom_df['Type'])\n",
    "\n"
   ]
  },
  {
   "cell_type": "code",
   "execution_count": null,
   "id": "designed-grocery",
   "metadata": {},
   "outputs": [],
   "source": [
    "sub_bedroom_df = pd.get_dummies(sub_bedroom_df, columns = [ 'Suburb']) #,'Bedroom2','CouncilArea', 'Type'])"
   ]
  },
  {
   "cell_type": "code",
   "execution_count": null,
   "id": "quiet-portfolio",
   "metadata": {},
   "outputs": [],
   "source": [
    "X = sub_bedroom_df.to_numpy()\n",
    "y = df['Price'].to_numpy()"
   ]
  },
  {
   "cell_type": "code",
   "execution_count": null,
   "id": "limiting-artwork",
   "metadata": {},
   "outputs": [],
   "source": [
    "#sub_bedroom_df.columns #[0]"
   ]
  },
  {
   "cell_type": "code",
   "execution_count": null,
   "id": "lined-monkey",
   "metadata": {},
   "outputs": [],
   "source": [
    "X_train, X_test, y_train, y_test = train_test_split(X, y, test_size=0.3, random_state=42)"
   ]
  },
  {
   "cell_type": "code",
   "execution_count": null,
   "id": "electronic-weather",
   "metadata": {},
   "outputs": [],
   "source": [
    "print(X_test)\n",
    "print(y_train)"
   ]
  },
  {
   "cell_type": "code",
   "execution_count": null,
   "id": "supposed-pathology",
   "metadata": {},
   "outputs": [],
   "source": [
    "bedroom_model = ensemble.GradientBoostingRegressor(\n",
    "                n_estimators = 220, learning_rate=0.2,                \n",
    "                max_depth=20, min_samples_split=4, min_samples_leaf=6, \n",
    "                max_features = 0.6, loss='huber')"
   ]
  },
  {
   "cell_type": "code",
   "execution_count": null,
   "id": "scheduled-calcium",
   "metadata": {},
   "outputs": [],
   "source": [
    "bedroom_model.fit(X_train, y_train)"
   ]
  },
  {
   "cell_type": "code",
   "execution_count": null,
   "id": "knowing-prescription",
   "metadata": {},
   "outputs": [],
   "source": [
    "bedroom_model.predict(X_test)"
   ]
  },
  {
   "cell_type": "code",
   "execution_count": null,
   "id": "planned-watson",
   "metadata": {},
   "outputs": [],
   "source": [
    "y_test"
   ]
  },
  {
   "cell_type": "code",
   "execution_count": null,
   "id": "reflected-affairs",
   "metadata": {},
   "outputs": [],
   "source": [
    "mse = mean_absolute_error(y_train, bedroom_model.predict(X_train))\n",
    "print(\"Training Set Mean Absolute Error: %.2f\"%mse)\n",
    "ytest_mse = mean_absolute_error(y_test, bedroom_model.predict(X_test))\n",
    "print(\"Test Set Mean Absolute Error: %.2f\"%ytest_mse)"
   ]
  },
  {
   "cell_type": "code",
   "execution_count": null,
   "id": "concrete-storage",
   "metadata": {},
   "outputs": [],
   "source": [
    "#model.feature_importances_"
   ]
  },
  {
   "cell_type": "code",
   "execution_count": null,
   "id": "abstract-civilization",
   "metadata": {},
   "outputs": [],
   "source": [
    "print(\"R-squared for Train: %.2f\" %bedroom_model.score(X_train, y_train))\n",
    "print(\"R-squared for Test: %.2f\" %bedroom_model.score(X_test, y_test))"
   ]
  },
  {
   "cell_type": "code",
   "execution_count": null,
   "id": "senior-traffic",
   "metadata": {},
   "outputs": [],
   "source": [
    "from sklearn.metrics import mean_squared_error"
   ]
  },
  {
   "cell_type": "code",
   "execution_count": null,
   "id": "passing-meaning",
   "metadata": {},
   "outputs": [],
   "source": [
    "mean_squared_error(y_test, model.predict(X_test))"
   ]
  },
  {
   "cell_type": "code",
   "execution_count": null,
   "id": "increasing-latest",
   "metadata": {},
   "outputs": [],
   "source": [
    "import math\n",
    "print(math.sqrt(4285332751.4189487))"
   ]
  },
  {
   "cell_type": "code",
   "execution_count": null,
   "id": "naughty-finding",
   "metadata": {},
   "outputs": [],
   "source": [
    "print(math.sqrt(93127935233.24974))"
   ]
  },
  {
   "cell_type": "code",
   "execution_count": null,
   "id": "authentic-programmer",
   "metadata": {},
   "outputs": [],
   "source": [
    "le.inverse_transform([0])\n"
   ]
  },
  {
   "cell_type": "code",
   "execution_count": null,
   "id": "monetary-festival",
   "metadata": {},
   "outputs": [],
   "source": [
    "X_train"
   ]
  },
  {
   "cell_type": "code",
   "execution_count": null,
   "id": "crazy-creek",
   "metadata": {},
   "outputs": [],
   "source": [
    "sub_bedroom_df.head(2)"
   ]
  },
  {
   "cell_type": "code",
   "execution_count": null,
   "id": "fewer-wright",
   "metadata": {},
   "outputs": [],
   "source": [
    "X_train[0]"
   ]
  },
  {
   "cell_type": "code",
   "execution_count": null,
   "id": "chicken-genesis",
   "metadata": {},
   "outputs": [],
   "source": [
    "sub_bedroom_df.values[0]"
   ]
  },
  {
   "cell_type": "code",
   "execution_count": null,
   "id": "surrounded-flood",
   "metadata": {},
   "outputs": [],
   "source": [
    "#'0, 2, 0, 1035000.0, 2.5, 2.0, 1.0, 0.0, 156.0, 79.0, 1900.0'"
   ]
  },
  {
   "cell_type": "code",
   "execution_count": null,
   "id": "municipal-assault",
   "metadata": {},
   "outputs": [],
   "source": [
    "sub_bedroom_df.columns"
   ]
  },
  {
   "cell_type": "code",
   "execution_count": null,
   "id": "sought-mount",
   "metadata": {},
   "outputs": [],
   "source": [
    "sub_bedroom_df[['Suburb', 'Rooms', 'Type', 'Distance', 'Bedroom2', 'Bathroom',\n",
    "       'Car', 'Landsize', 'BuildingArea', 'YearBuilt']]"
   ]
  },
  {
   "cell_type": "code",
   "execution_count": null,
   "id": "alleged-bibliography",
   "metadata": {},
   "outputs": [],
   "source": []
  },
  {
   "cell_type": "code",
   "execution_count": null,
   "id": "dimensional-reasoning",
   "metadata": {},
   "outputs": [],
   "source": [
    "model.predict([[3.090e+02, 2.000e+00, 2.000e+00, 5.850e+05, 5.100e+00, 2.000e+00,\n",
    "       1.000e+00, 1.000e+00, 0.000e+00, 7.900e+01, 1.965e+03]])"
   ]
  },
  {
   "cell_type": "code",
   "execution_count": null,
   "id": "reliable-admission",
   "metadata": {},
   "outputs": [],
   "source": []
  }
 ],
 "metadata": {
  "kernelspec": {
   "display_name": "Python 3.6.10 64-bit ('PythonData': conda)",
   "language": "python",
   "name": "python361064bitpythondatacondaa70f06a6f8ee448e835eff764d6ba02e"
  },
  "language_info": {
   "codemirror_mode": {
    "name": "ipython",
    "version": 3
   },
   "file_extension": ".py",
   "mimetype": "text/x-python",
   "name": "python",
   "nbconvert_exporter": "python",
   "pygments_lexer": "ipython3",
   "version": "3.6.10"
  }
 },
 "nbformat": 4,
 "nbformat_minor": 5
}
